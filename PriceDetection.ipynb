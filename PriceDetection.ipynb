{
  "cells": [
    {
      "cell_type": "code",
      "execution_count": 1,
      "id": "2c7eaf31",
      "metadata": {
        "id": "2c7eaf31"
      },
      "outputs": [],
      "source": [
        "import matplotlib.pyplot as plt\n",
        "import pandas as pd\n",
        "import seaborn as sns"
      ]
    },
    {
      "cell_type": "code",
      "source": [
        "from google.colab import drive\n",
        "drive.mount('/content/drive')"
      ],
      "metadata": {
        "colab": {
          "base_uri": "https://localhost:8080/"
        },
        "id": "NqoTkyh12Rck",
        "outputId": "abcf9663-d412-4a1a-f79e-d101b89f7cb4"
      },
      "id": "NqoTkyh12Rck",
      "execution_count": 2,
      "outputs": [
        {
          "output_type": "stream",
          "name": "stdout",
          "text": [
            "Drive already mounted at /content/drive; to attempt to forcibly remount, call drive.mount(\"/content/drive\", force_remount=True).\n"
          ]
        }
      ]
    },
    {
      "cell_type": "code",
      "execution_count": 3,
      "id": "7687a6de",
      "metadata": {
        "id": "7687a6de"
      },
      "outputs": [],
      "source": [
        "df = pd.read_csv('/content/drive/MyDrive/Colab Notebooks/global_laptop_selling_data.csv', encoding=\"ISO-8859-1\")"
      ]
    },
    {
      "cell_type": "code",
      "execution_count": 4,
      "id": "9d8a5023",
      "metadata": {
        "colab": {
          "base_uri": "https://localhost:8080/",
          "height": 337
        },
        "id": "9d8a5023",
        "outputId": "e2d946e2-dbe2-4015-b321-786e62a57910"
      },
      "outputs": [
        {
          "output_type": "execute_result",
          "data": {
            "text/plain": [
              "   laptop_ID Company      Product   TypeName  Inches  \\\n",
              "0          1   Apple  MacBook Pro  Ultrabook    13.3   \n",
              "1          2   Apple  Macbook Air  Ultrabook    13.3   \n",
              "2          3      HP       250 G6   Notebook    15.6   \n",
              "3          4   Apple  MacBook Pro  Ultrabook    15.4   \n",
              "4          5   Apple  MacBook Pro  Ultrabook    13.3   \n",
              "\n",
              "                     ScreenResolution                         Cpu   Ram  \\\n",
              "0  IPS Panel Retina Display 2560x1600        Intel Core i5 2.3GHz   8GB   \n",
              "1                            1440x900        Intel Core i5 1.8GHz   8GB   \n",
              "2                   Full HD 1920x1080  Intel Core i5 7200U 2.5GHz   8GB   \n",
              "3  IPS Panel Retina Display 2880x1800        Intel Core i7 2.7GHz  16GB   \n",
              "4  IPS Panel Retina Display 2560x1600        Intel Core i5 3.1GHz   8GB   \n",
              "\n",
              "                Memory                           Gpu  OpSys  Weight  \\\n",
              "0            128GB SSD  Intel Iris Plus Graphics 640  macOS  1.37kg   \n",
              "1  128GB Flash Storage        Intel HD Graphics 6000  macOS  1.34kg   \n",
              "2            256GB SSD         Intel HD Graphics 620  No OS  1.86kg   \n",
              "3            512GB SSD            AMD Radeon Pro 455  macOS  1.83kg   \n",
              "4            256GB SSD  Intel Iris Plus Graphics 650  macOS  1.37kg   \n",
              "\n",
              "   Price_euros  \n",
              "0      1339.69  \n",
              "1       898.94  \n",
              "2       575.00  \n",
              "3      2537.45  \n",
              "4      1803.60  "
            ],
            "text/html": [
              "\n",
              "  <div id=\"df-61ebcc02-8fcc-4e25-aefa-1c761dd3bb7e\">\n",
              "    <div class=\"colab-df-container\">\n",
              "      <div>\n",
              "<style scoped>\n",
              "    .dataframe tbody tr th:only-of-type {\n",
              "        vertical-align: middle;\n",
              "    }\n",
              "\n",
              "    .dataframe tbody tr th {\n",
              "        vertical-align: top;\n",
              "    }\n",
              "\n",
              "    .dataframe thead th {\n",
              "        text-align: right;\n",
              "    }\n",
              "</style>\n",
              "<table border=\"1\" class=\"dataframe\">\n",
              "  <thead>\n",
              "    <tr style=\"text-align: right;\">\n",
              "      <th></th>\n",
              "      <th>laptop_ID</th>\n",
              "      <th>Company</th>\n",
              "      <th>Product</th>\n",
              "      <th>TypeName</th>\n",
              "      <th>Inches</th>\n",
              "      <th>ScreenResolution</th>\n",
              "      <th>Cpu</th>\n",
              "      <th>Ram</th>\n",
              "      <th>Memory</th>\n",
              "      <th>Gpu</th>\n",
              "      <th>OpSys</th>\n",
              "      <th>Weight</th>\n",
              "      <th>Price_euros</th>\n",
              "    </tr>\n",
              "  </thead>\n",
              "  <tbody>\n",
              "    <tr>\n",
              "      <th>0</th>\n",
              "      <td>1</td>\n",
              "      <td>Apple</td>\n",
              "      <td>MacBook Pro</td>\n",
              "      <td>Ultrabook</td>\n",
              "      <td>13.3</td>\n",
              "      <td>IPS Panel Retina Display 2560x1600</td>\n",
              "      <td>Intel Core i5 2.3GHz</td>\n",
              "      <td>8GB</td>\n",
              "      <td>128GB SSD</td>\n",
              "      <td>Intel Iris Plus Graphics 640</td>\n",
              "      <td>macOS</td>\n",
              "      <td>1.37kg</td>\n",
              "      <td>1339.69</td>\n",
              "    </tr>\n",
              "    <tr>\n",
              "      <th>1</th>\n",
              "      <td>2</td>\n",
              "      <td>Apple</td>\n",
              "      <td>Macbook Air</td>\n",
              "      <td>Ultrabook</td>\n",
              "      <td>13.3</td>\n",
              "      <td>1440x900</td>\n",
              "      <td>Intel Core i5 1.8GHz</td>\n",
              "      <td>8GB</td>\n",
              "      <td>128GB Flash Storage</td>\n",
              "      <td>Intel HD Graphics 6000</td>\n",
              "      <td>macOS</td>\n",
              "      <td>1.34kg</td>\n",
              "      <td>898.94</td>\n",
              "    </tr>\n",
              "    <tr>\n",
              "      <th>2</th>\n",
              "      <td>3</td>\n",
              "      <td>HP</td>\n",
              "      <td>250 G6</td>\n",
              "      <td>Notebook</td>\n",
              "      <td>15.6</td>\n",
              "      <td>Full HD 1920x1080</td>\n",
              "      <td>Intel Core i5 7200U 2.5GHz</td>\n",
              "      <td>8GB</td>\n",
              "      <td>256GB SSD</td>\n",
              "      <td>Intel HD Graphics 620</td>\n",
              "      <td>No OS</td>\n",
              "      <td>1.86kg</td>\n",
              "      <td>575.00</td>\n",
              "    </tr>\n",
              "    <tr>\n",
              "      <th>3</th>\n",
              "      <td>4</td>\n",
              "      <td>Apple</td>\n",
              "      <td>MacBook Pro</td>\n",
              "      <td>Ultrabook</td>\n",
              "      <td>15.4</td>\n",
              "      <td>IPS Panel Retina Display 2880x1800</td>\n",
              "      <td>Intel Core i7 2.7GHz</td>\n",
              "      <td>16GB</td>\n",
              "      <td>512GB SSD</td>\n",
              "      <td>AMD Radeon Pro 455</td>\n",
              "      <td>macOS</td>\n",
              "      <td>1.83kg</td>\n",
              "      <td>2537.45</td>\n",
              "    </tr>\n",
              "    <tr>\n",
              "      <th>4</th>\n",
              "      <td>5</td>\n",
              "      <td>Apple</td>\n",
              "      <td>MacBook Pro</td>\n",
              "      <td>Ultrabook</td>\n",
              "      <td>13.3</td>\n",
              "      <td>IPS Panel Retina Display 2560x1600</td>\n",
              "      <td>Intel Core i5 3.1GHz</td>\n",
              "      <td>8GB</td>\n",
              "      <td>256GB SSD</td>\n",
              "      <td>Intel Iris Plus Graphics 650</td>\n",
              "      <td>macOS</td>\n",
              "      <td>1.37kg</td>\n",
              "      <td>1803.60</td>\n",
              "    </tr>\n",
              "  </tbody>\n",
              "</table>\n",
              "</div>\n",
              "      <button class=\"colab-df-convert\" onclick=\"convertToInteractive('df-61ebcc02-8fcc-4e25-aefa-1c761dd3bb7e')\"\n",
              "              title=\"Convert this dataframe to an interactive table.\"\n",
              "              style=\"display:none;\">\n",
              "        \n",
              "  <svg xmlns=\"http://www.w3.org/2000/svg\" height=\"24px\"viewBox=\"0 0 24 24\"\n",
              "       width=\"24px\">\n",
              "    <path d=\"M0 0h24v24H0V0z\" fill=\"none\"/>\n",
              "    <path d=\"M18.56 5.44l.94 2.06.94-2.06 2.06-.94-2.06-.94-.94-2.06-.94 2.06-2.06.94zm-11 1L8.5 8.5l.94-2.06 2.06-.94-2.06-.94L8.5 2.5l-.94 2.06-2.06.94zm10 10l.94 2.06.94-2.06 2.06-.94-2.06-.94-.94-2.06-.94 2.06-2.06.94z\"/><path d=\"M17.41 7.96l-1.37-1.37c-.4-.4-.92-.59-1.43-.59-.52 0-1.04.2-1.43.59L10.3 9.45l-7.72 7.72c-.78.78-.78 2.05 0 2.83L4 21.41c.39.39.9.59 1.41.59.51 0 1.02-.2 1.41-.59l7.78-7.78 2.81-2.81c.8-.78.8-2.07 0-2.86zM5.41 20L4 18.59l7.72-7.72 1.47 1.35L5.41 20z\"/>\n",
              "  </svg>\n",
              "      </button>\n",
              "      \n",
              "  <style>\n",
              "    .colab-df-container {\n",
              "      display:flex;\n",
              "      flex-wrap:wrap;\n",
              "      gap: 12px;\n",
              "    }\n",
              "\n",
              "    .colab-df-convert {\n",
              "      background-color: #E8F0FE;\n",
              "      border: none;\n",
              "      border-radius: 50%;\n",
              "      cursor: pointer;\n",
              "      display: none;\n",
              "      fill: #1967D2;\n",
              "      height: 32px;\n",
              "      padding: 0 0 0 0;\n",
              "      width: 32px;\n",
              "    }\n",
              "\n",
              "    .colab-df-convert:hover {\n",
              "      background-color: #E2EBFA;\n",
              "      box-shadow: 0px 1px 2px rgba(60, 64, 67, 0.3), 0px 1px 3px 1px rgba(60, 64, 67, 0.15);\n",
              "      fill: #174EA6;\n",
              "    }\n",
              "\n",
              "    [theme=dark] .colab-df-convert {\n",
              "      background-color: #3B4455;\n",
              "      fill: #D2E3FC;\n",
              "    }\n",
              "\n",
              "    [theme=dark] .colab-df-convert:hover {\n",
              "      background-color: #434B5C;\n",
              "      box-shadow: 0px 1px 3px 1px rgba(0, 0, 0, 0.15);\n",
              "      filter: drop-shadow(0px 1px 2px rgba(0, 0, 0, 0.3));\n",
              "      fill: #FFFFFF;\n",
              "    }\n",
              "  </style>\n",
              "\n",
              "      <script>\n",
              "        const buttonEl =\n",
              "          document.querySelector('#df-61ebcc02-8fcc-4e25-aefa-1c761dd3bb7e button.colab-df-convert');\n",
              "        buttonEl.style.display =\n",
              "          google.colab.kernel.accessAllowed ? 'block' : 'none';\n",
              "\n",
              "        async function convertToInteractive(key) {\n",
              "          const element = document.querySelector('#df-61ebcc02-8fcc-4e25-aefa-1c761dd3bb7e');\n",
              "          const dataTable =\n",
              "            await google.colab.kernel.invokeFunction('convertToInteractive',\n",
              "                                                     [key], {});\n",
              "          if (!dataTable) return;\n",
              "\n",
              "          const docLinkHtml = 'Like what you see? Visit the ' +\n",
              "            '<a target=\"_blank\" href=https://colab.research.google.com/notebooks/data_table.ipynb>data table notebook</a>'\n",
              "            + ' to learn more about interactive tables.';\n",
              "          element.innerHTML = '';\n",
              "          dataTable['output_type'] = 'display_data';\n",
              "          await google.colab.output.renderOutput(dataTable, element);\n",
              "          const docLink = document.createElement('div');\n",
              "          docLink.innerHTML = docLinkHtml;\n",
              "          element.appendChild(docLink);\n",
              "        }\n",
              "      </script>\n",
              "    </div>\n",
              "  </div>\n",
              "  "
            ]
          },
          "metadata": {},
          "execution_count": 4
        }
      ],
      "source": [
        "df.head()"
      ]
    },
    {
      "cell_type": "code",
      "execution_count": 5,
      "id": "e6737f1c",
      "metadata": {
        "colab": {
          "base_uri": "https://localhost:8080/"
        },
        "id": "e6737f1c",
        "outputId": "06acfb8b-1670-47da-9580-136644168be9"
      },
      "outputs": [
        {
          "output_type": "execute_result",
          "data": {
            "text/plain": [
              "laptop_ID           1303\n",
              "Company               19\n",
              "Product              618\n",
              "TypeName               6\n",
              "Inches                18\n",
              "ScreenResolution      40\n",
              "Cpu                  118\n",
              "Ram                    9\n",
              "Memory                39\n",
              "Gpu                  110\n",
              "OpSys                  9\n",
              "Weight               179\n",
              "Price_euros          791\n",
              "dtype: int64"
            ]
          },
          "metadata": {},
          "execution_count": 5
        }
      ],
      "source": [
        "df.nunique()"
      ]
    },
    {
      "cell_type": "code",
      "execution_count": 6,
      "id": "56f898c2",
      "metadata": {
        "id": "56f898c2"
      },
      "outputs": [],
      "source": [
        "df = df.drop('laptop_ID', axis=1)"
      ]
    },
    {
      "cell_type": "code",
      "execution_count": 7,
      "id": "5913708b",
      "metadata": {
        "colab": {
          "base_uri": "https://localhost:8080/",
          "height": 337
        },
        "id": "5913708b",
        "outputId": "4a451d9e-2801-4488-d483-2fc05842018d"
      },
      "outputs": [
        {
          "output_type": "execute_result",
          "data": {
            "text/plain": [
              "  Company      Product   TypeName  Inches                    ScreenResolution  \\\n",
              "0   Apple  MacBook Pro  Ultrabook    13.3  IPS Panel Retina Display 2560x1600   \n",
              "1   Apple  Macbook Air  Ultrabook    13.3                            1440x900   \n",
              "2      HP       250 G6   Notebook    15.6                   Full HD 1920x1080   \n",
              "3   Apple  MacBook Pro  Ultrabook    15.4  IPS Panel Retina Display 2880x1800   \n",
              "4   Apple  MacBook Pro  Ultrabook    13.3  IPS Panel Retina Display 2560x1600   \n",
              "\n",
              "                          Cpu   Ram               Memory  \\\n",
              "0        Intel Core i5 2.3GHz   8GB            128GB SSD   \n",
              "1        Intel Core i5 1.8GHz   8GB  128GB Flash Storage   \n",
              "2  Intel Core i5 7200U 2.5GHz   8GB            256GB SSD   \n",
              "3        Intel Core i7 2.7GHz  16GB            512GB SSD   \n",
              "4        Intel Core i5 3.1GHz   8GB            256GB SSD   \n",
              "\n",
              "                            Gpu  OpSys  Weight  Price_euros  \n",
              "0  Intel Iris Plus Graphics 640  macOS  1.37kg      1339.69  \n",
              "1        Intel HD Graphics 6000  macOS  1.34kg       898.94  \n",
              "2         Intel HD Graphics 620  No OS  1.86kg       575.00  \n",
              "3            AMD Radeon Pro 455  macOS  1.83kg      2537.45  \n",
              "4  Intel Iris Plus Graphics 650  macOS  1.37kg      1803.60  "
            ],
            "text/html": [
              "\n",
              "  <div id=\"df-22d38ea1-1088-4981-9b0c-898bde418f5b\">\n",
              "    <div class=\"colab-df-container\">\n",
              "      <div>\n",
              "<style scoped>\n",
              "    .dataframe tbody tr th:only-of-type {\n",
              "        vertical-align: middle;\n",
              "    }\n",
              "\n",
              "    .dataframe tbody tr th {\n",
              "        vertical-align: top;\n",
              "    }\n",
              "\n",
              "    .dataframe thead th {\n",
              "        text-align: right;\n",
              "    }\n",
              "</style>\n",
              "<table border=\"1\" class=\"dataframe\">\n",
              "  <thead>\n",
              "    <tr style=\"text-align: right;\">\n",
              "      <th></th>\n",
              "      <th>Company</th>\n",
              "      <th>Product</th>\n",
              "      <th>TypeName</th>\n",
              "      <th>Inches</th>\n",
              "      <th>ScreenResolution</th>\n",
              "      <th>Cpu</th>\n",
              "      <th>Ram</th>\n",
              "      <th>Memory</th>\n",
              "      <th>Gpu</th>\n",
              "      <th>OpSys</th>\n",
              "      <th>Weight</th>\n",
              "      <th>Price_euros</th>\n",
              "    </tr>\n",
              "  </thead>\n",
              "  <tbody>\n",
              "    <tr>\n",
              "      <th>0</th>\n",
              "      <td>Apple</td>\n",
              "      <td>MacBook Pro</td>\n",
              "      <td>Ultrabook</td>\n",
              "      <td>13.3</td>\n",
              "      <td>IPS Panel Retina Display 2560x1600</td>\n",
              "      <td>Intel Core i5 2.3GHz</td>\n",
              "      <td>8GB</td>\n",
              "      <td>128GB SSD</td>\n",
              "      <td>Intel Iris Plus Graphics 640</td>\n",
              "      <td>macOS</td>\n",
              "      <td>1.37kg</td>\n",
              "      <td>1339.69</td>\n",
              "    </tr>\n",
              "    <tr>\n",
              "      <th>1</th>\n",
              "      <td>Apple</td>\n",
              "      <td>Macbook Air</td>\n",
              "      <td>Ultrabook</td>\n",
              "      <td>13.3</td>\n",
              "      <td>1440x900</td>\n",
              "      <td>Intel Core i5 1.8GHz</td>\n",
              "      <td>8GB</td>\n",
              "      <td>128GB Flash Storage</td>\n",
              "      <td>Intel HD Graphics 6000</td>\n",
              "      <td>macOS</td>\n",
              "      <td>1.34kg</td>\n",
              "      <td>898.94</td>\n",
              "    </tr>\n",
              "    <tr>\n",
              "      <th>2</th>\n",
              "      <td>HP</td>\n",
              "      <td>250 G6</td>\n",
              "      <td>Notebook</td>\n",
              "      <td>15.6</td>\n",
              "      <td>Full HD 1920x1080</td>\n",
              "      <td>Intel Core i5 7200U 2.5GHz</td>\n",
              "      <td>8GB</td>\n",
              "      <td>256GB SSD</td>\n",
              "      <td>Intel HD Graphics 620</td>\n",
              "      <td>No OS</td>\n",
              "      <td>1.86kg</td>\n",
              "      <td>575.00</td>\n",
              "    </tr>\n",
              "    <tr>\n",
              "      <th>3</th>\n",
              "      <td>Apple</td>\n",
              "      <td>MacBook Pro</td>\n",
              "      <td>Ultrabook</td>\n",
              "      <td>15.4</td>\n",
              "      <td>IPS Panel Retina Display 2880x1800</td>\n",
              "      <td>Intel Core i7 2.7GHz</td>\n",
              "      <td>16GB</td>\n",
              "      <td>512GB SSD</td>\n",
              "      <td>AMD Radeon Pro 455</td>\n",
              "      <td>macOS</td>\n",
              "      <td>1.83kg</td>\n",
              "      <td>2537.45</td>\n",
              "    </tr>\n",
              "    <tr>\n",
              "      <th>4</th>\n",
              "      <td>Apple</td>\n",
              "      <td>MacBook Pro</td>\n",
              "      <td>Ultrabook</td>\n",
              "      <td>13.3</td>\n",
              "      <td>IPS Panel Retina Display 2560x1600</td>\n",
              "      <td>Intel Core i5 3.1GHz</td>\n",
              "      <td>8GB</td>\n",
              "      <td>256GB SSD</td>\n",
              "      <td>Intel Iris Plus Graphics 650</td>\n",
              "      <td>macOS</td>\n",
              "      <td>1.37kg</td>\n",
              "      <td>1803.60</td>\n",
              "    </tr>\n",
              "  </tbody>\n",
              "</table>\n",
              "</div>\n",
              "      <button class=\"colab-df-convert\" onclick=\"convertToInteractive('df-22d38ea1-1088-4981-9b0c-898bde418f5b')\"\n",
              "              title=\"Convert this dataframe to an interactive table.\"\n",
              "              style=\"display:none;\">\n",
              "        \n",
              "  <svg xmlns=\"http://www.w3.org/2000/svg\" height=\"24px\"viewBox=\"0 0 24 24\"\n",
              "       width=\"24px\">\n",
              "    <path d=\"M0 0h24v24H0V0z\" fill=\"none\"/>\n",
              "    <path d=\"M18.56 5.44l.94 2.06.94-2.06 2.06-.94-2.06-.94-.94-2.06-.94 2.06-2.06.94zm-11 1L8.5 8.5l.94-2.06 2.06-.94-2.06-.94L8.5 2.5l-.94 2.06-2.06.94zm10 10l.94 2.06.94-2.06 2.06-.94-2.06-.94-.94-2.06-.94 2.06-2.06.94z\"/><path d=\"M17.41 7.96l-1.37-1.37c-.4-.4-.92-.59-1.43-.59-.52 0-1.04.2-1.43.59L10.3 9.45l-7.72 7.72c-.78.78-.78 2.05 0 2.83L4 21.41c.39.39.9.59 1.41.59.51 0 1.02-.2 1.41-.59l7.78-7.78 2.81-2.81c.8-.78.8-2.07 0-2.86zM5.41 20L4 18.59l7.72-7.72 1.47 1.35L5.41 20z\"/>\n",
              "  </svg>\n",
              "      </button>\n",
              "      \n",
              "  <style>\n",
              "    .colab-df-container {\n",
              "      display:flex;\n",
              "      flex-wrap:wrap;\n",
              "      gap: 12px;\n",
              "    }\n",
              "\n",
              "    .colab-df-convert {\n",
              "      background-color: #E8F0FE;\n",
              "      border: none;\n",
              "      border-radius: 50%;\n",
              "      cursor: pointer;\n",
              "      display: none;\n",
              "      fill: #1967D2;\n",
              "      height: 32px;\n",
              "      padding: 0 0 0 0;\n",
              "      width: 32px;\n",
              "    }\n",
              "\n",
              "    .colab-df-convert:hover {\n",
              "      background-color: #E2EBFA;\n",
              "      box-shadow: 0px 1px 2px rgba(60, 64, 67, 0.3), 0px 1px 3px 1px rgba(60, 64, 67, 0.15);\n",
              "      fill: #174EA6;\n",
              "    }\n",
              "\n",
              "    [theme=dark] .colab-df-convert {\n",
              "      background-color: #3B4455;\n",
              "      fill: #D2E3FC;\n",
              "    }\n",
              "\n",
              "    [theme=dark] .colab-df-convert:hover {\n",
              "      background-color: #434B5C;\n",
              "      box-shadow: 0px 1px 3px 1px rgba(0, 0, 0, 0.15);\n",
              "      filter: drop-shadow(0px 1px 2px rgba(0, 0, 0, 0.3));\n",
              "      fill: #FFFFFF;\n",
              "    }\n",
              "  </style>\n",
              "\n",
              "      <script>\n",
              "        const buttonEl =\n",
              "          document.querySelector('#df-22d38ea1-1088-4981-9b0c-898bde418f5b button.colab-df-convert');\n",
              "        buttonEl.style.display =\n",
              "          google.colab.kernel.accessAllowed ? 'block' : 'none';\n",
              "\n",
              "        async function convertToInteractive(key) {\n",
              "          const element = document.querySelector('#df-22d38ea1-1088-4981-9b0c-898bde418f5b');\n",
              "          const dataTable =\n",
              "            await google.colab.kernel.invokeFunction('convertToInteractive',\n",
              "                                                     [key], {});\n",
              "          if (!dataTable) return;\n",
              "\n",
              "          const docLinkHtml = 'Like what you see? Visit the ' +\n",
              "            '<a target=\"_blank\" href=https://colab.research.google.com/notebooks/data_table.ipynb>data table notebook</a>'\n",
              "            + ' to learn more about interactive tables.';\n",
              "          element.innerHTML = '';\n",
              "          dataTable['output_type'] = 'display_data';\n",
              "          await google.colab.output.renderOutput(dataTable, element);\n",
              "          const docLink = document.createElement('div');\n",
              "          docLink.innerHTML = docLinkHtml;\n",
              "          element.appendChild(docLink);\n",
              "        }\n",
              "      </script>\n",
              "    </div>\n",
              "  </div>\n",
              "  "
            ]
          },
          "metadata": {},
          "execution_count": 7
        }
      ],
      "source": [
        "df.head() # y = df[['Price_euros']]"
      ]
    },
    {
      "cell_type": "markdown",
      "id": "b80e358c",
      "metadata": {
        "id": "b80e358c"
      },
      "source": [
        "# Preprocessing"
      ]
    },
    {
      "cell_type": "code",
      "execution_count": 8,
      "id": "ab97d92b",
      "metadata": {
        "id": "ab97d92b"
      },
      "outputs": [],
      "source": [
        "df[\"Weight\"] = df[\"Weight\"].str.replace(\"kg\",\"\")\n",
        "df[\"Weight\"] = pd.to_numeric(df[\"Weight\"])\n",
        "df[\"Ram\"] = df[\"Ram\"].apply(lambda x : str(x).replace(\"GB\",\"\")).astype(int)"
      ]
    },
    {
      "cell_type": "code",
      "execution_count": 9,
      "id": "c672b4dd",
      "metadata": {
        "colab": {
          "base_uri": "https://localhost:8080/",
          "height": 337
        },
        "id": "c672b4dd",
        "outputId": "0674a832-681f-4369-b74d-c852509fd6a5"
      },
      "outputs": [
        {
          "output_type": "execute_result",
          "data": {
            "text/plain": [
              "  Company      Product   TypeName  Inches                    ScreenResolution  \\\n",
              "0   Apple  MacBook Pro  Ultrabook    13.3  IPS Panel Retina Display 2560x1600   \n",
              "1   Apple  Macbook Air  Ultrabook    13.3                            1440x900   \n",
              "2      HP       250 G6   Notebook    15.6                   Full HD 1920x1080   \n",
              "3   Apple  MacBook Pro  Ultrabook    15.4  IPS Panel Retina Display 2880x1800   \n",
              "4   Apple  MacBook Pro  Ultrabook    13.3  IPS Panel Retina Display 2560x1600   \n",
              "\n",
              "                          Cpu  Ram               Memory  \\\n",
              "0        Intel Core i5 2.3GHz    8            128GB SSD   \n",
              "1        Intel Core i5 1.8GHz    8  128GB Flash Storage   \n",
              "2  Intel Core i5 7200U 2.5GHz    8            256GB SSD   \n",
              "3        Intel Core i7 2.7GHz   16            512GB SSD   \n",
              "4        Intel Core i5 3.1GHz    8            256GB SSD   \n",
              "\n",
              "                            Gpu  OpSys  Weight  Price_euros  \n",
              "0  Intel Iris Plus Graphics 640  macOS    1.37      1339.69  \n",
              "1        Intel HD Graphics 6000  macOS    1.34       898.94  \n",
              "2         Intel HD Graphics 620  No OS    1.86       575.00  \n",
              "3            AMD Radeon Pro 455  macOS    1.83      2537.45  \n",
              "4  Intel Iris Plus Graphics 650  macOS    1.37      1803.60  "
            ],
            "text/html": [
              "\n",
              "  <div id=\"df-66b162aa-4d8b-4e62-99f6-34c363d1c9f1\">\n",
              "    <div class=\"colab-df-container\">\n",
              "      <div>\n",
              "<style scoped>\n",
              "    .dataframe tbody tr th:only-of-type {\n",
              "        vertical-align: middle;\n",
              "    }\n",
              "\n",
              "    .dataframe tbody tr th {\n",
              "        vertical-align: top;\n",
              "    }\n",
              "\n",
              "    .dataframe thead th {\n",
              "        text-align: right;\n",
              "    }\n",
              "</style>\n",
              "<table border=\"1\" class=\"dataframe\">\n",
              "  <thead>\n",
              "    <tr style=\"text-align: right;\">\n",
              "      <th></th>\n",
              "      <th>Company</th>\n",
              "      <th>Product</th>\n",
              "      <th>TypeName</th>\n",
              "      <th>Inches</th>\n",
              "      <th>ScreenResolution</th>\n",
              "      <th>Cpu</th>\n",
              "      <th>Ram</th>\n",
              "      <th>Memory</th>\n",
              "      <th>Gpu</th>\n",
              "      <th>OpSys</th>\n",
              "      <th>Weight</th>\n",
              "      <th>Price_euros</th>\n",
              "    </tr>\n",
              "  </thead>\n",
              "  <tbody>\n",
              "    <tr>\n",
              "      <th>0</th>\n",
              "      <td>Apple</td>\n",
              "      <td>MacBook Pro</td>\n",
              "      <td>Ultrabook</td>\n",
              "      <td>13.3</td>\n",
              "      <td>IPS Panel Retina Display 2560x1600</td>\n",
              "      <td>Intel Core i5 2.3GHz</td>\n",
              "      <td>8</td>\n",
              "      <td>128GB SSD</td>\n",
              "      <td>Intel Iris Plus Graphics 640</td>\n",
              "      <td>macOS</td>\n",
              "      <td>1.37</td>\n",
              "      <td>1339.69</td>\n",
              "    </tr>\n",
              "    <tr>\n",
              "      <th>1</th>\n",
              "      <td>Apple</td>\n",
              "      <td>Macbook Air</td>\n",
              "      <td>Ultrabook</td>\n",
              "      <td>13.3</td>\n",
              "      <td>1440x900</td>\n",
              "      <td>Intel Core i5 1.8GHz</td>\n",
              "      <td>8</td>\n",
              "      <td>128GB Flash Storage</td>\n",
              "      <td>Intel HD Graphics 6000</td>\n",
              "      <td>macOS</td>\n",
              "      <td>1.34</td>\n",
              "      <td>898.94</td>\n",
              "    </tr>\n",
              "    <tr>\n",
              "      <th>2</th>\n",
              "      <td>HP</td>\n",
              "      <td>250 G6</td>\n",
              "      <td>Notebook</td>\n",
              "      <td>15.6</td>\n",
              "      <td>Full HD 1920x1080</td>\n",
              "      <td>Intel Core i5 7200U 2.5GHz</td>\n",
              "      <td>8</td>\n",
              "      <td>256GB SSD</td>\n",
              "      <td>Intel HD Graphics 620</td>\n",
              "      <td>No OS</td>\n",
              "      <td>1.86</td>\n",
              "      <td>575.00</td>\n",
              "    </tr>\n",
              "    <tr>\n",
              "      <th>3</th>\n",
              "      <td>Apple</td>\n",
              "      <td>MacBook Pro</td>\n",
              "      <td>Ultrabook</td>\n",
              "      <td>15.4</td>\n",
              "      <td>IPS Panel Retina Display 2880x1800</td>\n",
              "      <td>Intel Core i7 2.7GHz</td>\n",
              "      <td>16</td>\n",
              "      <td>512GB SSD</td>\n",
              "      <td>AMD Radeon Pro 455</td>\n",
              "      <td>macOS</td>\n",
              "      <td>1.83</td>\n",
              "      <td>2537.45</td>\n",
              "    </tr>\n",
              "    <tr>\n",
              "      <th>4</th>\n",
              "      <td>Apple</td>\n",
              "      <td>MacBook Pro</td>\n",
              "      <td>Ultrabook</td>\n",
              "      <td>13.3</td>\n",
              "      <td>IPS Panel Retina Display 2560x1600</td>\n",
              "      <td>Intel Core i5 3.1GHz</td>\n",
              "      <td>8</td>\n",
              "      <td>256GB SSD</td>\n",
              "      <td>Intel Iris Plus Graphics 650</td>\n",
              "      <td>macOS</td>\n",
              "      <td>1.37</td>\n",
              "      <td>1803.60</td>\n",
              "    </tr>\n",
              "  </tbody>\n",
              "</table>\n",
              "</div>\n",
              "      <button class=\"colab-df-convert\" onclick=\"convertToInteractive('df-66b162aa-4d8b-4e62-99f6-34c363d1c9f1')\"\n",
              "              title=\"Convert this dataframe to an interactive table.\"\n",
              "              style=\"display:none;\">\n",
              "        \n",
              "  <svg xmlns=\"http://www.w3.org/2000/svg\" height=\"24px\"viewBox=\"0 0 24 24\"\n",
              "       width=\"24px\">\n",
              "    <path d=\"M0 0h24v24H0V0z\" fill=\"none\"/>\n",
              "    <path d=\"M18.56 5.44l.94 2.06.94-2.06 2.06-.94-2.06-.94-.94-2.06-.94 2.06-2.06.94zm-11 1L8.5 8.5l.94-2.06 2.06-.94-2.06-.94L8.5 2.5l-.94 2.06-2.06.94zm10 10l.94 2.06.94-2.06 2.06-.94-2.06-.94-.94-2.06-.94 2.06-2.06.94z\"/><path d=\"M17.41 7.96l-1.37-1.37c-.4-.4-.92-.59-1.43-.59-.52 0-1.04.2-1.43.59L10.3 9.45l-7.72 7.72c-.78.78-.78 2.05 0 2.83L4 21.41c.39.39.9.59 1.41.59.51 0 1.02-.2 1.41-.59l7.78-7.78 2.81-2.81c.8-.78.8-2.07 0-2.86zM5.41 20L4 18.59l7.72-7.72 1.47 1.35L5.41 20z\"/>\n",
              "  </svg>\n",
              "      </button>\n",
              "      \n",
              "  <style>\n",
              "    .colab-df-container {\n",
              "      display:flex;\n",
              "      flex-wrap:wrap;\n",
              "      gap: 12px;\n",
              "    }\n",
              "\n",
              "    .colab-df-convert {\n",
              "      background-color: #E8F0FE;\n",
              "      border: none;\n",
              "      border-radius: 50%;\n",
              "      cursor: pointer;\n",
              "      display: none;\n",
              "      fill: #1967D2;\n",
              "      height: 32px;\n",
              "      padding: 0 0 0 0;\n",
              "      width: 32px;\n",
              "    }\n",
              "\n",
              "    .colab-df-convert:hover {\n",
              "      background-color: #E2EBFA;\n",
              "      box-shadow: 0px 1px 2px rgba(60, 64, 67, 0.3), 0px 1px 3px 1px rgba(60, 64, 67, 0.15);\n",
              "      fill: #174EA6;\n",
              "    }\n",
              "\n",
              "    [theme=dark] .colab-df-convert {\n",
              "      background-color: #3B4455;\n",
              "      fill: #D2E3FC;\n",
              "    }\n",
              "\n",
              "    [theme=dark] .colab-df-convert:hover {\n",
              "      background-color: #434B5C;\n",
              "      box-shadow: 0px 1px 3px 1px rgba(0, 0, 0, 0.15);\n",
              "      filter: drop-shadow(0px 1px 2px rgba(0, 0, 0, 0.3));\n",
              "      fill: #FFFFFF;\n",
              "    }\n",
              "  </style>\n",
              "\n",
              "      <script>\n",
              "        const buttonEl =\n",
              "          document.querySelector('#df-66b162aa-4d8b-4e62-99f6-34c363d1c9f1 button.colab-df-convert');\n",
              "        buttonEl.style.display =\n",
              "          google.colab.kernel.accessAllowed ? 'block' : 'none';\n",
              "\n",
              "        async function convertToInteractive(key) {\n",
              "          const element = document.querySelector('#df-66b162aa-4d8b-4e62-99f6-34c363d1c9f1');\n",
              "          const dataTable =\n",
              "            await google.colab.kernel.invokeFunction('convertToInteractive',\n",
              "                                                     [key], {});\n",
              "          if (!dataTable) return;\n",
              "\n",
              "          const docLinkHtml = 'Like what you see? Visit the ' +\n",
              "            '<a target=\"_blank\" href=https://colab.research.google.com/notebooks/data_table.ipynb>data table notebook</a>'\n",
              "            + ' to learn more about interactive tables.';\n",
              "          element.innerHTML = '';\n",
              "          dataTable['output_type'] = 'display_data';\n",
              "          await google.colab.output.renderOutput(dataTable, element);\n",
              "          const docLink = document.createElement('div');\n",
              "          docLink.innerHTML = docLinkHtml;\n",
              "          element.appendChild(docLink);\n",
              "        }\n",
              "      </script>\n",
              "    </div>\n",
              "  </div>\n",
              "  "
            ]
          },
          "metadata": {},
          "execution_count": 9
        }
      ],
      "source": [
        "df.head()"
      ]
    },
    {
      "cell_type": "code",
      "execution_count": 10,
      "id": "70e08522",
      "metadata": {
        "colab": {
          "base_uri": "https://localhost:8080/"
        },
        "id": "70e08522",
        "outputId": "3c600dde-1f32-4ba9-9eb0-5275527046bf"
      },
      "outputs": [
        {
          "output_type": "stream",
          "name": "stdout",
          "text": [
            "<class 'pandas.core.frame.DataFrame'>\n",
            "RangeIndex: 1303 entries, 0 to 1302\n",
            "Data columns (total 12 columns):\n",
            " #   Column            Non-Null Count  Dtype  \n",
            "---  ------            --------------  -----  \n",
            " 0   Company           1303 non-null   object \n",
            " 1   Product           1303 non-null   object \n",
            " 2   TypeName          1303 non-null   object \n",
            " 3   Inches            1303 non-null   float64\n",
            " 4   ScreenResolution  1303 non-null   object \n",
            " 5   Cpu               1303 non-null   object \n",
            " 6   Ram               1303 non-null   int64  \n",
            " 7   Memory            1303 non-null   object \n",
            " 8   Gpu               1303 non-null   object \n",
            " 9   OpSys             1303 non-null   object \n",
            " 10  Weight            1303 non-null   float64\n",
            " 11  Price_euros       1303 non-null   float64\n",
            "dtypes: float64(3), int64(1), object(8)\n",
            "memory usage: 122.3+ KB\n"
          ]
        }
      ],
      "source": [
        "df.info()"
      ]
    },
    {
      "cell_type": "code",
      "execution_count": 11,
      "id": "8b5a5e65",
      "metadata": {
        "id": "8b5a5e65"
      },
      "outputs": [],
      "source": [
        "df_product_price = df.groupby(\"Company\")[\"Price_euros\"].mean()"
      ]
    },
    {
      "cell_type": "code",
      "execution_count": 12,
      "id": "6ea174db",
      "metadata": {
        "colab": {
          "base_uri": "https://localhost:8080/"
        },
        "id": "6ea174db",
        "outputId": "8631d906-f1f1-48b1-deed-2b8ed9e3d757"
      },
      "outputs": [
        {
          "output_type": "execute_result",
          "data": {
            "text/plain": [
              "Company\n",
              "Acer          626.775825\n",
              "Apple        1564.198571\n",
              "Asus         1104.169367\n",
              "Chuwi         314.296667\n",
              "Dell         1186.068990\n",
              "Fujitsu       729.000000\n",
              "Google       1677.666667\n",
              "HP           1067.774854\n",
              "Huawei       1424.000000\n",
              "LG           2099.000000\n",
              "Lenovo       1086.384444\n",
              "MSI          1728.908148\n",
              "Mediacom      295.000000\n",
              "Microsoft    1612.308333\n",
              "Razer        3346.142857\n",
              "Samsung      1413.444444\n",
              "Toshiba      1267.812500\n",
              "Vero          217.425000\n",
              "Xiaomi       1133.462500\n",
              "Name: Price_euros, dtype: float64"
            ]
          },
          "metadata": {},
          "execution_count": 12
        }
      ],
      "source": [
        "df_product_price #company base a mean price "
      ]
    },
    {
      "cell_type": "code",
      "execution_count": 13,
      "id": "0e187aba",
      "metadata": {
        "id": "0e187aba"
      },
      "outputs": [],
      "source": [
        "df_product_price = pd.DataFrame(data = df_product_price)\n",
        "df_product_price.columns = [\"Product Avg Price\"]\n",
        "df_product_price.sort_values(by=\"Product Avg Price\",ascending=False,inplace=True)\n"
      ]
    },
    {
      "cell_type": "code",
      "source": [
        "df_product_price.head()"
      ],
      "metadata": {
        "colab": {
          "base_uri": "https://localhost:8080/",
          "height": 238
        },
        "id": "xD87hk-l35Py",
        "outputId": "ffc35bf5-be9f-4b65-f511-05aa599e0d7b"
      },
      "id": "xD87hk-l35Py",
      "execution_count": 14,
      "outputs": [
        {
          "output_type": "execute_result",
          "data": {
            "text/plain": [
              "           Product Avg Price\n",
              "Company                     \n",
              "Razer            3346.142857\n",
              "LG               2099.000000\n",
              "MSI              1728.908148\n",
              "Google           1677.666667\n",
              "Microsoft        1612.308333"
            ],
            "text/html": [
              "\n",
              "  <div id=\"df-83f3f684-5c9a-4e32-bbde-82d6a95339fd\">\n",
              "    <div class=\"colab-df-container\">\n",
              "      <div>\n",
              "<style scoped>\n",
              "    .dataframe tbody tr th:only-of-type {\n",
              "        vertical-align: middle;\n",
              "    }\n",
              "\n",
              "    .dataframe tbody tr th {\n",
              "        vertical-align: top;\n",
              "    }\n",
              "\n",
              "    .dataframe thead th {\n",
              "        text-align: right;\n",
              "    }\n",
              "</style>\n",
              "<table border=\"1\" class=\"dataframe\">\n",
              "  <thead>\n",
              "    <tr style=\"text-align: right;\">\n",
              "      <th></th>\n",
              "      <th>Product Avg Price</th>\n",
              "    </tr>\n",
              "    <tr>\n",
              "      <th>Company</th>\n",
              "      <th></th>\n",
              "    </tr>\n",
              "  </thead>\n",
              "  <tbody>\n",
              "    <tr>\n",
              "      <th>Razer</th>\n",
              "      <td>3346.142857</td>\n",
              "    </tr>\n",
              "    <tr>\n",
              "      <th>LG</th>\n",
              "      <td>2099.000000</td>\n",
              "    </tr>\n",
              "    <tr>\n",
              "      <th>MSI</th>\n",
              "      <td>1728.908148</td>\n",
              "    </tr>\n",
              "    <tr>\n",
              "      <th>Google</th>\n",
              "      <td>1677.666667</td>\n",
              "    </tr>\n",
              "    <tr>\n",
              "      <th>Microsoft</th>\n",
              "      <td>1612.308333</td>\n",
              "    </tr>\n",
              "  </tbody>\n",
              "</table>\n",
              "</div>\n",
              "      <button class=\"colab-df-convert\" onclick=\"convertToInteractive('df-83f3f684-5c9a-4e32-bbde-82d6a95339fd')\"\n",
              "              title=\"Convert this dataframe to an interactive table.\"\n",
              "              style=\"display:none;\">\n",
              "        \n",
              "  <svg xmlns=\"http://www.w3.org/2000/svg\" height=\"24px\"viewBox=\"0 0 24 24\"\n",
              "       width=\"24px\">\n",
              "    <path d=\"M0 0h24v24H0V0z\" fill=\"none\"/>\n",
              "    <path d=\"M18.56 5.44l.94 2.06.94-2.06 2.06-.94-2.06-.94-.94-2.06-.94 2.06-2.06.94zm-11 1L8.5 8.5l.94-2.06 2.06-.94-2.06-.94L8.5 2.5l-.94 2.06-2.06.94zm10 10l.94 2.06.94-2.06 2.06-.94-2.06-.94-.94-2.06-.94 2.06-2.06.94z\"/><path d=\"M17.41 7.96l-1.37-1.37c-.4-.4-.92-.59-1.43-.59-.52 0-1.04.2-1.43.59L10.3 9.45l-7.72 7.72c-.78.78-.78 2.05 0 2.83L4 21.41c.39.39.9.59 1.41.59.51 0 1.02-.2 1.41-.59l7.78-7.78 2.81-2.81c.8-.78.8-2.07 0-2.86zM5.41 20L4 18.59l7.72-7.72 1.47 1.35L5.41 20z\"/>\n",
              "  </svg>\n",
              "      </button>\n",
              "      \n",
              "  <style>\n",
              "    .colab-df-container {\n",
              "      display:flex;\n",
              "      flex-wrap:wrap;\n",
              "      gap: 12px;\n",
              "    }\n",
              "\n",
              "    .colab-df-convert {\n",
              "      background-color: #E8F0FE;\n",
              "      border: none;\n",
              "      border-radius: 50%;\n",
              "      cursor: pointer;\n",
              "      display: none;\n",
              "      fill: #1967D2;\n",
              "      height: 32px;\n",
              "      padding: 0 0 0 0;\n",
              "      width: 32px;\n",
              "    }\n",
              "\n",
              "    .colab-df-convert:hover {\n",
              "      background-color: #E2EBFA;\n",
              "      box-shadow: 0px 1px 2px rgba(60, 64, 67, 0.3), 0px 1px 3px 1px rgba(60, 64, 67, 0.15);\n",
              "      fill: #174EA6;\n",
              "    }\n",
              "\n",
              "    [theme=dark] .colab-df-convert {\n",
              "      background-color: #3B4455;\n",
              "      fill: #D2E3FC;\n",
              "    }\n",
              "\n",
              "    [theme=dark] .colab-df-convert:hover {\n",
              "      background-color: #434B5C;\n",
              "      box-shadow: 0px 1px 3px 1px rgba(0, 0, 0, 0.15);\n",
              "      filter: drop-shadow(0px 1px 2px rgba(0, 0, 0, 0.3));\n",
              "      fill: #FFFFFF;\n",
              "    }\n",
              "  </style>\n",
              "\n",
              "      <script>\n",
              "        const buttonEl =\n",
              "          document.querySelector('#df-83f3f684-5c9a-4e32-bbde-82d6a95339fd button.colab-df-convert');\n",
              "        buttonEl.style.display =\n",
              "          google.colab.kernel.accessAllowed ? 'block' : 'none';\n",
              "\n",
              "        async function convertToInteractive(key) {\n",
              "          const element = document.querySelector('#df-83f3f684-5c9a-4e32-bbde-82d6a95339fd');\n",
              "          const dataTable =\n",
              "            await google.colab.kernel.invokeFunction('convertToInteractive',\n",
              "                                                     [key], {});\n",
              "          if (!dataTable) return;\n",
              "\n",
              "          const docLinkHtml = 'Like what you see? Visit the ' +\n",
              "            '<a target=\"_blank\" href=https://colab.research.google.com/notebooks/data_table.ipynb>data table notebook</a>'\n",
              "            + ' to learn more about interactive tables.';\n",
              "          element.innerHTML = '';\n",
              "          dataTable['output_type'] = 'display_data';\n",
              "          await google.colab.output.renderOutput(dataTable, element);\n",
              "          const docLink = document.createElement('div');\n",
              "          docLink.innerHTML = docLinkHtml;\n",
              "          element.appendChild(docLink);\n",
              "        }\n",
              "      </script>\n",
              "    </div>\n",
              "  </div>\n",
              "  "
            ]
          },
          "metadata": {},
          "execution_count": 14
        }
      ]
    },
    {
      "cell_type": "code",
      "source": [
        "df_product_price.index"
      ],
      "metadata": {
        "colab": {
          "base_uri": "https://localhost:8080/"
        },
        "id": "22t4DDYf4PYj",
        "outputId": "665f090d-f355-4ce0-afa3-44e8435cf84f"
      },
      "id": "22t4DDYf4PYj",
      "execution_count": 15,
      "outputs": [
        {
          "output_type": "execute_result",
          "data": {
            "text/plain": [
              "Index(['Razer', 'LG', 'MSI', 'Google', 'Microsoft', 'Apple', 'Huawei',\n",
              "       'Samsung', 'Toshiba', 'Dell', 'Xiaomi', 'Asus', 'Lenovo', 'HP',\n",
              "       'Fujitsu', 'Acer', 'Chuwi', 'Mediacom', 'Vero'],\n",
              "      dtype='object', name='Company')"
            ]
          },
          "metadata": {},
          "execution_count": 15
        }
      ]
    },
    {
      "cell_type": "code",
      "execution_count": 16,
      "id": "5d895ef8",
      "metadata": {
        "colab": {
          "base_uri": "https://localhost:8080/",
          "height": 535
        },
        "id": "5d895ef8",
        "outputId": "6ed1655b-b9f4-4f37-8952-cb23c7bfbc2c"
      },
      "outputs": [
        {
          "output_type": "execute_result",
          "data": {
            "text/plain": [
              "Text(0.5, 1.0, 'Average Price Per Company')"
            ]
          },
          "metadata": {},
          "execution_count": 16
        },
        {
          "output_type": "display_data",
          "data": {
            "text/plain": [
              "<Figure size 1080x576 with 1 Axes>"
            ],
            "image/png": "[encoded data removed]"
          },
          "metadata": {
            "needs_background": "light"
          }
        }
      ],
      "source": [
        "plt.figure(figsize = (15,8))\n",
        "splot = sns.barplot(data = df_product_price,x= df_product_price.index, y = 'Product Avg Price', palette = 'autumn')\n",
        "for p in splot.patches:\n",
        "    splot.annotate(format(p.get_height(), '.2f'), \n",
        "                   (p.get_x() + p.get_width() / 2., p.get_height()), \n",
        "                   ha = 'center', va = 'center', \n",
        "                   xytext = (0, 9), \n",
        "                   textcoords = 'offset points')\n",
        "    \n",
        "plt.xlabel(\"Name of the Company\", size=15)\n",
        "plt.ylabel(\"Average Product Price\", size=15)\n",
        "plt.title('Average Price Per Company')"
      ]
    },
    {
      "cell_type": "markdown",
      "id": "ae7450cf",
      "metadata": {
        "id": "ae7450cf"
      },
      "source": [
        "# Keep Continue for Regression Model"
      ]
    },
    {
      "cell_type": "code",
      "execution_count": 17,
      "id": "0bbd8cf5",
      "metadata": {
        "id": "0bbd8cf5"
      },
      "outputs": [],
      "source": [
        "#linear regression 2 types--> Gradient Descent and Least Square\n",
        "#KNN regression\n",
        "#Logistic regression\n",
        "#MUltivariable linar regression\n"
      ]
    },
    {
      "cell_type": "code",
      "source": [
        "df.head()"
      ],
      "metadata": {
        "colab": {
          "base_uri": "https://localhost:8080/",
          "height": 337
        },
        "id": "SiiD7_ee5KyO",
        "outputId": "ee7de2b9-fed4-4036-ec79-1ed505117072"
      },
      "id": "SiiD7_ee5KyO",
      "execution_count": 18,
      "outputs": [
        {
          "output_type": "execute_result",
          "data": {
            "text/plain": [
              "  Company      Product   TypeName  Inches                    ScreenResolution  \\\n",
              "0   Apple  MacBook Pro  Ultrabook    13.3  IPS Panel Retina Display 2560x1600   \n",
              "1   Apple  Macbook Air  Ultrabook    13.3                            1440x900   \n",
              "2      HP       250 G6   Notebook    15.6                   Full HD 1920x1080   \n",
              "3   Apple  MacBook Pro  Ultrabook    15.4  IPS Panel Retina Display 2880x1800   \n",
              "4   Apple  MacBook Pro  Ultrabook    13.3  IPS Panel Retina Display 2560x1600   \n",
              "\n",
              "                          Cpu  Ram               Memory  \\\n",
              "0        Intel Core i5 2.3GHz    8            128GB SSD   \n",
              "1        Intel Core i5 1.8GHz    8  128GB Flash Storage   \n",
              "2  Intel Core i5 7200U 2.5GHz    8            256GB SSD   \n",
              "3        Intel Core i7 2.7GHz   16            512GB SSD   \n",
              "4        Intel Core i5 3.1GHz    8            256GB SSD   \n",
              "\n",
              "                            Gpu  OpSys  Weight  Price_euros  \n",
              "0  Intel Iris Plus Graphics 640  macOS    1.37      1339.69  \n",
              "1        Intel HD Graphics 6000  macOS    1.34       898.94  \n",
              "2         Intel HD Graphics 620  No OS    1.86       575.00  \n",
              "3            AMD Radeon Pro 455  macOS    1.83      2537.45  \n",
              "4  Intel Iris Plus Graphics 650  macOS    1.37      1803.60  "
            ],
            "text/html": [
              "\n",
              "  <div id=\"df-ad85bed2-be50-4d52-b124-02b5bcee8d83\">\n",
              "    <div class=\"colab-df-container\">\n",
              "      <div>\n",
              "<style scoped>\n",
              "    .dataframe tbody tr th:only-of-type {\n",
              "        vertical-align: middle;\n",
              "    }\n",
              "\n",
              "    .dataframe tbody tr th {\n",
              "        vertical-align: top;\n",
              "    }\n",
              "\n",
              "    .dataframe thead th {\n",
              "        text-align: right;\n",
              "    }\n",
              "</style>\n",
              "<table border=\"1\" class=\"dataframe\">\n",
              "  <thead>\n",
              "    <tr style=\"text-align: right;\">\n",
              "      <th></th>\n",
              "      <th>Company</th>\n",
              "      <th>Product</th>\n",
              "      <th>TypeName</th>\n",
              "      <th>Inches</th>\n",
              "      <th>ScreenResolution</th>\n",
              "      <th>Cpu</th>\n",
              "      <th>Ram</th>\n",
              "      <th>Memory</th>\n",
              "      <th>Gpu</th>\n",
              "      <th>OpSys</th>\n",
              "      <th>Weight</th>\n",
              "      <th>Price_euros</th>\n",
              "    </tr>\n",
              "  </thead>\n",
              "  <tbody>\n",
              "    <tr>\n",
              "      <th>0</th>\n",
              "      <td>Apple</td>\n",
              "      <td>MacBook Pro</td>\n",
              "      <td>Ultrabook</td>\n",
              "      <td>13.3</td>\n",
              "      <td>IPS Panel Retina Display 2560x1600</td>\n",
              "      <td>Intel Core i5 2.3GHz</td>\n",
              "      <td>8</td>\n",
              "      <td>128GB SSD</td>\n",
              "      <td>Intel Iris Plus Graphics 640</td>\n",
              "      <td>macOS</td>\n",
              "      <td>1.37</td>\n",
              "      <td>1339.69</td>\n",
              "    </tr>\n",
              "    <tr>\n",
              "      <th>1</th>\n",
              "      <td>Apple</td>\n",
              "      <td>Macbook Air</td>\n",
              "      <td>Ultrabook</td>\n",
              "      <td>13.3</td>\n",
              "      <td>1440x900</td>\n",
              "      <td>Intel Core i5 1.8GHz</td>\n",
              "      <td>8</td>\n",
              "      <td>128GB Flash Storage</td>\n",
              "      <td>Intel HD Graphics 6000</td>\n",
              "      <td>macOS</td>\n",
              "      <td>1.34</td>\n",
              "      <td>898.94</td>\n",
              "    </tr>\n",
              "    <tr>\n",
              "      <th>2</th>\n",
              "      <td>HP</td>\n",
              "      <td>250 G6</td>\n",
              "      <td>Notebook</td>\n",
              "      <td>15.6</td>\n",
              "      <td>Full HD 1920x1080</td>\n",
              "      <td>Intel Core i5 7200U 2.5GHz</td>\n",
              "      <td>8</td>\n",
              "      <td>256GB SSD</td>\n",
              "      <td>Intel HD Graphics 620</td>\n",
              "      <td>No OS</td>\n",
              "      <td>1.86</td>\n",
              "      <td>575.00</td>\n",
              "    </tr>\n",
              "    <tr>\n",
              "      <th>3</th>\n",
              "      <td>Apple</td>\n",
              "      <td>MacBook Pro</td>\n",
              "      <td>Ultrabook</td>\n",
              "      <td>15.4</td>\n",
              "      <td>IPS Panel Retina Display 2880x1800</td>\n",
              "      <td>Intel Core i7 2.7GHz</td>\n",
              "      <td>16</td>\n",
              "      <td>512GB SSD</td>\n",
              "      <td>AMD Radeon Pro 455</td>\n",
              "      <td>macOS</td>\n",
              "      <td>1.83</td>\n",
              "      <td>2537.45</td>\n",
              "    </tr>\n",
              "    <tr>\n",
              "      <th>4</th>\n",
              "      <td>Apple</td>\n",
              "      <td>MacBook Pro</td>\n",
              "      <td>Ultrabook</td>\n",
              "      <td>13.3</td>\n",
              "      <td>IPS Panel Retina Display 2560x1600</td>\n",
              "      <td>Intel Core i5 3.1GHz</td>\n",
              "      <td>8</td>\n",
              "      <td>256GB SSD</td>\n",
              "      <td>Intel Iris Plus Graphics 650</td>\n",
              "      <td>macOS</td>\n",
              "      <td>1.37</td>\n",
              "      <td>1803.60</td>\n",
              "    </tr>\n",
              "  </tbody>\n",
              "</table>\n",
              "</div>\n",
              "      <button class=\"colab-df-convert\" onclick=\"convertToInteractive('df-ad85bed2-be50-4d52-b124-02b5bcee8d83')\"\n",
              "              title=\"Convert this dataframe to an interactive table.\"\n",
              "              style=\"display:none;\">\n",
              "        \n",
              "  <svg xmlns=\"http://www.w3.org/2000/svg\" height=\"24px\"viewBox=\"0 0 24 24\"\n",
              "       width=\"24px\">\n",
              "    <path d=\"M0 0h24v24H0V0z\" fill=\"none\"/>\n",
              "    <path d=\"M18.56 5.44l.94 2.06.94-2.06 2.06-.94-2.06-.94-.94-2.06-.94 2.06-2.06.94zm-11 1L8.5 8.5l.94-2.06 2.06-.94-2.06-.94L8.5 2.5l-.94 2.06-2.06.94zm10 10l.94 2.06.94-2.06 2.06-.94-2.06-.94-.94-2.06-.94 2.06-2.06.94z\"/><path d=\"M17.41 7.96l-1.37-1.37c-.4-.4-.92-.59-1.43-.59-.52 0-1.04.2-1.43.59L10.3 9.45l-7.72 7.72c-.78.78-.78 2.05 0 2.83L4 21.41c.39.39.9.59 1.41.59.51 0 1.02-.2 1.41-.59l7.78-7.78 2.81-2.81c.8-.78.8-2.07 0-2.86zM5.41 20L4 18.59l7.72-7.72 1.47 1.35L5.41 20z\"/>\n",
              "  </svg>\n",
              "      </button>\n",
              "      \n",
              "  <style>\n",
              "    .colab-df-container {\n",
              "      display:flex;\n",
              "      flex-wrap:wrap;\n",
              "      gap: 12px;\n",
              "    }\n",
              "\n",
              "    .colab-df-convert {\n",
              "      background-color: #E8F0FE;\n",
              "      border: none;\n",
              "      border-radius: 50%;\n",
              "      cursor: pointer;\n",
              "      display: none;\n",
              "      fill: #1967D2;\n",
              "      height: 32px;\n",
              "      padding: 0 0 0 0;\n",
              "      width: 32px;\n",
              "    }\n",
              "\n",
              "    .colab-df-convert:hover {\n",
              "      background-color: #E2EBFA;\n",
              "      box-shadow: 0px 1px 2px rgba(60, 64, 67, 0.3), 0px 1px 3px 1px rgba(60, 64, 67, 0.15);\n",
              "      fill: #174EA6;\n",
              "    }\n",
              "\n",
              "    [theme=dark] .colab-df-convert {\n",
              "      background-color: #3B4455;\n",
              "      fill: #D2E3FC;\n",
              "    }\n",
              "\n",
              "    [theme=dark] .colab-df-convert:hover {\n",
              "      background-color: #434B5C;\n",
              "      box-shadow: 0px 1px 3px 1px rgba(0, 0, 0, 0.15);\n",
              "      filter: drop-shadow(0px 1px 2px rgba(0, 0, 0, 0.3));\n",
              "      fill: #FFFFFF;\n",
              "    }\n",
              "  </style>\n",
              "\n",
              "      <script>\n",
              "        const buttonEl =\n",
              "          document.querySelector('#df-ad85bed2-be50-4d52-b124-02b5bcee8d83 button.colab-df-convert');\n",
              "        buttonEl.style.display =\n",
              "          google.colab.kernel.accessAllowed ? 'block' : 'none';\n",
              "\n",
              "        async function convertToInteractive(key) {\n",
              "          const element = document.querySelector('#df-ad85bed2-be50-4d52-b124-02b5bcee8d83');\n",
              "          const dataTable =\n",
              "            await google.colab.kernel.invokeFunction('convertToInteractive',\n",
              "                                                     [key], {});\n",
              "          if (!dataTable) return;\n",
              "\n",
              "          const docLinkHtml = 'Like what you see? Visit the ' +\n",
              "            '<a target=\"_blank\" href=https://colab.research.google.com/notebooks/data_table.ipynb>data table notebook</a>'\n",
              "            + ' to learn more about interactive tables.';\n",
              "          element.innerHTML = '';\n",
              "          dataTable['output_type'] = 'display_data';\n",
              "          await google.colab.output.renderOutput(dataTable, element);\n",
              "          const docLink = document.createElement('div');\n",
              "          docLink.innerHTML = docLinkHtml;\n",
              "          element.appendChild(docLink);\n",
              "        }\n",
              "      </script>\n",
              "    </div>\n",
              "  </div>\n",
              "  "
            ]
          },
          "metadata": {},
          "execution_count": 18
        }
      ]
    },
    {
      "cell_type": "code",
      "source": [
        "df_product_price.to_csv('product_service.csv')"
      ],
      "metadata": {
        "id": "vqGW8gA35L4e"
      },
      "id": "vqGW8gA35L4e",
      "execution_count": 19,
      "outputs": []
    },
    {
      "cell_type": "code",
      "source": [
        "df.info()"
      ],
      "metadata": {
        "colab": {
          "base_uri": "https://localhost:8080/"
        },
        "id": "Jb3Bj-bYA_uR",
        "outputId": "67eff93c-e1d3-4131-d25d-e7bfb6242026"
      },
      "id": "Jb3Bj-bYA_uR",
      "execution_count": 20,
      "outputs": [
        {
          "output_type": "stream",
          "name": "stdout",
          "text": [
            "<class 'pandas.core.frame.DataFrame'>\n",
            "RangeIndex: 1303 entries, 0 to 1302\n",
            "Data columns (total 12 columns):\n",
            " #   Column            Non-Null Count  Dtype  \n",
            "---  ------            --------------  -----  \n",
            " 0   Company           1303 non-null   object \n",
            " 1   Product           1303 non-null   object \n",
            " 2   TypeName          1303 non-null   object \n",
            " 3   Inches            1303 non-null   float64\n",
            " 4   ScreenResolution  1303 non-null   object \n",
            " 5   Cpu               1303 non-null   object \n",
            " 6   Ram               1303 non-null   int64  \n",
            " 7   Memory            1303 non-null   object \n",
            " 8   Gpu               1303 non-null   object \n",
            " 9   OpSys             1303 non-null   object \n",
            " 10  Weight            1303 non-null   float64\n",
            " 11  Price_euros       1303 non-null   float64\n",
            "dtypes: float64(3), int64(1), object(8)\n",
            "memory usage: 122.3+ KB\n"
          ]
        }
      ]
    },
    {
      "cell_type": "code",
      "source": [
        "df.dropna(inplace=True) "
      ],
      "metadata": {
        "id": "Z2s2MDV37qAn"
      },
      "id": "Z2s2MDV37qAn",
      "execution_count": 21,
      "outputs": []
    },
    {
      "cell_type": "markdown",
      "source": [
        "#Handleing \"ScreenResolution\" column"
      ],
      "metadata": {
        "id": "oovPgBlEssDh"
      },
      "id": "oovPgBlEssDh"
    },
    {
      "cell_type": "code",
      "source": [
        "df['ScreenResolution']"
      ],
      "metadata": {
        "colab": {
          "base_uri": "https://localhost:8080/"
        },
        "id": "2oEh0_71MaLk",
        "outputId": "2a254de5-2b4f-4e89-ddd3-2d579f76af70"
      },
      "id": "2oEh0_71MaLk",
      "execution_count": 22,
      "outputs": [
        {
          "output_type": "execute_result",
          "data": {
            "text/plain": [
              "0               IPS Panel Retina Display 2560x1600\n",
              "1                                         1440x900\n",
              "2                                Full HD 1920x1080\n",
              "3               IPS Panel Retina Display 2880x1800\n",
              "4               IPS Panel Retina Display 2560x1600\n",
              "                           ...                    \n",
              "1298     IPS Panel Full HD / Touchscreen 1920x1080\n",
              "1299    IPS Panel Quad HD+ / Touchscreen 3200x1800\n",
              "1300                                      1366x768\n",
              "1301                                      1366x768\n",
              "1302                                      1366x768\n",
              "Name: ScreenResolution, Length: 1303, dtype: object"
            ]
          },
          "metadata": {},
          "execution_count": 22
        }
      ]
    },
    {
      "cell_type": "code",
      "source": [
        "#lat-lon er comma remove kori\n",
        "\n",
        "#lat-lon k 2 ta column a split kori.\n",
        "#split(',') separate kore dibe value 2 ta k jkehane 'comma' ache\n",
        "#expand = True value 2 ta k 2 ta column a expand kore dibe\n",
        "#df3[['lat','lon']] = df3['lat-lon'].str.split(',',expand = True)\n",
        "#df3.drop(columns=['lat-lon'], inplace=True)\n",
        "###df3.head()"
      ],
      "metadata": {
        "id": "xX8g9An0BdEn"
      },
      "id": "xX8g9An0BdEn",
      "execution_count": 23,
      "outputs": []
    },
    {
      "cell_type": "code",
      "source": [
        "df[['Screen','Screen_Resoluton_Height']] = df['ScreenResolution'].str.split('x',expand=True)\n",
        "#screen \n",
        "#resolution -- >width x height format"
      ],
      "metadata": {
        "id": "C_CTXmjVCFR6"
      },
      "id": "C_CTXmjVCFR6",
      "execution_count": 24,
      "outputs": []
    },
    {
      "cell_type": "code",
      "source": [
        "df.head()"
      ],
      "metadata": {
        "colab": {
          "base_uri": "https://localhost:8080/",
          "height": 476
        },
        "id": "-MAGt2tSPB0g",
        "outputId": "c5e0e078-686c-4472-f692-64fbfcbe0594"
      },
      "id": "-MAGt2tSPB0g",
      "execution_count": 25,
      "outputs": [
        {
          "output_type": "execute_result",
          "data": {
            "text/plain": [
              "  Company      Product   TypeName  Inches                    ScreenResolution  \\\n",
              "0   Apple  MacBook Pro  Ultrabook    13.3  IPS Panel Retina Display 2560x1600   \n",
              "1   Apple  Macbook Air  Ultrabook    13.3                            1440x900   \n",
              "2      HP       250 G6   Notebook    15.6                   Full HD 1920x1080   \n",
              "3   Apple  MacBook Pro  Ultrabook    15.4  IPS Panel Retina Display 2880x1800   \n",
              "4   Apple  MacBook Pro  Ultrabook    13.3  IPS Panel Retina Display 2560x1600   \n",
              "\n",
              "                          Cpu  Ram               Memory  \\\n",
              "0        Intel Core i5 2.3GHz    8            128GB SSD   \n",
              "1        Intel Core i5 1.8GHz    8  128GB Flash Storage   \n",
              "2  Intel Core i5 7200U 2.5GHz    8            256GB SSD   \n",
              "3        Intel Core i7 2.7GHz   16            512GB SSD   \n",
              "4        Intel Core i5 3.1GHz    8            256GB SSD   \n",
              "\n",
              "                            Gpu  OpSys  Weight  Price_euros  \\\n",
              "0  Intel Iris Plus Graphics 640  macOS    1.37      1339.69   \n",
              "1        Intel HD Graphics 6000  macOS    1.34       898.94   \n",
              "2         Intel HD Graphics 620  No OS    1.86       575.00   \n",
              "3            AMD Radeon Pro 455  macOS    1.83      2537.45   \n",
              "4  Intel Iris Plus Graphics 650  macOS    1.37      1803.60   \n",
              "\n",
              "                          Screen Screen_Resoluton_Height  \n",
              "0  IPS Panel Retina Display 2560                    1600  \n",
              "1                           1440                     900  \n",
              "2                   Full HD 1920                    1080  \n",
              "3  IPS Panel Retina Display 2880                    1800  \n",
              "4  IPS Panel Retina Display 2560                    1600  "
            ],
            "text/html": [
              "\n",
              "  <div id=\"df-7c4b54c7-9432-4eda-851b-0e65d3643064\">\n",
              "    <div class=\"colab-df-container\">\n",
              "      <div>\n",
              "<style scoped>\n",
              "    .dataframe tbody tr th:only-of-type {\n",
              "        vertical-align: middle;\n",
              "    }\n",
              "\n",
              "    .dataframe tbody tr th {\n",
              "        vertical-align: top;\n",
              "    }\n",
              "\n",
              "    .dataframe thead th {\n",
              "        text-align: right;\n",
              "    }\n",
              "</style>\n",
              "<table border=\"1\" class=\"dataframe\">\n",
              "  <thead>\n",
              "    <tr style=\"text-align: right;\">\n",
              "      <th></th>\n",
              "      <th>Company</th>\n",
              "      <th>Product</th>\n",
              "      <th>TypeName</th>\n",
              "      <th>Inches</th>\n",
              "      <th>ScreenResolution</th>\n",
              "      <th>Cpu</th>\n",
              "      <th>Ram</th>\n",
              "      <th>Memory</th>\n",
              "      <th>Gpu</th>\n",
              "      <th>OpSys</th>\n",
              "      <th>Weight</th>\n",
              "      <th>Price_euros</th>\n",
              "      <th>Screen</th>\n",
              "      <th>Screen_Resoluton_Height</th>\n",
              "    </tr>\n",
              "  </thead>\n",
              "  <tbody>\n",
              "    <tr>\n",
              "      <th>0</th>\n",
              "      <td>Apple</td>\n",
              "      <td>MacBook Pro</td>\n",
              "      <td>Ultrabook</td>\n",
              "      <td>13.3</td>\n",
              "      <td>IPS Panel Retina Display 2560x1600</td>\n",
              "      <td>Intel Core i5 2.3GHz</td>\n",
              "      <td>8</td>\n",
              "      <td>128GB SSD</td>\n",
              "      <td>Intel Iris Plus Graphics 640</td>\n",
              "      <td>macOS</td>\n",
              "      <td>1.37</td>\n",
              "      <td>1339.69</td>\n",
              "      <td>IPS Panel Retina Display 2560</td>\n",
              "      <td>1600</td>\n",
              "    </tr>\n",
              "    <tr>\n",
              "      <th>1</th>\n",
              "      <td>Apple</td>\n",
              "      <td>Macbook Air</td>\n",
              "      <td>Ultrabook</td>\n",
              "      <td>13.3</td>\n",
              "      <td>1440x900</td>\n",
              "      <td>Intel Core i5 1.8GHz</td>\n",
              "      <td>8</td>\n",
              "      <td>128GB Flash Storage</td>\n",
              "      <td>Intel HD Graphics 6000</td>\n",
              "      <td>macOS</td>\n",
              "      <td>1.34</td>\n",
              "      <td>898.94</td>\n",
              "      <td>1440</td>\n",
              "      <td>900</td>\n",
              "    </tr>\n",
              "    <tr>\n",
              "      <th>2</th>\n",
              "      <td>HP</td>\n",
              "      <td>250 G6</td>\n",
              "      <td>Notebook</td>\n",
              "      <td>15.6</td>\n",
              "      <td>Full HD 1920x1080</td>\n",
              "      <td>Intel Core i5 7200U 2.5GHz</td>\n",
              "      <td>8</td>\n",
              "      <td>256GB SSD</td>\n",
              "      <td>Intel HD Graphics 620</td>\n",
              "      <td>No OS</td>\n",
              "      <td>1.86</td>\n",
              "      <td>575.00</td>\n",
              "      <td>Full HD 1920</td>\n",
              "      <td>1080</td>\n",
              "    </tr>\n",
              "    <tr>\n",
              "      <th>3</th>\n",
              "      <td>Apple</td>\n",
              "      <td>MacBook Pro</td>\n",
              "      <td>Ultrabook</td>\n",
              "      <td>15.4</td>\n",
              "      <td>IPS Panel Retina Display 2880x1800</td>\n",
              "      <td>Intel Core i7 2.7GHz</td>\n",
              "      <td>16</td>\n",
              "      <td>512GB SSD</td>\n",
              "      <td>AMD Radeon Pro 455</td>\n",
              "      <td>macOS</td>\n",
              "      <td>1.83</td>\n",
              "      <td>2537.45</td>\n",
              "      <td>IPS Panel Retina Display 2880</td>\n",
              "      <td>1800</td>\n",
              "    </tr>\n",
              "    <tr>\n",
              "      <th>4</th>\n",
              "      <td>Apple</td>\n",
              "      <td>MacBook Pro</td>\n",
              "      <td>Ultrabook</td>\n",
              "      <td>13.3</td>\n",
              "      <td>IPS Panel Retina Display 2560x1600</td>\n",
              "      <td>Intel Core i5 3.1GHz</td>\n",
              "      <td>8</td>\n",
              "      <td>256GB SSD</td>\n",
              "      <td>Intel Iris Plus Graphics 650</td>\n",
              "      <td>macOS</td>\n",
              "      <td>1.37</td>\n",
              "      <td>1803.60</td>\n",
              "      <td>IPS Panel Retina Display 2560</td>\n",
              "      <td>1600</td>\n",
              "    </tr>\n",
              "  </tbody>\n",
              "</table>\n",
              "</div>\n",
              "      <button class=\"colab-df-convert\" onclick=\"convertToInteractive('df-7c4b54c7-9432-4eda-851b-0e65d3643064')\"\n",
              "              title=\"Convert this dataframe to an interactive table.\"\n",
              "              style=\"display:none;\">\n",
              "        \n",
              "  <svg xmlns=\"http://www.w3.org/2000/svg\" height=\"24px\"viewBox=\"0 0 24 24\"\n",
              "       width=\"24px\">\n",
              "    <path d=\"M0 0h24v24H0V0z\" fill=\"none\"/>\n",
              "    <path d=\"M18.56 5.44l.94 2.06.94-2.06 2.06-.94-2.06-.94-.94-2.06-.94 2.06-2.06.94zm-11 1L8.5 8.5l.94-2.06 2.06-.94-2.06-.94L8.5 2.5l-.94 2.06-2.06.94zm10 10l.94 2.06.94-2.06 2.06-.94-2.06-.94-.94-2.06-.94 2.06-2.06.94z\"/><path d=\"M17.41 7.96l-1.37-1.37c-.4-.4-.92-.59-1.43-.59-.52 0-1.04.2-1.43.59L10.3 9.45l-7.72 7.72c-.78.78-.78 2.05 0 2.83L4 21.41c.39.39.9.59 1.41.59.51 0 1.02-.2 1.41-.59l7.78-7.78 2.81-2.81c.8-.78.8-2.07 0-2.86zM5.41 20L4 18.59l7.72-7.72 1.47 1.35L5.41 20z\"/>\n",
              "  </svg>\n",
              "      </button>\n",
              "      \n",
              "  <style>\n",
              "    .colab-df-container {\n",
              "      display:flex;\n",
              "      flex-wrap:wrap;\n",
              "      gap: 12px;\n",
              "    }\n",
              "\n",
              "    .colab-df-convert {\n",
              "      background-color: #E8F0FE;\n",
              "      border: none;\n",
              "      border-radius: 50%;\n",
              "      cursor: pointer;\n",
              "      display: none;\n",
              "      fill: #1967D2;\n",
              "      height: 32px;\n",
              "      padding: 0 0 0 0;\n",
              "      width: 32px;\n",
              "    }\n",
              "\n",
              "    .colab-df-convert:hover {\n",
              "      background-color: #E2EBFA;\n",
              "      box-shadow: 0px 1px 2px rgba(60, 64, 67, 0.3), 0px 1px 3px 1px rgba(60, 64, 67, 0.15);\n",
              "      fill: #174EA6;\n",
              "    }\n",
              "\n",
              "    [theme=dark] .colab-df-convert {\n",
              "      background-color: #3B4455;\n",
              "      fill: #D2E3FC;\n",
              "    }\n",
              "\n",
              "    [theme=dark] .colab-df-convert:hover {\n",
              "      background-color: #434B5C;\n",
              "      box-shadow: 0px 1px 3px 1px rgba(0, 0, 0, 0.15);\n",
              "      filter: drop-shadow(0px 1px 2px rgba(0, 0, 0, 0.3));\n",
              "      fill: #FFFFFF;\n",
              "    }\n",
              "  </style>\n",
              "\n",
              "      <script>\n",
              "        const buttonEl =\n",
              "          document.querySelector('#df-7c4b54c7-9432-4eda-851b-0e65d3643064 button.colab-df-convert');\n",
              "        buttonEl.style.display =\n",
              "          google.colab.kernel.accessAllowed ? 'block' : 'none';\n",
              "\n",
              "        async function convertToInteractive(key) {\n",
              "          const element = document.querySelector('#df-7c4b54c7-9432-4eda-851b-0e65d3643064');\n",
              "          const dataTable =\n",
              "            await google.colab.kernel.invokeFunction('convertToInteractive',\n",
              "                                                     [key], {});\n",
              "          if (!dataTable) return;\n",
              "\n",
              "          const docLinkHtml = 'Like what you see? Visit the ' +\n",
              "            '<a target=\"_blank\" href=https://colab.research.google.com/notebooks/data_table.ipynb>data table notebook</a>'\n",
              "            + ' to learn more about interactive tables.';\n",
              "          element.innerHTML = '';\n",
              "          dataTable['output_type'] = 'display_data';\n",
              "          await google.colab.output.renderOutput(dataTable, element);\n",
              "          const docLink = document.createElement('div');\n",
              "          docLink.innerHTML = docLinkHtml;\n",
              "          element.appendChild(docLink);\n",
              "        }\n",
              "      </script>\n",
              "    </div>\n",
              "  </div>\n",
              "  "
            ]
          },
          "metadata": {},
          "execution_count": 25
        }
      ]
    },
    {
      "cell_type": "code",
      "source": [
        "df['Screen_Resoluton_Height']"
      ],
      "metadata": {
        "colab": {
          "base_uri": "https://localhost:8080/"
        },
        "id": "9wQ-UezEozCW",
        "outputId": "0f486aa2-287c-47aa-947c-163affd28a14"
      },
      "id": "9wQ-UezEozCW",
      "execution_count": 26,
      "outputs": [
        {
          "output_type": "execute_result",
          "data": {
            "text/plain": [
              "0       1600\n",
              "1        900\n",
              "2       1080\n",
              "3       1800\n",
              "4       1600\n",
              "        ... \n",
              "1298    1080\n",
              "1299    1800\n",
              "1300     768\n",
              "1301     768\n",
              "1302     768\n",
              "Name: Screen_Resoluton_Height, Length: 1303, dtype: object"
            ]
          },
          "metadata": {},
          "execution_count": 26
        }
      ]
    },
    {
      "cell_type": "code",
      "source": [
        "df[\"Screen_Resoluton_Height\"] = pd.to_numeric(df[\"Screen_Resoluton_Height\"])"
      ],
      "metadata": {
        "id": "AvgWDKjHo4N4"
      },
      "id": "AvgWDKjHo4N4",
      "execution_count": 27,
      "outputs": []
    },
    {
      "cell_type": "code",
      "source": [
        "df.info()"
      ],
      "metadata": {
        "colab": {
          "base_uri": "https://localhost:8080/"
        },
        "id": "hMeDGNEko4P6",
        "outputId": "c1f9883a-859a-4682-f804-cdadb8ff4984"
      },
      "id": "hMeDGNEko4P6",
      "execution_count": 28,
      "outputs": [
        {
          "output_type": "stream",
          "name": "stdout",
          "text": [
            "<class 'pandas.core.frame.DataFrame'>\n",
            "Int64Index: 1303 entries, 0 to 1302\n",
            "Data columns (total 14 columns):\n",
            " #   Column                   Non-Null Count  Dtype  \n",
            "---  ------                   --------------  -----  \n",
            " 0   Company                  1303 non-null   object \n",
            " 1   Product                  1303 non-null   object \n",
            " 2   TypeName                 1303 non-null   object \n",
            " 3   Inches                   1303 non-null   float64\n",
            " 4   ScreenResolution         1303 non-null   object \n",
            " 5   Cpu                      1303 non-null   object \n",
            " 6   Ram                      1303 non-null   int64  \n",
            " 7   Memory                   1303 non-null   object \n",
            " 8   Gpu                      1303 non-null   object \n",
            " 9   OpSys                    1303 non-null   object \n",
            " 10  Weight                   1303 non-null   float64\n",
            " 11  Price_euros              1303 non-null   float64\n",
            " 12  Screen                   1303 non-null   object \n",
            " 13  Screen_Resoluton_Height  1303 non-null   int64  \n",
            "dtypes: float64(3), int64(2), object(9)\n",
            "memory usage: 152.7+ KB\n"
          ]
        }
      ]
    },
    {
      "cell_type": "code",
      "source": [
        "df['Screen']"
      ],
      "metadata": {
        "colab": {
          "base_uri": "https://localhost:8080/"
        },
        "id": "jdmL-8byRtYQ",
        "outputId": "190e9213-24fc-41bd-ca04-3040b9c62509"
      },
      "id": "jdmL-8byRtYQ",
      "execution_count": 29,
      "outputs": [
        {
          "output_type": "execute_result",
          "data": {
            "text/plain": [
              "0               IPS Panel Retina Display 2560\n",
              "1                                        1440\n",
              "2                                Full HD 1920\n",
              "3               IPS Panel Retina Display 2880\n",
              "4               IPS Panel Retina Display 2560\n",
              "                        ...                  \n",
              "1298     IPS Panel Full HD / Touchscreen 1920\n",
              "1299    IPS Panel Quad HD+ / Touchscreen 3200\n",
              "1300                                     1366\n",
              "1301                                     1366\n",
              "1302                                     1366\n",
              "Name: Screen, Length: 1303, dtype: object"
            ]
          },
          "metadata": {},
          "execution_count": 29
        }
      ]
    },
    {
      "cell_type": "code",
      "source": [
        "'''import pandas as pd\n",
        "\n",
        "data = ['my namse is 9999',\n",
        "'my proma is 7878',\n",
        "'tasnim has 990',\n",
        "'XTY 111 86458']\n",
        "\n",
        "dff = pd.DataFrame(data=data, columns=['col'])\n",
        "\n",
        "dff[[\"Name\", \"sep\", \"No\"]] = dff[\"col\"].str.split(\"(\\d\\d)\", n=1, expand=True)'''"
      ],
      "metadata": {
        "colab": {
          "base_uri": "https://localhost:8080/",
          "height": 53
        },
        "id": "4kUB3sgmR_uY",
        "outputId": "46a498cc-68bb-4ef3-a62f-5e46db12d9c9"
      },
      "id": "4kUB3sgmR_uY",
      "execution_count": 30,
      "outputs": [
        {
          "output_type": "execute_result",
          "data": {
            "text/plain": [
              "'import pandas as pd\\n\\ndata = [\\'my namse is 9999\\',\\n\\'my proma is 7878\\',\\n\\'tasnim has 990\\',\\n\\'XTY 111 86458\\']\\n\\ndff = pd.DataFrame(data=data, columns=[\\'col\\'])\\n\\ndff[[\"Name\", \"sep\", \"No\"]] = dff[\"col\"].str.split(\"(\\\\d\\\\d)\", n=1, expand=True)'"
            ],
            "application/vnd.google.colaboratory.intrinsic+json": {
              "type": "string"
            }
          },
          "metadata": {},
          "execution_count": 30
        }
      ]
    },
    {
      "cell_type": "code",
      "source": [
        "#dff.head()"
      ],
      "metadata": {
        "id": "bL0-a_VJr_Wp"
      },
      "id": "bL0-a_VJr_Wp",
      "execution_count": 31,
      "outputs": []
    },
    {
      "cell_type": "code",
      "source": [
        ""
      ],
      "metadata": {
        "id": "TPlj8bMFr_Zd"
      },
      "id": "TPlj8bMFr_Zd",
      "execution_count": 31,
      "outputs": []
    },
    {
      "cell_type": "code",
      "source": [
        ""
      ],
      "metadata": {
        "id": "AOKY3zgar_cQ"
      },
      "id": "AOKY3zgar_cQ",
      "execution_count": 31,
      "outputs": []
    },
    {
      "cell_type": "code",
      "source": [
        ""
      ],
      "metadata": {
        "id": "bQUjsbPir_ez"
      },
      "id": "bQUjsbPir_ez",
      "execution_count": 31,
      "outputs": []
    },
    {
      "cell_type": "code",
      "source": [
        "df[[\"Screen_Display\", \"sep\",\"Screen_Resoluton_Width\"]] = df[\"Screen\"].str.split(\"(\\d\\d)\", n=1, expand=True)\n",
        "df[\"Screen_Resoluton_Width\"] = df[\"sep\"] + df[\"Screen_Resoluton_Width\"]\n",
        "df.drop(\"sep\", inplace=True, axis=1)"
      ],
      "metadata": {
        "id": "WtfQrlOcW95C"
      },
      "id": "WtfQrlOcW95C",
      "execution_count": 32,
      "outputs": []
    },
    {
      "cell_type": "code",
      "source": [
        "df.head()"
      ],
      "metadata": {
        "colab": {
          "base_uri": "https://localhost:8080/",
          "height": 565
        },
        "id": "Cs8ydCZYVdP_",
        "outputId": "6e5a07f7-d9c2-440c-cb5d-848dcdbdcc52"
      },
      "id": "Cs8ydCZYVdP_",
      "execution_count": 33,
      "outputs": [
        {
          "output_type": "execute_result",
          "data": {
            "text/plain": [
              "  Company      Product   TypeName  Inches                    ScreenResolution  \\\n",
              "0   Apple  MacBook Pro  Ultrabook    13.3  IPS Panel Retina Display 2560x1600   \n",
              "1   Apple  Macbook Air  Ultrabook    13.3                            1440x900   \n",
              "2      HP       250 G6   Notebook    15.6                   Full HD 1920x1080   \n",
              "3   Apple  MacBook Pro  Ultrabook    15.4  IPS Panel Retina Display 2880x1800   \n",
              "4   Apple  MacBook Pro  Ultrabook    13.3  IPS Panel Retina Display 2560x1600   \n",
              "\n",
              "                          Cpu  Ram               Memory  \\\n",
              "0        Intel Core i5 2.3GHz    8            128GB SSD   \n",
              "1        Intel Core i5 1.8GHz    8  128GB Flash Storage   \n",
              "2  Intel Core i5 7200U 2.5GHz    8            256GB SSD   \n",
              "3        Intel Core i7 2.7GHz   16            512GB SSD   \n",
              "4        Intel Core i5 3.1GHz    8            256GB SSD   \n",
              "\n",
              "                            Gpu  OpSys  Weight  Price_euros  \\\n",
              "0  Intel Iris Plus Graphics 640  macOS    1.37      1339.69   \n",
              "1        Intel HD Graphics 6000  macOS    1.34       898.94   \n",
              "2         Intel HD Graphics 620  No OS    1.86       575.00   \n",
              "3            AMD Radeon Pro 455  macOS    1.83      2537.45   \n",
              "4  Intel Iris Plus Graphics 650  macOS    1.37      1803.60   \n",
              "\n",
              "                          Screen  Screen_Resoluton_Height  \\\n",
              "0  IPS Panel Retina Display 2560                     1600   \n",
              "1                           1440                      900   \n",
              "2                   Full HD 1920                     1080   \n",
              "3  IPS Panel Retina Display 2880                     1800   \n",
              "4  IPS Panel Retina Display 2560                     1600   \n",
              "\n",
              "              Screen_Display Screen_Resoluton_Width  \n",
              "0  IPS Panel Retina Display                    2560  \n",
              "1                                              1440  \n",
              "2                   Full HD                    1920  \n",
              "3  IPS Panel Retina Display                    2880  \n",
              "4  IPS Panel Retina Display                    2560  "
            ],
            "text/html": [
              "\n",
              "  <div id=\"df-5dde71c2-e2b2-434b-9ac8-684e267d680c\">\n",
              "    <div class=\"colab-df-container\">\n",
              "      <div>\n",
              "<style scoped>\n",
              "    .dataframe tbody tr th:only-of-type {\n",
              "        vertical-align: middle;\n",
              "    }\n",
              "\n",
              "    .dataframe tbody tr th {\n",
              "        vertical-align: top;\n",
              "    }\n",
              "\n",
              "    .dataframe thead th {\n",
              "        text-align: right;\n",
              "    }\n",
              "</style>\n",
              "<table border=\"1\" class=\"dataframe\">\n",
              "  <thead>\n",
              "    <tr style=\"text-align: right;\">\n",
              "      <th></th>\n",
              "      <th>Company</th>\n",
              "      <th>Product</th>\n",
              "      <th>TypeName</th>\n",
              "      <th>Inches</th>\n",
              "      <th>ScreenResolution</th>\n",
              "      <th>Cpu</th>\n",
              "      <th>Ram</th>\n",
              "      <th>Memory</th>\n",
              "      <th>Gpu</th>\n",
              "      <th>OpSys</th>\n",
              "      <th>Weight</th>\n",
              "      <th>Price_euros</th>\n",
              "      <th>Screen</th>\n",
              "      <th>Screen_Resoluton_Height</th>\n",
              "      <th>Screen_Display</th>\n",
              "      <th>Screen_Resoluton_Width</th>\n",
              "    </tr>\n",
              "  </thead>\n",
              "  <tbody>\n",
              "    <tr>\n",
              "      <th>0</th>\n",
              "      <td>Apple</td>\n",
              "      <td>MacBook Pro</td>\n",
              "      <td>Ultrabook</td>\n",
              "      <td>13.3</td>\n",
              "      <td>IPS Panel Retina Display 2560x1600</td>\n",
              "      <td>Intel Core i5 2.3GHz</td>\n",
              "      <td>8</td>\n",
              "      <td>128GB SSD</td>\n",
              "      <td>Intel Iris Plus Graphics 640</td>\n",
              "      <td>macOS</td>\n",
              "      <td>1.37</td>\n",
              "      <td>1339.69</td>\n",
              "      <td>IPS Panel Retina Display 2560</td>\n",
              "      <td>1600</td>\n",
              "      <td>IPS Panel Retina Display</td>\n",
              "      <td>2560</td>\n",
              "    </tr>\n",
              "    <tr>\n",
              "      <th>1</th>\n",
              "      <td>Apple</td>\n",
              "      <td>Macbook Air</td>\n",
              "      <td>Ultrabook</td>\n",
              "      <td>13.3</td>\n",
              "      <td>1440x900</td>\n",
              "      <td>Intel Core i5 1.8GHz</td>\n",
              "      <td>8</td>\n",
              "      <td>128GB Flash Storage</td>\n",
              "      <td>Intel HD Graphics 6000</td>\n",
              "      <td>macOS</td>\n",
              "      <td>1.34</td>\n",
              "      <td>898.94</td>\n",
              "      <td>1440</td>\n",
              "      <td>900</td>\n",
              "      <td></td>\n",
              "      <td>1440</td>\n",
              "    </tr>\n",
              "    <tr>\n",
              "      <th>2</th>\n",
              "      <td>HP</td>\n",
              "      <td>250 G6</td>\n",
              "      <td>Notebook</td>\n",
              "      <td>15.6</td>\n",
              "      <td>Full HD 1920x1080</td>\n",
              "      <td>Intel Core i5 7200U 2.5GHz</td>\n",
              "      <td>8</td>\n",
              "      <td>256GB SSD</td>\n",
              "      <td>Intel HD Graphics 620</td>\n",
              "      <td>No OS</td>\n",
              "      <td>1.86</td>\n",
              "      <td>575.00</td>\n",
              "      <td>Full HD 1920</td>\n",
              "      <td>1080</td>\n",
              "      <td>Full HD</td>\n",
              "      <td>1920</td>\n",
              "    </tr>\n",
              "    <tr>\n",
              "      <th>3</th>\n",
              "      <td>Apple</td>\n",
              "      <td>MacBook Pro</td>\n",
              "      <td>Ultrabook</td>\n",
              "      <td>15.4</td>\n",
              "      <td>IPS Panel Retina Display 2880x1800</td>\n",
              "      <td>Intel Core i7 2.7GHz</td>\n",
              "      <td>16</td>\n",
              "      <td>512GB SSD</td>\n",
              "      <td>AMD Radeon Pro 455</td>\n",
              "      <td>macOS</td>\n",
              "      <td>1.83</td>\n",
              "      <td>2537.45</td>\n",
              "      <td>IPS Panel Retina Display 2880</td>\n",
              "      <td>1800</td>\n",
              "      <td>IPS Panel Retina Display</td>\n",
              "      <td>2880</td>\n",
              "    </tr>\n",
              "    <tr>\n",
              "      <th>4</th>\n",
              "      <td>Apple</td>\n",
              "      <td>MacBook Pro</td>\n",
              "      <td>Ultrabook</td>\n",
              "      <td>13.3</td>\n",
              "      <td>IPS Panel Retina Display 2560x1600</td>\n",
              "      <td>Intel Core i5 3.1GHz</td>\n",
              "      <td>8</td>\n",
              "      <td>256GB SSD</td>\n",
              "      <td>Intel Iris Plus Graphics 650</td>\n",
              "      <td>macOS</td>\n",
              "      <td>1.37</td>\n",
              "      <td>1803.60</td>\n",
              "      <td>IPS Panel Retina Display 2560</td>\n",
              "      <td>1600</td>\n",
              "      <td>IPS Panel Retina Display</td>\n",
              "      <td>2560</td>\n",
              "    </tr>\n",
              "  </tbody>\n",
              "</table>\n",
              "</div>\n",
              "      <button class=\"colab-df-convert\" onclick=\"convertToInteractive('df-5dde71c2-e2b2-434b-9ac8-684e267d680c')\"\n",
              "              title=\"Convert this dataframe to an interactive table.\"\n",
              "              style=\"display:none;\">\n",
              "        \n",
              "  <svg xmlns=\"http://www.w3.org/2000/svg\" height=\"24px\"viewBox=\"0 0 24 24\"\n",
              "       width=\"24px\">\n",
              "    <path d=\"M0 0h24v24H0V0z\" fill=\"none\"/>\n",
              "    <path d=\"M18.56 5.44l.94 2.06.94-2.06 2.06-.94-2.06-.94-.94-2.06-.94 2.06-2.06.94zm-11 1L8.5 8.5l.94-2.06 2.06-.94-2.06-.94L8.5 2.5l-.94 2.06-2.06.94zm10 10l.94 2.06.94-2.06 2.06-.94-2.06-.94-.94-2.06-.94 2.06-2.06.94z\"/><path d=\"M17.41 7.96l-1.37-1.37c-.4-.4-.92-.59-1.43-.59-.52 0-1.04.2-1.43.59L10.3 9.45l-7.72 7.72c-.78.78-.78 2.05 0 2.83L4 21.41c.39.39.9.59 1.41.59.51 0 1.02-.2 1.41-.59l7.78-7.78 2.81-2.81c.8-.78.8-2.07 0-2.86zM5.41 20L4 18.59l7.72-7.72 1.47 1.35L5.41 20z\"/>\n",
              "  </svg>\n",
              "      </button>\n",
              "      \n",
              "  <style>\n",
              "    .colab-df-container {\n",
              "      display:flex;\n",
              "      flex-wrap:wrap;\n",
              "      gap: 12px;\n",
              "    }\n",
              "\n",
              "    .colab-df-convert {\n",
              "      background-color: #E8F0FE;\n",
              "      border: none;\n",
              "      border-radius: 50%;\n",
              "      cursor: pointer;\n",
              "      display: none;\n",
              "      fill: #1967D2;\n",
              "      height: 32px;\n",
              "      padding: 0 0 0 0;\n",
              "      width: 32px;\n",
              "    }\n",
              "\n",
              "    .colab-df-convert:hover {\n",
              "      background-color: #E2EBFA;\n",
              "      box-shadow: 0px 1px 2px rgba(60, 64, 67, 0.3), 0px 1px 3px 1px rgba(60, 64, 67, 0.15);\n",
              "      fill: #174EA6;\n",
              "    }\n",
              "\n",
              "    [theme=dark] .colab-df-convert {\n",
              "      background-color: #3B4455;\n",
              "      fill: #D2E3FC;\n",
              "    }\n",
              "\n",
              "    [theme=dark] .colab-df-convert:hover {\n",
              "      background-color: #434B5C;\n",
              "      box-shadow: 0px 1px 3px 1px rgba(0, 0, 0, 0.15);\n",
              "      filter: drop-shadow(0px 1px 2px rgba(0, 0, 0, 0.3));\n",
              "      fill: #FFFFFF;\n",
              "    }\n",
              "  </style>\n",
              "\n",
              "      <script>\n",
              "        const buttonEl =\n",
              "          document.querySelector('#df-5dde71c2-e2b2-434b-9ac8-684e267d680c button.colab-df-convert');\n",
              "        buttonEl.style.display =\n",
              "          google.colab.kernel.accessAllowed ? 'block' : 'none';\n",
              "\n",
              "        async function convertToInteractive(key) {\n",
              "          const element = document.querySelector('#df-5dde71c2-e2b2-434b-9ac8-684e267d680c');\n",
              "          const dataTable =\n",
              "            await google.colab.kernel.invokeFunction('convertToInteractive',\n",
              "                                                     [key], {});\n",
              "          if (!dataTable) return;\n",
              "\n",
              "          const docLinkHtml = 'Like what you see? Visit the ' +\n",
              "            '<a target=\"_blank\" href=https://colab.research.google.com/notebooks/data_table.ipynb>data table notebook</a>'\n",
              "            + ' to learn more about interactive tables.';\n",
              "          element.innerHTML = '';\n",
              "          dataTable['output_type'] = 'display_data';\n",
              "          await google.colab.output.renderOutput(dataTable, element);\n",
              "          const docLink = document.createElement('div');\n",
              "          docLink.innerHTML = docLinkHtml;\n",
              "          element.appendChild(docLink);\n",
              "        }\n",
              "      </script>\n",
              "    </div>\n",
              "  </div>\n",
              "  "
            ]
          },
          "metadata": {},
          "execution_count": 33
        }
      ]
    },
    {
      "cell_type": "code",
      "source": [
        "df['Screen_Resoluton_Width']"
      ],
      "metadata": {
        "colab": {
          "base_uri": "https://localhost:8080/"
        },
        "id": "1JIa_h7xqNEj",
        "outputId": "31a99bfc-172e-4cbe-b499-de2e41af1873"
      },
      "id": "1JIa_h7xqNEj",
      "execution_count": 34,
      "outputs": [
        {
          "output_type": "execute_result",
          "data": {
            "text/plain": [
              "0       2560\n",
              "1       1440\n",
              "2       1920\n",
              "3       2880\n",
              "4       2560\n",
              "        ... \n",
              "1298    1920\n",
              "1299    3200\n",
              "1300    1366\n",
              "1301    1366\n",
              "1302    1366\n",
              "Name: Screen_Resoluton_Width, Length: 1303, dtype: object"
            ]
          },
          "metadata": {},
          "execution_count": 34
        }
      ]
    },
    {
      "cell_type": "code",
      "source": [
        "df[\"Screen_Resoluton_Width\"] = pd.to_numeric(df[\"Screen_Resoluton_Width\"])"
      ],
      "metadata": {
        "id": "RgrqHr1XqD6a"
      },
      "id": "RgrqHr1XqD6a",
      "execution_count": 35,
      "outputs": []
    },
    {
      "cell_type": "code",
      "source": [
        "df.info()"
      ],
      "metadata": {
        "colab": {
          "base_uri": "https://localhost:8080/"
        },
        "id": "uTANZyjDYuOS",
        "outputId": "e10ec488-f995-46b4-db8b-0828d646a460"
      },
      "id": "uTANZyjDYuOS",
      "execution_count": 36,
      "outputs": [
        {
          "output_type": "stream",
          "name": "stdout",
          "text": [
            "<class 'pandas.core.frame.DataFrame'>\n",
            "Int64Index: 1303 entries, 0 to 1302\n",
            "Data columns (total 16 columns):\n",
            " #   Column                   Non-Null Count  Dtype  \n",
            "---  ------                   --------------  -----  \n",
            " 0   Company                  1303 non-null   object \n",
            " 1   Product                  1303 non-null   object \n",
            " 2   TypeName                 1303 non-null   object \n",
            " 3   Inches                   1303 non-null   float64\n",
            " 4   ScreenResolution         1303 non-null   object \n",
            " 5   Cpu                      1303 non-null   object \n",
            " 6   Ram                      1303 non-null   int64  \n",
            " 7   Memory                   1303 non-null   object \n",
            " 8   Gpu                      1303 non-null   object \n",
            " 9   OpSys                    1303 non-null   object \n",
            " 10  Weight                   1303 non-null   float64\n",
            " 11  Price_euros              1303 non-null   float64\n",
            " 12  Screen                   1303 non-null   object \n",
            " 13  Screen_Resoluton_Height  1303 non-null   int64  \n",
            " 14  Screen_Display           1303 non-null   object \n",
            " 15  Screen_Resoluton_Width   1303 non-null   int64  \n",
            "dtypes: float64(3), int64(3), object(10)\n",
            "memory usage: 173.1+ KB\n"
          ]
        }
      ]
    },
    {
      "cell_type": "code",
      "source": [
        "df.head()"
      ],
      "metadata": {
        "colab": {
          "base_uri": "https://localhost:8080/",
          "height": 565
        },
        "id": "1u85QdJyYuQo",
        "outputId": "b881a66f-f24e-480d-fa85-07c2d37f38f7"
      },
      "id": "1u85QdJyYuQo",
      "execution_count": 37,
      "outputs": [
        {
          "output_type": "execute_result",
          "data": {
            "text/plain": [
              "  Company      Product   TypeName  Inches                    ScreenResolution  \\\n",
              "0   Apple  MacBook Pro  Ultrabook    13.3  IPS Panel Retina Display 2560x1600   \n",
              "1   Apple  Macbook Air  Ultrabook    13.3                            1440x900   \n",
              "2      HP       250 G6   Notebook    15.6                   Full HD 1920x1080   \n",
              "3   Apple  MacBook Pro  Ultrabook    15.4  IPS Panel Retina Display 2880x1800   \n",
              "4   Apple  MacBook Pro  Ultrabook    13.3  IPS Panel Retina Display 2560x1600   \n",
              "\n",
              "                          Cpu  Ram               Memory  \\\n",
              "0        Intel Core i5 2.3GHz    8            128GB SSD   \n",
              "1        Intel Core i5 1.8GHz    8  128GB Flash Storage   \n",
              "2  Intel Core i5 7200U 2.5GHz    8            256GB SSD   \n",
              "3        Intel Core i7 2.7GHz   16            512GB SSD   \n",
              "4        Intel Core i5 3.1GHz    8            256GB SSD   \n",
              "\n",
              "                            Gpu  OpSys  Weight  Price_euros  \\\n",
              "0  Intel Iris Plus Graphics 640  macOS    1.37      1339.69   \n",
              "1        Intel HD Graphics 6000  macOS    1.34       898.94   \n",
              "2         Intel HD Graphics 620  No OS    1.86       575.00   \n",
              "3            AMD Radeon Pro 455  macOS    1.83      2537.45   \n",
              "4  Intel Iris Plus Graphics 650  macOS    1.37      1803.60   \n",
              "\n",
              "                          Screen  Screen_Resoluton_Height  \\\n",
              "0  IPS Panel Retina Display 2560                     1600   \n",
              "1                           1440                      900   \n",
              "2                   Full HD 1920                     1080   \n",
              "3  IPS Panel Retina Display 2880                     1800   \n",
              "4  IPS Panel Retina Display 2560                     1600   \n",
              "\n",
              "              Screen_Display  Screen_Resoluton_Width  \n",
              "0  IPS Panel Retina Display                     2560  \n",
              "1                                               1440  \n",
              "2                   Full HD                     1920  \n",
              "3  IPS Panel Retina Display                     2880  \n",
              "4  IPS Panel Retina Display                     2560  "
            ],
            "text/html": [
              "\n",
              "  <div id=\"df-9db8aaf0-32d2-48e8-93ab-d13b723d2923\">\n",
              "    <div class=\"colab-df-container\">\n",
              "      <div>\n",
              "<style scoped>\n",
              "    .dataframe tbody tr th:only-of-type {\n",
              "        vertical-align: middle;\n",
              "    }\n",
              "\n",
              "    .dataframe tbody tr th {\n",
              "        vertical-align: top;\n",
              "    }\n",
              "\n",
              "    .dataframe thead th {\n",
              "        text-align: right;\n",
              "    }\n",
              "</style>\n",
              "<table border=\"1\" class=\"dataframe\">\n",
              "  <thead>\n",
              "    <tr style=\"text-align: right;\">\n",
              "      <th></th>\n",
              "      <th>Company</th>\n",
              "      <th>Product</th>\n",
              "      <th>TypeName</th>\n",
              "      <th>Inches</th>\n",
              "      <th>ScreenResolution</th>\n",
              "      <th>Cpu</th>\n",
              "      <th>Ram</th>\n",
              "      <th>Memory</th>\n",
              "      <th>Gpu</th>\n",
              "      <th>OpSys</th>\n",
              "      <th>Weight</th>\n",
              "      <th>Price_euros</th>\n",
              "      <th>Screen</th>\n",
              "      <th>Screen_Resoluton_Height</th>\n",
              "      <th>Screen_Display</th>\n",
              "      <th>Screen_Resoluton_Width</th>\n",
              "    </tr>\n",
              "  </thead>\n",
              "  <tbody>\n",
              "    <tr>\n",
              "      <th>0</th>\n",
              "      <td>Apple</td>\n",
              "      <td>MacBook Pro</td>\n",
              "      <td>Ultrabook</td>\n",
              "      <td>13.3</td>\n",
              "      <td>IPS Panel Retina Display 2560x1600</td>\n",
              "      <td>Intel Core i5 2.3GHz</td>\n",
              "      <td>8</td>\n",
              "      <td>128GB SSD</td>\n",
              "      <td>Intel Iris Plus Graphics 640</td>\n",
              "      <td>macOS</td>\n",
              "      <td>1.37</td>\n",
              "      <td>1339.69</td>\n",
              "      <td>IPS Panel Retina Display 2560</td>\n",
              "      <td>1600</td>\n",
              "      <td>IPS Panel Retina Display</td>\n",
              "      <td>2560</td>\n",
              "    </tr>\n",
              "    <tr>\n",
              "      <th>1</th>\n",
              "      <td>Apple</td>\n",
              "      <td>Macbook Air</td>\n",
              "      <td>Ultrabook</td>\n",
              "      <td>13.3</td>\n",
              "      <td>1440x900</td>\n",
              "      <td>Intel Core i5 1.8GHz</td>\n",
              "      <td>8</td>\n",
              "      <td>128GB Flash Storage</td>\n",
              "      <td>Intel HD Graphics 6000</td>\n",
              "      <td>macOS</td>\n",
              "      <td>1.34</td>\n",
              "      <td>898.94</td>\n",
              "      <td>1440</td>\n",
              "      <td>900</td>\n",
              "      <td></td>\n",
              "      <td>1440</td>\n",
              "    </tr>\n",
              "    <tr>\n",
              "      <th>2</th>\n",
              "      <td>HP</td>\n",
              "      <td>250 G6</td>\n",
              "      <td>Notebook</td>\n",
              "      <td>15.6</td>\n",
              "      <td>Full HD 1920x1080</td>\n",
              "      <td>Intel Core i5 7200U 2.5GHz</td>\n",
              "      <td>8</td>\n",
              "      <td>256GB SSD</td>\n",
              "      <td>Intel HD Graphics 620</td>\n",
              "      <td>No OS</td>\n",
              "      <td>1.86</td>\n",
              "      <td>575.00</td>\n",
              "      <td>Full HD 1920</td>\n",
              "      <td>1080</td>\n",
              "      <td>Full HD</td>\n",
              "      <td>1920</td>\n",
              "    </tr>\n",
              "    <tr>\n",
              "      <th>3</th>\n",
              "      <td>Apple</td>\n",
              "      <td>MacBook Pro</td>\n",
              "      <td>Ultrabook</td>\n",
              "      <td>15.4</td>\n",
              "      <td>IPS Panel Retina Display 2880x1800</td>\n",
              "      <td>Intel Core i7 2.7GHz</td>\n",
              "      <td>16</td>\n",
              "      <td>512GB SSD</td>\n",
              "      <td>AMD Radeon Pro 455</td>\n",
              "      <td>macOS</td>\n",
              "      <td>1.83</td>\n",
              "      <td>2537.45</td>\n",
              "      <td>IPS Panel Retina Display 2880</td>\n",
              "      <td>1800</td>\n",
              "      <td>IPS Panel Retina Display</td>\n",
              "      <td>2880</td>\n",
              "    </tr>\n",
              "    <tr>\n",
              "      <th>4</th>\n",
              "      <td>Apple</td>\n",
              "      <td>MacBook Pro</td>\n",
              "      <td>Ultrabook</td>\n",
              "      <td>13.3</td>\n",
              "      <td>IPS Panel Retina Display 2560x1600</td>\n",
              "      <td>Intel Core i5 3.1GHz</td>\n",
              "      <td>8</td>\n",
              "      <td>256GB SSD</td>\n",
              "      <td>Intel Iris Plus Graphics 650</td>\n",
              "      <td>macOS</td>\n",
              "      <td>1.37</td>\n",
              "      <td>1803.60</td>\n",
              "      <td>IPS Panel Retina Display 2560</td>\n",
              "      <td>1600</td>\n",
              "      <td>IPS Panel Retina Display</td>\n",
              "      <td>2560</td>\n",
              "    </tr>\n",
              "  </tbody>\n",
              "</table>\n",
              "</div>\n",
              "      <button class=\"colab-df-convert\" onclick=\"convertToInteractive('df-9db8aaf0-32d2-48e8-93ab-d13b723d2923')\"\n",
              "              title=\"Convert this dataframe to an interactive table.\"\n",
              "              style=\"display:none;\">\n",
              "        \n",
              "  <svg xmlns=\"http://www.w3.org/2000/svg\" height=\"24px\"viewBox=\"0 0 24 24\"\n",
              "       width=\"24px\">\n",
              "    <path d=\"M0 0h24v24H0V0z\" fill=\"none\"/>\n",
              "    <path d=\"M18.56 5.44l.94 2.06.94-2.06 2.06-.94-2.06-.94-.94-2.06-.94 2.06-2.06.94zm-11 1L8.5 8.5l.94-2.06 2.06-.94-2.06-.94L8.5 2.5l-.94 2.06-2.06.94zm10 10l.94 2.06.94-2.06 2.06-.94-2.06-.94-.94-2.06-.94 2.06-2.06.94z\"/><path d=\"M17.41 7.96l-1.37-1.37c-.4-.4-.92-.59-1.43-.59-.52 0-1.04.2-1.43.59L10.3 9.45l-7.72 7.72c-.78.78-.78 2.05 0 2.83L4 21.41c.39.39.9.59 1.41.59.51 0 1.02-.2 1.41-.59l7.78-7.78 2.81-2.81c.8-.78.8-2.07 0-2.86zM5.41 20L4 18.59l7.72-7.72 1.47 1.35L5.41 20z\"/>\n",
              "  </svg>\n",
              "      </button>\n",
              "      \n",
              "  <style>\n",
              "    .colab-df-container {\n",
              "      display:flex;\n",
              "      flex-wrap:wrap;\n",
              "      gap: 12px;\n",
              "    }\n",
              "\n",
              "    .colab-df-convert {\n",
              "      background-color: #E8F0FE;\n",
              "      border: none;\n",
              "      border-radius: 50%;\n",
              "      cursor: pointer;\n",
              "      display: none;\n",
              "      fill: #1967D2;\n",
              "      height: 32px;\n",
              "      padding: 0 0 0 0;\n",
              "      width: 32px;\n",
              "    }\n",
              "\n",
              "    .colab-df-convert:hover {\n",
              "      background-color: #E2EBFA;\n",
              "      box-shadow: 0px 1px 2px rgba(60, 64, 67, 0.3), 0px 1px 3px 1px rgba(60, 64, 67, 0.15);\n",
              "      fill: #174EA6;\n",
              "    }\n",
              "\n",
              "    [theme=dark] .colab-df-convert {\n",
              "      background-color: #3B4455;\n",
              "      fill: #D2E3FC;\n",
              "    }\n",
              "\n",
              "    [theme=dark] .colab-df-convert:hover {\n",
              "      background-color: #434B5C;\n",
              "      box-shadow: 0px 1px 3px 1px rgba(0, 0, 0, 0.15);\n",
              "      filter: drop-shadow(0px 1px 2px rgba(0, 0, 0, 0.3));\n",
              "      fill: #FFFFFF;\n",
              "    }\n",
              "  </style>\n",
              "\n",
              "      <script>\n",
              "        const buttonEl =\n",
              "          document.querySelector('#df-9db8aaf0-32d2-48e8-93ab-d13b723d2923 button.colab-df-convert');\n",
              "        buttonEl.style.display =\n",
              "          google.colab.kernel.accessAllowed ? 'block' : 'none';\n",
              "\n",
              "        async function convertToInteractive(key) {\n",
              "          const element = document.querySelector('#df-9db8aaf0-32d2-48e8-93ab-d13b723d2923');\n",
              "          const dataTable =\n",
              "            await google.colab.kernel.invokeFunction('convertToInteractive',\n",
              "                                                     [key], {});\n",
              "          if (!dataTable) return;\n",
              "\n",
              "          const docLinkHtml = 'Like what you see? Visit the ' +\n",
              "            '<a target=\"_blank\" href=https://colab.research.google.com/notebooks/data_table.ipynb>data table notebook</a>'\n",
              "            + ' to learn more about interactive tables.';\n",
              "          element.innerHTML = '';\n",
              "          dataTable['output_type'] = 'display_data';\n",
              "          await google.colab.output.renderOutput(dataTable, element);\n",
              "          const docLink = document.createElement('div');\n",
              "          docLink.innerHTML = docLinkHtml;\n",
              "          element.appendChild(docLink);\n",
              "        }\n",
              "      </script>\n",
              "    </div>\n",
              "  </div>\n",
              "  "
            ]
          },
          "metadata": {},
          "execution_count": 37
        }
      ]
    },
    {
      "cell_type": "code",
      "source": [
        "df.drop('Screen',axis=1,inplace=True)\n",
        "df.drop('ScreenResolution',axis=1,inplace=True)"
      ],
      "metadata": {
        "id": "lbmuYom2YuTK"
      },
      "id": "lbmuYom2YuTK",
      "execution_count": 38,
      "outputs": []
    },
    {
      "cell_type": "code",
      "source": [
        "df.info()"
      ],
      "metadata": {
        "colab": {
          "base_uri": "https://localhost:8080/"
        },
        "id": "eSmC2pGdYuVc",
        "outputId": "ce6aa6bb-ba4b-40ac-9656-c2af5e4aee6b"
      },
      "id": "eSmC2pGdYuVc",
      "execution_count": 39,
      "outputs": [
        {
          "output_type": "stream",
          "name": "stdout",
          "text": [
            "<class 'pandas.core.frame.DataFrame'>\n",
            "Int64Index: 1303 entries, 0 to 1302\n",
            "Data columns (total 14 columns):\n",
            " #   Column                   Non-Null Count  Dtype  \n",
            "---  ------                   --------------  -----  \n",
            " 0   Company                  1303 non-null   object \n",
            " 1   Product                  1303 non-null   object \n",
            " 2   TypeName                 1303 non-null   object \n",
            " 3   Inches                   1303 non-null   float64\n",
            " 4   Cpu                      1303 non-null   object \n",
            " 5   Ram                      1303 non-null   int64  \n",
            " 6   Memory                   1303 non-null   object \n",
            " 7   Gpu                      1303 non-null   object \n",
            " 8   OpSys                    1303 non-null   object \n",
            " 9   Weight                   1303 non-null   float64\n",
            " 10  Price_euros              1303 non-null   float64\n",
            " 11  Screen_Resoluton_Height  1303 non-null   int64  \n",
            " 12  Screen_Display           1303 non-null   object \n",
            " 13  Screen_Resoluton_Width   1303 non-null   int64  \n",
            "dtypes: float64(3), int64(3), object(8)\n",
            "memory usage: 152.7+ KB\n"
          ]
        }
      ]
    },
    {
      "cell_type": "code",
      "source": [
        ""
      ],
      "metadata": {
        "id": "OUWFITh-YuXt"
      },
      "id": "OUWFITh-YuXt",
      "execution_count": 39,
      "outputs": []
    },
    {
      "cell_type": "markdown",
      "source": [
        "We have split **ScreenResolution** column into three columns\n",
        "\n",
        "Screen_Resoluton_Height \n",
        "\n",
        "Screen_Display\n",
        "\n",
        "Screen_Resoluton_Width   \n",
        "  "
      ],
      "metadata": {
        "id": "qdfRiRzGtSuJ"
      },
      "id": "qdfRiRzGtSuJ"
    },
    {
      "cell_type": "markdown",
      "source": [
        "#Handleing \"Cpu\" Column"
      ],
      "metadata": {
        "id": "JbpishHitNNe"
      },
      "id": "JbpishHitNNe"
    },
    {
      "cell_type": "code",
      "source": [
        "df['Cpu'].head(100)"
      ],
      "metadata": {
        "colab": {
          "base_uri": "https://localhost:8080/"
        },
        "id": "Bvqe_x7-tMat",
        "outputId": "8267ea27-dd4d-4463-e05d-b44b1e7cefe0"
      },
      "id": "Bvqe_x7-tMat",
      "execution_count": 40,
      "outputs": [
        {
          "output_type": "execute_result",
          "data": {
            "text/plain": [
              "0            Intel Core i5 2.3GHz\n",
              "1            Intel Core i5 1.8GHz\n",
              "2      Intel Core i5 7200U 2.5GHz\n",
              "3            Intel Core i7 2.7GHz\n",
              "4            Intel Core i5 3.1GHz\n",
              "                 ...             \n",
              "95     Intel Core i5 8250U 1.6GHz\n",
              "96     Intel Core i7 7500U 2.7GHz\n",
              "97       Intel Core i3 6006U 2GHz\n",
              "98     Intel Core i3 7100U 2.4GHz\n",
              "99    Intel Core i7 7700HQ 2.8GHz\n",
              "Name: Cpu, Length: 100, dtype: object"
            ]
          },
          "metadata": {},
          "execution_count": 40
        }
      ]
    },
    {
      "cell_type": "code",
      "source": [
        "df[['Cpu_Core','Cpu_Processor_Speed_GHz']] = df['Cpu'].str.rsplit(\" \", n=1, expand=True)"
      ],
      "metadata": {
        "id": "WmhrQtiXRzMY"
      },
      "id": "WmhrQtiXRzMY",
      "execution_count": 41,
      "outputs": []
    },
    {
      "cell_type": "code",
      "source": [
        "df.info()"
      ],
      "metadata": {
        "colab": {
          "base_uri": "https://localhost:8080/"
        },
        "id": "VQWbXTs7SQ7H",
        "outputId": "b7c56268-5e53-4644-dd2b-95288593b87b"
      },
      "id": "VQWbXTs7SQ7H",
      "execution_count": 42,
      "outputs": [
        {
          "output_type": "stream",
          "name": "stdout",
          "text": [
            "<class 'pandas.core.frame.DataFrame'>\n",
            "Int64Index: 1303 entries, 0 to 1302\n",
            "Data columns (total 16 columns):\n",
            " #   Column                   Non-Null Count  Dtype  \n",
            "---  ------                   --------------  -----  \n",
            " 0   Company                  1303 non-null   object \n",
            " 1   Product                  1303 non-null   object \n",
            " 2   TypeName                 1303 non-null   object \n",
            " 3   Inches                   1303 non-null   float64\n",
            " 4   Cpu                      1303 non-null   object \n",
            " 5   Ram                      1303 non-null   int64  \n",
            " 6   Memory                   1303 non-null   object \n",
            " 7   Gpu                      1303 non-null   object \n",
            " 8   OpSys                    1303 non-null   object \n",
            " 9   Weight                   1303 non-null   float64\n",
            " 10  Price_euros              1303 non-null   float64\n",
            " 11  Screen_Resoluton_Height  1303 non-null   int64  \n",
            " 12  Screen_Display           1303 non-null   object \n",
            " 13  Screen_Resoluton_Width   1303 non-null   int64  \n",
            " 14  Cpu_Core                 1303 non-null   object \n",
            " 15  Cpu_Processor_Speed_GHz  1303 non-null   object \n",
            "dtypes: float64(3), int64(3), object(10)\n",
            "memory usage: 173.1+ KB\n"
          ]
        }
      ]
    },
    {
      "cell_type": "code",
      "source": [
        "df.drop('Cpu',axis=1,inplace=True)"
      ],
      "metadata": {
        "id": "JXKKth3fTbA2"
      },
      "id": "JXKKth3fTbA2",
      "execution_count": 43,
      "outputs": []
    },
    {
      "cell_type": "code",
      "source": [
        "df.head()"
      ],
      "metadata": {
        "colab": {
          "base_uri": "https://localhost:8080/",
          "height": 478
        },
        "id": "pqVD_NsQTT5R",
        "outputId": "5b868c52-7a1a-49ed-c713-e159c0786c4f"
      },
      "id": "pqVD_NsQTT5R",
      "execution_count": 44,
      "outputs": [
        {
          "output_type": "execute_result",
          "data": {
            "text/plain": [
              "  Company      Product   TypeName  Inches  Ram               Memory  \\\n",
              "0   Apple  MacBook Pro  Ultrabook    13.3    8            128GB SSD   \n",
              "1   Apple  Macbook Air  Ultrabook    13.3    8  128GB Flash Storage   \n",
              "2      HP       250 G6   Notebook    15.6    8            256GB SSD   \n",
              "3   Apple  MacBook Pro  Ultrabook    15.4   16            512GB SSD   \n",
              "4   Apple  MacBook Pro  Ultrabook    13.3    8            256GB SSD   \n",
              "\n",
              "                            Gpu  OpSys  Weight  Price_euros  \\\n",
              "0  Intel Iris Plus Graphics 640  macOS    1.37      1339.69   \n",
              "1        Intel HD Graphics 6000  macOS    1.34       898.94   \n",
              "2         Intel HD Graphics 620  No OS    1.86       575.00   \n",
              "3            AMD Radeon Pro 455  macOS    1.83      2537.45   \n",
              "4  Intel Iris Plus Graphics 650  macOS    1.37      1803.60   \n",
              "\n",
              "   Screen_Resoluton_Height             Screen_Display  Screen_Resoluton_Width  \\\n",
              "0                     1600  IPS Panel Retina Display                     2560   \n",
              "1                      900                                               1440   \n",
              "2                     1080                   Full HD                     1920   \n",
              "3                     1800  IPS Panel Retina Display                     2880   \n",
              "4                     1600  IPS Panel Retina Display                     2560   \n",
              "\n",
              "              Cpu_Core Cpu_Processor_Speed_GHz  \n",
              "0        Intel Core i5                  2.3GHz  \n",
              "1        Intel Core i5                  1.8GHz  \n",
              "2  Intel Core i5 7200U                  2.5GHz  \n",
              "3        Intel Core i7                  2.7GHz  \n",
              "4        Intel Core i5                  3.1GHz  "
            ],
            "text/html": [
              "\n",
              "  <div id=\"df-9fd9840c-3767-4a75-8066-09785b4f7890\">\n",
              "    <div class=\"colab-df-container\">\n",
              "      <div>\n",
              "<style scoped>\n",
              "    .dataframe tbody tr th:only-of-type {\n",
              "        vertical-align: middle;\n",
              "    }\n",
              "\n",
              "    .dataframe tbody tr th {\n",
              "        vertical-align: top;\n",
              "    }\n",
              "\n",
              "    .dataframe thead th {\n",
              "        text-align: right;\n",
              "    }\n",
              "</style>\n",
              "<table border=\"1\" class=\"dataframe\">\n",
              "  <thead>\n",
              "    <tr style=\"text-align: right;\">\n",
              "      <th></th>\n",
              "      <th>Company</th>\n",
              "      <th>Product</th>\n",
              "      <th>TypeName</th>\n",
              "      <th>Inches</th>\n",
              "      <th>Ram</th>\n",
              "      <th>Memory</th>\n",
              "      <th>Gpu</th>\n",
              "      <th>OpSys</th>\n",
              "      <th>Weight</th>\n",
              "      <th>Price_euros</th>\n",
              "      <th>Screen_Resoluton_Height</th>\n",
              "      <th>Screen_Display</th>\n",
              "      <th>Screen_Resoluton_Width</th>\n",
              "      <th>Cpu_Core</th>\n",
              "      <th>Cpu_Processor_Speed_GHz</th>\n",
              "    </tr>\n",
              "  </thead>\n",
              "  <tbody>\n",
              "    <tr>\n",
              "      <th>0</th>\n",
              "      <td>Apple</td>\n",
              "      <td>MacBook Pro</td>\n",
              "      <td>Ultrabook</td>\n",
              "      <td>13.3</td>\n",
              "      <td>8</td>\n",
              "      <td>128GB SSD</td>\n",
              "      <td>Intel Iris Plus Graphics 640</td>\n",
              "      <td>macOS</td>\n",
              "      <td>1.37</td>\n",
              "      <td>1339.69</td>\n",
              "      <td>1600</td>\n",
              "      <td>IPS Panel Retina Display</td>\n",
              "      <td>2560</td>\n",
              "      <td>Intel Core i5</td>\n",
              "      <td>2.3GHz</td>\n",
              "    </tr>\n",
              "    <tr>\n",
              "      <th>1</th>\n",
              "      <td>Apple</td>\n",
              "      <td>Macbook Air</td>\n",
              "      <td>Ultrabook</td>\n",
              "      <td>13.3</td>\n",
              "      <td>8</td>\n",
              "      <td>128GB Flash Storage</td>\n",
              "      <td>Intel HD Graphics 6000</td>\n",
              "      <td>macOS</td>\n",
              "      <td>1.34</td>\n",
              "      <td>898.94</td>\n",
              "      <td>900</td>\n",
              "      <td></td>\n",
              "      <td>1440</td>\n",
              "      <td>Intel Core i5</td>\n",
              "      <td>1.8GHz</td>\n",
              "    </tr>\n",
              "    <tr>\n",
              "      <th>2</th>\n",
              "      <td>HP</td>\n",
              "      <td>250 G6</td>\n",
              "      <td>Notebook</td>\n",
              "      <td>15.6</td>\n",
              "      <td>8</td>\n",
              "      <td>256GB SSD</td>\n",
              "      <td>Intel HD Graphics 620</td>\n",
              "      <td>No OS</td>\n",
              "      <td>1.86</td>\n",
              "      <td>575.00</td>\n",
              "      <td>1080</td>\n",
              "      <td>Full HD</td>\n",
              "      <td>1920</td>\n",
              "      <td>Intel Core i5 7200U</td>\n",
              "      <td>2.5GHz</td>\n",
              "    </tr>\n",
              "    <tr>\n",
              "      <th>3</th>\n",
              "      <td>Apple</td>\n",
              "      <td>MacBook Pro</td>\n",
              "      <td>Ultrabook</td>\n",
              "      <td>15.4</td>\n",
              "      <td>16</td>\n",
              "      <td>512GB SSD</td>\n",
              "      <td>AMD Radeon Pro 455</td>\n",
              "      <td>macOS</td>\n",
              "      <td>1.83</td>\n",
              "      <td>2537.45</td>\n",
              "      <td>1800</td>\n",
              "      <td>IPS Panel Retina Display</td>\n",
              "      <td>2880</td>\n",
              "      <td>Intel Core i7</td>\n",
              "      <td>2.7GHz</td>\n",
              "    </tr>\n",
              "    <tr>\n",
              "      <th>4</th>\n",
              "      <td>Apple</td>\n",
              "      <td>MacBook Pro</td>\n",
              "      <td>Ultrabook</td>\n",
              "      <td>13.3</td>\n",
              "      <td>8</td>\n",
              "      <td>256GB SSD</td>\n",
              "      <td>Intel Iris Plus Graphics 650</td>\n",
              "      <td>macOS</td>\n",
              "      <td>1.37</td>\n",
              "      <td>1803.60</td>\n",
              "      <td>1600</td>\n",
              "      <td>IPS Panel Retina Display</td>\n",
              "      <td>2560</td>\n",
              "      <td>Intel Core i5</td>\n",
              "      <td>3.1GHz</td>\n",
              "    </tr>\n",
              "  </tbody>\n",
              "</table>\n",
              "</div>\n",
              "      <button class=\"colab-df-convert\" onclick=\"convertToInteractive('df-9fd9840c-3767-4a75-8066-09785b4f7890')\"\n",
              "              title=\"Convert this dataframe to an interactive table.\"\n",
              "              style=\"display:none;\">\n",
              "        \n",
              "  <svg xmlns=\"http://www.w3.org/2000/svg\" height=\"24px\"viewBox=\"0 0 24 24\"\n",
              "       width=\"24px\">\n",
              "    <path d=\"M0 0h24v24H0V0z\" fill=\"none\"/>\n",
              "    <path d=\"M18.56 5.44l.94 2.06.94-2.06 2.06-.94-2.06-.94-.94-2.06-.94 2.06-2.06.94zm-11 1L8.5 8.5l.94-2.06 2.06-.94-2.06-.94L8.5 2.5l-.94 2.06-2.06.94zm10 10l.94 2.06.94-2.06 2.06-.94-2.06-.94-.94-2.06-.94 2.06-2.06.94z\"/><path d=\"M17.41 7.96l-1.37-1.37c-.4-.4-.92-.59-1.43-.59-.52 0-1.04.2-1.43.59L10.3 9.45l-7.72 7.72c-.78.78-.78 2.05 0 2.83L4 21.41c.39.39.9.59 1.41.59.51 0 1.02-.2 1.41-.59l7.78-7.78 2.81-2.81c.8-.78.8-2.07 0-2.86zM5.41 20L4 18.59l7.72-7.72 1.47 1.35L5.41 20z\"/>\n",
              "  </svg>\n",
              "      </button>\n",
              "      \n",
              "  <style>\n",
              "    .colab-df-container {\n",
              "      display:flex;\n",
              "      flex-wrap:wrap;\n",
              "      gap: 12px;\n",
              "    }\n",
              "\n",
              "    .colab-df-convert {\n",
              "      background-color: #E8F0FE;\n",
              "      border: none;\n",
              "      border-radius: 50%;\n",
              "      cursor: pointer;\n",
              "      display: none;\n",
              "      fill: #1967D2;\n",
              "      height: 32px;\n",
              "      padding: 0 0 0 0;\n",
              "      width: 32px;\n",
              "    }\n",
              "\n",
              "    .colab-df-convert:hover {\n",
              "      background-color: #E2EBFA;\n",
              "      box-shadow: 0px 1px 2px rgba(60, 64, 67, 0.3), 0px 1px 3px 1px rgba(60, 64, 67, 0.15);\n",
              "      fill: #174EA6;\n",
              "    }\n",
              "\n",
              "    [theme=dark] .colab-df-convert {\n",
              "      background-color: #3B4455;\n",
              "      fill: #D2E3FC;\n",
              "    }\n",
              "\n",
              "    [theme=dark] .colab-df-convert:hover {\n",
              "      background-color: #434B5C;\n",
              "      box-shadow: 0px 1px 3px 1px rgba(0, 0, 0, 0.15);\n",
              "      filter: drop-shadow(0px 1px 2px rgba(0, 0, 0, 0.3));\n",
              "      fill: #FFFFFF;\n",
              "    }\n",
              "  </style>\n",
              "\n",
              "      <script>\n",
              "        const buttonEl =\n",
              "          document.querySelector('#df-9fd9840c-3767-4a75-8066-09785b4f7890 button.colab-df-convert');\n",
              "        buttonEl.style.display =\n",
              "          google.colab.kernel.accessAllowed ? 'block' : 'none';\n",
              "\n",
              "        async function convertToInteractive(key) {\n",
              "          const element = document.querySelector('#df-9fd9840c-3767-4a75-8066-09785b4f7890');\n",
              "          const dataTable =\n",
              "            await google.colab.kernel.invokeFunction('convertToInteractive',\n",
              "                                                     [key], {});\n",
              "          if (!dataTable) return;\n",
              "\n",
              "          const docLinkHtml = 'Like what you see? Visit the ' +\n",
              "            '<a target=\"_blank\" href=https://colab.research.google.com/notebooks/data_table.ipynb>data table notebook</a>'\n",
              "            + ' to learn more about interactive tables.';\n",
              "          element.innerHTML = '';\n",
              "          dataTable['output_type'] = 'display_data';\n",
              "          await google.colab.output.renderOutput(dataTable, element);\n",
              "          const docLink = document.createElement('div');\n",
              "          docLink.innerHTML = docLinkHtml;\n",
              "          element.appendChild(docLink);\n",
              "        }\n",
              "      </script>\n",
              "    </div>\n",
              "  </div>\n",
              "  "
            ]
          },
          "metadata": {},
          "execution_count": 44
        }
      ]
    },
    {
      "cell_type": "code",
      "source": [
        "df[\"Cpu_Processor_Speed_GHz\"] = df[\"Cpu_Processor_Speed_GHz\"].str.replace(\"GHz\",\"\")\n",
        "df[\"Cpu_Processor_Speed_GHz\"] = pd.to_numeric(df[\"Cpu_Processor_Speed_GHz\"])"
      ],
      "metadata": {
        "id": "eqeRJOcSTjsr"
      },
      "id": "eqeRJOcSTjsr",
      "execution_count": 45,
      "outputs": []
    },
    {
      "cell_type": "code",
      "source": [
        "df.info()"
      ],
      "metadata": {
        "colab": {
          "base_uri": "https://localhost:8080/"
        },
        "id": "cXibb0zTTT7y",
        "outputId": "a57b8b82-42b7-4ef8-e2a9-0ade94eae37b"
      },
      "id": "cXibb0zTTT7y",
      "execution_count": 46,
      "outputs": [
        {
          "output_type": "stream",
          "name": "stdout",
          "text": [
            "<class 'pandas.core.frame.DataFrame'>\n",
            "Int64Index: 1303 entries, 0 to 1302\n",
            "Data columns (total 15 columns):\n",
            " #   Column                   Non-Null Count  Dtype  \n",
            "---  ------                   --------------  -----  \n",
            " 0   Company                  1303 non-null   object \n",
            " 1   Product                  1303 non-null   object \n",
            " 2   TypeName                 1303 non-null   object \n",
            " 3   Inches                   1303 non-null   float64\n",
            " 4   Ram                      1303 non-null   int64  \n",
            " 5   Memory                   1303 non-null   object \n",
            " 6   Gpu                      1303 non-null   object \n",
            " 7   OpSys                    1303 non-null   object \n",
            " 8   Weight                   1303 non-null   float64\n",
            " 9   Price_euros              1303 non-null   float64\n",
            " 10  Screen_Resoluton_Height  1303 non-null   int64  \n",
            " 11  Screen_Display           1303 non-null   object \n",
            " 12  Screen_Resoluton_Width   1303 non-null   int64  \n",
            " 13  Cpu_Core                 1303 non-null   object \n",
            " 14  Cpu_Processor_Speed_GHz  1303 non-null   float64\n",
            "dtypes: float64(4), int64(3), object(8)\n",
            "memory usage: 162.9+ KB\n"
          ]
        }
      ]
    },
    {
      "cell_type": "code",
      "source": [
        "df.head()"
      ],
      "metadata": {
        "colab": {
          "base_uri": "https://localhost:8080/",
          "height": 478
        },
        "id": "Wi17gFtdTUAM",
        "outputId": "7227f70a-d049-44fc-fb73-a60a0240ab93"
      },
      "id": "Wi17gFtdTUAM",
      "execution_count": 47,
      "outputs": [
        {
          "output_type": "execute_result",
          "data": {
            "text/plain": [
              "  Company      Product   TypeName  Inches  Ram               Memory  \\\n",
              "0   Apple  MacBook Pro  Ultrabook    13.3    8            128GB SSD   \n",
              "1   Apple  Macbook Air  Ultrabook    13.3    8  128GB Flash Storage   \n",
              "2      HP       250 G6   Notebook    15.6    8            256GB SSD   \n",
              "3   Apple  MacBook Pro  Ultrabook    15.4   16            512GB SSD   \n",
              "4   Apple  MacBook Pro  Ultrabook    13.3    8            256GB SSD   \n",
              "\n",
              "                            Gpu  OpSys  Weight  Price_euros  \\\n",
              "0  Intel Iris Plus Graphics 640  macOS    1.37      1339.69   \n",
              "1        Intel HD Graphics 6000  macOS    1.34       898.94   \n",
              "2         Intel HD Graphics 620  No OS    1.86       575.00   \n",
              "3            AMD Radeon Pro 455  macOS    1.83      2537.45   \n",
              "4  Intel Iris Plus Graphics 650  macOS    1.37      1803.60   \n",
              "\n",
              "   Screen_Resoluton_Height             Screen_Display  Screen_Resoluton_Width  \\\n",
              "0                     1600  IPS Panel Retina Display                     2560   \n",
              "1                      900                                               1440   \n",
              "2                     1080                   Full HD                     1920   \n",
              "3                     1800  IPS Panel Retina Display                     2880   \n",
              "4                     1600  IPS Panel Retina Display                     2560   \n",
              "\n",
              "              Cpu_Core  Cpu_Processor_Speed_GHz  \n",
              "0        Intel Core i5                      2.3  \n",
              "1        Intel Core i5                      1.8  \n",
              "2  Intel Core i5 7200U                      2.5  \n",
              "3        Intel Core i7                      2.7  \n",
              "4        Intel Core i5                      3.1  "
            ],
            "text/html": [
              "\n",
              "  <div id=\"df-2f1784f6-b9a4-470e-a5d1-6895d057223e\">\n",
              "    <div class=\"colab-df-container\">\n",
              "      <div>\n",
              "<style scoped>\n",
              "    .dataframe tbody tr th:only-of-type {\n",
              "        vertical-align: middle;\n",
              "    }\n",
              "\n",
              "    .dataframe tbody tr th {\n",
              "        vertical-align: top;\n",
              "    }\n",
              "\n",
              "    .dataframe thead th {\n",
              "        text-align: right;\n",
              "    }\n",
              "</style>\n",
              "<table border=\"1\" class=\"dataframe\">\n",
              "  <thead>\n",
              "    <tr style=\"text-align: right;\">\n",
              "      <th></th>\n",
              "      <th>Company</th>\n",
              "      <th>Product</th>\n",
              "      <th>TypeName</th>\n",
              "      <th>Inches</th>\n",
              "      <th>Ram</th>\n",
              "      <th>Memory</th>\n",
              "      <th>Gpu</th>\n",
              "      <th>OpSys</th>\n",
              "      <th>Weight</th>\n",
              "      <th>Price_euros</th>\n",
              "      <th>Screen_Resoluton_Height</th>\n",
              "      <th>Screen_Display</th>\n",
              "      <th>Screen_Resoluton_Width</th>\n",
              "      <th>Cpu_Core</th>\n",
              "      <th>Cpu_Processor_Speed_GHz</th>\n",
              "    </tr>\n",
              "  </thead>\n",
              "  <tbody>\n",
              "    <tr>\n",
              "      <th>0</th>\n",
              "      <td>Apple</td>\n",
              "      <td>MacBook Pro</td>\n",
              "      <td>Ultrabook</td>\n",
              "      <td>13.3</td>\n",
              "      <td>8</td>\n",
              "      <td>128GB SSD</td>\n",
              "      <td>Intel Iris Plus Graphics 640</td>\n",
              "      <td>macOS</td>\n",
              "      <td>1.37</td>\n",
              "      <td>1339.69</td>\n",
              "      <td>1600</td>\n",
              "      <td>IPS Panel Retina Display</td>\n",
              "      <td>2560</td>\n",
              "      <td>Intel Core i5</td>\n",
              "      <td>2.3</td>\n",
              "    </tr>\n",
              "    <tr>\n",
              "      <th>1</th>\n",
              "      <td>Apple</td>\n",
              "      <td>Macbook Air</td>\n",
              "      <td>Ultrabook</td>\n",
              "      <td>13.3</td>\n",
              "      <td>8</td>\n",
              "      <td>128GB Flash Storage</td>\n",
              "      <td>Intel HD Graphics 6000</td>\n",
              "      <td>macOS</td>\n",
              "      <td>1.34</td>\n",
              "      <td>898.94</td>\n",
              "      <td>900</td>\n",
              "      <td></td>\n",
              "      <td>1440</td>\n",
              "      <td>Intel Core i5</td>\n",
              "      <td>1.8</td>\n",
              "    </tr>\n",
              "    <tr>\n",
              "      <th>2</th>\n",
              "      <td>HP</td>\n",
              "      <td>250 G6</td>\n",
              "      <td>Notebook</td>\n",
              "      <td>15.6</td>\n",
              "      <td>8</td>\n",
              "      <td>256GB SSD</td>\n",
              "      <td>Intel HD Graphics 620</td>\n",
              "      <td>No OS</td>\n",
              "      <td>1.86</td>\n",
              "      <td>575.00</td>\n",
              "      <td>1080</td>\n",
              "      <td>Full HD</td>\n",
              "      <td>1920</td>\n",
              "      <td>Intel Core i5 7200U</td>\n",
              "      <td>2.5</td>\n",
              "    </tr>\n",
              "    <tr>\n",
              "      <th>3</th>\n",
              "      <td>Apple</td>\n",
              "      <td>MacBook Pro</td>\n",
              "      <td>Ultrabook</td>\n",
              "      <td>15.4</td>\n",
              "      <td>16</td>\n",
              "      <td>512GB SSD</td>\n",
              "      <td>AMD Radeon Pro 455</td>\n",
              "      <td>macOS</td>\n",
              "      <td>1.83</td>\n",
              "      <td>2537.45</td>\n",
              "      <td>1800</td>\n",
              "      <td>IPS Panel Retina Display</td>\n",
              "      <td>2880</td>\n",
              "      <td>Intel Core i7</td>\n",
              "      <td>2.7</td>\n",
              "    </tr>\n",
              "    <tr>\n",
              "      <th>4</th>\n",
              "      <td>Apple</td>\n",
              "      <td>MacBook Pro</td>\n",
              "      <td>Ultrabook</td>\n",
              "      <td>13.3</td>\n",
              "      <td>8</td>\n",
              "      <td>256GB SSD</td>\n",
              "      <td>Intel Iris Plus Graphics 650</td>\n",
              "      <td>macOS</td>\n",
              "      <td>1.37</td>\n",
              "      <td>1803.60</td>\n",
              "      <td>1600</td>\n",
              "      <td>IPS Panel Retina Display</td>\n",
              "      <td>2560</td>\n",
              "      <td>Intel Core i5</td>\n",
              "      <td>3.1</td>\n",
              "    </tr>\n",
              "  </tbody>\n",
              "</table>\n",
              "</div>\n",
              "      <button class=\"colab-df-convert\" onclick=\"convertToInteractive('df-2f1784f6-b9a4-470e-a5d1-6895d057223e')\"\n",
              "              title=\"Convert this dataframe to an interactive table.\"\n",
              "              style=\"display:none;\">\n",
              "        \n",
              "  <svg xmlns=\"http://www.w3.org/2000/svg\" height=\"24px\"viewBox=\"0 0 24 24\"\n",
              "       width=\"24px\">\n",
              "    <path d=\"M0 0h24v24H0V0z\" fill=\"none\"/>\n",
              "    <path d=\"M18.56 5.44l.94 2.06.94-2.06 2.06-.94-2.06-.94-.94-2.06-.94 2.06-2.06.94zm-11 1L8.5 8.5l.94-2.06 2.06-.94-2.06-.94L8.5 2.5l-.94 2.06-2.06.94zm10 10l.94 2.06.94-2.06 2.06-.94-2.06-.94-.94-2.06-.94 2.06-2.06.94z\"/><path d=\"M17.41 7.96l-1.37-1.37c-.4-.4-.92-.59-1.43-.59-.52 0-1.04.2-1.43.59L10.3 9.45l-7.72 7.72c-.78.78-.78 2.05 0 2.83L4 21.41c.39.39.9.59 1.41.59.51 0 1.02-.2 1.41-.59l7.78-7.78 2.81-2.81c.8-.78.8-2.07 0-2.86zM5.41 20L4 18.59l7.72-7.72 1.47 1.35L5.41 20z\"/>\n",
              "  </svg>\n",
              "      </button>\n",
              "      \n",
              "  <style>\n",
              "    .colab-df-container {\n",
              "      display:flex;\n",
              "      flex-wrap:wrap;\n",
              "      gap: 12px;\n",
              "    }\n",
              "\n",
              "    .colab-df-convert {\n",
              "      background-color: #E8F0FE;\n",
              "      border: none;\n",
              "      border-radius: 50%;\n",
              "      cursor: pointer;\n",
              "      display: none;\n",
              "      fill: #1967D2;\n",
              "      height: 32px;\n",
              "      padding: 0 0 0 0;\n",
              "      width: 32px;\n",
              "    }\n",
              "\n",
              "    .colab-df-convert:hover {\n",
              "      background-color: #E2EBFA;\n",
              "      box-shadow: 0px 1px 2px rgba(60, 64, 67, 0.3), 0px 1px 3px 1px rgba(60, 64, 67, 0.15);\n",
              "      fill: #174EA6;\n",
              "    }\n",
              "\n",
              "    [theme=dark] .colab-df-convert {\n",
              "      background-color: #3B4455;\n",
              "      fill: #D2E3FC;\n",
              "    }\n",
              "\n",
              "    [theme=dark] .colab-df-convert:hover {\n",
              "      background-color: #434B5C;\n",
              "      box-shadow: 0px 1px 3px 1px rgba(0, 0, 0, 0.15);\n",
              "      filter: drop-shadow(0px 1px 2px rgba(0, 0, 0, 0.3));\n",
              "      fill: #FFFFFF;\n",
              "    }\n",
              "  </style>\n",
              "\n",
              "      <script>\n",
              "        const buttonEl =\n",
              "          document.querySelector('#df-2f1784f6-b9a4-470e-a5d1-6895d057223e button.colab-df-convert');\n",
              "        buttonEl.style.display =\n",
              "          google.colab.kernel.accessAllowed ? 'block' : 'none';\n",
              "\n",
              "        async function convertToInteractive(key) {\n",
              "          const element = document.querySelector('#df-2f1784f6-b9a4-470e-a5d1-6895d057223e');\n",
              "          const dataTable =\n",
              "            await google.colab.kernel.invokeFunction('convertToInteractive',\n",
              "                                                     [key], {});\n",
              "          if (!dataTable) return;\n",
              "\n",
              "          const docLinkHtml = 'Like what you see? Visit the ' +\n",
              "            '<a target=\"_blank\" href=https://colab.research.google.com/notebooks/data_table.ipynb>data table notebook</a>'\n",
              "            + ' to learn more about interactive tables.';\n",
              "          element.innerHTML = '';\n",
              "          dataTable['output_type'] = 'display_data';\n",
              "          await google.colab.output.renderOutput(dataTable, element);\n",
              "          const docLink = document.createElement('div');\n",
              "          docLink.innerHTML = docLinkHtml;\n",
              "          element.appendChild(docLink);\n",
              "        }\n",
              "      </script>\n",
              "    </div>\n",
              "  </div>\n",
              "  "
            ]
          },
          "metadata": {},
          "execution_count": 47
        }
      ]
    },
    {
      "cell_type": "code",
      "source": [
        ""
      ],
      "metadata": {
        "id": "tCiKNLhpUWTM"
      },
      "id": "tCiKNLhpUWTM",
      "execution_count": 47,
      "outputs": []
    },
    {
      "cell_type": "markdown",
      "source": [
        "#Memory column Handeling"
      ],
      "metadata": {
        "id": "haev5oR4Wv53"
      },
      "id": "haev5oR4Wv53"
    },
    {
      "cell_type": "code",
      "source": [
        "df['Memory']"
      ],
      "metadata": {
        "colab": {
          "base_uri": "https://localhost:8080/"
        },
        "id": "JOwmDOhCXQ0v",
        "outputId": "e47a14df-a37b-4682-e527-1c0e144eef5f"
      },
      "id": "JOwmDOhCXQ0v",
      "execution_count": 48,
      "outputs": [
        {
          "output_type": "execute_result",
          "data": {
            "text/plain": [
              "0                 128GB SSD\n",
              "1       128GB Flash Storage\n",
              "2                 256GB SSD\n",
              "3                 512GB SSD\n",
              "4                 256GB SSD\n",
              "               ...         \n",
              "1298              128GB SSD\n",
              "1299              512GB SSD\n",
              "1300     64GB Flash Storage\n",
              "1301                1TB HDD\n",
              "1302              500GB HDD\n",
              "Name: Memory, Length: 1303, dtype: object"
            ]
          },
          "metadata": {},
          "execution_count": 48
        }
      ]
    },
    {
      "cell_type": "code",
      "source": [
        "df[['Memory(storage_amount)','Memory(storage_device)']] = df['Memory'].str.split(\" \", n=1, expand=True)"
      ],
      "metadata": {
        "id": "HzrmUYv-Xgum"
      },
      "id": "HzrmUYv-Xgum",
      "execution_count": 49,
      "outputs": []
    },
    {
      "cell_type": "code",
      "source": [
        "df.info()"
      ],
      "metadata": {
        "colab": {
          "base_uri": "https://localhost:8080/"
        },
        "id": "9KlPUTmHUWYk",
        "outputId": "a73a60fb-be95-44b9-9513-539d4d37c74d"
      },
      "id": "9KlPUTmHUWYk",
      "execution_count": 50,
      "outputs": [
        {
          "output_type": "stream",
          "name": "stdout",
          "text": [
            "<class 'pandas.core.frame.DataFrame'>\n",
            "Int64Index: 1303 entries, 0 to 1302\n",
            "Data columns (total 17 columns):\n",
            " #   Column                   Non-Null Count  Dtype  \n",
            "---  ------                   --------------  -----  \n",
            " 0   Company                  1303 non-null   object \n",
            " 1   Product                  1303 non-null   object \n",
            " 2   TypeName                 1303 non-null   object \n",
            " 3   Inches                   1303 non-null   float64\n",
            " 4   Ram                      1303 non-null   int64  \n",
            " 5   Memory                   1303 non-null   object \n",
            " 6   Gpu                      1303 non-null   object \n",
            " 7   OpSys                    1303 non-null   object \n",
            " 8   Weight                   1303 non-null   float64\n",
            " 9   Price_euros              1303 non-null   float64\n",
            " 10  Screen_Resoluton_Height  1303 non-null   int64  \n",
            " 11  Screen_Display           1303 non-null   object \n",
            " 12  Screen_Resoluton_Width   1303 non-null   int64  \n",
            " 13  Cpu_Core                 1303 non-null   object \n",
            " 14  Cpu_Processor_Speed_GHz  1303 non-null   float64\n",
            " 15  Memory(storage_amount)   1303 non-null   object \n",
            " 16  Memory(storage_device)   1303 non-null   object \n",
            "dtypes: float64(4), int64(3), object(10)\n",
            "memory usage: 183.2+ KB\n"
          ]
        }
      ]
    },
    {
      "cell_type": "code",
      "source": [
        "df.head()"
      ],
      "metadata": {
        "colab": {
          "base_uri": "https://localhost:8080/",
          "height": 478
        },
        "id": "Kke2Amc9UWbg",
        "outputId": "ee681784-40cf-4500-dd46-9784ef9b40da"
      },
      "id": "Kke2Amc9UWbg",
      "execution_count": 51,
      "outputs": [
        {
          "output_type": "execute_result",
          "data": {
            "text/plain": [
              "  Company      Product   TypeName  Inches  Ram               Memory  \\\n",
              "0   Apple  MacBook Pro  Ultrabook    13.3    8            128GB SSD   \n",
              "1   Apple  Macbook Air  Ultrabook    13.3    8  128GB Flash Storage   \n",
              "2      HP       250 G6   Notebook    15.6    8            256GB SSD   \n",
              "3   Apple  MacBook Pro  Ultrabook    15.4   16            512GB SSD   \n",
              "4   Apple  MacBook Pro  Ultrabook    13.3    8            256GB SSD   \n",
              "\n",
              "                            Gpu  OpSys  Weight  Price_euros  \\\n",
              "0  Intel Iris Plus Graphics 640  macOS    1.37      1339.69   \n",
              "1        Intel HD Graphics 6000  macOS    1.34       898.94   \n",
              "2         Intel HD Graphics 620  No OS    1.86       575.00   \n",
              "3            AMD Radeon Pro 455  macOS    1.83      2537.45   \n",
              "4  Intel Iris Plus Graphics 650  macOS    1.37      1803.60   \n",
              "\n",
              "   Screen_Resoluton_Height             Screen_Display  Screen_Resoluton_Width  \\\n",
              "0                     1600  IPS Panel Retina Display                     2560   \n",
              "1                      900                                               1440   \n",
              "2                     1080                   Full HD                     1920   \n",
              "3                     1800  IPS Panel Retina Display                     2880   \n",
              "4                     1600  IPS Panel Retina Display                     2560   \n",
              "\n",
              "              Cpu_Core  Cpu_Processor_Speed_GHz Memory(storage_amount)  \\\n",
              "0        Intel Core i5                      2.3                  128GB   \n",
              "1        Intel Core i5                      1.8                  128GB   \n",
              "2  Intel Core i5 7200U                      2.5                  256GB   \n",
              "3        Intel Core i7                      2.7                  512GB   \n",
              "4        Intel Core i5                      3.1                  256GB   \n",
              "\n",
              "  Memory(storage_device)  \n",
              "0                    SSD  \n",
              "1          Flash Storage  \n",
              "2                    SSD  \n",
              "3                    SSD  \n",
              "4                    SSD  "
            ],
            "text/html": [
              "\n",
              "  <div id=\"df-c0cb20e7-e49a-457b-a453-92c54ee22ab6\">\n",
              "    <div class=\"colab-df-container\">\n",
              "      <div>\n",
              "<style scoped>\n",
              "    .dataframe tbody tr th:only-of-type {\n",
              "        vertical-align: middle;\n",
              "    }\n",
              "\n",
              "    .dataframe tbody tr th {\n",
              "        vertical-align: top;\n",
              "    }\n",
              "\n",
              "    .dataframe thead th {\n",
              "        text-align: right;\n",
              "    }\n",
              "</style>\n",
              "<table border=\"1\" class=\"dataframe\">\n",
              "  <thead>\n",
              "    <tr style=\"text-align: right;\">\n",
              "      <th></th>\n",
              "      <th>Company</th>\n",
              "      <th>Product</th>\n",
              "      <th>TypeName</th>\n",
              "      <th>Inches</th>\n",
              "      <th>Ram</th>\n",
              "      <th>Memory</th>\n",
              "      <th>Gpu</th>\n",
              "      <th>OpSys</th>\n",
              "      <th>Weight</th>\n",
              "      <th>Price_euros</th>\n",
              "      <th>Screen_Resoluton_Height</th>\n",
              "      <th>Screen_Display</th>\n",
              "      <th>Screen_Resoluton_Width</th>\n",
              "      <th>Cpu_Core</th>\n",
              "      <th>Cpu_Processor_Speed_GHz</th>\n",
              "      <th>Memory(storage_amount)</th>\n",
              "      <th>Memory(storage_device)</th>\n",
              "    </tr>\n",
              "  </thead>\n",
              "  <tbody>\n",
              "    <tr>\n",
              "      <th>0</th>\n",
              "      <td>Apple</td>\n",
              "      <td>MacBook Pro</td>\n",
              "      <td>Ultrabook</td>\n",
              "      <td>13.3</td>\n",
              "      <td>8</td>\n",
              "      <td>128GB SSD</td>\n",
              "      <td>Intel Iris Plus Graphics 640</td>\n",
              "      <td>macOS</td>\n",
              "      <td>1.37</td>\n",
              "      <td>1339.69</td>\n",
              "      <td>1600</td>\n",
              "      <td>IPS Panel Retina Display</td>\n",
              "      <td>2560</td>\n",
              "      <td>Intel Core i5</td>\n",
              "      <td>2.3</td>\n",
              "      <td>128GB</td>\n",
              "      <td>SSD</td>\n",
              "    </tr>\n",
              "    <tr>\n",
              "      <th>1</th>\n",
              "      <td>Apple</td>\n",
              "      <td>Macbook Air</td>\n",
              "      <td>Ultrabook</td>\n",
              "      <td>13.3</td>\n",
              "      <td>8</td>\n",
              "      <td>128GB Flash Storage</td>\n",
              "      <td>Intel HD Graphics 6000</td>\n",
              "      <td>macOS</td>\n",
              "      <td>1.34</td>\n",
              "      <td>898.94</td>\n",
              "      <td>900</td>\n",
              "      <td></td>\n",
              "      <td>1440</td>\n",
              "      <td>Intel Core i5</td>\n",
              "      <td>1.8</td>\n",
              "      <td>128GB</td>\n",
              "      <td>Flash Storage</td>\n",
              "    </tr>\n",
              "    <tr>\n",
              "      <th>2</th>\n",
              "      <td>HP</td>\n",
              "      <td>250 G6</td>\n",
              "      <td>Notebook</td>\n",
              "      <td>15.6</td>\n",
              "      <td>8</td>\n",
              "      <td>256GB SSD</td>\n",
              "      <td>Intel HD Graphics 620</td>\n",
              "      <td>No OS</td>\n",
              "      <td>1.86</td>\n",
              "      <td>575.00</td>\n",
              "      <td>1080</td>\n",
              "      <td>Full HD</td>\n",
              "      <td>1920</td>\n",
              "      <td>Intel Core i5 7200U</td>\n",
              "      <td>2.5</td>\n",
              "      <td>256GB</td>\n",
              "      <td>SSD</td>\n",
              "    </tr>\n",
              "    <tr>\n",
              "      <th>3</th>\n",
              "      <td>Apple</td>\n",
              "      <td>MacBook Pro</td>\n",
              "      <td>Ultrabook</td>\n",
              "      <td>15.4</td>\n",
              "      <td>16</td>\n",
              "      <td>512GB SSD</td>\n",
              "      <td>AMD Radeon Pro 455</td>\n",
              "      <td>macOS</td>\n",
              "      <td>1.83</td>\n",
              "      <td>2537.45</td>\n",
              "      <td>1800</td>\n",
              "      <td>IPS Panel Retina Display</td>\n",
              "      <td>2880</td>\n",
              "      <td>Intel Core i7</td>\n",
              "      <td>2.7</td>\n",
              "      <td>512GB</td>\n",
              "      <td>SSD</td>\n",
              "    </tr>\n",
              "    <tr>\n",
              "      <th>4</th>\n",
              "      <td>Apple</td>\n",
              "      <td>MacBook Pro</td>\n",
              "      <td>Ultrabook</td>\n",
              "      <td>13.3</td>\n",
              "      <td>8</td>\n",
              "      <td>256GB SSD</td>\n",
              "      <td>Intel Iris Plus Graphics 650</td>\n",
              "      <td>macOS</td>\n",
              "      <td>1.37</td>\n",
              "      <td>1803.60</td>\n",
              "      <td>1600</td>\n",
              "      <td>IPS Panel Retina Display</td>\n",
              "      <td>2560</td>\n",
              "      <td>Intel Core i5</td>\n",
              "      <td>3.1</td>\n",
              "      <td>256GB</td>\n",
              "      <td>SSD</td>\n",
              "    </tr>\n",
              "  </tbody>\n",
              "</table>\n",
              "</div>\n",
              "      <button class=\"colab-df-convert\" onclick=\"convertToInteractive('df-c0cb20e7-e49a-457b-a453-92c54ee22ab6')\"\n",
              "              title=\"Convert this dataframe to an interactive table.\"\n",
              "              style=\"display:none;\">\n",
              "        \n",
              "  <svg xmlns=\"http://www.w3.org/2000/svg\" height=\"24px\"viewBox=\"0 0 24 24\"\n",
              "       width=\"24px\">\n",
              "    <path d=\"M0 0h24v24H0V0z\" fill=\"none\"/>\n",
              "    <path d=\"M18.56 5.44l.94 2.06.94-2.06 2.06-.94-2.06-.94-.94-2.06-.94 2.06-2.06.94zm-11 1L8.5 8.5l.94-2.06 2.06-.94-2.06-.94L8.5 2.5l-.94 2.06-2.06.94zm10 10l.94 2.06.94-2.06 2.06-.94-2.06-.94-.94-2.06-.94 2.06-2.06.94z\"/><path d=\"M17.41 7.96l-1.37-1.37c-.4-.4-.92-.59-1.43-.59-.52 0-1.04.2-1.43.59L10.3 9.45l-7.72 7.72c-.78.78-.78 2.05 0 2.83L4 21.41c.39.39.9.59 1.41.59.51 0 1.02-.2 1.41-.59l7.78-7.78 2.81-2.81c.8-.78.8-2.07 0-2.86zM5.41 20L4 18.59l7.72-7.72 1.47 1.35L5.41 20z\"/>\n",
              "  </svg>\n",
              "      </button>\n",
              "      \n",
              "  <style>\n",
              "    .colab-df-container {\n",
              "      display:flex;\n",
              "      flex-wrap:wrap;\n",
              "      gap: 12px;\n",
              "    }\n",
              "\n",
              "    .colab-df-convert {\n",
              "      background-color: #E8F0FE;\n",
              "      border: none;\n",
              "      border-radius: 50%;\n",
              "      cursor: pointer;\n",
              "      display: none;\n",
              "      fill: #1967D2;\n",
              "      height: 32px;\n",
              "      padding: 0 0 0 0;\n",
              "      width: 32px;\n",
              "    }\n",
              "\n",
              "    .colab-df-convert:hover {\n",
              "      background-color: #E2EBFA;\n",
              "      box-shadow: 0px 1px 2px rgba(60, 64, 67, 0.3), 0px 1px 3px 1px rgba(60, 64, 67, 0.15);\n",
              "      fill: #174EA6;\n",
              "    }\n",
              "\n",
              "    [theme=dark] .colab-df-convert {\n",
              "      background-color: #3B4455;\n",
              "      fill: #D2E3FC;\n",
              "    }\n",
              "\n",
              "    [theme=dark] .colab-df-convert:hover {\n",
              "      background-color: #434B5C;\n",
              "      box-shadow: 0px 1px 3px 1px rgba(0, 0, 0, 0.15);\n",
              "      filter: drop-shadow(0px 1px 2px rgba(0, 0, 0, 0.3));\n",
              "      fill: #FFFFFF;\n",
              "    }\n",
              "  </style>\n",
              "\n",
              "      <script>\n",
              "        const buttonEl =\n",
              "          document.querySelector('#df-c0cb20e7-e49a-457b-a453-92c54ee22ab6 button.colab-df-convert');\n",
              "        buttonEl.style.display =\n",
              "          google.colab.kernel.accessAllowed ? 'block' : 'none';\n",
              "\n",
              "        async function convertToInteractive(key) {\n",
              "          const element = document.querySelector('#df-c0cb20e7-e49a-457b-a453-92c54ee22ab6');\n",
              "          const dataTable =\n",
              "            await google.colab.kernel.invokeFunction('convertToInteractive',\n",
              "                                                     [key], {});\n",
              "          if (!dataTable) return;\n",
              "\n",
              "          const docLinkHtml = 'Like what you see? Visit the ' +\n",
              "            '<a target=\"_blank\" href=https://colab.research.google.com/notebooks/data_table.ipynb>data table notebook</a>'\n",
              "            + ' to learn more about interactive tables.';\n",
              "          element.innerHTML = '';\n",
              "          dataTable['output_type'] = 'display_data';\n",
              "          await google.colab.output.renderOutput(dataTable, element);\n",
              "          const docLink = document.createElement('div');\n",
              "          docLink.innerHTML = docLinkHtml;\n",
              "          element.appendChild(docLink);\n",
              "        }\n",
              "      </script>\n",
              "    </div>\n",
              "  </div>\n",
              "  "
            ]
          },
          "metadata": {},
          "execution_count": 51
        }
      ]
    },
    {
      "cell_type": "code",
      "source": [
        "df[\"Memory(storage_amount)_GB\"] = df[\"Memory(storage_amount)\"].str.replace(\"GB||TB\",\"\")\n",
        "df[\"Memory(storage_amount)_GB\"] = pd.to_numeric(df[\"Memory(storage_amount)_GB\"])"
      ],
      "metadata": {
        "colab": {
          "base_uri": "https://localhost:8080/"
        },
        "id": "khQf0WeTUWd1",
        "outputId": "274a4151-f837-4c52-b479-8b088de99ec0"
      },
      "id": "khQf0WeTUWd1",
      "execution_count": 52,
      "outputs": [
        {
          "output_type": "stream",
          "name": "stderr",
          "text": [
            "/usr/local/lib/python3.7/dist-packages/ipykernel_launcher.py:1: FutureWarning: The default value of regex will change from True to False in a future version.\n",
            "  \"\"\"Entry point for launching an IPython kernel.\n"
          ]
        }
      ]
    },
    {
      "cell_type": "code",
      "source": [
        "df.head()"
      ],
      "metadata": {
        "colab": {
          "base_uri": "https://localhost:8080/",
          "height": 478
        },
        "id": "AXbjuhaSTUC3",
        "outputId": "589a0a91-8a4f-407a-caed-c910b32700a0"
      },
      "id": "AXbjuhaSTUC3",
      "execution_count": 53,
      "outputs": [
        {
          "output_type": "execute_result",
          "data": {
            "text/plain": [
              "  Company      Product   TypeName  Inches  Ram               Memory  \\\n",
              "0   Apple  MacBook Pro  Ultrabook    13.3    8            128GB SSD   \n",
              "1   Apple  Macbook Air  Ultrabook    13.3    8  128GB Flash Storage   \n",
              "2      HP       250 G6   Notebook    15.6    8            256GB SSD   \n",
              "3   Apple  MacBook Pro  Ultrabook    15.4   16            512GB SSD   \n",
              "4   Apple  MacBook Pro  Ultrabook    13.3    8            256GB SSD   \n",
              "\n",
              "                            Gpu  OpSys  Weight  Price_euros  \\\n",
              "0  Intel Iris Plus Graphics 640  macOS    1.37      1339.69   \n",
              "1        Intel HD Graphics 6000  macOS    1.34       898.94   \n",
              "2         Intel HD Graphics 620  No OS    1.86       575.00   \n",
              "3            AMD Radeon Pro 455  macOS    1.83      2537.45   \n",
              "4  Intel Iris Plus Graphics 650  macOS    1.37      1803.60   \n",
              "\n",
              "   Screen_Resoluton_Height             Screen_Display  Screen_Resoluton_Width  \\\n",
              "0                     1600  IPS Panel Retina Display                     2560   \n",
              "1                      900                                               1440   \n",
              "2                     1080                   Full HD                     1920   \n",
              "3                     1800  IPS Panel Retina Display                     2880   \n",
              "4                     1600  IPS Panel Retina Display                     2560   \n",
              "\n",
              "              Cpu_Core  Cpu_Processor_Speed_GHz Memory(storage_amount)  \\\n",
              "0        Intel Core i5                      2.3                  128GB   \n",
              "1        Intel Core i5                      1.8                  128GB   \n",
              "2  Intel Core i5 7200U                      2.5                  256GB   \n",
              "3        Intel Core i7                      2.7                  512GB   \n",
              "4        Intel Core i5                      3.1                  256GB   \n",
              "\n",
              "  Memory(storage_device)  Memory(storage_amount)_GB  \n",
              "0                    SSD                      128.0  \n",
              "1          Flash Storage                      128.0  \n",
              "2                    SSD                      256.0  \n",
              "3                    SSD                      512.0  \n",
              "4                    SSD                      256.0  "
            ],
            "text/html": [
              "\n",
              "  <div id=\"df-0a67280a-d93d-4699-b907-d24d4b6fb866\">\n",
              "    <div class=\"colab-df-container\">\n",
              "      <div>\n",
              "<style scoped>\n",
              "    .dataframe tbody tr th:only-of-type {\n",
              "        vertical-align: middle;\n",
              "    }\n",
              "\n",
              "    .dataframe tbody tr th {\n",
              "        vertical-align: top;\n",
              "    }\n",
              "\n",
              "    .dataframe thead th {\n",
              "        text-align: right;\n",
              "    }\n",
              "</style>\n",
              "<table border=\"1\" class=\"dataframe\">\n",
              "  <thead>\n",
              "    <tr style=\"text-align: right;\">\n",
              "      <th></th>\n",
              "      <th>Company</th>\n",
              "      <th>Product</th>\n",
              "      <th>TypeName</th>\n",
              "      <th>Inches</th>\n",
              "      <th>Ram</th>\n",
              "      <th>Memory</th>\n",
              "      <th>Gpu</th>\n",
              "      <th>OpSys</th>\n",
              "      <th>Weight</th>\n",
              "      <th>Price_euros</th>\n",
              "      <th>Screen_Resoluton_Height</th>\n",
              "      <th>Screen_Display</th>\n",
              "      <th>Screen_Resoluton_Width</th>\n",
              "      <th>Cpu_Core</th>\n",
              "      <th>Cpu_Processor_Speed_GHz</th>\n",
              "      <th>Memory(storage_amount)</th>\n",
              "      <th>Memory(storage_device)</th>\n",
              "      <th>Memory(storage_amount)_GB</th>\n",
              "    </tr>\n",
              "  </thead>\n",
              "  <tbody>\n",
              "    <tr>\n",
              "      <th>0</th>\n",
              "      <td>Apple</td>\n",
              "      <td>MacBook Pro</td>\n",
              "      <td>Ultrabook</td>\n",
              "      <td>13.3</td>\n",
              "      <td>8</td>\n",
              "      <td>128GB SSD</td>\n",
              "      <td>Intel Iris Plus Graphics 640</td>\n",
              "      <td>macOS</td>\n",
              "      <td>1.37</td>\n",
              "      <td>1339.69</td>\n",
              "      <td>1600</td>\n",
              "      <td>IPS Panel Retina Display</td>\n",
              "      <td>2560</td>\n",
              "      <td>Intel Core i5</td>\n",
              "      <td>2.3</td>\n",
              "      <td>128GB</td>\n",
              "      <td>SSD</td>\n",
              "      <td>128.0</td>\n",
              "    </tr>\n",
              "    <tr>\n",
              "      <th>1</th>\n",
              "      <td>Apple</td>\n",
              "      <td>Macbook Air</td>\n",
              "      <td>Ultrabook</td>\n",
              "      <td>13.3</td>\n",
              "      <td>8</td>\n",
              "      <td>128GB Flash Storage</td>\n",
              "      <td>Intel HD Graphics 6000</td>\n",
              "      <td>macOS</td>\n",
              "      <td>1.34</td>\n",
              "      <td>898.94</td>\n",
              "      <td>900</td>\n",
              "      <td></td>\n",
              "      <td>1440</td>\n",
              "      <td>Intel Core i5</td>\n",
              "      <td>1.8</td>\n",
              "      <td>128GB</td>\n",
              "      <td>Flash Storage</td>\n",
              "      <td>128.0</td>\n",
              "    </tr>\n",
              "    <tr>\n",
              "      <th>2</th>\n",
              "      <td>HP</td>\n",
              "      <td>250 G6</td>\n",
              "      <td>Notebook</td>\n",
              "      <td>15.6</td>\n",
              "      <td>8</td>\n",
              "      <td>256GB SSD</td>\n",
              "      <td>Intel HD Graphics 620</td>\n",
              "      <td>No OS</td>\n",
              "      <td>1.86</td>\n",
              "      <td>575.00</td>\n",
              "      <td>1080</td>\n",
              "      <td>Full HD</td>\n",
              "      <td>1920</td>\n",
              "      <td>Intel Core i5 7200U</td>\n",
              "      <td>2.5</td>\n",
              "      <td>256GB</td>\n",
              "      <td>SSD</td>\n",
              "      <td>256.0</td>\n",
              "    </tr>\n",
              "    <tr>\n",
              "      <th>3</th>\n",
              "      <td>Apple</td>\n",
              "      <td>MacBook Pro</td>\n",
              "      <td>Ultrabook</td>\n",
              "      <td>15.4</td>\n",
              "      <td>16</td>\n",
              "      <td>512GB SSD</td>\n",
              "      <td>AMD Radeon Pro 455</td>\n",
              "      <td>macOS</td>\n",
              "      <td>1.83</td>\n",
              "      <td>2537.45</td>\n",
              "      <td>1800</td>\n",
              "      <td>IPS Panel Retina Display</td>\n",
              "      <td>2880</td>\n",
              "      <td>Intel Core i7</td>\n",
              "      <td>2.7</td>\n",
              "      <td>512GB</td>\n",
              "      <td>SSD</td>\n",
              "      <td>512.0</td>\n",
              "    </tr>\n",
              "    <tr>\n",
              "      <th>4</th>\n",
              "      <td>Apple</td>\n",
              "      <td>MacBook Pro</td>\n",
              "      <td>Ultrabook</td>\n",
              "      <td>13.3</td>\n",
              "      <td>8</td>\n",
              "      <td>256GB SSD</td>\n",
              "      <td>Intel Iris Plus Graphics 650</td>\n",
              "      <td>macOS</td>\n",
              "      <td>1.37</td>\n",
              "      <td>1803.60</td>\n",
              "      <td>1600</td>\n",
              "      <td>IPS Panel Retina Display</td>\n",
              "      <td>2560</td>\n",
              "      <td>Intel Core i5</td>\n",
              "      <td>3.1</td>\n",
              "      <td>256GB</td>\n",
              "      <td>SSD</td>\n",
              "      <td>256.0</td>\n",
              "    </tr>\n",
              "  </tbody>\n",
              "</table>\n",
              "</div>\n",
              "      <button class=\"colab-df-convert\" onclick=\"convertToInteractive('df-0a67280a-d93d-4699-b907-d24d4b6fb866')\"\n",
              "              title=\"Convert this dataframe to an interactive table.\"\n",
              "              style=\"display:none;\">\n",
              "        \n",
              "  <svg xmlns=\"http://www.w3.org/2000/svg\" height=\"24px\"viewBox=\"0 0 24 24\"\n",
              "       width=\"24px\">\n",
              "    <path d=\"M0 0h24v24H0V0z\" fill=\"none\"/>\n",
              "    <path d=\"M18.56 5.44l.94 2.06.94-2.06 2.06-.94-2.06-.94-.94-2.06-.94 2.06-2.06.94zm-11 1L8.5 8.5l.94-2.06 2.06-.94-2.06-.94L8.5 2.5l-.94 2.06-2.06.94zm10 10l.94 2.06.94-2.06 2.06-.94-2.06-.94-.94-2.06-.94 2.06-2.06.94z\"/><path d=\"M17.41 7.96l-1.37-1.37c-.4-.4-.92-.59-1.43-.59-.52 0-1.04.2-1.43.59L10.3 9.45l-7.72 7.72c-.78.78-.78 2.05 0 2.83L4 21.41c.39.39.9.59 1.41.59.51 0 1.02-.2 1.41-.59l7.78-7.78 2.81-2.81c.8-.78.8-2.07 0-2.86zM5.41 20L4 18.59l7.72-7.72 1.47 1.35L5.41 20z\"/>\n",
              "  </svg>\n",
              "      </button>\n",
              "      \n",
              "  <style>\n",
              "    .colab-df-container {\n",
              "      display:flex;\n",
              "      flex-wrap:wrap;\n",
              "      gap: 12px;\n",
              "    }\n",
              "\n",
              "    .colab-df-convert {\n",
              "      background-color: #E8F0FE;\n",
              "      border: none;\n",
              "      border-radius: 50%;\n",
              "      cursor: pointer;\n",
              "      display: none;\n",
              "      fill: #1967D2;\n",
              "      height: 32px;\n",
              "      padding: 0 0 0 0;\n",
              "      width: 32px;\n",
              "    }\n",
              "\n",
              "    .colab-df-convert:hover {\n",
              "      background-color: #E2EBFA;\n",
              "      box-shadow: 0px 1px 2px rgba(60, 64, 67, 0.3), 0px 1px 3px 1px rgba(60, 64, 67, 0.15);\n",
              "      fill: #174EA6;\n",
              "    }\n",
              "\n",
              "    [theme=dark] .colab-df-convert {\n",
              "      background-color: #3B4455;\n",
              "      fill: #D2E3FC;\n",
              "    }\n",
              "\n",
              "    [theme=dark] .colab-df-convert:hover {\n",
              "      background-color: #434B5C;\n",
              "      box-shadow: 0px 1px 3px 1px rgba(0, 0, 0, 0.15);\n",
              "      filter: drop-shadow(0px 1px 2px rgba(0, 0, 0, 0.3));\n",
              "      fill: #FFFFFF;\n",
              "    }\n",
              "  </style>\n",
              "\n",
              "      <script>\n",
              "        const buttonEl =\n",
              "          document.querySelector('#df-0a67280a-d93d-4699-b907-d24d4b6fb866 button.colab-df-convert');\n",
              "        buttonEl.style.display =\n",
              "          google.colab.kernel.accessAllowed ? 'block' : 'none';\n",
              "\n",
              "        async function convertToInteractive(key) {\n",
              "          const element = document.querySelector('#df-0a67280a-d93d-4699-b907-d24d4b6fb866');\n",
              "          const dataTable =\n",
              "            await google.colab.kernel.invokeFunction('convertToInteractive',\n",
              "                                                     [key], {});\n",
              "          if (!dataTable) return;\n",
              "\n",
              "          const docLinkHtml = 'Like what you see? Visit the ' +\n",
              "            '<a target=\"_blank\" href=https://colab.research.google.com/notebooks/data_table.ipynb>data table notebook</a>'\n",
              "            + ' to learn more about interactive tables.';\n",
              "          element.innerHTML = '';\n",
              "          dataTable['output_type'] = 'display_data';\n",
              "          await google.colab.output.renderOutput(dataTable, element);\n",
              "          const docLink = document.createElement('div');\n",
              "          docLink.innerHTML = docLinkHtml;\n",
              "          element.appendChild(docLink);\n",
              "        }\n",
              "      </script>\n",
              "    </div>\n",
              "  </div>\n",
              "  "
            ]
          },
          "metadata": {},
          "execution_count": 53
        }
      ]
    },
    {
      "cell_type": "code",
      "source": [
        "df.drop('Memory(storage_amount)',axis=1,inplace=True)"
      ],
      "metadata": {
        "id": "xivxIaQqYgKX"
      },
      "id": "xivxIaQqYgKX",
      "execution_count": 54,
      "outputs": []
    },
    {
      "cell_type": "code",
      "source": [
        "\n",
        "df.drop('Memory',axis=1,inplace=True)"
      ],
      "metadata": {
        "id": "B_T-bzeoYgMg"
      },
      "id": "B_T-bzeoYgMg",
      "execution_count": 55,
      "outputs": []
    },
    {
      "cell_type": "code",
      "source": [
        "df.info()"
      ],
      "metadata": {
        "colab": {
          "base_uri": "https://localhost:8080/"
        },
        "id": "pN3hZ7b5Y1ta",
        "outputId": "12021f25-faf3-4018-a091-a27f93c73bcb"
      },
      "id": "pN3hZ7b5Y1ta",
      "execution_count": 56,
      "outputs": [
        {
          "output_type": "stream",
          "name": "stdout",
          "text": [
            "<class 'pandas.core.frame.DataFrame'>\n",
            "Int64Index: 1303 entries, 0 to 1302\n",
            "Data columns (total 16 columns):\n",
            " #   Column                     Non-Null Count  Dtype  \n",
            "---  ------                     --------------  -----  \n",
            " 0   Company                    1303 non-null   object \n",
            " 1   Product                    1303 non-null   object \n",
            " 2   TypeName                   1303 non-null   object \n",
            " 3   Inches                     1303 non-null   float64\n",
            " 4   Ram                        1303 non-null   int64  \n",
            " 5   Gpu                        1303 non-null   object \n",
            " 6   OpSys                      1303 non-null   object \n",
            " 7   Weight                     1303 non-null   float64\n",
            " 8   Price_euros                1303 non-null   float64\n",
            " 9   Screen_Resoluton_Height    1303 non-null   int64  \n",
            " 10  Screen_Display             1303 non-null   object \n",
            " 11  Screen_Resoluton_Width     1303 non-null   int64  \n",
            " 12  Cpu_Core                   1303 non-null   object \n",
            " 13  Cpu_Processor_Speed_GHz    1303 non-null   float64\n",
            " 14  Memory(storage_device)     1303 non-null   object \n",
            " 15  Memory(storage_amount)_GB  1303 non-null   float64\n",
            "dtypes: float64(5), int64(3), object(8)\n",
            "memory usage: 173.1+ KB\n"
          ]
        }
      ]
    },
    {
      "cell_type": "code",
      "source": [
        "# y holo Price_euros"
      ],
      "metadata": {
        "id": "XprsJXYIY3Vm"
      },
      "id": "XprsJXYIY3Vm",
      "execution_count": 57,
      "outputs": []
    },
    {
      "cell_type": "code",
      "source": [
        ""
      ],
      "metadata": {
        "id": "dVGsmBjxY3YO"
      },
      "id": "dVGsmBjxY3YO",
      "execution_count": 57,
      "outputs": []
    },
    {
      "cell_type": "markdown",
      "source": [
        "#more preprocessing"
      ],
      "metadata": {
        "id": "jNGlgRzMZods"
      },
      "id": "jNGlgRzMZods"
    },
    {
      "cell_type": "markdown",
      "source": [
        ""
      ],
      "metadata": {
        "id": "NJRRLzKDZymJ"
      },
      "id": "NJRRLzKDZymJ"
    },
    {
      "cell_type": "code",
      "source": [
        "#drop duplicates\n",
        "df.drop_duplicates(inplace=True)"
      ],
      "metadata": {
        "id": "5833oIpYY3a7"
      },
      "id": "5833oIpYY3a7",
      "execution_count": 58,
      "outputs": []
    },
    {
      "cell_type": "code",
      "source": [
        "df.shape"
      ],
      "metadata": {
        "id": "jMqvznIkSw1I",
        "colab": {
          "base_uri": "https://localhost:8080/"
        },
        "outputId": "7eea26d6-d359-411a-f31f-c6e3504799f8"
      },
      "id": "jMqvznIkSw1I",
      "execution_count": 59,
      "outputs": [
        {
          "output_type": "execute_result",
          "data": {
            "text/plain": [
              "(1275, 16)"
            ]
          },
          "metadata": {},
          "execution_count": 59
        }
      ]
    },
    {
      "cell_type": "code",
      "source": [
        "df.info()"
      ],
      "metadata": {
        "colab": {
          "base_uri": "https://localhost:8080/"
        },
        "id": "iK0zAmIr9HPt",
        "outputId": "ced4c42f-c411-4d24-c042-04e8a884fe53"
      },
      "id": "iK0zAmIr9HPt",
      "execution_count": 60,
      "outputs": [
        {
          "output_type": "stream",
          "name": "stdout",
          "text": [
            "<class 'pandas.core.frame.DataFrame'>\n",
            "Int64Index: 1275 entries, 0 to 1274\n",
            "Data columns (total 16 columns):\n",
            " #   Column                     Non-Null Count  Dtype  \n",
            "---  ------                     --------------  -----  \n",
            " 0   Company                    1275 non-null   object \n",
            " 1   Product                    1275 non-null   object \n",
            " 2   TypeName                   1275 non-null   object \n",
            " 3   Inches                     1275 non-null   float64\n",
            " 4   Ram                        1275 non-null   int64  \n",
            " 5   Gpu                        1275 non-null   object \n",
            " 6   OpSys                      1275 non-null   object \n",
            " 7   Weight                     1275 non-null   float64\n",
            " 8   Price_euros                1275 non-null   float64\n",
            " 9   Screen_Resoluton_Height    1275 non-null   int64  \n",
            " 10  Screen_Display             1275 non-null   object \n",
            " 11  Screen_Resoluton_Width     1275 non-null   int64  \n",
            " 12  Cpu_Core                   1275 non-null   object \n",
            " 13  Cpu_Processor_Speed_GHz    1275 non-null   float64\n",
            " 14  Memory(storage_device)     1275 non-null   object \n",
            " 15  Memory(storage_amount)_GB  1275 non-null   float64\n",
            "dtypes: float64(5), int64(3), object(8)\n",
            "memory usage: 169.3+ KB\n"
          ]
        }
      ]
    },
    {
      "cell_type": "markdown",
      "source": [
        "#Scatter Plot"
      ],
      "metadata": {
        "id": "P7TZgPd29HpG"
      },
      "id": "P7TZgPd29HpG"
    },
    {
      "cell_type": "code",
      "source": [
        "p_correlation = df['Ram'].corr(df['Price_euros'])\n",
        "print('correlation ',p_correlation)\n",
        "print('\\n')\n",
        "plt.scatter(x=df['Ram'],y=df['Price_euros']);\n",
        "plt.xlabel('Ram')\n",
        "plt.ylabel('Price_euros') \n",
        "plt.title('price vs Ram');"
      ],
      "metadata": {
        "colab": {
          "base_uri": "https://localhost:8080/",
          "height": 347
        },
        "id": "wBSxJ2hW9HpH",
        "outputId": "974f7c65-658a-41a3-ef53-a3c132b4191e"
      },
      "execution_count": 61,
      "outputs": [
        {
          "output_type": "stream",
          "name": "stdout",
          "text": [
            "correlation  0.7402865271622695\n",
            "\n",
            "\n"
          ]
        },
        {
          "output_type": "display_data",
          "data": {
            "text/plain": [
              "<Figure size 432x288 with 1 Axes>"
            ],
            "image/png": "[encoded data removed]"
          },
          "metadata": {
            "needs_background": "light"
          }
        }
      ],
      "id": "wBSxJ2hW9HpH"
    },
    {
      "cell_type": "code",
      "source": [
        "p_correlation = df['Weight'].corr(df['Price_euros'])\n",
        "print('correlation ',p_correlation)\n",
        "print('\\n')\n",
        "plt.scatter(x=df['Weight'],y=df['Price_euros']);\n",
        "plt.xlabel('Weight')\n",
        "plt.ylabel('Price_euros') \n",
        "plt.title('price vs Weight');"
      ],
      "metadata": {
        "colab": {
          "base_uri": "https://localhost:8080/",
          "height": 347
        },
        "id": "PQwzgsSE9HpH",
        "outputId": "720caf04-2cca-4bd7-f7b6-3675b34a07ce"
      },
      "execution_count": 62,
      "outputs": [
        {
          "output_type": "stream",
          "name": "stdout",
          "text": [
            "correlation  0.21188344492206526\n",
            "\n",
            "\n"
          ]
        },
        {
          "output_type": "display_data",
          "data": {
            "text/plain": [
              "<Figure size 432x288 with 1 Axes>"
            ],
            "image/png": "[encoded data removed]"
          },
          "metadata": {
            "needs_background": "light"
          }
        }
      ],
      "id": "PQwzgsSE9HpH"
    },
    {
      "cell_type": "markdown",
      "source": [
        "#X,Y separate"
      ],
      "metadata": {
        "id": "Kor5kKoD7IlC"
      },
      "id": "Kor5kKoD7IlC"
    },
    {
      "cell_type": "code",
      "source": [
        "X = df.drop('Price_euros',axis=1)"
      ],
      "metadata": {
        "id": "eeC4wZjd7IlD"
      },
      "execution_count": 63,
      "outputs": [],
      "id": "eeC4wZjd7IlD"
    },
    {
      "cell_type": "code",
      "source": [
        "Y = df[['Price_euros']]"
      ],
      "metadata": {
        "id": "FJw87rpB7IlD"
      },
      "execution_count": 64,
      "outputs": [],
      "id": "FJw87rpB7IlD"
    },
    {
      "cell_type": "code",
      "source": [
        "X.shape"
      ],
      "metadata": {
        "colab": {
          "base_uri": "https://localhost:8080/"
        },
        "outputId": "c6897e61-4015-4414-b2a7-cf4f3503ee44",
        "id": "Jz5cxshn7IlD"
      },
      "execution_count": 65,
      "outputs": [
        {
          "output_type": "execute_result",
          "data": {
            "text/plain": [
              "(1275, 15)"
            ]
          },
          "metadata": {},
          "execution_count": 65
        }
      ],
      "id": "Jz5cxshn7IlD"
    },
    {
      "cell_type": "code",
      "source": [
        "Y.shape"
      ],
      "metadata": {
        "colab": {
          "base_uri": "https://localhost:8080/"
        },
        "outputId": "c4f84a1b-902c-415b-92fa-29e267cd8c71",
        "id": "Jjjv9XCX7IlD"
      },
      "execution_count": 66,
      "outputs": [
        {
          "output_type": "execute_result",
          "data": {
            "text/plain": [
              "(1275, 1)"
            ]
          },
          "metadata": {},
          "execution_count": 66
        }
      ],
      "id": "Jjjv9XCX7IlD"
    },
    {
      "cell_type": "markdown",
      "source": [
        "#Encoding"
      ],
      "metadata": {
        "id": "FMLJbevzaH53"
      },
      "id": "FMLJbevzaH53"
    },
    {
      "cell_type": "code",
      "source": [
        ""
      ],
      "metadata": {
        "id": "KQ55OvGC7gaq"
      },
      "id": "KQ55OvGC7gaq",
      "execution_count": 66,
      "outputs": []
    },
    {
      "cell_type": "code",
      "source": [
        "from sklearn.preprocessing import LabelEncoder"
      ],
      "metadata": {
        "id": "-vRd94ivMpyB"
      },
      "execution_count": 67,
      "outputs": [],
      "id": "-vRd94ivMpyB"
    },
    {
      "cell_type": "code",
      "source": [
        "le = LabelEncoder()"
      ],
      "metadata": {
        "id": "upJkeopwM3bf"
      },
      "execution_count": 68,
      "outputs": [],
      "id": "upJkeopwM3bf"
    },
    {
      "cell_type": "code",
      "source": [
        "from pandas.core.dtypes.common import is_numeric_dtype"
      ],
      "metadata": {
        "id": "AF-49odVSXg8"
      },
      "execution_count": 69,
      "outputs": [],
      "id": "AF-49odVSXg8"
    },
    {
      "cell_type": "code",
      "source": [
        "for column in X.columns:\n",
        "    if is_numeric_dtype(X[column]):\n",
        "        continue\n",
        "    X[column] = le.fit_transform(X[column])"
      ],
      "metadata": {
        "id": "sZTD8Ik_TVzu"
      },
      "execution_count": 70,
      "outputs": [],
      "id": "sZTD8Ik_TVzu"
    },
    {
      "cell_type": "code",
      "source": [
        "X.head()"
      ],
      "metadata": {
        "colab": {
          "base_uri": "https://localhost:8080/",
          "height": 270
        },
        "id": "8M9ryw0Ya0Pj",
        "outputId": "418c5a53-4ec9-485d-f618-6c4693c1b007"
      },
      "id": "8M9ryw0Ya0Pj",
      "execution_count": 71,
      "outputs": [
        {
          "output_type": "execute_result",
          "data": {
            "text/plain": [
              "   Company  Product  TypeName  Inches  Ram  Gpu  OpSys  Weight  \\\n",
              "0        1      300         4    13.3    8   58      8    1.37   \n",
              "1        1      301         4    13.3    8   51      8    1.34   \n",
              "2        7       50         3    15.6    8   53      4    1.86   \n",
              "3        1      300         4    15.4   16    9      8    1.83   \n",
              "4        1      300         4    13.3    8   59      8    1.37   \n",
              "\n",
              "   Screen_Resoluton_Height  Screen_Display  Screen_Resoluton_Width  Cpu_Core  \\\n",
              "0                     1600              12                    2560        51   \n",
              "1                      900               0                    1440        51   \n",
              "2                     1080               3                    1920        57   \n",
              "3                     1800              12                    2880        65   \n",
              "4                     1600              12                    2560        51   \n",
              "\n",
              "   Cpu_Processor_Speed_GHz  Memory(storage_device)  Memory(storage_amount)_GB  \n",
              "0                      2.3                       5                      128.0  \n",
              "1                      1.8                       0                      128.0  \n",
              "2                      2.5                       5                      256.0  \n",
              "3                      2.7                       5                      512.0  \n",
              "4                      3.1                       5                      256.0  "
            ],
            "text/html": [
              "\n",
              "  <div id=\"df-9d22e1ba-6b52-4844-9bc8-65b76ddd9ec6\">\n",
              "    <div class=\"colab-df-container\">\n",
              "      <div>\n",
              "<style scoped>\n",
              "    .dataframe tbody tr th:only-of-type {\n",
              "        vertical-align: middle;\n",
              "    }\n",
              "\n",
              "    .dataframe tbody tr th {\n",
              "        vertical-align: top;\n",
              "    }\n",
              "\n",
              "    .dataframe thead th {\n",
              "        text-align: right;\n",
              "    }\n",
              "</style>\n",
              "<table border=\"1\" class=\"dataframe\">\n",
              "  <thead>\n",
              "    <tr style=\"text-align: right;\">\n",
              "      <th></th>\n",
              "      <th>Company</th>\n",
              "      <th>Product</th>\n",
              "      <th>TypeName</th>\n",
              "      <th>Inches</th>\n",
              "      <th>Ram</th>\n",
              "      <th>Gpu</th>\n",
              "      <th>OpSys</th>\n",
              "      <th>Weight</th>\n",
              "      <th>Screen_Resoluton_Height</th>\n",
              "      <th>Screen_Display</th>\n",
              "      <th>Screen_Resoluton_Width</th>\n",
              "      <th>Cpu_Core</th>\n",
              "      <th>Cpu_Processor_Speed_GHz</th>\n",
              "      <th>Memory(storage_device)</th>\n",
              "      <th>Memory(storage_amount)_GB</th>\n",
              "    </tr>\n",
              "  </thead>\n",
              "  <tbody>\n",
              "    <tr>\n",
              "      <th>0</th>\n",
              "      <td>1</td>\n",
              "      <td>300</td>\n",
              "      <td>4</td>\n",
              "      <td>13.3</td>\n",
              "      <td>8</td>\n",
              "      <td>58</td>\n",
              "      <td>8</td>\n",
              "      <td>1.37</td>\n",
              "      <td>1600</td>\n",
              "      <td>12</td>\n",
              "      <td>2560</td>\n",
              "      <td>51</td>\n",
              "      <td>2.3</td>\n",
              "      <td>5</td>\n",
              "      <td>128.0</td>\n",
              "    </tr>\n",
              "    <tr>\n",
              "      <th>1</th>\n",
              "      <td>1</td>\n",
              "      <td>301</td>\n",
              "      <td>4</td>\n",
              "      <td>13.3</td>\n",
              "      <td>8</td>\n",
              "      <td>51</td>\n",
              "      <td>8</td>\n",
              "      <td>1.34</td>\n",
              "      <td>900</td>\n",
              "      <td>0</td>\n",
              "      <td>1440</td>\n",
              "      <td>51</td>\n",
              "      <td>1.8</td>\n",
              "      <td>0</td>\n",
              "      <td>128.0</td>\n",
              "    </tr>\n",
              "    <tr>\n",
              "      <th>2</th>\n",
              "      <td>7</td>\n",
              "      <td>50</td>\n",
              "      <td>3</td>\n",
              "      <td>15.6</td>\n",
              "      <td>8</td>\n",
              "      <td>53</td>\n",
              "      <td>4</td>\n",
              "      <td>1.86</td>\n",
              "      <td>1080</td>\n",
              "      <td>3</td>\n",
              "      <td>1920</td>\n",
              "      <td>57</td>\n",
              "      <td>2.5</td>\n",
              "      <td>5</td>\n",
              "      <td>256.0</td>\n",
              "    </tr>\n",
              "    <tr>\n",
              "      <th>3</th>\n",
              "      <td>1</td>\n",
              "      <td>300</td>\n",
              "      <td>4</td>\n",
              "      <td>15.4</td>\n",
              "      <td>16</td>\n",
              "      <td>9</td>\n",
              "      <td>8</td>\n",
              "      <td>1.83</td>\n",
              "      <td>1800</td>\n",
              "      <td>12</td>\n",
              "      <td>2880</td>\n",
              "      <td>65</td>\n",
              "      <td>2.7</td>\n",
              "      <td>5</td>\n",
              "      <td>512.0</td>\n",
              "    </tr>\n",
              "    <tr>\n",
              "      <th>4</th>\n",
              "      <td>1</td>\n",
              "      <td>300</td>\n",
              "      <td>4</td>\n",
              "      <td>13.3</td>\n",
              "      <td>8</td>\n",
              "      <td>59</td>\n",
              "      <td>8</td>\n",
              "      <td>1.37</td>\n",
              "      <td>1600</td>\n",
              "      <td>12</td>\n",
              "      <td>2560</td>\n",
              "      <td>51</td>\n",
              "      <td>3.1</td>\n",
              "      <td>5</td>\n",
              "      <td>256.0</td>\n",
              "    </tr>\n",
              "  </tbody>\n",
              "</table>\n",
              "</div>\n",
              "      <button class=\"colab-df-convert\" onclick=\"convertToInteractive('df-9d22e1ba-6b52-4844-9bc8-65b76ddd9ec6')\"\n",
              "              title=\"Convert this dataframe to an interactive table.\"\n",
              "              style=\"display:none;\">\n",
              "        \n",
              "  <svg xmlns=\"http://www.w3.org/2000/svg\" height=\"24px\"viewBox=\"0 0 24 24\"\n",
              "       width=\"24px\">\n",
              "    <path d=\"M0 0h24v24H0V0z\" fill=\"none\"/>\n",
              "    <path d=\"M18.56 5.44l.94 2.06.94-2.06 2.06-.94-2.06-.94-.94-2.06-.94 2.06-2.06.94zm-11 1L8.5 8.5l.94-2.06 2.06-.94-2.06-.94L8.5 2.5l-.94 2.06-2.06.94zm10 10l.94 2.06.94-2.06 2.06-.94-2.06-.94-.94-2.06-.94 2.06-2.06.94z\"/><path d=\"M17.41 7.96l-1.37-1.37c-.4-.4-.92-.59-1.43-.59-.52 0-1.04.2-1.43.59L10.3 9.45l-7.72 7.72c-.78.78-.78 2.05 0 2.83L4 21.41c.39.39.9.59 1.41.59.51 0 1.02-.2 1.41-.59l7.78-7.78 2.81-2.81c.8-.78.8-2.07 0-2.86zM5.41 20L4 18.59l7.72-7.72 1.47 1.35L5.41 20z\"/>\n",
              "  </svg>\n",
              "      </button>\n",
              "      \n",
              "  <style>\n",
              "    .colab-df-container {\n",
              "      display:flex;\n",
              "      flex-wrap:wrap;\n",
              "      gap: 12px;\n",
              "    }\n",
              "\n",
              "    .colab-df-convert {\n",
              "      background-color: #E8F0FE;\n",
              "      border: none;\n",
              "      border-radius: 50%;\n",
              "      cursor: pointer;\n",
              "      display: none;\n",
              "      fill: #1967D2;\n",
              "      height: 32px;\n",
              "      padding: 0 0 0 0;\n",
              "      width: 32px;\n",
              "    }\n",
              "\n",
              "    .colab-df-convert:hover {\n",
              "      background-color: #E2EBFA;\n",
              "      box-shadow: 0px 1px 2px rgba(60, 64, 67, 0.3), 0px 1px 3px 1px rgba(60, 64, 67, 0.15);\n",
              "      fill: #174EA6;\n",
              "    }\n",
              "\n",
              "    [theme=dark] .colab-df-convert {\n",
              "      background-color: #3B4455;\n",
              "      fill: #D2E3FC;\n",
              "    }\n",
              "\n",
              "    [theme=dark] .colab-df-convert:hover {\n",
              "      background-color: #434B5C;\n",
              "      box-shadow: 0px 1px 3px 1px rgba(0, 0, 0, 0.15);\n",
              "      filter: drop-shadow(0px 1px 2px rgba(0, 0, 0, 0.3));\n",
              "      fill: #FFFFFF;\n",
              "    }\n",
              "  </style>\n",
              "\n",
              "      <script>\n",
              "        const buttonEl =\n",
              "          document.querySelector('#df-9d22e1ba-6b52-4844-9bc8-65b76ddd9ec6 button.colab-df-convert');\n",
              "        buttonEl.style.display =\n",
              "          google.colab.kernel.accessAllowed ? 'block' : 'none';\n",
              "\n",
              "        async function convertToInteractive(key) {\n",
              "          const element = document.querySelector('#df-9d22e1ba-6b52-4844-9bc8-65b76ddd9ec6');\n",
              "          const dataTable =\n",
              "            await google.colab.kernel.invokeFunction('convertToInteractive',\n",
              "                                                     [key], {});\n",
              "          if (!dataTable) return;\n",
              "\n",
              "          const docLinkHtml = 'Like what you see? Visit the ' +\n",
              "            '<a target=\"_blank\" href=https://colab.research.google.com/notebooks/data_table.ipynb>data table notebook</a>'\n",
              "            + ' to learn more about interactive tables.';\n",
              "          element.innerHTML = '';\n",
              "          dataTable['output_type'] = 'display_data';\n",
              "          await google.colab.output.renderOutput(dataTable, element);\n",
              "          const docLink = document.createElement('div');\n",
              "          docLink.innerHTML = docLinkHtml;\n",
              "          element.appendChild(docLink);\n",
              "        }\n",
              "      </script>\n",
              "    </div>\n",
              "  </div>\n",
              "  "
            ]
          },
          "metadata": {},
          "execution_count": 71
        }
      ]
    },
    {
      "cell_type": "markdown",
      "source": [
        "#Freature Engineering\n",
        "#Normalization"
      ],
      "metadata": {
        "id": "b_GxgM03a5Rc"
      },
      "id": "b_GxgM03a5Rc"
    },
    {
      "cell_type": "code",
      "source": [
        ""
      ],
      "metadata": {
        "id": "lWC5Y1VGaj0o"
      },
      "id": "lWC5Y1VGaj0o",
      "execution_count": 71,
      "outputs": []
    },
    {
      "cell_type": "code",
      "execution_count": 72,
      "metadata": {
        "id": "02ebad2a"
      },
      "outputs": [],
      "source": [
        "from sklearn.preprocessing import MinMaxScaler\n"
      ],
      "id": "02ebad2a"
    },
    {
      "cell_type": "code",
      "execution_count": 73,
      "metadata": {
        "id": "cc8d43b7"
      },
      "outputs": [],
      "source": [
        "minmax = MinMaxScaler(feature_range=(0,1)) # feature_range=(0, 1)"
      ],
      "id": "cc8d43b7"
    },
    {
      "cell_type": "code",
      "source": [
        "len(X.columns)"
      ],
      "metadata": {
        "colab": {
          "base_uri": "https://localhost:8080/"
        },
        "id": "0moiaoMAcUk-",
        "outputId": "71ee7538-bd94-427b-8ae0-d98f68faf6aa"
      },
      "id": "0moiaoMAcUk-",
      "execution_count": 74,
      "outputs": [
        {
          "output_type": "execute_result",
          "data": {
            "text/plain": [
              "15"
            ]
          },
          "metadata": {},
          "execution_count": 74
        }
      ]
    },
    {
      "cell_type": "code",
      "source": [
        ""
      ],
      "metadata": {
        "id": "mNLpliwTd1Vj"
      },
      "id": "mNLpliwTd1Vj",
      "execution_count": 74,
      "outputs": []
    },
    {
      "cell_type": "code",
      "source": [
        "for column in X.columns:\n",
        "    \n",
        "    X[column] = minmax.fit_transform(X[[column]])"
      ],
      "metadata": {
        "id": "U_2iS33ocYzv"
      },
      "execution_count": 75,
      "outputs": [],
      "id": "U_2iS33ocYzv"
    },
    {
      "cell_type": "code",
      "source": [
        "X.head()"
      ],
      "metadata": {
        "colab": {
          "base_uri": "https://localhost:8080/",
          "height": 270
        },
        "id": "XOIiWh0tehsT",
        "outputId": "18968498-a8e4-4b1e-c42e-a52662b7275b"
      },
      "id": "XOIiWh0tehsT",
      "execution_count": 76,
      "outputs": [
        {
          "output_type": "execute_result",
          "data": {
            "text/plain": [
              "    Company   Product  TypeName    Inches       Ram       Gpu  OpSys  \\\n",
              "0  0.055556  0.486224       0.8  0.385542  0.096774  0.532110    1.0   \n",
              "1  0.055556  0.487844       0.8  0.385542  0.096774  0.467890    1.0   \n",
              "2  0.388889  0.081037       0.6  0.662651  0.096774  0.486239    0.5   \n",
              "3  0.055556  0.486224       0.8  0.638554  0.225806  0.082569    1.0   \n",
              "4  0.055556  0.486224       0.8  0.385542  0.096774  0.541284    1.0   \n",
              "\n",
              "     Weight  Screen_Resoluton_Height  Screen_Display  Screen_Resoluton_Width  \\\n",
              "0  0.169576                 0.597701            0.60                0.482619   \n",
              "1  0.162095                 0.094828            0.00                0.029911   \n",
              "2  0.291771                 0.224138            0.15                0.223929   \n",
              "3  0.284289                 0.741379            0.60                0.611964   \n",
              "4  0.169576                 0.597701            0.60                0.482619   \n",
              "\n",
              "   Cpu_Core  Cpu_Processor_Speed_GHz  Memory(storage_device)  \\\n",
              "0  0.554348                 0.518519                0.454545   \n",
              "1  0.554348                 0.333333                0.000000   \n",
              "2  0.619565                 0.592593                0.454545   \n",
              "3  0.706522                 0.666667                0.454545   \n",
              "4  0.554348                 0.814815                0.454545   \n",
              "\n",
              "   Memory(storage_amount)_GB  \n",
              "0                   0.248532  \n",
              "1                   0.248532  \n",
              "2                   0.499022  \n",
              "3                   1.000000  \n",
              "4                   0.499022  "
            ],
            "text/html": [
              "\n",
              "  <div id=\"df-9b75c7fe-1d27-4e49-8fc4-e96d0906e203\">\n",
              "    <div class=\"colab-df-container\">\n",
              "      <div>\n",
              "<style scoped>\n",
              "    .dataframe tbody tr th:only-of-type {\n",
              "        vertical-align: middle;\n",
              "    }\n",
              "\n",
              "    .dataframe tbody tr th {\n",
              "        vertical-align: top;\n",
              "    }\n",
              "\n",
              "    .dataframe thead th {\n",
              "        text-align: right;\n",
              "    }\n",
              "</style>\n",
              "<table border=\"1\" class=\"dataframe\">\n",
              "  <thead>\n",
              "    <tr style=\"text-align: right;\">\n",
              "      <th></th>\n",
              "      <th>Company</th>\n",
              "      <th>Product</th>\n",
              "      <th>TypeName</th>\n",
              "      <th>Inches</th>\n",
              "      <th>Ram</th>\n",
              "      <th>Gpu</th>\n",
              "      <th>OpSys</th>\n",
              "      <th>Weight</th>\n",
              "      <th>Screen_Resoluton_Height</th>\n",
              "      <th>Screen_Display</th>\n",
              "      <th>Screen_Resoluton_Width</th>\n",
              "      <th>Cpu_Core</th>\n",
              "      <th>Cpu_Processor_Speed_GHz</th>\n",
              "      <th>Memory(storage_device)</th>\n",
              "      <th>Memory(storage_amount)_GB</th>\n",
              "    </tr>\n",
              "  </thead>\n",
              "  <tbody>\n",
              "    <tr>\n",
              "      <th>0</th>\n",
              "      <td>0.055556</td>\n",
              "      <td>0.486224</td>\n",
              "      <td>0.8</td>\n",
              "      <td>0.385542</td>\n",
              "      <td>0.096774</td>\n",
              "      <td>0.532110</td>\n",
              "      <td>1.0</td>\n",
              "      <td>0.169576</td>\n",
              "      <td>0.597701</td>\n",
              "      <td>0.60</td>\n",
              "      <td>0.482619</td>\n",
              "      <td>0.554348</td>\n",
              "      <td>0.518519</td>\n",
              "      <td>0.454545</td>\n",
              "      <td>0.248532</td>\n",
              "    </tr>\n",
              "    <tr>\n",
              "      <th>1</th>\n",
              "      <td>0.055556</td>\n",
              "      <td>0.487844</td>\n",
              "      <td>0.8</td>\n",
              "      <td>0.385542</td>\n",
              "      <td>0.096774</td>\n",
              "      <td>0.467890</td>\n",
              "      <td>1.0</td>\n",
              "      <td>0.162095</td>\n",
              "      <td>0.094828</td>\n",
              "      <td>0.00</td>\n",
              "      <td>0.029911</td>\n",
              "      <td>0.554348</td>\n",
              "      <td>0.333333</td>\n",
              "      <td>0.000000</td>\n",
              "      <td>0.248532</td>\n",
              "    </tr>\n",
              "    <tr>\n",
              "      <th>2</th>\n",
              "      <td>0.388889</td>\n",
              "      <td>0.081037</td>\n",
              "      <td>0.6</td>\n",
              "      <td>0.662651</td>\n",
              "      <td>0.096774</td>\n",
              "      <td>0.486239</td>\n",
              "      <td>0.5</td>\n",
              "      <td>0.291771</td>\n",
              "      <td>0.224138</td>\n",
              "      <td>0.15</td>\n",
              "      <td>0.223929</td>\n",
              "      <td>0.619565</td>\n",
              "      <td>0.592593</td>\n",
              "      <td>0.454545</td>\n",
              "      <td>0.499022</td>\n",
              "    </tr>\n",
              "    <tr>\n",
              "      <th>3</th>\n",
              "      <td>0.055556</td>\n",
              "      <td>0.486224</td>\n",
              "      <td>0.8</td>\n",
              "      <td>0.638554</td>\n",
              "      <td>0.225806</td>\n",
              "      <td>0.082569</td>\n",
              "      <td>1.0</td>\n",
              "      <td>0.284289</td>\n",
              "      <td>0.741379</td>\n",
              "      <td>0.60</td>\n",
              "      <td>0.611964</td>\n",
              "      <td>0.706522</td>\n",
              "      <td>0.666667</td>\n",
              "      <td>0.454545</td>\n",
              "      <td>1.000000</td>\n",
              "    </tr>\n",
              "    <tr>\n",
              "      <th>4</th>\n",
              "      <td>0.055556</td>\n",
              "      <td>0.486224</td>\n",
              "      <td>0.8</td>\n",
              "      <td>0.385542</td>\n",
              "      <td>0.096774</td>\n",
              "      <td>0.541284</td>\n",
              "      <td>1.0</td>\n",
              "      <td>0.169576</td>\n",
              "      <td>0.597701</td>\n",
              "      <td>0.60</td>\n",
              "      <td>0.482619</td>\n",
              "      <td>0.554348</td>\n",
              "      <td>0.814815</td>\n",
              "      <td>0.454545</td>\n",
              "      <td>0.499022</td>\n",
              "    </tr>\n",
              "  </tbody>\n",
              "</table>\n",
              "</div>\n",
              "      <button class=\"colab-df-convert\" onclick=\"convertToInteractive('df-9b75c7fe-1d27-4e49-8fc4-e96d0906e203')\"\n",
              "              title=\"Convert this dataframe to an interactive table.\"\n",
              "              style=\"display:none;\">\n",
              "        \n",
              "  <svg xmlns=\"http://www.w3.org/2000/svg\" height=\"24px\"viewBox=\"0 0 24 24\"\n",
              "       width=\"24px\">\n",
              "    <path d=\"M0 0h24v24H0V0z\" fill=\"none\"/>\n",
              "    <path d=\"M18.56 5.44l.94 2.06.94-2.06 2.06-.94-2.06-.94-.94-2.06-.94 2.06-2.06.94zm-11 1L8.5 8.5l.94-2.06 2.06-.94-2.06-.94L8.5 2.5l-.94 2.06-2.06.94zm10 10l.94 2.06.94-2.06 2.06-.94-2.06-.94-.94-2.06-.94 2.06-2.06.94z\"/><path d=\"M17.41 7.96l-1.37-1.37c-.4-.4-.92-.59-1.43-.59-.52 0-1.04.2-1.43.59L10.3 9.45l-7.72 7.72c-.78.78-.78 2.05 0 2.83L4 21.41c.39.39.9.59 1.41.59.51 0 1.02-.2 1.41-.59l7.78-7.78 2.81-2.81c.8-.78.8-2.07 0-2.86zM5.41 20L4 18.59l7.72-7.72 1.47 1.35L5.41 20z\"/>\n",
              "  </svg>\n",
              "      </button>\n",
              "      \n",
              "  <style>\n",
              "    .colab-df-container {\n",
              "      display:flex;\n",
              "      flex-wrap:wrap;\n",
              "      gap: 12px;\n",
              "    }\n",
              "\n",
              "    .colab-df-convert {\n",
              "      background-color: #E8F0FE;\n",
              "      border: none;\n",
              "      border-radius: 50%;\n",
              "      cursor: pointer;\n",
              "      display: none;\n",
              "      fill: #1967D2;\n",
              "      height: 32px;\n",
              "      padding: 0 0 0 0;\n",
              "      width: 32px;\n",
              "    }\n",
              "\n",
              "    .colab-df-convert:hover {\n",
              "      background-color: #E2EBFA;\n",
              "      box-shadow: 0px 1px 2px rgba(60, 64, 67, 0.3), 0px 1px 3px 1px rgba(60, 64, 67, 0.15);\n",
              "      fill: #174EA6;\n",
              "    }\n",
              "\n",
              "    [theme=dark] .colab-df-convert {\n",
              "      background-color: #3B4455;\n",
              "      fill: #D2E3FC;\n",
              "    }\n",
              "\n",
              "    [theme=dark] .colab-df-convert:hover {\n",
              "      background-color: #434B5C;\n",
              "      box-shadow: 0px 1px 3px 1px rgba(0, 0, 0, 0.15);\n",
              "      filter: drop-shadow(0px 1px 2px rgba(0, 0, 0, 0.3));\n",
              "      fill: #FFFFFF;\n",
              "    }\n",
              "  </style>\n",
              "\n",
              "      <script>\n",
              "        const buttonEl =\n",
              "          document.querySelector('#df-9b75c7fe-1d27-4e49-8fc4-e96d0906e203 button.colab-df-convert');\n",
              "        buttonEl.style.display =\n",
              "          google.colab.kernel.accessAllowed ? 'block' : 'none';\n",
              "\n",
              "        async function convertToInteractive(key) {\n",
              "          const element = document.querySelector('#df-9b75c7fe-1d27-4e49-8fc4-e96d0906e203');\n",
              "          const dataTable =\n",
              "            await google.colab.kernel.invokeFunction('convertToInteractive',\n",
              "                                                     [key], {});\n",
              "          if (!dataTable) return;\n",
              "\n",
              "          const docLinkHtml = 'Like what you see? Visit the ' +\n",
              "            '<a target=\"_blank\" href=https://colab.research.google.com/notebooks/data_table.ipynb>data table notebook</a>'\n",
              "            + ' to learn more about interactive tables.';\n",
              "          element.innerHTML = '';\n",
              "          dataTable['output_type'] = 'display_data';\n",
              "          await google.colab.output.renderOutput(dataTable, element);\n",
              "          const docLink = document.createElement('div');\n",
              "          docLink.innerHTML = docLinkHtml;\n",
              "          element.appendChild(docLink);\n",
              "        }\n",
              "      </script>\n",
              "    </div>\n",
              "  </div>\n",
              "  "
            ]
          },
          "metadata": {},
          "execution_count": 76
        }
      ]
    },
    {
      "cell_type": "code",
      "source": [
        "Y.head()"
      ],
      "metadata": {
        "colab": {
          "base_uri": "https://localhost:8080/",
          "height": 206
        },
        "id": "JDWlrJaScUsq",
        "outputId": "e3bc1d7f-df62-4367-a350-4496f43c1c7a"
      },
      "id": "JDWlrJaScUsq",
      "execution_count": 77,
      "outputs": [
        {
          "output_type": "execute_result",
          "data": {
            "text/plain": [
              "   Price_euros\n",
              "0      1339.69\n",
              "1       898.94\n",
              "2       575.00\n",
              "3      2537.45\n",
              "4      1803.60"
            ],
            "text/html": [
              "\n",
              "  <div id=\"df-2554bb29-dd80-4ca6-8c35-f62315c68e58\">\n",
              "    <div class=\"colab-df-container\">\n",
              "      <div>\n",
              "<style scoped>\n",
              "    .dataframe tbody tr th:only-of-type {\n",
              "        vertical-align: middle;\n",
              "    }\n",
              "\n",
              "    .dataframe tbody tr th {\n",
              "        vertical-align: top;\n",
              "    }\n",
              "\n",
              "    .dataframe thead th {\n",
              "        text-align: right;\n",
              "    }\n",
              "</style>\n",
              "<table border=\"1\" class=\"dataframe\">\n",
              "  <thead>\n",
              "    <tr style=\"text-align: right;\">\n",
              "      <th></th>\n",
              "      <th>Price_euros</th>\n",
              "    </tr>\n",
              "  </thead>\n",
              "  <tbody>\n",
              "    <tr>\n",
              "      <th>0</th>\n",
              "      <td>1339.69</td>\n",
              "    </tr>\n",
              "    <tr>\n",
              "      <th>1</th>\n",
              "      <td>898.94</td>\n",
              "    </tr>\n",
              "    <tr>\n",
              "      <th>2</th>\n",
              "      <td>575.00</td>\n",
              "    </tr>\n",
              "    <tr>\n",
              "      <th>3</th>\n",
              "      <td>2537.45</td>\n",
              "    </tr>\n",
              "    <tr>\n",
              "      <th>4</th>\n",
              "      <td>1803.60</td>\n",
              "    </tr>\n",
              "  </tbody>\n",
              "</table>\n",
              "</div>\n",
              "      <button class=\"colab-df-convert\" onclick=\"convertToInteractive('df-2554bb29-dd80-4ca6-8c35-f62315c68e58')\"\n",
              "              title=\"Convert this dataframe to an interactive table.\"\n",
              "              style=\"display:none;\">\n",
              "        \n",
              "  <svg xmlns=\"http://www.w3.org/2000/svg\" height=\"24px\"viewBox=\"0 0 24 24\"\n",
              "       width=\"24px\">\n",
              "    <path d=\"M0 0h24v24H0V0z\" fill=\"none\"/>\n",
              "    <path d=\"M18.56 5.44l.94 2.06.94-2.06 2.06-.94-2.06-.94-.94-2.06-.94 2.06-2.06.94zm-11 1L8.5 8.5l.94-2.06 2.06-.94-2.06-.94L8.5 2.5l-.94 2.06-2.06.94zm10 10l.94 2.06.94-2.06 2.06-.94-2.06-.94-.94-2.06-.94 2.06-2.06.94z\"/><path d=\"M17.41 7.96l-1.37-1.37c-.4-.4-.92-.59-1.43-.59-.52 0-1.04.2-1.43.59L10.3 9.45l-7.72 7.72c-.78.78-.78 2.05 0 2.83L4 21.41c.39.39.9.59 1.41.59.51 0 1.02-.2 1.41-.59l7.78-7.78 2.81-2.81c.8-.78.8-2.07 0-2.86zM5.41 20L4 18.59l7.72-7.72 1.47 1.35L5.41 20z\"/>\n",
              "  </svg>\n",
              "      </button>\n",
              "      \n",
              "  <style>\n",
              "    .colab-df-container {\n",
              "      display:flex;\n",
              "      flex-wrap:wrap;\n",
              "      gap: 12px;\n",
              "    }\n",
              "\n",
              "    .colab-df-convert {\n",
              "      background-color: #E8F0FE;\n",
              "      border: none;\n",
              "      border-radius: 50%;\n",
              "      cursor: pointer;\n",
              "      display: none;\n",
              "      fill: #1967D2;\n",
              "      height: 32px;\n",
              "      padding: 0 0 0 0;\n",
              "      width: 32px;\n",
              "    }\n",
              "\n",
              "    .colab-df-convert:hover {\n",
              "      background-color: #E2EBFA;\n",
              "      box-shadow: 0px 1px 2px rgba(60, 64, 67, 0.3), 0px 1px 3px 1px rgba(60, 64, 67, 0.15);\n",
              "      fill: #174EA6;\n",
              "    }\n",
              "\n",
              "    [theme=dark] .colab-df-convert {\n",
              "      background-color: #3B4455;\n",
              "      fill: #D2E3FC;\n",
              "    }\n",
              "\n",
              "    [theme=dark] .colab-df-convert:hover {\n",
              "      background-color: #434B5C;\n",
              "      box-shadow: 0px 1px 3px 1px rgba(0, 0, 0, 0.15);\n",
              "      filter: drop-shadow(0px 1px 2px rgba(0, 0, 0, 0.3));\n",
              "      fill: #FFFFFF;\n",
              "    }\n",
              "  </style>\n",
              "\n",
              "      <script>\n",
              "        const buttonEl =\n",
              "          document.querySelector('#df-2554bb29-dd80-4ca6-8c35-f62315c68e58 button.colab-df-convert');\n",
              "        buttonEl.style.display =\n",
              "          google.colab.kernel.accessAllowed ? 'block' : 'none';\n",
              "\n",
              "        async function convertToInteractive(key) {\n",
              "          const element = document.querySelector('#df-2554bb29-dd80-4ca6-8c35-f62315c68e58');\n",
              "          const dataTable =\n",
              "            await google.colab.kernel.invokeFunction('convertToInteractive',\n",
              "                                                     [key], {});\n",
              "          if (!dataTable) return;\n",
              "\n",
              "          const docLinkHtml = 'Like what you see? Visit the ' +\n",
              "            '<a target=\"_blank\" href=https://colab.research.google.com/notebooks/data_table.ipynb>data table notebook</a>'\n",
              "            + ' to learn more about interactive tables.';\n",
              "          element.innerHTML = '';\n",
              "          dataTable['output_type'] = 'display_data';\n",
              "          await google.colab.output.renderOutput(dataTable, element);\n",
              "          const docLink = document.createElement('div');\n",
              "          docLink.innerHTML = docLinkHtml;\n",
              "          element.appendChild(docLink);\n",
              "        }\n",
              "      </script>\n",
              "    </div>\n",
              "  </div>\n",
              "  "
            ]
          },
          "metadata": {},
          "execution_count": 77
        }
      ]
    },
    {
      "cell_type": "code",
      "source": [
        "X.info()"
      ],
      "metadata": {
        "colab": {
          "base_uri": "https://localhost:8080/"
        },
        "id": "9QZTiUcwaj47",
        "outputId": "52313d9a-1e3f-4666-c165-0ff355a31906"
      },
      "id": "9QZTiUcwaj47",
      "execution_count": 78,
      "outputs": [
        {
          "output_type": "stream",
          "name": "stdout",
          "text": [
            "<class 'pandas.core.frame.DataFrame'>\n",
            "Int64Index: 1275 entries, 0 to 1274\n",
            "Data columns (total 15 columns):\n",
            " #   Column                     Non-Null Count  Dtype  \n",
            "---  ------                     --------------  -----  \n",
            " 0   Company                    1275 non-null   float64\n",
            " 1   Product                    1275 non-null   float64\n",
            " 2   TypeName                   1275 non-null   float64\n",
            " 3   Inches                     1275 non-null   float64\n",
            " 4   Ram                        1275 non-null   float64\n",
            " 5   Gpu                        1275 non-null   float64\n",
            " 6   OpSys                      1275 non-null   float64\n",
            " 7   Weight                     1275 non-null   float64\n",
            " 8   Screen_Resoluton_Height    1275 non-null   float64\n",
            " 9   Screen_Display             1275 non-null   float64\n",
            " 10  Screen_Resoluton_Width     1275 non-null   float64\n",
            " 11  Cpu_Core                   1275 non-null   float64\n",
            " 12  Cpu_Processor_Speed_GHz    1275 non-null   float64\n",
            " 13  Memory(storage_device)     1275 non-null   float64\n",
            " 14  Memory(storage_amount)_GB  1275 non-null   float64\n",
            "dtypes: float64(15)\n",
            "memory usage: 159.4 KB\n"
          ]
        }
      ]
    },
    {
      "cell_type": "code",
      "source": [
        "df.info()"
      ],
      "metadata": {
        "colab": {
          "base_uri": "https://localhost:8080/"
        },
        "id": "pyc59YEm8bL-",
        "outputId": "01802256-7a2e-4037-8dd1-a90a047cdc2b"
      },
      "id": "pyc59YEm8bL-",
      "execution_count": 79,
      "outputs": [
        {
          "output_type": "stream",
          "name": "stdout",
          "text": [
            "<class 'pandas.core.frame.DataFrame'>\n",
            "Int64Index: 1275 entries, 0 to 1274\n",
            "Data columns (total 16 columns):\n",
            " #   Column                     Non-Null Count  Dtype  \n",
            "---  ------                     --------------  -----  \n",
            " 0   Company                    1275 non-null   object \n",
            " 1   Product                    1275 non-null   object \n",
            " 2   TypeName                   1275 non-null   object \n",
            " 3   Inches                     1275 non-null   float64\n",
            " 4   Ram                        1275 non-null   int64  \n",
            " 5   Gpu                        1275 non-null   object \n",
            " 6   OpSys                      1275 non-null   object \n",
            " 7   Weight                     1275 non-null   float64\n",
            " 8   Price_euros                1275 non-null   float64\n",
            " 9   Screen_Resoluton_Height    1275 non-null   int64  \n",
            " 10  Screen_Display             1275 non-null   object \n",
            " 11  Screen_Resoluton_Width     1275 non-null   int64  \n",
            " 12  Cpu_Core                   1275 non-null   object \n",
            " 13  Cpu_Processor_Speed_GHz    1275 non-null   float64\n",
            " 14  Memory(storage_device)     1275 non-null   object \n",
            " 15  Memory(storage_amount)_GB  1275 non-null   float64\n",
            "dtypes: float64(5), int64(3), object(8)\n",
            "memory usage: 169.3+ KB\n"
          ]
        }
      ]
    },
    {
      "cell_type": "markdown",
      "source": [
        "#correlation"
      ],
      "metadata": {
        "id": "YzrB1QO4jrEt"
      },
      "id": "YzrB1QO4jrEt"
    },
    {
      "cell_type": "code",
      "source": [
        "X.corr()"
      ],
      "metadata": {
        "colab": {
          "base_uri": "https://localhost:8080/",
          "height": 584
        },
        "id": "sp0zjVl6jtj-",
        "outputId": "4cfb5de1-b04e-4431-ea07-16bb18d5f046"
      },
      "id": "sp0zjVl6jtj-",
      "execution_count": 80,
      "outputs": [
        {
          "output_type": "execute_result",
          "data": {
            "text/plain": [
              "                            Company   Product  TypeName    Inches       Ram  \\\n",
              "Company                    1.000000  0.069802  0.001678 -0.082380  0.041771   \n",
              "Product                    0.069802  1.000000  0.076330 -0.213195  0.018830   \n",
              "TypeName                   0.001678  0.076330  1.000000 -0.086162 -0.242265   \n",
              "Inches                    -0.082380 -0.213195 -0.086162  1.000000  0.241078   \n",
              "Ram                        0.041771  0.018830 -0.242265  0.241078  1.000000   \n",
              "Gpu                        0.022773  0.094726 -0.207889  0.217168  0.393143   \n",
              "OpSys                      0.127853  0.114857  0.090069  0.039672  0.140002   \n",
              "Weight                    -0.128194 -0.244554 -0.275440  0.826638  0.389370   \n",
              "Screen_Resoluton_Height    0.043498  0.158163 -0.059244 -0.093062  0.415241   \n",
              "Screen_Display             0.083922  0.199818 -0.211522 -0.282932  0.219431   \n",
              "Screen_Resoluton_Width     0.046347  0.157595 -0.074363 -0.068223  0.424089   \n",
              "Cpu_Core                   0.023631  0.154984 -0.119149  0.142788  0.445475   \n",
              "Cpu_Processor_Speed_GHz    0.133191 -0.043060 -0.082810  0.305037  0.366254   \n",
              "Memory(storage_device)     0.101731  0.053956 -0.195650  0.183145  0.472031   \n",
              "Memory(storage_amount)_GB  0.107550  0.116374  0.061059 -0.100987  0.187187   \n",
              "\n",
              "                                Gpu     OpSys    Weight  \\\n",
              "Company                    0.022773  0.127853 -0.128194   \n",
              "Product                    0.094726  0.114857 -0.244554   \n",
              "TypeName                  -0.207889  0.090069 -0.275440   \n",
              "Inches                     0.217168  0.039672  0.826638   \n",
              "Ram                        0.393143  0.140002  0.389370   \n",
              "Gpu                        1.000000  0.098538  0.337428   \n",
              "OpSys                      0.098538  1.000000  0.011309   \n",
              "Weight                     0.337428  0.011309  1.000000   \n",
              "Screen_Resoluton_Height    0.221979  0.149078 -0.050106   \n",
              "Screen_Display             0.156902  0.069145 -0.155452   \n",
              "Screen_Resoluton_Width     0.232852  0.148355 -0.028605   \n",
              "Cpu_Core                   0.490863  0.108014  0.179937   \n",
              "Cpu_Processor_Speed_GHz    0.296863  0.219762  0.318649   \n",
              "Memory(storage_device)     0.289555  0.259775  0.225176   \n",
              "Memory(storage_amount)_GB  0.038249  0.192880 -0.105474   \n",
              "\n",
              "                           Screen_Resoluton_Height  Screen_Display  \\\n",
              "Company                                   0.043498        0.083922   \n",
              "Product                                   0.158163        0.199818   \n",
              "TypeName                                 -0.059244       -0.211522   \n",
              "Inches                                   -0.093062       -0.282932   \n",
              "Ram                                       0.415241        0.219431   \n",
              "Gpu                                       0.221979        0.156902   \n",
              "OpSys                                     0.149078        0.069145   \n",
              "Weight                                   -0.050106       -0.155452   \n",
              "Screen_Resoluton_Height                   1.000000        0.478766   \n",
              "Screen_Display                            0.478766        1.000000   \n",
              "Screen_Resoluton_Width                    0.994069        0.451459   \n",
              "Cpu_Core                                  0.300759        0.205034   \n",
              "Cpu_Processor_Speed_GHz                   0.164369        0.031605   \n",
              "Memory(storage_device)                    0.335553        0.203254   \n",
              "Memory(storage_amount)_GB                 0.155782        0.074855   \n",
              "\n",
              "                           Screen_Resoluton_Width  Cpu_Core  \\\n",
              "Company                                  0.046347  0.023631   \n",
              "Product                                  0.157595  0.154984   \n",
              "TypeName                                -0.074363 -0.119149   \n",
              "Inches                                  -0.068223  0.142788   \n",
              "Ram                                      0.424089  0.445475   \n",
              "Gpu                                      0.232852  0.490863   \n",
              "OpSys                                    0.148355  0.108014   \n",
              "Weight                                  -0.028605  0.179937   \n",
              "Screen_Resoluton_Height                  0.994069  0.300759   \n",
              "Screen_Display                           0.451459  0.205034   \n",
              "Screen_Resoluton_Width                   1.000000  0.311779   \n",
              "Cpu_Core                                 0.311779  1.000000   \n",
              "Cpu_Processor_Speed_GHz                  0.178659  0.219944   \n",
              "Memory(storage_device)                   0.351133  0.409339   \n",
              "Memory(storage_amount)_GB                0.154442  0.148075   \n",
              "\n",
              "                           Cpu_Processor_Speed_GHz  Memory(storage_device)  \\\n",
              "Company                                   0.133191                0.101731   \n",
              "Product                                  -0.043060                0.053956   \n",
              "TypeName                                 -0.082810               -0.195650   \n",
              "Inches                                    0.305037                0.183145   \n",
              "Ram                                       0.366254                0.472031   \n",
              "Gpu                                       0.296863                0.289555   \n",
              "OpSys                                     0.219762                0.259775   \n",
              "Weight                                    0.318649                0.225176   \n",
              "Screen_Resoluton_Height                   0.164369                0.335553   \n",
              "Screen_Display                            0.031605                0.203254   \n",
              "Screen_Resoluton_Width                    0.178659                0.351133   \n",
              "Cpu_Core                                  0.219944                0.409339   \n",
              "Cpu_Processor_Speed_GHz                   1.000000                0.370280   \n",
              "Memory(storage_device)                    0.370280                1.000000   \n",
              "Memory(storage_amount)_GB                 0.114515                0.242247   \n",
              "\n",
              "                           Memory(storage_amount)_GB  \n",
              "Company                                     0.107550  \n",
              "Product                                     0.116374  \n",
              "TypeName                                    0.061059  \n",
              "Inches                                     -0.100987  \n",
              "Ram                                         0.187187  \n",
              "Gpu                                         0.038249  \n",
              "OpSys                                       0.192880  \n",
              "Weight                                     -0.105474  \n",
              "Screen_Resoluton_Height                     0.155782  \n",
              "Screen_Display                              0.074855  \n",
              "Screen_Resoluton_Width                      0.154442  \n",
              "Cpu_Core                                    0.148075  \n",
              "Cpu_Processor_Speed_GHz                     0.114515  \n",
              "Memory(storage_device)                      0.242247  \n",
              "Memory(storage_amount)_GB                   1.000000  "
            ],
            "text/html": [
              "\n",
              "  <div id=\"df-c51c829f-fd85-4e35-84e1-992ffb409707\">\n",
              "    <div class=\"colab-df-container\">\n",
              "      <div>\n",
              "<style scoped>\n",
              "    .dataframe tbody tr th:only-of-type {\n",
              "        vertical-align: middle;\n",
              "    }\n",
              "\n",
              "    .dataframe tbody tr th {\n",
              "        vertical-align: top;\n",
              "    }\n",
              "\n",
              "    .dataframe thead th {\n",
              "        text-align: right;\n",
              "    }\n",
              "</style>\n",
              "<table border=\"1\" class=\"dataframe\">\n",
              "  <thead>\n",
              "    <tr style=\"text-align: right;\">\n",
              "      <th></th>\n",
              "      <th>Company</th>\n",
              "      <th>Product</th>\n",
              "      <th>TypeName</th>\n",
              "      <th>Inches</th>\n",
              "      <th>Ram</th>\n",
              "      <th>Gpu</th>\n",
              "      <th>OpSys</th>\n",
              "      <th>Weight</th>\n",
              "      <th>Screen_Resoluton_Height</th>\n",
              "      <th>Screen_Display</th>\n",
              "      <th>Screen_Resoluton_Width</th>\n",
              "      <th>Cpu_Core</th>\n",
              "      <th>Cpu_Processor_Speed_GHz</th>\n",
              "      <th>Memory(storage_device)</th>\n",
              "      <th>Memory(storage_amount)_GB</th>\n",
              "    </tr>\n",
              "  </thead>\n",
              "  <tbody>\n",
              "    <tr>\n",
              "      <th>Company</th>\n",
              "      <td>1.000000</td>\n",
              "      <td>0.069802</td>\n",
              "      <td>0.001678</td>\n",
              "      <td>-0.082380</td>\n",
              "      <td>0.041771</td>\n",
              "      <td>0.022773</td>\n",
              "      <td>0.127853</td>\n",
              "      <td>-0.128194</td>\n",
              "      <td>0.043498</td>\n",
              "      <td>0.083922</td>\n",
              "      <td>0.046347</td>\n",
              "      <td>0.023631</td>\n",
              "      <td>0.133191</td>\n",
              "      <td>0.101731</td>\n",
              "      <td>0.107550</td>\n",
              "    </tr>\n",
              "    <tr>\n",
              "      <th>Product</th>\n",
              "      <td>0.069802</td>\n",
              "      <td>1.000000</td>\n",
              "      <td>0.076330</td>\n",
              "      <td>-0.213195</td>\n",
              "      <td>0.018830</td>\n",
              "      <td>0.094726</td>\n",
              "      <td>0.114857</td>\n",
              "      <td>-0.244554</td>\n",
              "      <td>0.158163</td>\n",
              "      <td>0.199818</td>\n",
              "      <td>0.157595</td>\n",
              "      <td>0.154984</td>\n",
              "      <td>-0.043060</td>\n",
              "      <td>0.053956</td>\n",
              "      <td>0.116374</td>\n",
              "    </tr>\n",
              "    <tr>\n",
              "      <th>TypeName</th>\n",
              "      <td>0.001678</td>\n",
              "      <td>0.076330</td>\n",
              "      <td>1.000000</td>\n",
              "      <td>-0.086162</td>\n",
              "      <td>-0.242265</td>\n",
              "      <td>-0.207889</td>\n",
              "      <td>0.090069</td>\n",
              "      <td>-0.275440</td>\n",
              "      <td>-0.059244</td>\n",
              "      <td>-0.211522</td>\n",
              "      <td>-0.074363</td>\n",
              "      <td>-0.119149</td>\n",
              "      <td>-0.082810</td>\n",
              "      <td>-0.195650</td>\n",
              "      <td>0.061059</td>\n",
              "    </tr>\n",
              "    <tr>\n",
              "      <th>Inches</th>\n",
              "      <td>-0.082380</td>\n",
              "      <td>-0.213195</td>\n",
              "      <td>-0.086162</td>\n",
              "      <td>1.000000</td>\n",
              "      <td>0.241078</td>\n",
              "      <td>0.217168</td>\n",
              "      <td>0.039672</td>\n",
              "      <td>0.826638</td>\n",
              "      <td>-0.093062</td>\n",
              "      <td>-0.282932</td>\n",
              "      <td>-0.068223</td>\n",
              "      <td>0.142788</td>\n",
              "      <td>0.305037</td>\n",
              "      <td>0.183145</td>\n",
              "      <td>-0.100987</td>\n",
              "    </tr>\n",
              "    <tr>\n",
              "      <th>Ram</th>\n",
              "      <td>0.041771</td>\n",
              "      <td>0.018830</td>\n",
              "      <td>-0.242265</td>\n",
              "      <td>0.241078</td>\n",
              "      <td>1.000000</td>\n",
              "      <td>0.393143</td>\n",
              "      <td>0.140002</td>\n",
              "      <td>0.389370</td>\n",
              "      <td>0.415241</td>\n",
              "      <td>0.219431</td>\n",
              "      <td>0.424089</td>\n",
              "      <td>0.445475</td>\n",
              "      <td>0.366254</td>\n",
              "      <td>0.472031</td>\n",
              "      <td>0.187187</td>\n",
              "    </tr>\n",
              "    <tr>\n",
              "      <th>Gpu</th>\n",
              "      <td>0.022773</td>\n",
              "      <td>0.094726</td>\n",
              "      <td>-0.207889</td>\n",
              "      <td>0.217168</td>\n",
              "      <td>0.393143</td>\n",
              "      <td>1.000000</td>\n",
              "      <td>0.098538</td>\n",
              "      <td>0.337428</td>\n",
              "      <td>0.221979</td>\n",
              "      <td>0.156902</td>\n",
              "      <td>0.232852</td>\n",
              "      <td>0.490863</td>\n",
              "      <td>0.296863</td>\n",
              "      <td>0.289555</td>\n",
              "      <td>0.038249</td>\n",
              "    </tr>\n",
              "    <tr>\n",
              "      <th>OpSys</th>\n",
              "      <td>0.127853</td>\n",
              "      <td>0.114857</td>\n",
              "      <td>0.090069</td>\n",
              "      <td>0.039672</td>\n",
              "      <td>0.140002</td>\n",
              "      <td>0.098538</td>\n",
              "      <td>1.000000</td>\n",
              "      <td>0.011309</td>\n",
              "      <td>0.149078</td>\n",
              "      <td>0.069145</td>\n",
              "      <td>0.148355</td>\n",
              "      <td>0.108014</td>\n",
              "      <td>0.219762</td>\n",
              "      <td>0.259775</td>\n",
              "      <td>0.192880</td>\n",
              "    </tr>\n",
              "    <tr>\n",
              "      <th>Weight</th>\n",
              "      <td>-0.128194</td>\n",
              "      <td>-0.244554</td>\n",
              "      <td>-0.275440</td>\n",
              "      <td>0.826638</td>\n",
              "      <td>0.389370</td>\n",
              "      <td>0.337428</td>\n",
              "      <td>0.011309</td>\n",
              "      <td>1.000000</td>\n",
              "      <td>-0.050106</td>\n",
              "      <td>-0.155452</td>\n",
              "      <td>-0.028605</td>\n",
              "      <td>0.179937</td>\n",
              "      <td>0.318649</td>\n",
              "      <td>0.225176</td>\n",
              "      <td>-0.105474</td>\n",
              "    </tr>\n",
              "    <tr>\n",
              "      <th>Screen_Resoluton_Height</th>\n",
              "      <td>0.043498</td>\n",
              "      <td>0.158163</td>\n",
              "      <td>-0.059244</td>\n",
              "      <td>-0.093062</td>\n",
              "      <td>0.415241</td>\n",
              "      <td>0.221979</td>\n",
              "      <td>0.149078</td>\n",
              "      <td>-0.050106</td>\n",
              "      <td>1.000000</td>\n",
              "      <td>0.478766</td>\n",
              "      <td>0.994069</td>\n",
              "      <td>0.300759</td>\n",
              "      <td>0.164369</td>\n",
              "      <td>0.335553</td>\n",
              "      <td>0.155782</td>\n",
              "    </tr>\n",
              "    <tr>\n",
              "      <th>Screen_Display</th>\n",
              "      <td>0.083922</td>\n",
              "      <td>0.199818</td>\n",
              "      <td>-0.211522</td>\n",
              "      <td>-0.282932</td>\n",
              "      <td>0.219431</td>\n",
              "      <td>0.156902</td>\n",
              "      <td>0.069145</td>\n",
              "      <td>-0.155452</td>\n",
              "      <td>0.478766</td>\n",
              "      <td>1.000000</td>\n",
              "      <td>0.451459</td>\n",
              "      <td>0.205034</td>\n",
              "      <td>0.031605</td>\n",
              "      <td>0.203254</td>\n",
              "      <td>0.074855</td>\n",
              "    </tr>\n",
              "    <tr>\n",
              "      <th>Screen_Resoluton_Width</th>\n",
              "      <td>0.046347</td>\n",
              "      <td>0.157595</td>\n",
              "      <td>-0.074363</td>\n",
              "      <td>-0.068223</td>\n",
              "      <td>0.424089</td>\n",
              "      <td>0.232852</td>\n",
              "      <td>0.148355</td>\n",
              "      <td>-0.028605</td>\n",
              "      <td>0.994069</td>\n",
              "      <td>0.451459</td>\n",
              "      <td>1.000000</td>\n",
              "      <td>0.311779</td>\n",
              "      <td>0.178659</td>\n",
              "      <td>0.351133</td>\n",
              "      <td>0.154442</td>\n",
              "    </tr>\n",
              "    <tr>\n",
              "      <th>Cpu_Core</th>\n",
              "      <td>0.023631</td>\n",
              "      <td>0.154984</td>\n",
              "      <td>-0.119149</td>\n",
              "      <td>0.142788</td>\n",
              "      <td>0.445475</td>\n",
              "      <td>0.490863</td>\n",
              "      <td>0.108014</td>\n",
              "      <td>0.179937</td>\n",
              "      <td>0.300759</td>\n",
              "      <td>0.205034</td>\n",
              "      <td>0.311779</td>\n",
              "      <td>1.000000</td>\n",
              "      <td>0.219944</td>\n",
              "      <td>0.409339</td>\n",
              "      <td>0.148075</td>\n",
              "    </tr>\n",
              "    <tr>\n",
              "      <th>Cpu_Processor_Speed_GHz</th>\n",
              "      <td>0.133191</td>\n",
              "      <td>-0.043060</td>\n",
              "      <td>-0.082810</td>\n",
              "      <td>0.305037</td>\n",
              "      <td>0.366254</td>\n",
              "      <td>0.296863</td>\n",
              "      <td>0.219762</td>\n",
              "      <td>0.318649</td>\n",
              "      <td>0.164369</td>\n",
              "      <td>0.031605</td>\n",
              "      <td>0.178659</td>\n",
              "      <td>0.219944</td>\n",
              "      <td>1.000000</td>\n",
              "      <td>0.370280</td>\n",
              "      <td>0.114515</td>\n",
              "    </tr>\n",
              "    <tr>\n",
              "      <th>Memory(storage_device)</th>\n",
              "      <td>0.101731</td>\n",
              "      <td>0.053956</td>\n",
              "      <td>-0.195650</td>\n",
              "      <td>0.183145</td>\n",
              "      <td>0.472031</td>\n",
              "      <td>0.289555</td>\n",
              "      <td>0.259775</td>\n",
              "      <td>0.225176</td>\n",
              "      <td>0.335553</td>\n",
              "      <td>0.203254</td>\n",
              "      <td>0.351133</td>\n",
              "      <td>0.409339</td>\n",
              "      <td>0.370280</td>\n",
              "      <td>1.000000</td>\n",
              "      <td>0.242247</td>\n",
              "    </tr>\n",
              "    <tr>\n",
              "      <th>Memory(storage_amount)_GB</th>\n",
              "      <td>0.107550</td>\n",
              "      <td>0.116374</td>\n",
              "      <td>0.061059</td>\n",
              "      <td>-0.100987</td>\n",
              "      <td>0.187187</td>\n",
              "      <td>0.038249</td>\n",
              "      <td>0.192880</td>\n",
              "      <td>-0.105474</td>\n",
              "      <td>0.155782</td>\n",
              "      <td>0.074855</td>\n",
              "      <td>0.154442</td>\n",
              "      <td>0.148075</td>\n",
              "      <td>0.114515</td>\n",
              "      <td>0.242247</td>\n",
              "      <td>1.000000</td>\n",
              "    </tr>\n",
              "  </tbody>\n",
              "</table>\n",
              "</div>\n",
              "      <button class=\"colab-df-convert\" onclick=\"convertToInteractive('df-c51c829f-fd85-4e35-84e1-992ffb409707')\"\n",
              "              title=\"Convert this dataframe to an interactive table.\"\n",
              "              style=\"display:none;\">\n",
              "        \n",
              "  <svg xmlns=\"http://www.w3.org/2000/svg\" height=\"24px\"viewBox=\"0 0 24 24\"\n",
              "       width=\"24px\">\n",
              "    <path d=\"M0 0h24v24H0V0z\" fill=\"none\"/>\n",
              "    <path d=\"M18.56 5.44l.94 2.06.94-2.06 2.06-.94-2.06-.94-.94-2.06-.94 2.06-2.06.94zm-11 1L8.5 8.5l.94-2.06 2.06-.94-2.06-.94L8.5 2.5l-.94 2.06-2.06.94zm10 10l.94 2.06.94-2.06 2.06-.94-2.06-.94-.94-2.06-.94 2.06-2.06.94z\"/><path d=\"M17.41 7.96l-1.37-1.37c-.4-.4-.92-.59-1.43-.59-.52 0-1.04.2-1.43.59L10.3 9.45l-7.72 7.72c-.78.78-.78 2.05 0 2.83L4 21.41c.39.39.9.59 1.41.59.51 0 1.02-.2 1.41-.59l7.78-7.78 2.81-2.81c.8-.78.8-2.07 0-2.86zM5.41 20L4 18.59l7.72-7.72 1.47 1.35L5.41 20z\"/>\n",
              "  </svg>\n",
              "      </button>\n",
              "      \n",
              "  <style>\n",
              "    .colab-df-container {\n",
              "      display:flex;\n",
              "      flex-wrap:wrap;\n",
              "      gap: 12px;\n",
              "    }\n",
              "\n",
              "    .colab-df-convert {\n",
              "      background-color: #E8F0FE;\n",
              "      border: none;\n",
              "      border-radius: 50%;\n",
              "      cursor: pointer;\n",
              "      display: none;\n",
              "      fill: #1967D2;\n",
              "      height: 32px;\n",
              "      padding: 0 0 0 0;\n",
              "      width: 32px;\n",
              "    }\n",
              "\n",
              "    .colab-df-convert:hover {\n",
              "      background-color: #E2EBFA;\n",
              "      box-shadow: 0px 1px 2px rgba(60, 64, 67, 0.3), 0px 1px 3px 1px rgba(60, 64, 67, 0.15);\n",
              "      fill: #174EA6;\n",
              "    }\n",
              "\n",
              "    [theme=dark] .colab-df-convert {\n",
              "      background-color: #3B4455;\n",
              "      fill: #D2E3FC;\n",
              "    }\n",
              "\n",
              "    [theme=dark] .colab-df-convert:hover {\n",
              "      background-color: #434B5C;\n",
              "      box-shadow: 0px 1px 3px 1px rgba(0, 0, 0, 0.15);\n",
              "      filter: drop-shadow(0px 1px 2px rgba(0, 0, 0, 0.3));\n",
              "      fill: #FFFFFF;\n",
              "    }\n",
              "  </style>\n",
              "\n",
              "      <script>\n",
              "        const buttonEl =\n",
              "          document.querySelector('#df-c51c829f-fd85-4e35-84e1-992ffb409707 button.colab-df-convert');\n",
              "        buttonEl.style.display =\n",
              "          google.colab.kernel.accessAllowed ? 'block' : 'none';\n",
              "\n",
              "        async function convertToInteractive(key) {\n",
              "          const element = document.querySelector('#df-c51c829f-fd85-4e35-84e1-992ffb409707');\n",
              "          const dataTable =\n",
              "            await google.colab.kernel.invokeFunction('convertToInteractive',\n",
              "                                                     [key], {});\n",
              "          if (!dataTable) return;\n",
              "\n",
              "          const docLinkHtml = 'Like what you see? Visit the ' +\n",
              "            '<a target=\"_blank\" href=https://colab.research.google.com/notebooks/data_table.ipynb>data table notebook</a>'\n",
              "            + ' to learn more about interactive tables.';\n",
              "          element.innerHTML = '';\n",
              "          dataTable['output_type'] = 'display_data';\n",
              "          await google.colab.output.renderOutput(dataTable, element);\n",
              "          const docLink = document.createElement('div');\n",
              "          docLink.innerHTML = docLinkHtml;\n",
              "          element.appendChild(docLink);\n",
              "        }\n",
              "      </script>\n",
              "    </div>\n",
              "  </div>\n",
              "  "
            ]
          },
          "metadata": {},
          "execution_count": 80
        }
      ]
    },
    {
      "cell_type": "code",
      "source": [
        "plt.subplots(figsize=(15,10)) \n",
        "sns.heatmap(X.corr() , annot=True)"
      ],
      "metadata": {
        "colab": {
          "base_uri": "https://localhost:8080/",
          "height": 752
        },
        "id": "eBD6NEoJjyOj",
        "outputId": "301a4485-8f53-41a4-8158-74c70be5dba6"
      },
      "id": "eBD6NEoJjyOj",
      "execution_count": 81,
      "outputs": [
        {
          "output_type": "execute_result",
          "data": {
            "text/plain": [
              "<matplotlib.axes._subplots.AxesSubplot at 0x7fb369c4c250>"
            ]
          },
          "metadata": {},
          "execution_count": 81
        },
        {
          "output_type": "display_data",
          "data": {
            "text/plain": [
              "<Figure size 1080x720 with 2 Axes>"
            ],
            "image/png": "[encoded data removed]"
          },
          "metadata": {
            "needs_background": "light"
          }
        }
      ]
    },
    {
      "cell_type": "markdown",
      "source": [
        "#checking unique values"
      ],
      "metadata": {
        "id": "fTetoUo2e3AE"
      },
      "id": "fTetoUo2e3AE"
    },
    {
      "cell_type": "code",
      "source": [
        "df.head()"
      ],
      "metadata": {
        "colab": {
          "base_uri": "https://localhost:8080/",
          "height": 478
        },
        "id": "A8RrnGNcjxlN",
        "outputId": "c652136e-3e09-40d9-fbf1-0c3f310d3750"
      },
      "id": "A8RrnGNcjxlN",
      "execution_count": 82,
      "outputs": [
        {
          "output_type": "execute_result",
          "data": {
            "text/plain": [
              "  Company      Product   TypeName  Inches  Ram                           Gpu  \\\n",
              "0   Apple  MacBook Pro  Ultrabook    13.3    8  Intel Iris Plus Graphics 640   \n",
              "1   Apple  Macbook Air  Ultrabook    13.3    8        Intel HD Graphics 6000   \n",
              "2      HP       250 G6   Notebook    15.6    8         Intel HD Graphics 620   \n",
              "3   Apple  MacBook Pro  Ultrabook    15.4   16            AMD Radeon Pro 455   \n",
              "4   Apple  MacBook Pro  Ultrabook    13.3    8  Intel Iris Plus Graphics 650   \n",
              "\n",
              "   OpSys  Weight  Price_euros  Screen_Resoluton_Height  \\\n",
              "0  macOS    1.37      1339.69                     1600   \n",
              "1  macOS    1.34       898.94                      900   \n",
              "2  No OS    1.86       575.00                     1080   \n",
              "3  macOS    1.83      2537.45                     1800   \n",
              "4  macOS    1.37      1803.60                     1600   \n",
              "\n",
              "              Screen_Display  Screen_Resoluton_Width             Cpu_Core  \\\n",
              "0  IPS Panel Retina Display                     2560        Intel Core i5   \n",
              "1                                               1440        Intel Core i5   \n",
              "2                   Full HD                     1920  Intel Core i5 7200U   \n",
              "3  IPS Panel Retina Display                     2880        Intel Core i7   \n",
              "4  IPS Panel Retina Display                     2560        Intel Core i5   \n",
              "\n",
              "   Cpu_Processor_Speed_GHz Memory(storage_device)  Memory(storage_amount)_GB  \n",
              "0                      2.3                    SSD                      128.0  \n",
              "1                      1.8          Flash Storage                      128.0  \n",
              "2                      2.5                    SSD                      256.0  \n",
              "3                      2.7                    SSD                      512.0  \n",
              "4                      3.1                    SSD                      256.0  "
            ],
            "text/html": [
              "\n",
              "  <div id=\"df-61b9a989-e6e0-4bfc-ab8f-416e355f2c47\">\n",
              "    <div class=\"colab-df-container\">\n",
              "      <div>\n",
              "<style scoped>\n",
              "    .dataframe tbody tr th:only-of-type {\n",
              "        vertical-align: middle;\n",
              "    }\n",
              "\n",
              "    .dataframe tbody tr th {\n",
              "        vertical-align: top;\n",
              "    }\n",
              "\n",
              "    .dataframe thead th {\n",
              "        text-align: right;\n",
              "    }\n",
              "</style>\n",
              "<table border=\"1\" class=\"dataframe\">\n",
              "  <thead>\n",
              "    <tr style=\"text-align: right;\">\n",
              "      <th></th>\n",
              "      <th>Company</th>\n",
              "      <th>Product</th>\n",
              "      <th>TypeName</th>\n",
              "      <th>Inches</th>\n",
              "      <th>Ram</th>\n",
              "      <th>Gpu</th>\n",
              "      <th>OpSys</th>\n",
              "      <th>Weight</th>\n",
              "      <th>Price_euros</th>\n",
              "      <th>Screen_Resoluton_Height</th>\n",
              "      <th>Screen_Display</th>\n",
              "      <th>Screen_Resoluton_Width</th>\n",
              "      <th>Cpu_Core</th>\n",
              "      <th>Cpu_Processor_Speed_GHz</th>\n",
              "      <th>Memory(storage_device)</th>\n",
              "      <th>Memory(storage_amount)_GB</th>\n",
              "    </tr>\n",
              "  </thead>\n",
              "  <tbody>\n",
              "    <tr>\n",
              "      <th>0</th>\n",
              "      <td>Apple</td>\n",
              "      <td>MacBook Pro</td>\n",
              "      <td>Ultrabook</td>\n",
              "      <td>13.3</td>\n",
              "      <td>8</td>\n",
              "      <td>Intel Iris Plus Graphics 640</td>\n",
              "      <td>macOS</td>\n",
              "      <td>1.37</td>\n",
              "      <td>1339.69</td>\n",
              "      <td>1600</td>\n",
              "      <td>IPS Panel Retina Display</td>\n",
              "      <td>2560</td>\n",
              "      <td>Intel Core i5</td>\n",
              "      <td>2.3</td>\n",
              "      <td>SSD</td>\n",
              "      <td>128.0</td>\n",
              "    </tr>\n",
              "    <tr>\n",
              "      <th>1</th>\n",
              "      <td>Apple</td>\n",
              "      <td>Macbook Air</td>\n",
              "      <td>Ultrabook</td>\n",
              "      <td>13.3</td>\n",
              "      <td>8</td>\n",
              "      <td>Intel HD Graphics 6000</td>\n",
              "      <td>macOS</td>\n",
              "      <td>1.34</td>\n",
              "      <td>898.94</td>\n",
              "      <td>900</td>\n",
              "      <td></td>\n",
              "      <td>1440</td>\n",
              "      <td>Intel Core i5</td>\n",
              "      <td>1.8</td>\n",
              "      <td>Flash Storage</td>\n",
              "      <td>128.0</td>\n",
              "    </tr>\n",
              "    <tr>\n",
              "      <th>2</th>\n",
              "      <td>HP</td>\n",
              "      <td>250 G6</td>\n",
              "      <td>Notebook</td>\n",
              "      <td>15.6</td>\n",
              "      <td>8</td>\n",
              "      <td>Intel HD Graphics 620</td>\n",
              "      <td>No OS</td>\n",
              "      <td>1.86</td>\n",
              "      <td>575.00</td>\n",
              "      <td>1080</td>\n",
              "      <td>Full HD</td>\n",
              "      <td>1920</td>\n",
              "      <td>Intel Core i5 7200U</td>\n",
              "      <td>2.5</td>\n",
              "      <td>SSD</td>\n",
              "      <td>256.0</td>\n",
              "    </tr>\n",
              "    <tr>\n",
              "      <th>3</th>\n",
              "      <td>Apple</td>\n",
              "      <td>MacBook Pro</td>\n",
              "      <td>Ultrabook</td>\n",
              "      <td>15.4</td>\n",
              "      <td>16</td>\n",
              "      <td>AMD Radeon Pro 455</td>\n",
              "      <td>macOS</td>\n",
              "      <td>1.83</td>\n",
              "      <td>2537.45</td>\n",
              "      <td>1800</td>\n",
              "      <td>IPS Panel Retina Display</td>\n",
              "      <td>2880</td>\n",
              "      <td>Intel Core i7</td>\n",
              "      <td>2.7</td>\n",
              "      <td>SSD</td>\n",
              "      <td>512.0</td>\n",
              "    </tr>\n",
              "    <tr>\n",
              "      <th>4</th>\n",
              "      <td>Apple</td>\n",
              "      <td>MacBook Pro</td>\n",
              "      <td>Ultrabook</td>\n",
              "      <td>13.3</td>\n",
              "      <td>8</td>\n",
              "      <td>Intel Iris Plus Graphics 650</td>\n",
              "      <td>macOS</td>\n",
              "      <td>1.37</td>\n",
              "      <td>1803.60</td>\n",
              "      <td>1600</td>\n",
              "      <td>IPS Panel Retina Display</td>\n",
              "      <td>2560</td>\n",
              "      <td>Intel Core i5</td>\n",
              "      <td>3.1</td>\n",
              "      <td>SSD</td>\n",
              "      <td>256.0</td>\n",
              "    </tr>\n",
              "  </tbody>\n",
              "</table>\n",
              "</div>\n",
              "      <button class=\"colab-df-convert\" onclick=\"convertToInteractive('df-61b9a989-e6e0-4bfc-ab8f-416e355f2c47')\"\n",
              "              title=\"Convert this dataframe to an interactive table.\"\n",
              "              style=\"display:none;\">\n",
              "        \n",
              "  <svg xmlns=\"http://www.w3.org/2000/svg\" height=\"24px\"viewBox=\"0 0 24 24\"\n",
              "       width=\"24px\">\n",
              "    <path d=\"M0 0h24v24H0V0z\" fill=\"none\"/>\n",
              "    <path d=\"M18.56 5.44l.94 2.06.94-2.06 2.06-.94-2.06-.94-.94-2.06-.94 2.06-2.06.94zm-11 1L8.5 8.5l.94-2.06 2.06-.94-2.06-.94L8.5 2.5l-.94 2.06-2.06.94zm10 10l.94 2.06.94-2.06 2.06-.94-2.06-.94-.94-2.06-.94 2.06-2.06.94z\"/><path d=\"M17.41 7.96l-1.37-1.37c-.4-.4-.92-.59-1.43-.59-.52 0-1.04.2-1.43.59L10.3 9.45l-7.72 7.72c-.78.78-.78 2.05 0 2.83L4 21.41c.39.39.9.59 1.41.59.51 0 1.02-.2 1.41-.59l7.78-7.78 2.81-2.81c.8-.78.8-2.07 0-2.86zM5.41 20L4 18.59l7.72-7.72 1.47 1.35L5.41 20z\"/>\n",
              "  </svg>\n",
              "      </button>\n",
              "      \n",
              "  <style>\n",
              "    .colab-df-container {\n",
              "      display:flex;\n",
              "      flex-wrap:wrap;\n",
              "      gap: 12px;\n",
              "    }\n",
              "\n",
              "    .colab-df-convert {\n",
              "      background-color: #E8F0FE;\n",
              "      border: none;\n",
              "      border-radius: 50%;\n",
              "      cursor: pointer;\n",
              "      display: none;\n",
              "      fill: #1967D2;\n",
              "      height: 32px;\n",
              "      padding: 0 0 0 0;\n",
              "      width: 32px;\n",
              "    }\n",
              "\n",
              "    .colab-df-convert:hover {\n",
              "      background-color: #E2EBFA;\n",
              "      box-shadow: 0px 1px 2px rgba(60, 64, 67, 0.3), 0px 1px 3px 1px rgba(60, 64, 67, 0.15);\n",
              "      fill: #174EA6;\n",
              "    }\n",
              "\n",
              "    [theme=dark] .colab-df-convert {\n",
              "      background-color: #3B4455;\n",
              "      fill: #D2E3FC;\n",
              "    }\n",
              "\n",
              "    [theme=dark] .colab-df-convert:hover {\n",
              "      background-color: #434B5C;\n",
              "      box-shadow: 0px 1px 3px 1px rgba(0, 0, 0, 0.15);\n",
              "      filter: drop-shadow(0px 1px 2px rgba(0, 0, 0, 0.3));\n",
              "      fill: #FFFFFF;\n",
              "    }\n",
              "  </style>\n",
              "\n",
              "      <script>\n",
              "        const buttonEl =\n",
              "          document.querySelector('#df-61b9a989-e6e0-4bfc-ab8f-416e355f2c47 button.colab-df-convert');\n",
              "        buttonEl.style.display =\n",
              "          google.colab.kernel.accessAllowed ? 'block' : 'none';\n",
              "\n",
              "        async function convertToInteractive(key) {\n",
              "          const element = document.querySelector('#df-61b9a989-e6e0-4bfc-ab8f-416e355f2c47');\n",
              "          const dataTable =\n",
              "            await google.colab.kernel.invokeFunction('convertToInteractive',\n",
              "                                                     [key], {});\n",
              "          if (!dataTable) return;\n",
              "\n",
              "          const docLinkHtml = 'Like what you see? Visit the ' +\n",
              "            '<a target=\"_blank\" href=https://colab.research.google.com/notebooks/data_table.ipynb>data table notebook</a>'\n",
              "            + ' to learn more about interactive tables.';\n",
              "          element.innerHTML = '';\n",
              "          dataTable['output_type'] = 'display_data';\n",
              "          await google.colab.output.renderOutput(dataTable, element);\n",
              "          const docLink = document.createElement('div');\n",
              "          docLink.innerHTML = docLinkHtml;\n",
              "          element.appendChild(docLink);\n",
              "        }\n",
              "      </script>\n",
              "    </div>\n",
              "  </div>\n",
              "  "
            ]
          },
          "metadata": {},
          "execution_count": 82
        }
      ]
    },
    {
      "cell_type": "code",
      "source": [
        "for column in df.columns:\n",
        "    n=df[column].nunique()\n",
        "    print('unique values for ', column ,' is ', n)"
      ],
      "metadata": {
        "colab": {
          "base_uri": "https://localhost:8080/"
        },
        "id": "EnUsCSZAe43v",
        "outputId": "5cfc65ca-fb28-4707-d9ed-75543517ba79"
      },
      "id": "EnUsCSZAe43v",
      "execution_count": 83,
      "outputs": [
        {
          "output_type": "stream",
          "name": "stdout",
          "text": [
            "unique values for  Company  is  19\n",
            "unique values for  Product  is  618\n",
            "unique values for  TypeName  is  6\n",
            "unique values for  Inches  is  18\n",
            "unique values for  Ram  is  9\n",
            "unique values for  Gpu  is  110\n",
            "unique values for  OpSys  is  9\n",
            "unique values for  Weight  is  171\n",
            "unique values for  Price_euros  is  791\n",
            "unique values for  Screen_Resoluton_Height  is  10\n",
            "unique values for  Screen_Display  is  21\n",
            "unique values for  Screen_Resoluton_Width  is  13\n",
            "unique values for  Cpu_Core  is  93\n",
            "unique values for  Cpu_Processor_Speed_GHz  is  25\n",
            "unique values for  Memory(storage_device)  is  12\n",
            "unique values for  Memory(storage_amount)_GB  is  13\n"
          ]
        }
      ]
    },
    {
      "cell_type": "code",
      "source": [
        ""
      ],
      "metadata": {
        "id": "G5u39NXNfHGr"
      },
      "id": "G5u39NXNfHGr",
      "execution_count": 83,
      "outputs": []
    },
    {
      "cell_type": "markdown",
      "source": [
        "#visualization"
      ],
      "metadata": {
        "id": "2Bl30yVQkQYX"
      },
      "id": "2Bl30yVQkQYX"
    },
    {
      "cell_type": "code",
      "source": [
        "#creating a histogram\n",
        "import matplotlib.pyplot as plt\n",
        "plt.hist(df['Weight'])\n",
        "plt.hist(df['Weight']);\n",
        "plt.xlabel(\"Weight\")\n",
        "plt.ylabel(\"Frequency\")\n",
        "plt.title(\"Distribution of Weight\")"
      ],
      "metadata": {
        "colab": {
          "base_uri": "https://localhost:8080/",
          "height": 312
        },
        "id": "Z2kmYnsIkTu8",
        "outputId": "4d275aaa-2762-45bc-9763-f9272177ea6d"
      },
      "id": "Z2kmYnsIkTu8",
      "execution_count": 84,
      "outputs": [
        {
          "output_type": "execute_result",
          "data": {
            "text/plain": [
              "Text(0.5, 1.0, 'Distribution of Weight')"
            ]
          },
          "metadata": {},
          "execution_count": 84
        },
        {
          "output_type": "display_data",
          "data": {
            "text/plain": [
              "<Figure size 432x288 with 1 Axes>"
            ],
            "image/png": "[encoded data removed]"
          },
          "metadata": {
            "needs_background": "light"
          }
        }
      ]
    },
    {
      "cell_type": "code",
      "source": [
        "#creating a histogram\n",
        "import matplotlib.pyplot as plt\n",
        "plt.hist(df['Company'])\n",
        "plt.hist(df['Company']);\n",
        "plt.xlabel(\"Company\")\n",
        "plt.ylabel(\"Frequency\")\n",
        "plt.title(\"Distribution of Company\")"
      ],
      "metadata": {
        "colab": {
          "base_uri": "https://localhost:8080/",
          "height": 312
        },
        "id": "OOaKnenjlvwZ",
        "outputId": "1352ebf7-98d3-4c7f-97c9-cf1393996278"
      },
      "id": "OOaKnenjlvwZ",
      "execution_count": 85,
      "outputs": [
        {
          "output_type": "execute_result",
          "data": {
            "text/plain": [
              "Text(0.5, 1.0, 'Distribution of Company')"
            ]
          },
          "metadata": {},
          "execution_count": 85
        },
        {
          "output_type": "display_data",
          "data": {
            "text/plain": [
              "<Figure size 432x288 with 1 Axes>"
            ],
            "image/png": "[encoded data removed]"
          },
          "metadata": {
            "needs_background": "light"
          }
        }
      ]
    },
    {
      "cell_type": "code",
      "source": [
        "#creating a histogram\n",
        "import matplotlib.pyplot as plt\n",
        "plt.hist(df['Cpu_Core'])\n",
        "plt.hist(df['Cpu_Core']);\n",
        "plt.xlabel(\"Cpu_Core\")\n",
        "plt.ylabel(\"Frequency\")\n",
        "plt.title(\"Distribution of Cpu_Core\")"
      ],
      "metadata": {
        "colab": {
          "base_uri": "https://localhost:8080/",
          "height": 313
        },
        "id": "h2ot7JnVlv3s",
        "outputId": "7ee81dc5-d9bb-47ad-e267-d1ebef13380d"
      },
      "id": "h2ot7JnVlv3s",
      "execution_count": 86,
      "outputs": [
        {
          "output_type": "execute_result",
          "data": {
            "text/plain": [
              "Text(0.5, 1.0, 'Distribution of Cpu_Core')"
            ]
          },
          "metadata": {},
          "execution_count": 86
        },
        {
          "output_type": "display_data",
          "data": {
            "text/plain": [
              "<Figure size 432x288 with 1 Axes>"
            ],
            "image/png": "[encoded data removed]"
          },
          "metadata": {
            "needs_background": "light"
          }
        }
      ]
    },
    {
      "cell_type": "code",
      "source": [
        "#creating a histogram\n",
        "import matplotlib.pyplot as plt\n",
        "plt.hist(df['Ram'])\n",
        "plt.hist(df['Ram']);\n",
        "plt.xlabel(\"Ram\")\n",
        "plt.ylabel(\"Frequency\")\n",
        "plt.title(\"Distribution of Ram\")"
      ],
      "metadata": {
        "colab": {
          "base_uri": "https://localhost:8080/",
          "height": 312
        },
        "id": "SRV6rIbalv7Q",
        "outputId": "6d520d83-3a44-47f4-ed5a-092aefe0a5e8"
      },
      "id": "SRV6rIbalv7Q",
      "execution_count": 87,
      "outputs": [
        {
          "output_type": "execute_result",
          "data": {
            "text/plain": [
              "Text(0.5, 1.0, 'Distribution of Ram')"
            ]
          },
          "metadata": {},
          "execution_count": 87
        },
        {
          "output_type": "display_data",
          "data": {
            "text/plain": [
              "<Figure size 432x288 with 1 Axes>"
            ],
            "image/png": "[encoded data removed]"
          },
          "metadata": {
            "needs_background": "light"
          }
        }
      ]
    },
    {
      "cell_type": "code",
      "source": [
        "#creating a histogram\n",
        "import matplotlib.pyplot as plt\n",
        "plt.hist(df['Memory(storage_amount)_GB'])\n",
        "plt.hist(df['Memory(storage_amount)_GB']);\n",
        "plt.xlabel(\"Memory(storage_amount)_GB\")\n",
        "plt.ylabel(\"Frequency\")\n",
        "plt.title(\"Distribution of Memory(storage_amount)_GB\")"
      ],
      "metadata": {
        "colab": {
          "base_uri": "https://localhost:8080/",
          "height": 313
        },
        "id": "7nf8L9Cclv9R",
        "outputId": "1a6dc84a-e53d-48da-beaa-2755c001f226"
      },
      "id": "7nf8L9Cclv9R",
      "execution_count": 88,
      "outputs": [
        {
          "output_type": "execute_result",
          "data": {
            "text/plain": [
              "Text(0.5, 1.0, 'Distribution of Memory(storage_amount)_GB')"
            ]
          },
          "metadata": {},
          "execution_count": 88
        },
        {
          "output_type": "display_data",
          "data": {
            "text/plain": [
              "<Figure size 432x288 with 1 Axes>"
            ],
            "image/png": "[encoded data removed]"
          },
          "metadata": {
            "needs_background": "light"
          }
        }
      ]
    },
    {
      "cell_type": "code",
      "source": [
        "#creating a histogram\n",
        "import matplotlib.pyplot as plt\n",
        "plt.hist(df['Screen_Resoluton_Width'])\n",
        "plt.hist(df['Screen_Resoluton_Width']);\n",
        "plt.xlabel(\"Screen_Resoluton_Width\")\n",
        "plt.ylabel(\"Frequency\")\n",
        "plt.title(\"Distribution of Screen_Resoluton_Width\")"
      ],
      "metadata": {
        "colab": {
          "base_uri": "https://localhost:8080/",
          "height": 313
        },
        "id": "PVcsQfHTl0SX",
        "outputId": "c576587b-ff58-439b-8e42-a899688a69dc"
      },
      "id": "PVcsQfHTl0SX",
      "execution_count": 89,
      "outputs": [
        {
          "output_type": "execute_result",
          "data": {
            "text/plain": [
              "Text(0.5, 1.0, 'Distribution of Screen_Resoluton_Width')"
            ]
          },
          "metadata": {},
          "execution_count": 89
        },
        {
          "output_type": "display_data",
          "data": {
            "text/plain": [
              "<Figure size 432x288 with 1 Axes>"
            ],
            "image/png": "[encoded data removed]"
          },
          "metadata": {
            "needs_background": "light"
          }
        }
      ]
    },
    {
      "cell_type": "code",
      "source": [
        "#creating a histogram\n",
        "import matplotlib.pyplot as plt\n",
        "plt.hist(df['Screen_Resoluton_Height'])\n",
        "plt.hist(df['Screen_Resoluton_Height']);\n",
        "plt.xlabel(\"Screen_Resoluton_Height\")\n",
        "plt.ylabel(\"Frequency\")\n",
        "plt.title(\"Distribution of Screen_Resoluton_Height\")"
      ],
      "metadata": {
        "colab": {
          "base_uri": "https://localhost:8080/",
          "height": 313
        },
        "id": "ZbVEvzH0l0Xi",
        "outputId": "67f4de79-c68a-422f-da0c-21b8ffe80bef"
      },
      "id": "ZbVEvzH0l0Xi",
      "execution_count": 90,
      "outputs": [
        {
          "output_type": "execute_result",
          "data": {
            "text/plain": [
              "Text(0.5, 1.0, 'Distribution of Screen_Resoluton_Height')"
            ]
          },
          "metadata": {},
          "execution_count": 90
        },
        {
          "output_type": "display_data",
          "data": {
            "text/plain": [
              "<Figure size 432x288 with 1 Axes>"
            ],
            "image/png": "[encoded data removed]"
          },
          "metadata": {
            "needs_background": "light"
          }
        }
      ]
    },
    {
      "cell_type": "code",
      "source": [
        "#creating a histogram\n",
        "import matplotlib.pyplot as plt\n",
        "plt.hist(df['Gpu'])\n",
        "plt.hist(df['Gpu']);\n",
        "plt.xlabel(\"Gpu\")\n",
        "plt.ylabel(\"Frequency\")\n",
        "plt.title(\"Distribution of Gpu\")"
      ],
      "metadata": {
        "colab": {
          "base_uri": "https://localhost:8080/",
          "height": 312
        },
        "id": "5wTgAzwvl0U_",
        "outputId": "1516146a-d26c-471b-e0d8-c508d2b1e761"
      },
      "id": "5wTgAzwvl0U_",
      "execution_count": 91,
      "outputs": [
        {
          "output_type": "execute_result",
          "data": {
            "text/plain": [
              "Text(0.5, 1.0, 'Distribution of Gpu')"
            ]
          },
          "metadata": {},
          "execution_count": 91
        },
        {
          "output_type": "display_data",
          "data": {
            "text/plain": [
              "<Figure size 432x288 with 1 Axes>"
            ],
            "image/png": "[encoded data removed]"
          },
          "metadata": {
            "needs_background": "light"
          }
        }
      ]
    },
    {
      "cell_type": "markdown",
      "source": [
        "#Cross Validation (Hold Out)"
      ],
      "metadata": {
        "id": "tD-WZmqDxWFQ"
      },
      "id": "tD-WZmqDxWFQ"
    },
    {
      "cell_type": "code",
      "source": [
        "from sklearn.model_selection import train_test_split as tts"
      ],
      "metadata": {
        "id": "ogqpECoLxtgM"
      },
      "id": "ogqpECoLxtgM",
      "execution_count": 92,
      "outputs": []
    },
    {
      "cell_type": "code",
      "source": [
        "xtrain,xtest,ytrain,ytest=tts(X,Y,train_size=.70,random_state=24)"
      ],
      "metadata": {
        "id": "I4oGXsMBxXXt"
      },
      "id": "I4oGXsMBxXXt",
      "execution_count": 93,
      "outputs": []
    },
    {
      "cell_type": "code",
      "source": [
        "xtrain.head()"
      ],
      "metadata": {
        "colab": {
          "base_uri": "https://localhost:8080/",
          "height": 270
        },
        "id": "xV5luNAwxx_N",
        "outputId": "2e7e2279-bef5-4da2-ede9-7ee36935c75e"
      },
      "id": "xV5luNAwxx_N",
      "execution_count": 94,
      "outputs": [
        {
          "output_type": "execute_result",
          "data": {
            "text/plain": [
              "       Company   Product  TypeName    Inches       Ram       Gpu  OpSys  \\\n",
              "1168  0.388889  0.690438       0.6  0.469880  0.000000  0.376147  0.625   \n",
              "1108  0.388889  0.055105       0.6  0.662651  0.032258  0.137615  0.625   \n",
              "801   0.111111  0.583468       0.6  0.662651  0.096774  0.486239  0.625   \n",
              "1102  0.000000  0.149109       0.6  0.662651  0.032258  0.366972  0.125   \n",
              "220   0.222222  0.388979       0.6  0.662651  0.096774  0.055046  0.250   \n",
              "\n",
              "        Weight  Screen_Resoluton_Height  Screen_Display  \\\n",
              "1168  0.187032                 0.000000            0.00   \n",
              "1108  0.351621                 0.224138            0.15   \n",
              "801   0.418953                 0.224138            0.15   \n",
              "1102  0.376559                 0.000000            0.00   \n",
              "220   0.376559                 0.224138            0.15   \n",
              "\n",
              "      Screen_Resoluton_Width  Cpu_Core  Cpu_Processor_Speed_GHz  \\\n",
              "1168                0.000000  0.347826                 0.259259   \n",
              "1108                0.223929  0.076087                 0.592593   \n",
              "801                 0.223929  0.619565                 0.592593   \n",
              "1102                0.000000  0.315217                 0.222222   \n",
              "220                 0.223929  0.695652                 0.259259   \n",
              "\n",
              "      Memory(storage_device)  Memory(storage_amount)_GB  \n",
              "1168                0.000000                   0.060665  \n",
              "1108                0.181818                   0.000000  \n",
              "801                 0.454545                   0.499022  \n",
              "1102                0.454545                   0.029354  \n",
              "220                 0.454545                   0.499022  "
            ],
            "text/html": [
              "\n",
              "  <div id=\"df-6a92c66f-3461-4675-ae94-5579804bcd4a\">\n",
              "    <div class=\"colab-df-container\">\n",
              "      <div>\n",
              "<style scoped>\n",
              "    .dataframe tbody tr th:only-of-type {\n",
              "        vertical-align: middle;\n",
              "    }\n",
              "\n",
              "    .dataframe tbody tr th {\n",
              "        vertical-align: top;\n",
              "    }\n",
              "\n",
              "    .dataframe thead th {\n",
              "        text-align: right;\n",
              "    }\n",
              "</style>\n",
              "<table border=\"1\" class=\"dataframe\">\n",
              "  <thead>\n",
              "    <tr style=\"text-align: right;\">\n",
              "      <th></th>\n",
              "      <th>Company</th>\n",
              "      <th>Product</th>\n",
              "      <th>TypeName</th>\n",
              "      <th>Inches</th>\n",
              "      <th>Ram</th>\n",
              "      <th>Gpu</th>\n",
              "      <th>OpSys</th>\n",
              "      <th>Weight</th>\n",
              "      <th>Screen_Resoluton_Height</th>\n",
              "      <th>Screen_Display</th>\n",
              "      <th>Screen_Resoluton_Width</th>\n",
              "      <th>Cpu_Core</th>\n",
              "      <th>Cpu_Processor_Speed_GHz</th>\n",
              "      <th>Memory(storage_device)</th>\n",
              "      <th>Memory(storage_amount)_GB</th>\n",
              "    </tr>\n",
              "  </thead>\n",
              "  <tbody>\n",
              "    <tr>\n",
              "      <th>1168</th>\n",
              "      <td>0.388889</td>\n",
              "      <td>0.690438</td>\n",
              "      <td>0.6</td>\n",
              "      <td>0.469880</td>\n",
              "      <td>0.000000</td>\n",
              "      <td>0.376147</td>\n",
              "      <td>0.625</td>\n",
              "      <td>0.187032</td>\n",
              "      <td>0.000000</td>\n",
              "      <td>0.00</td>\n",
              "      <td>0.000000</td>\n",
              "      <td>0.347826</td>\n",
              "      <td>0.259259</td>\n",
              "      <td>0.000000</td>\n",
              "      <td>0.060665</td>\n",
              "    </tr>\n",
              "    <tr>\n",
              "      <th>1108</th>\n",
              "      <td>0.388889</td>\n",
              "      <td>0.055105</td>\n",
              "      <td>0.6</td>\n",
              "      <td>0.662651</td>\n",
              "      <td>0.032258</td>\n",
              "      <td>0.137615</td>\n",
              "      <td>0.625</td>\n",
              "      <td>0.351621</td>\n",
              "      <td>0.224138</td>\n",
              "      <td>0.15</td>\n",
              "      <td>0.223929</td>\n",
              "      <td>0.076087</td>\n",
              "      <td>0.592593</td>\n",
              "      <td>0.181818</td>\n",
              "      <td>0.000000</td>\n",
              "    </tr>\n",
              "    <tr>\n",
              "      <th>801</th>\n",
              "      <td>0.111111</td>\n",
              "      <td>0.583468</td>\n",
              "      <td>0.6</td>\n",
              "      <td>0.662651</td>\n",
              "      <td>0.096774</td>\n",
              "      <td>0.486239</td>\n",
              "      <td>0.625</td>\n",
              "      <td>0.418953</td>\n",
              "      <td>0.224138</td>\n",
              "      <td>0.15</td>\n",
              "      <td>0.223929</td>\n",
              "      <td>0.619565</td>\n",
              "      <td>0.592593</td>\n",
              "      <td>0.454545</td>\n",
              "      <td>0.499022</td>\n",
              "    </tr>\n",
              "    <tr>\n",
              "      <th>1102</th>\n",
              "      <td>0.000000</td>\n",
              "      <td>0.149109</td>\n",
              "      <td>0.6</td>\n",
              "      <td>0.662651</td>\n",
              "      <td>0.032258</td>\n",
              "      <td>0.366972</td>\n",
              "      <td>0.125</td>\n",
              "      <td>0.376559</td>\n",
              "      <td>0.000000</td>\n",
              "      <td>0.00</td>\n",
              "      <td>0.000000</td>\n",
              "      <td>0.315217</td>\n",
              "      <td>0.222222</td>\n",
              "      <td>0.454545</td>\n",
              "      <td>0.029354</td>\n",
              "    </tr>\n",
              "    <tr>\n",
              "      <th>220</th>\n",
              "      <td>0.222222</td>\n",
              "      <td>0.388979</td>\n",
              "      <td>0.6</td>\n",
              "      <td>0.662651</td>\n",
              "      <td>0.096774</td>\n",
              "      <td>0.055046</td>\n",
              "      <td>0.250</td>\n",
              "      <td>0.376559</td>\n",
              "      <td>0.224138</td>\n",
              "      <td>0.15</td>\n",
              "      <td>0.223929</td>\n",
              "      <td>0.695652</td>\n",
              "      <td>0.259259</td>\n",
              "      <td>0.454545</td>\n",
              "      <td>0.499022</td>\n",
              "    </tr>\n",
              "  </tbody>\n",
              "</table>\n",
              "</div>\n",
              "      <button class=\"colab-df-convert\" onclick=\"convertToInteractive('df-6a92c66f-3461-4675-ae94-5579804bcd4a')\"\n",
              "              title=\"Convert this dataframe to an interactive table.\"\n",
              "              style=\"display:none;\">\n",
              "        \n",
              "  <svg xmlns=\"http://www.w3.org/2000/svg\" height=\"24px\"viewBox=\"0 0 24 24\"\n",
              "       width=\"24px\">\n",
              "    <path d=\"M0 0h24v24H0V0z\" fill=\"none\"/>\n",
              "    <path d=\"M18.56 5.44l.94 2.06.94-2.06 2.06-.94-2.06-.94-.94-2.06-.94 2.06-2.06.94zm-11 1L8.5 8.5l.94-2.06 2.06-.94-2.06-.94L8.5 2.5l-.94 2.06-2.06.94zm10 10l.94 2.06.94-2.06 2.06-.94-2.06-.94-.94-2.06-.94 2.06-2.06.94z\"/><path d=\"M17.41 7.96l-1.37-1.37c-.4-.4-.92-.59-1.43-.59-.52 0-1.04.2-1.43.59L10.3 9.45l-7.72 7.72c-.78.78-.78 2.05 0 2.83L4 21.41c.39.39.9.59 1.41.59.51 0 1.02-.2 1.41-.59l7.78-7.78 2.81-2.81c.8-.78.8-2.07 0-2.86zM5.41 20L4 18.59l7.72-7.72 1.47 1.35L5.41 20z\"/>\n",
              "  </svg>\n",
              "      </button>\n",
              "      \n",
              "  <style>\n",
              "    .colab-df-container {\n",
              "      display:flex;\n",
              "      flex-wrap:wrap;\n",
              "      gap: 12px;\n",
              "    }\n",
              "\n",
              "    .colab-df-convert {\n",
              "      background-color: #E8F0FE;\n",
              "      border: none;\n",
              "      border-radius: 50%;\n",
              "      cursor: pointer;\n",
              "      display: none;\n",
              "      fill: #1967D2;\n",
              "      height: 32px;\n",
              "      padding: 0 0 0 0;\n",
              "      width: 32px;\n",
              "    }\n",
              "\n",
              "    .colab-df-convert:hover {\n",
              "      background-color: #E2EBFA;\n",
              "      box-shadow: 0px 1px 2px rgba(60, 64, 67, 0.3), 0px 1px 3px 1px rgba(60, 64, 67, 0.15);\n",
              "      fill: #174EA6;\n",
              "    }\n",
              "\n",
              "    [theme=dark] .colab-df-convert {\n",
              "      background-color: #3B4455;\n",
              "      fill: #D2E3FC;\n",
              "    }\n",
              "\n",
              "    [theme=dark] .colab-df-convert:hover {\n",
              "      background-color: #434B5C;\n",
              "      box-shadow: 0px 1px 3px 1px rgba(0, 0, 0, 0.15);\n",
              "      filter: drop-shadow(0px 1px 2px rgba(0, 0, 0, 0.3));\n",
              "      fill: #FFFFFF;\n",
              "    }\n",
              "  </style>\n",
              "\n",
              "      <script>\n",
              "        const buttonEl =\n",
              "          document.querySelector('#df-6a92c66f-3461-4675-ae94-5579804bcd4a button.colab-df-convert');\n",
              "        buttonEl.style.display =\n",
              "          google.colab.kernel.accessAllowed ? 'block' : 'none';\n",
              "\n",
              "        async function convertToInteractive(key) {\n",
              "          const element = document.querySelector('#df-6a92c66f-3461-4675-ae94-5579804bcd4a');\n",
              "          const dataTable =\n",
              "            await google.colab.kernel.invokeFunction('convertToInteractive',\n",
              "                                                     [key], {});\n",
              "          if (!dataTable) return;\n",
              "\n",
              "          const docLinkHtml = 'Like what you see? Visit the ' +\n",
              "            '<a target=\"_blank\" href=https://colab.research.google.com/notebooks/data_table.ipynb>data table notebook</a>'\n",
              "            + ' to learn more about interactive tables.';\n",
              "          element.innerHTML = '';\n",
              "          dataTable['output_type'] = 'display_data';\n",
              "          await google.colab.output.renderOutput(dataTable, element);\n",
              "          const docLink = document.createElement('div');\n",
              "          docLink.innerHTML = docLinkHtml;\n",
              "          element.appendChild(docLink);\n",
              "        }\n",
              "      </script>\n",
              "    </div>\n",
              "  </div>\n",
              "  "
            ]
          },
          "metadata": {},
          "execution_count": 94
        }
      ]
    },
    {
      "cell_type": "code",
      "source": [
        "ytrain.head()"
      ],
      "metadata": {
        "colab": {
          "base_uri": "https://localhost:8080/",
          "height": 206
        },
        "id": "5_Gro9q6x1dz",
        "outputId": "d47f923e-9482-468f-e5d9-dc04b6eb7069"
      },
      "id": "5_Gro9q6x1dz",
      "execution_count": 95,
      "outputs": [
        {
          "output_type": "execute_result",
          "data": {
            "text/plain": [
              "      Price_euros\n",
              "1168       249.00\n",
              "1108       398.00\n",
              "801       1099.00\n",
              "1102       209.00\n",
              "220        677.35"
            ],
            "text/html": [
              "\n",
              "  <div id=\"df-3f07b9f8-0905-4ffe-a660-838e3f26d541\">\n",
              "    <div class=\"colab-df-container\">\n",
              "      <div>\n",
              "<style scoped>\n",
              "    .dataframe tbody tr th:only-of-type {\n",
              "        vertical-align: middle;\n",
              "    }\n",
              "\n",
              "    .dataframe tbody tr th {\n",
              "        vertical-align: top;\n",
              "    }\n",
              "\n",
              "    .dataframe thead th {\n",
              "        text-align: right;\n",
              "    }\n",
              "</style>\n",
              "<table border=\"1\" class=\"dataframe\">\n",
              "  <thead>\n",
              "    <tr style=\"text-align: right;\">\n",
              "      <th></th>\n",
              "      <th>Price_euros</th>\n",
              "    </tr>\n",
              "  </thead>\n",
              "  <tbody>\n",
              "    <tr>\n",
              "      <th>1168</th>\n",
              "      <td>249.00</td>\n",
              "    </tr>\n",
              "    <tr>\n",
              "      <th>1108</th>\n",
              "      <td>398.00</td>\n",
              "    </tr>\n",
              "    <tr>\n",
              "      <th>801</th>\n",
              "      <td>1099.00</td>\n",
              "    </tr>\n",
              "    <tr>\n",
              "      <th>1102</th>\n",
              "      <td>209.00</td>\n",
              "    </tr>\n",
              "    <tr>\n",
              "      <th>220</th>\n",
              "      <td>677.35</td>\n",
              "    </tr>\n",
              "  </tbody>\n",
              "</table>\n",
              "</div>\n",
              "      <button class=\"colab-df-convert\" onclick=\"convertToInteractive('df-3f07b9f8-0905-4ffe-a660-838e3f26d541')\"\n",
              "              title=\"Convert this dataframe to an interactive table.\"\n",
              "              style=\"display:none;\">\n",
              "        \n",
              "  <svg xmlns=\"http://www.w3.org/2000/svg\" height=\"24px\"viewBox=\"0 0 24 24\"\n",
              "       width=\"24px\">\n",
              "    <path d=\"M0 0h24v24H0V0z\" fill=\"none\"/>\n",
              "    <path d=\"M18.56 5.44l.94 2.06.94-2.06 2.06-.94-2.06-.94-.94-2.06-.94 2.06-2.06.94zm-11 1L8.5 8.5l.94-2.06 2.06-.94-2.06-.94L8.5 2.5l-.94 2.06-2.06.94zm10 10l.94 2.06.94-2.06 2.06-.94-2.06-.94-.94-2.06-.94 2.06-2.06.94z\"/><path d=\"M17.41 7.96l-1.37-1.37c-.4-.4-.92-.59-1.43-.59-.52 0-1.04.2-1.43.59L10.3 9.45l-7.72 7.72c-.78.78-.78 2.05 0 2.83L4 21.41c.39.39.9.59 1.41.59.51 0 1.02-.2 1.41-.59l7.78-7.78 2.81-2.81c.8-.78.8-2.07 0-2.86zM5.41 20L4 18.59l7.72-7.72 1.47 1.35L5.41 20z\"/>\n",
              "  </svg>\n",
              "      </button>\n",
              "      \n",
              "  <style>\n",
              "    .colab-df-container {\n",
              "      display:flex;\n",
              "      flex-wrap:wrap;\n",
              "      gap: 12px;\n",
              "    }\n",
              "\n",
              "    .colab-df-convert {\n",
              "      background-color: #E8F0FE;\n",
              "      border: none;\n",
              "      border-radius: 50%;\n",
              "      cursor: pointer;\n",
              "      display: none;\n",
              "      fill: #1967D2;\n",
              "      height: 32px;\n",
              "      padding: 0 0 0 0;\n",
              "      width: 32px;\n",
              "    }\n",
              "\n",
              "    .colab-df-convert:hover {\n",
              "      background-color: #E2EBFA;\n",
              "      box-shadow: 0px 1px 2px rgba(60, 64, 67, 0.3), 0px 1px 3px 1px rgba(60, 64, 67, 0.15);\n",
              "      fill: #174EA6;\n",
              "    }\n",
              "\n",
              "    [theme=dark] .colab-df-convert {\n",
              "      background-color: #3B4455;\n",
              "      fill: #D2E3FC;\n",
              "    }\n",
              "\n",
              "    [theme=dark] .colab-df-convert:hover {\n",
              "      background-color: #434B5C;\n",
              "      box-shadow: 0px 1px 3px 1px rgba(0, 0, 0, 0.15);\n",
              "      filter: drop-shadow(0px 1px 2px rgba(0, 0, 0, 0.3));\n",
              "      fill: #FFFFFF;\n",
              "    }\n",
              "  </style>\n",
              "\n",
              "      <script>\n",
              "        const buttonEl =\n",
              "          document.querySelector('#df-3f07b9f8-0905-4ffe-a660-838e3f26d541 button.colab-df-convert');\n",
              "        buttonEl.style.display =\n",
              "          google.colab.kernel.accessAllowed ? 'block' : 'none';\n",
              "\n",
              "        async function convertToInteractive(key) {\n",
              "          const element = document.querySelector('#df-3f07b9f8-0905-4ffe-a660-838e3f26d541');\n",
              "          const dataTable =\n",
              "            await google.colab.kernel.invokeFunction('convertToInteractive',\n",
              "                                                     [key], {});\n",
              "          if (!dataTable) return;\n",
              "\n",
              "          const docLinkHtml = 'Like what you see? Visit the ' +\n",
              "            '<a target=\"_blank\" href=https://colab.research.google.com/notebooks/data_table.ipynb>data table notebook</a>'\n",
              "            + ' to learn more about interactive tables.';\n",
              "          element.innerHTML = '';\n",
              "          dataTable['output_type'] = 'display_data';\n",
              "          await google.colab.output.renderOutput(dataTable, element);\n",
              "          const docLink = document.createElement('div');\n",
              "          docLink.innerHTML = docLinkHtml;\n",
              "          element.appendChild(docLink);\n",
              "        }\n",
              "      </script>\n",
              "    </div>\n",
              "  </div>\n",
              "  "
            ]
          },
          "metadata": {},
          "execution_count": 95
        }
      ]
    },
    {
      "cell_type": "markdown",
      "source": [
        "#Linear Regression (Multiple Variable)"
      ],
      "metadata": {
        "id": "lP5qLr_UyiBL"
      },
      "id": "lP5qLr_UyiBL"
    },
    {
      "cell_type": "code",
      "source": [
        "from sklearn.linear_model import LinearRegression"
      ],
      "metadata": {
        "id": "T3wgPQY0ymgC"
      },
      "id": "T3wgPQY0ymgC",
      "execution_count": 96,
      "outputs": []
    },
    {
      "cell_type": "code",
      "source": [
        "lr= LinearRegression()"
      ],
      "metadata": {
        "id": "YEYK8RXXypon"
      },
      "id": "YEYK8RXXypon",
      "execution_count": 97,
      "outputs": []
    },
    {
      "cell_type": "code",
      "source": [
        "lr.fit(xtrain,ytrain)"
      ],
      "metadata": {
        "colab": {
          "base_uri": "https://localhost:8080/"
        },
        "id": "9w_Z3MX4yq_h",
        "outputId": "f18fa780-fbb0-4c24-96d4-56b62a3ce18e"
      },
      "id": "9w_Z3MX4yq_h",
      "execution_count": 98,
      "outputs": [
        {
          "output_type": "execute_result",
          "data": {
            "text/plain": [
              "LinearRegression()"
            ]
          },
          "metadata": {},
          "execution_count": 98
        }
      ]
    },
    {
      "cell_type": "code",
      "source": [
        "lr.score(xtest,ytest) #with hold out cross validation"
      ],
      "metadata": {
        "colab": {
          "base_uri": "https://localhost:8080/"
        },
        "id": "Y3FFnR65ysYa",
        "outputId": "31f7718e-ebdb-42e3-9b3e-47e8ba06caea"
      },
      "id": "Y3FFnR65ysYa",
      "execution_count": 99,
      "outputs": [
        {
          "output_type": "execute_result",
          "data": {
            "text/plain": [
              "0.7208464521362532"
            ]
          },
          "metadata": {},
          "execution_count": 99
        }
      ]
    },
    {
      "cell_type": "code",
      "source": [
        "lr.score(xtrain,ytrain) #with hold out cross validation"
      ],
      "metadata": {
        "colab": {
          "base_uri": "https://localhost:8080/"
        },
        "id": "1VTdOB_fy43p",
        "outputId": "f8e6d07e-6660-4e70-b0dc-5cffc91ed39e"
      },
      "id": "1VTdOB_fy43p",
      "execution_count": 100,
      "outputs": [
        {
          "output_type": "execute_result",
          "data": {
            "text/plain": [
              "0.7226107150717276"
            ]
          },
          "metadata": {},
          "execution_count": 100
        }
      ]
    },
    {
      "cell_type": "code",
      "source": [
        "score_linear_reg = lr.score(xtest,ytest)"
      ],
      "metadata": {
        "id": "mm9lIkNDzdh-"
      },
      "id": "mm9lIkNDzdh-",
      "execution_count": 101,
      "outputs": []
    },
    {
      "cell_type": "markdown",
      "source": [
        "#Decision Tree Regressor"
      ],
      "metadata": {
        "id": "530oxIwU4Vwm"
      },
      "id": "530oxIwU4Vwm"
    },
    {
      "cell_type": "code",
      "source": [
        "from sklearn.tree import DecisionTreeRegressor"
      ],
      "metadata": {
        "id": "otVVpEUu4WvX"
      },
      "id": "otVVpEUu4WvX",
      "execution_count": 102,
      "outputs": []
    },
    {
      "cell_type": "code",
      "source": [
        "d_tree_reg=DecisionTreeRegressor()"
      ],
      "metadata": {
        "id": "jNodHCIZ4c-y"
      },
      "id": "jNodHCIZ4c-y",
      "execution_count": 103,
      "outputs": []
    },
    {
      "cell_type": "code",
      "source": [
        "d_tree_reg.fit(xtrain,ytrain)"
      ],
      "metadata": {
        "colab": {
          "base_uri": "https://localhost:8080/"
        },
        "id": "YrK_F3Wk4gDK",
        "outputId": "fecaf5bd-2a13-43e9-d82c-00af3239465c"
      },
      "id": "YrK_F3Wk4gDK",
      "execution_count": 104,
      "outputs": [
        {
          "output_type": "execute_result",
          "data": {
            "text/plain": [
              "DecisionTreeRegressor()"
            ]
          },
          "metadata": {},
          "execution_count": 104
        }
      ]
    },
    {
      "cell_type": "code",
      "source": [
        "d_tree_reg.score(xtrain,ytrain)"
      ],
      "metadata": {
        "colab": {
          "base_uri": "https://localhost:8080/"
        },
        "id": "_jRzrCBB4vTG",
        "outputId": "fef7ed89-e748-4540-eefb-30e8e2631ee9"
      },
      "id": "_jRzrCBB4vTG",
      "execution_count": 105,
      "outputs": [
        {
          "output_type": "execute_result",
          "data": {
            "text/plain": [
              "0.999591940009795"
            ]
          },
          "metadata": {},
          "execution_count": 105
        }
      ]
    },
    {
      "cell_type": "code",
      "source": [
        "d_tree_reg.score(xtest,ytest)"
      ],
      "metadata": {
        "colab": {
          "base_uri": "https://localhost:8080/"
        },
        "id": "ajB_U6Vn4h8Y",
        "outputId": "503be7f3-f4d6-4961-a8ae-18e5bad1db77"
      },
      "id": "ajB_U6Vn4h8Y",
      "execution_count": 106,
      "outputs": [
        {
          "output_type": "execute_result",
          "data": {
            "text/plain": [
              "0.6899112546612627"
            ]
          },
          "metadata": {},
          "execution_count": 106
        }
      ]
    },
    {
      "cell_type": "code",
      "source": [
        "score_DecisionTreeRegressor = d_tree_reg.score(xtest,ytest)"
      ],
      "metadata": {
        "id": "oJOV2SOT4uKY"
      },
      "id": "oJOV2SOT4uKY",
      "execution_count": 107,
      "outputs": []
    },
    {
      "cell_type": "markdown",
      "source": [
        "#Random Forest Regressor"
      ],
      "metadata": {
        "id": "bT3Asjwr5QF9"
      },
      "id": "bT3Asjwr5QF9"
    },
    {
      "cell_type": "code",
      "source": [
        "from sklearn.ensemble import RandomForestRegressor"
      ],
      "metadata": {
        "id": "3ef2QjBv5bgF"
      },
      "id": "3ef2QjBv5bgF",
      "execution_count": 108,
      "outputs": []
    },
    {
      "cell_type": "code",
      "source": [
        "random_fr_reg=RandomForestRegressor()"
      ],
      "metadata": {
        "id": "VyEYxCFx5dPH"
      },
      "id": "VyEYxCFx5dPH",
      "execution_count": 109,
      "outputs": []
    },
    {
      "cell_type": "code",
      "source": [
        "random_fr_reg.fit(xtrain,ytrain)"
      ],
      "metadata": {
        "colab": {
          "base_uri": "https://localhost:8080/"
        },
        "id": "gT4s7SPq5kdK",
        "outputId": "75ddac90-1e63-4a87-c44b-97e4fbc1f955"
      },
      "id": "gT4s7SPq5kdK",
      "execution_count": 110,
      "outputs": [
        {
          "output_type": "stream",
          "name": "stderr",
          "text": [
            "/usr/local/lib/python3.7/dist-packages/ipykernel_launcher.py:1: DataConversionWarning: A column-vector y was passed when a 1d array was expected. Please change the shape of y to (n_samples,), for example using ravel().\n",
            "  \"\"\"Entry point for launching an IPython kernel.\n"
          ]
        },
        {
          "output_type": "execute_result",
          "data": {
            "text/plain": [
              "RandomForestRegressor()"
            ]
          },
          "metadata": {},
          "execution_count": 110
        }
      ]
    },
    {
      "cell_type": "code",
      "source": [
        "random_fr_reg.score(xtest,ytest)"
      ],
      "metadata": {
        "colab": {
          "base_uri": "https://localhost:8080/"
        },
        "id": "CI2OhkZR5mQZ",
        "outputId": "6935d3f8-2faf-450b-a805-88c78ee6805b"
      },
      "id": "CI2OhkZR5mQZ",
      "execution_count": 111,
      "outputs": [
        {
          "output_type": "execute_result",
          "data": {
            "text/plain": [
              "0.8357699658435672"
            ]
          },
          "metadata": {},
          "execution_count": 111
        }
      ]
    },
    {
      "cell_type": "code",
      "source": [
        "random_fr_reg.score(xtrain,ytrain)"
      ],
      "metadata": {
        "colab": {
          "base_uri": "https://localhost:8080/"
        },
        "id": "xrwM_5NV5rly",
        "outputId": "4a9014c5-d3c9-41af-a35d-eb4871b93470"
      },
      "id": "xrwM_5NV5rly",
      "execution_count": 112,
      "outputs": [
        {
          "output_type": "execute_result",
          "data": {
            "text/plain": [
              "0.9776040973506723"
            ]
          },
          "metadata": {},
          "execution_count": 112
        }
      ]
    },
    {
      "cell_type": "code",
      "source": [
        ""
      ],
      "metadata": {
        "id": "XPfQouR752UX"
      },
      "id": "XPfQouR752UX",
      "execution_count": 112,
      "outputs": []
    },
    {
      "cell_type": "markdown",
      "source": [
        "#KNN Regressor"
      ],
      "metadata": {
        "id": "z-LURH4E523E"
      },
      "id": "z-LURH4E523E"
    },
    {
      "cell_type": "code",
      "source": [
        "from sklearn.neighbors import KNeighborsRegressor"
      ],
      "metadata": {
        "id": "FAn5A2rq58pQ"
      },
      "id": "FAn5A2rq58pQ",
      "execution_count": 113,
      "outputs": []
    },
    {
      "cell_type": "code",
      "source": [
        "KNN=KNeighborsRegressor()"
      ],
      "metadata": {
        "id": "Tff1jraz5-mS"
      },
      "id": "Tff1jraz5-mS",
      "execution_count": 114,
      "outputs": []
    },
    {
      "cell_type": "code",
      "source": [
        "KNN.fit(xtrain,ytrain)"
      ],
      "metadata": {
        "colab": {
          "base_uri": "https://localhost:8080/"
        },
        "id": "68fi7-Zf6ARW",
        "outputId": "d3adb50e-6600-4cd7-a787-32be96bac26c"
      },
      "id": "68fi7-Zf6ARW",
      "execution_count": 115,
      "outputs": [
        {
          "output_type": "execute_result",
          "data": {
            "text/plain": [
              "KNeighborsRegressor()"
            ]
          },
          "metadata": {},
          "execution_count": 115
        }
      ]
    },
    {
      "cell_type": "code",
      "source": [
        "KNN.score(xtest,ytest)"
      ],
      "metadata": {
        "colab": {
          "base_uri": "https://localhost:8080/"
        },
        "id": "a1YbjQCW6CJq",
        "outputId": "ecc56807-840d-4a05-d11e-32b1a4291058"
      },
      "id": "a1YbjQCW6CJq",
      "execution_count": 116,
      "outputs": [
        {
          "output_type": "execute_result",
          "data": {
            "text/plain": [
              "0.7557980992229392"
            ]
          },
          "metadata": {},
          "execution_count": 116
        }
      ]
    },
    {
      "cell_type": "code",
      "source": [
        "KNN.score(xtrain,ytrain)"
      ],
      "metadata": {
        "colab": {
          "base_uri": "https://localhost:8080/"
        },
        "id": "dXUC0AC06ENz",
        "outputId": "bf1e3281-bc8a-4b4c-cb31-bb65574ece18"
      },
      "id": "dXUC0AC06ENz",
      "execution_count": 117,
      "outputs": [
        {
          "output_type": "execute_result",
          "data": {
            "text/plain": [
              "0.8096572789385164"
            ]
          },
          "metadata": {},
          "execution_count": 117
        }
      ]
    },
    {
      "cell_type": "markdown",
      "source": [
        "#SVM"
      ],
      "metadata": {
        "id": "sNZFRoK4_3un"
      },
      "id": "sNZFRoK4_3un"
    },
    {
      "cell_type": "code",
      "source": [
        "from sklearn.svm import SVR"
      ],
      "metadata": {
        "id": "ys8rBI6l_6hX"
      },
      "id": "ys8rBI6l_6hX",
      "execution_count": 118,
      "outputs": []
    },
    {
      "cell_type": "code",
      "source": [
        "sv=SVR()"
      ],
      "metadata": {
        "id": "axvJcA9t_8Q4"
      },
      "id": "axvJcA9t_8Q4",
      "execution_count": 119,
      "outputs": []
    },
    {
      "cell_type": "code",
      "source": [
        "sv.fit(xtrain,ytrain)"
      ],
      "metadata": {
        "colab": {
          "base_uri": "https://localhost:8080/"
        },
        "id": "FSMA3_Pu_-yr",
        "outputId": "36430d92-7430-4c39-faf9-3674f3823362"
      },
      "id": "FSMA3_Pu_-yr",
      "execution_count": 120,
      "outputs": [
        {
          "output_type": "stream",
          "name": "stderr",
          "text": [
            "/usr/local/lib/python3.7/dist-packages/sklearn/utils/validation.py:993: DataConversionWarning: A column-vector y was passed when a 1d array was expected. Please change the shape of y to (n_samples, ), for example using ravel().\n",
            "  y = column_or_1d(y, warn=True)\n"
          ]
        },
        {
          "output_type": "execute_result",
          "data": {
            "text/plain": [
              "SVR()"
            ]
          },
          "metadata": {},
          "execution_count": 120
        }
      ]
    },
    {
      "cell_type": "code",
      "source": [
        "sv.score(xtrain,ytrain)"
      ],
      "metadata": {
        "colab": {
          "base_uri": "https://localhost:8080/"
        },
        "id": "KzNvI5MAAAee",
        "outputId": "33e82a1e-a986-4e8e-8c88-a22ca67fe9b3"
      },
      "id": "KzNvI5MAAAee",
      "execution_count": 121,
      "outputs": [
        {
          "output_type": "execute_result",
          "data": {
            "text/plain": [
              "0.02791279002995839"
            ]
          },
          "metadata": {},
          "execution_count": 121
        }
      ]
    },
    {
      "cell_type": "code",
      "source": [
        "sv.score(xtest,ytest)"
      ],
      "metadata": {
        "colab": {
          "base_uri": "https://localhost:8080/"
        },
        "id": "lBE1IQ9AACkC",
        "outputId": "6aa7af87-8b43-4a88-e59d-ceeb755fc6d6"
      },
      "id": "lBE1IQ9AACkC",
      "execution_count": 122,
      "outputs": [
        {
          "output_type": "execute_result",
          "data": {
            "text/plain": [
              "-0.0223626709585365"
            ]
          },
          "metadata": {},
          "execution_count": 122
        }
      ]
    },
    {
      "cell_type": "code",
      "source": [
        ""
      ],
      "metadata": {
        "id": "zq6U2SCsAo46"
      },
      "id": "zq6U2SCsAo46",
      "execution_count": 122,
      "outputs": []
    },
    {
      "cell_type": "markdown",
      "source": [
        "#Ada-Boost-Regressor"
      ],
      "metadata": {
        "id": "nNSW-Q6lAsYB"
      },
      "id": "nNSW-Q6lAsYB"
    },
    {
      "cell_type": "code",
      "source": [
        "from sklearn.ensemble import AdaBoostRegressor"
      ],
      "metadata": {
        "id": "bxrmcHa9AvXx"
      },
      "id": "bxrmcHa9AvXx",
      "execution_count": 123,
      "outputs": []
    },
    {
      "cell_type": "code",
      "source": [
        "ada=AdaBoostRegressor()"
      ],
      "metadata": {
        "id": "smzyPJHGA2jV"
      },
      "id": "smzyPJHGA2jV",
      "execution_count": 124,
      "outputs": []
    },
    {
      "cell_type": "code",
      "source": [
        "ada.fit(xtrain,ytrain)"
      ],
      "metadata": {
        "colab": {
          "base_uri": "https://localhost:8080/"
        },
        "id": "9UIKIexrBPGs",
        "outputId": "b1f0df22-725a-4878-f469-ad7946dfa8c4"
      },
      "id": "9UIKIexrBPGs",
      "execution_count": 125,
      "outputs": [
        {
          "output_type": "stream",
          "name": "stderr",
          "text": [
            "/usr/local/lib/python3.7/dist-packages/sklearn/utils/validation.py:993: DataConversionWarning: A column-vector y was passed when a 1d array was expected. Please change the shape of y to (n_samples, ), for example using ravel().\n",
            "  y = column_or_1d(y, warn=True)\n"
          ]
        },
        {
          "output_type": "execute_result",
          "data": {
            "text/plain": [
              "AdaBoostRegressor()"
            ]
          },
          "metadata": {},
          "execution_count": 125
        }
      ]
    },
    {
      "cell_type": "code",
      "source": [
        "ada.score(xtrain,ytrain)"
      ],
      "metadata": {
        "colab": {
          "base_uri": "https://localhost:8080/"
        },
        "id": "QYCCqSeOBTns",
        "outputId": "caa331fd-ca0c-4ed5-d513-55271be4f986"
      },
      "id": "QYCCqSeOBTns",
      "execution_count": 126,
      "outputs": [
        {
          "output_type": "execute_result",
          "data": {
            "text/plain": [
              "0.6927595167126455"
            ]
          },
          "metadata": {},
          "execution_count": 126
        }
      ]
    },
    {
      "cell_type": "code",
      "source": [
        "ada.score(xtest,ytest)"
      ],
      "metadata": {
        "colab": {
          "base_uri": "https://localhost:8080/"
        },
        "id": "kqGBoh8hBRcd",
        "outputId": "2b538a7a-5c6e-46de-caa8-97bc155d2faf"
      },
      "id": "kqGBoh8hBRcd",
      "execution_count": 127,
      "outputs": [
        {
          "output_type": "execute_result",
          "data": {
            "text/plain": [
              "0.6517170337704208"
            ]
          },
          "metadata": {},
          "execution_count": 127
        }
      ]
    },
    {
      "cell_type": "markdown",
      "source": [
        "#XG BOOST "
      ],
      "metadata": {
        "id": "ZelGq_S6BiPf"
      },
      "id": "ZelGq_S6BiPf"
    },
    {
      "cell_type": "code",
      "source": [
        "import xgboost as xg"
      ],
      "metadata": {
        "id": "8pwQ0c2yBZIU"
      },
      "id": "8pwQ0c2yBZIU",
      "execution_count": 128,
      "outputs": []
    },
    {
      "cell_type": "code",
      "source": [
        "xgb = xg.XGBRegressor()"
      ],
      "metadata": {
        "id": "bFwCG02kBnHc"
      },
      "id": "bFwCG02kBnHc",
      "execution_count": 129,
      "outputs": []
    },
    {
      "cell_type": "code",
      "source": [
        "xgb.fit(xtrain,ytrain)"
      ],
      "metadata": {
        "colab": {
          "base_uri": "https://localhost:8080/"
        },
        "id": "FlQDnZQcBr-T",
        "outputId": "78557e3e-32de-4b29-9e66-d095465a1b01"
      },
      "id": "FlQDnZQcBr-T",
      "execution_count": 130,
      "outputs": [
        {
          "output_type": "stream",
          "name": "stdout",
          "text": [
            "[17:40:28] WARNING: /workspace/src/objective/regression_obj.cu:152: reg:linear is now deprecated in favor of reg:squarederror.\n"
          ]
        },
        {
          "output_type": "execute_result",
          "data": {
            "text/plain": [
              "XGBRegressor()"
            ]
          },
          "metadata": {},
          "execution_count": 130
        }
      ]
    },
    {
      "cell_type": "code",
      "source": [
        "xgb.score(xtrain,ytrain)"
      ],
      "metadata": {
        "colab": {
          "base_uri": "https://localhost:8080/"
        },
        "id": "P5Y98pyUBt8n",
        "outputId": "b33f8a89-4934-4c3c-f615-1bb6e87d2202"
      },
      "id": "P5Y98pyUBt8n",
      "execution_count": 131,
      "outputs": [
        {
          "output_type": "execute_result",
          "data": {
            "text/plain": [
              "0.933405238119039"
            ]
          },
          "metadata": {},
          "execution_count": 131
        }
      ]
    },
    {
      "cell_type": "code",
      "source": [
        "xgb.score(xtest,ytest)"
      ],
      "metadata": {
        "colab": {
          "base_uri": "https://localhost:8080/"
        },
        "id": "ZVX9qXA2Bvac",
        "outputId": "cc4d45e5-7d10-45d1-ad98-c43ac5deccd0"
      },
      "id": "ZVX9qXA2Bvac",
      "execution_count": 132,
      "outputs": [
        {
          "output_type": "execute_result",
          "data": {
            "text/plain": [
              "0.8526208702573055"
            ]
          },
          "metadata": {},
          "execution_count": 132
        }
      ]
    },
    {
      "cell_type": "markdown",
      "source": [
        "#Gradient Boost"
      ],
      "metadata": {
        "id": "YyQvdgERB1i3"
      },
      "id": "YyQvdgERB1i3"
    },
    {
      "cell_type": "code",
      "source": [
        "from sklearn.ensemble import GradientBoostingRegressor"
      ],
      "metadata": {
        "id": "2B53fdtIB6Tf"
      },
      "id": "2B53fdtIB6Tf",
      "execution_count": 133,
      "outputs": []
    },
    {
      "cell_type": "code",
      "source": [
        "gBoost=GradientBoostingRegressor()"
      ],
      "metadata": {
        "id": "XHPOxJ7OB8lB"
      },
      "id": "XHPOxJ7OB8lB",
      "execution_count": 134,
      "outputs": []
    },
    {
      "cell_type": "code",
      "source": [
        "gBoost.fit(xtrain,ytrain)"
      ],
      "metadata": {
        "colab": {
          "base_uri": "https://localhost:8080/"
        },
        "id": "QC4bGh-kB8nI",
        "outputId": "032ed17e-92ae-4834-ac8c-5a7e1e4715f5"
      },
      "id": "QC4bGh-kB8nI",
      "execution_count": 135,
      "outputs": [
        {
          "output_type": "stream",
          "name": "stderr",
          "text": [
            "/usr/local/lib/python3.7/dist-packages/sklearn/ensemble/_gb.py:494: DataConversionWarning: A column-vector y was passed when a 1d array was expected. Please change the shape of y to (n_samples, ), for example using ravel().\n",
            "  y = column_or_1d(y, warn=True)\n"
          ]
        },
        {
          "output_type": "execute_result",
          "data": {
            "text/plain": [
              "GradientBoostingRegressor()"
            ]
          },
          "metadata": {},
          "execution_count": 135
        }
      ]
    },
    {
      "cell_type": "code",
      "source": [
        "gBoost.score(xtrain,ytrain)"
      ],
      "metadata": {
        "colab": {
          "base_uri": "https://localhost:8080/"
        },
        "id": "SJ_UgjAJCCR8",
        "outputId": "9ed822a0-aea7-449f-856b-1e774ea94fbc"
      },
      "id": "SJ_UgjAJCCR8",
      "execution_count": 136,
      "outputs": [
        {
          "output_type": "execute_result",
          "data": {
            "text/plain": [
              "0.9406159382108574"
            ]
          },
          "metadata": {},
          "execution_count": 136
        }
      ]
    },
    {
      "cell_type": "code",
      "source": [
        "gBoost.score(xtest,ytest)"
      ],
      "metadata": {
        "colab": {
          "base_uri": "https://localhost:8080/"
        },
        "id": "Lsix3_yfCEuB",
        "outputId": "fab6ad8a-e418-46c2-962b-b19637e3b8d2"
      },
      "id": "Lsix3_yfCEuB",
      "execution_count": 137,
      "outputs": [
        {
          "output_type": "execute_result",
          "data": {
            "text/plain": [
              "0.844766972602549"
            ]
          },
          "metadata": {},
          "execution_count": 137
        }
      ]
    },
    {
      "cell_type": "markdown",
      "source": [
        "#Feature Selection Pearson Correlation"
      ],
      "metadata": {
        "id": "Nze6Bom7CJRS"
      },
      "id": "Nze6Bom7CJRS"
    },
    {
      "cell_type": "code",
      "source": [
        "cor = xtrain.corr()"
      ],
      "metadata": {
        "id": "7wmQUr-0CL0D"
      },
      "id": "7wmQUr-0CL0D",
      "execution_count": 138,
      "outputs": []
    },
    {
      "cell_type": "code",
      "source": [
        "cor"
      ],
      "metadata": {
        "colab": {
          "base_uri": "https://localhost:8080/",
          "height": 584
        },
        "id": "_ebDbUyLDsMM",
        "outputId": "bd7554de-adc9-4d21-db5c-5e0bc0a3ffb2"
      },
      "id": "_ebDbUyLDsMM",
      "execution_count": 139,
      "outputs": [
        {
          "output_type": "execute_result",
          "data": {
            "text/plain": [
              "                            Company   Product  TypeName    Inches       Ram  \\\n",
              "Company                    1.000000  0.075016  0.007010 -0.060097  0.049165   \n",
              "Product                    0.075016  1.000000  0.074279 -0.203488  0.045391   \n",
              "TypeName                   0.007010  0.074279  1.000000 -0.102309 -0.253103   \n",
              "Inches                    -0.060097 -0.203488 -0.102309  1.000000  0.218425   \n",
              "Ram                        0.049165  0.045391 -0.253103  0.218425  1.000000   \n",
              "Gpu                        0.043289  0.091125 -0.234083  0.214064  0.380135   \n",
              "OpSys                      0.149079  0.157267  0.070548  0.013702  0.128883   \n",
              "Weight                    -0.118034 -0.235618 -0.298304  0.815089  0.367796   \n",
              "Screen_Resoluton_Height    0.043164  0.177030 -0.102317 -0.083820  0.470138   \n",
              "Screen_Display             0.094509  0.208722 -0.221495 -0.286668  0.235899   \n",
              "Screen_Resoluton_Width     0.048245  0.176641 -0.118858 -0.064137  0.476536   \n",
              "Cpu_Core                   0.029538  0.177444 -0.129311  0.123703  0.459398   \n",
              "Cpu_Processor_Speed_GHz    0.142219 -0.031322 -0.088935  0.273482  0.363572   \n",
              "Memory(storage_device)     0.101622  0.064561 -0.207690  0.156062  0.484550   \n",
              "Memory(storage_amount)_GB  0.096142  0.185911  0.062363 -0.122669  0.191457   \n",
              "\n",
              "                                Gpu     OpSys    Weight  \\\n",
              "Company                    0.043289  0.149079 -0.118034   \n",
              "Product                    0.091125  0.157267 -0.235618   \n",
              "TypeName                  -0.234083  0.070548 -0.298304   \n",
              "Inches                     0.214064  0.013702  0.815089   \n",
              "Ram                        0.380135  0.128883  0.367796   \n",
              "Gpu                        1.000000  0.068614  0.344656   \n",
              "OpSys                      0.068614  1.000000 -0.014388   \n",
              "Weight                     0.344656 -0.014388  1.000000   \n",
              "Screen_Resoluton_Height    0.230007  0.183108 -0.020232   \n",
              "Screen_Display             0.167470  0.104885 -0.149874   \n",
              "Screen_Resoluton_Width     0.239124  0.175772 -0.002878   \n",
              "Cpu_Core                   0.487955  0.104242  0.173181   \n",
              "Cpu_Processor_Speed_GHz    0.270787  0.208577  0.300156   \n",
              "Memory(storage_device)     0.259738  0.228735  0.206547   \n",
              "Memory(storage_amount)_GB  0.011070  0.162835 -0.148535   \n",
              "\n",
              "                           Screen_Resoluton_Height  Screen_Display  \\\n",
              "Company                                   0.043164        0.094509   \n",
              "Product                                   0.177030        0.208722   \n",
              "TypeName                                 -0.102317       -0.221495   \n",
              "Inches                                   -0.083820       -0.286668   \n",
              "Ram                                       0.470138        0.235899   \n",
              "Gpu                                       0.230007        0.167470   \n",
              "OpSys                                     0.183108        0.104885   \n",
              "Weight                                   -0.020232       -0.149874   \n",
              "Screen_Resoluton_Height                   1.000000        0.480807   \n",
              "Screen_Display                            0.480807        1.000000   \n",
              "Screen_Resoluton_Width                    0.995082        0.459184   \n",
              "Cpu_Core                                  0.302611        0.213472   \n",
              "Cpu_Processor_Speed_GHz                   0.179415        0.045379   \n",
              "Memory(storage_device)                    0.355453        0.213399   \n",
              "Memory(storage_amount)_GB                 0.169608        0.079652   \n",
              "\n",
              "                           Screen_Resoluton_Width  Cpu_Core  \\\n",
              "Company                                  0.048245  0.029538   \n",
              "Product                                  0.176641  0.177444   \n",
              "TypeName                                -0.118858 -0.129311   \n",
              "Inches                                  -0.064137  0.123703   \n",
              "Ram                                      0.476536  0.459398   \n",
              "Gpu                                      0.239124  0.487955   \n",
              "OpSys                                    0.175772  0.104242   \n",
              "Weight                                  -0.002878  0.173181   \n",
              "Screen_Resoluton_Height                  0.995082  0.302611   \n",
              "Screen_Display                           0.459184  0.213472   \n",
              "Screen_Resoluton_Width                   1.000000  0.312206   \n",
              "Cpu_Core                                 0.312206  1.000000   \n",
              "Cpu_Processor_Speed_GHz                  0.191421  0.179076   \n",
              "Memory(storage_device)                   0.366979  0.377370   \n",
              "Memory(storage_amount)_GB                0.169667  0.141850   \n",
              "\n",
              "                           Cpu_Processor_Speed_GHz  Memory(storage_device)  \\\n",
              "Company                                   0.142219                0.101622   \n",
              "Product                                  -0.031322                0.064561   \n",
              "TypeName                                 -0.088935               -0.207690   \n",
              "Inches                                    0.273482                0.156062   \n",
              "Ram                                       0.363572                0.484550   \n",
              "Gpu                                       0.270787                0.259738   \n",
              "OpSys                                     0.208577                0.228735   \n",
              "Weight                                    0.300156                0.206547   \n",
              "Screen_Resoluton_Height                   0.179415                0.355453   \n",
              "Screen_Display                            0.045379                0.213399   \n",
              "Screen_Resoluton_Width                    0.191421                0.366979   \n",
              "Cpu_Core                                  0.179076                0.377370   \n",
              "Cpu_Processor_Speed_GHz                   1.000000                0.340110   \n",
              "Memory(storage_device)                    0.340110                1.000000   \n",
              "Memory(storage_amount)_GB                 0.089438                0.213545   \n",
              "\n",
              "                           Memory(storage_amount)_GB  \n",
              "Company                                     0.096142  \n",
              "Product                                     0.185911  \n",
              "TypeName                                    0.062363  \n",
              "Inches                                     -0.122669  \n",
              "Ram                                         0.191457  \n",
              "Gpu                                         0.011070  \n",
              "OpSys                                       0.162835  \n",
              "Weight                                     -0.148535  \n",
              "Screen_Resoluton_Height                     0.169608  \n",
              "Screen_Display                              0.079652  \n",
              "Screen_Resoluton_Width                      0.169667  \n",
              "Cpu_Core                                    0.141850  \n",
              "Cpu_Processor_Speed_GHz                     0.089438  \n",
              "Memory(storage_device)                      0.213545  \n",
              "Memory(storage_amount)_GB                   1.000000  "
            ],
            "text/html": [
              "\n",
              "  <div id=\"df-1552612c-0450-483e-8fd9-38094ba01ecc\">\n",
              "    <div class=\"colab-df-container\">\n",
              "      <div>\n",
              "<style scoped>\n",
              "    .dataframe tbody tr th:only-of-type {\n",
              "        vertical-align: middle;\n",
              "    }\n",
              "\n",
              "    .dataframe tbody tr th {\n",
              "        vertical-align: top;\n",
              "    }\n",
              "\n",
              "    .dataframe thead th {\n",
              "        text-align: right;\n",
              "    }\n",
              "</style>\n",
              "<table border=\"1\" class=\"dataframe\">\n",
              "  <thead>\n",
              "    <tr style=\"text-align: right;\">\n",
              "      <th></th>\n",
              "      <th>Company</th>\n",
              "      <th>Product</th>\n",
              "      <th>TypeName</th>\n",
              "      <th>Inches</th>\n",
              "      <th>Ram</th>\n",
              "      <th>Gpu</th>\n",
              "      <th>OpSys</th>\n",
              "      <th>Weight</th>\n",
              "      <th>Screen_Resoluton_Height</th>\n",
              "      <th>Screen_Display</th>\n",
              "      <th>Screen_Resoluton_Width</th>\n",
              "      <th>Cpu_Core</th>\n",
              "      <th>Cpu_Processor_Speed_GHz</th>\n",
              "      <th>Memory(storage_device)</th>\n",
              "      <th>Memory(storage_amount)_GB</th>\n",
              "    </tr>\n",
              "  </thead>\n",
              "  <tbody>\n",
              "    <tr>\n",
              "      <th>Company</th>\n",
              "      <td>1.000000</td>\n",
              "      <td>0.075016</td>\n",
              "      <td>0.007010</td>\n",
              "      <td>-0.060097</td>\n",
              "      <td>0.049165</td>\n",
              "      <td>0.043289</td>\n",
              "      <td>0.149079</td>\n",
              "      <td>-0.118034</td>\n",
              "      <td>0.043164</td>\n",
              "      <td>0.094509</td>\n",
              "      <td>0.048245</td>\n",
              "      <td>0.029538</td>\n",
              "      <td>0.142219</td>\n",
              "      <td>0.101622</td>\n",
              "      <td>0.096142</td>\n",
              "    </tr>\n",
              "    <tr>\n",
              "      <th>Product</th>\n",
              "      <td>0.075016</td>\n",
              "      <td>1.000000</td>\n",
              "      <td>0.074279</td>\n",
              "      <td>-0.203488</td>\n",
              "      <td>0.045391</td>\n",
              "      <td>0.091125</td>\n",
              "      <td>0.157267</td>\n",
              "      <td>-0.235618</td>\n",
              "      <td>0.177030</td>\n",
              "      <td>0.208722</td>\n",
              "      <td>0.176641</td>\n",
              "      <td>0.177444</td>\n",
              "      <td>-0.031322</td>\n",
              "      <td>0.064561</td>\n",
              "      <td>0.185911</td>\n",
              "    </tr>\n",
              "    <tr>\n",
              "      <th>TypeName</th>\n",
              "      <td>0.007010</td>\n",
              "      <td>0.074279</td>\n",
              "      <td>1.000000</td>\n",
              "      <td>-0.102309</td>\n",
              "      <td>-0.253103</td>\n",
              "      <td>-0.234083</td>\n",
              "      <td>0.070548</td>\n",
              "      <td>-0.298304</td>\n",
              "      <td>-0.102317</td>\n",
              "      <td>-0.221495</td>\n",
              "      <td>-0.118858</td>\n",
              "      <td>-0.129311</td>\n",
              "      <td>-0.088935</td>\n",
              "      <td>-0.207690</td>\n",
              "      <td>0.062363</td>\n",
              "    </tr>\n",
              "    <tr>\n",
              "      <th>Inches</th>\n",
              "      <td>-0.060097</td>\n",
              "      <td>-0.203488</td>\n",
              "      <td>-0.102309</td>\n",
              "      <td>1.000000</td>\n",
              "      <td>0.218425</td>\n",
              "      <td>0.214064</td>\n",
              "      <td>0.013702</td>\n",
              "      <td>0.815089</td>\n",
              "      <td>-0.083820</td>\n",
              "      <td>-0.286668</td>\n",
              "      <td>-0.064137</td>\n",
              "      <td>0.123703</td>\n",
              "      <td>0.273482</td>\n",
              "      <td>0.156062</td>\n",
              "      <td>-0.122669</td>\n",
              "    </tr>\n",
              "    <tr>\n",
              "      <th>Ram</th>\n",
              "      <td>0.049165</td>\n",
              "      <td>0.045391</td>\n",
              "      <td>-0.253103</td>\n",
              "      <td>0.218425</td>\n",
              "      <td>1.000000</td>\n",
              "      <td>0.380135</td>\n",
              "      <td>0.128883</td>\n",
              "      <td>0.367796</td>\n",
              "      <td>0.470138</td>\n",
              "      <td>0.235899</td>\n",
              "      <td>0.476536</td>\n",
              "      <td>0.459398</td>\n",
              "      <td>0.363572</td>\n",
              "      <td>0.484550</td>\n",
              "      <td>0.191457</td>\n",
              "    </tr>\n",
              "    <tr>\n",
              "      <th>Gpu</th>\n",
              "      <td>0.043289</td>\n",
              "      <td>0.091125</td>\n",
              "      <td>-0.234083</td>\n",
              "      <td>0.214064</td>\n",
              "      <td>0.380135</td>\n",
              "      <td>1.000000</td>\n",
              "      <td>0.068614</td>\n",
              "      <td>0.344656</td>\n",
              "      <td>0.230007</td>\n",
              "      <td>0.167470</td>\n",
              "      <td>0.239124</td>\n",
              "      <td>0.487955</td>\n",
              "      <td>0.270787</td>\n",
              "      <td>0.259738</td>\n",
              "      <td>0.011070</td>\n",
              "    </tr>\n",
              "    <tr>\n",
              "      <th>OpSys</th>\n",
              "      <td>0.149079</td>\n",
              "      <td>0.157267</td>\n",
              "      <td>0.070548</td>\n",
              "      <td>0.013702</td>\n",
              "      <td>0.128883</td>\n",
              "      <td>0.068614</td>\n",
              "      <td>1.000000</td>\n",
              "      <td>-0.014388</td>\n",
              "      <td>0.183108</td>\n",
              "      <td>0.104885</td>\n",
              "      <td>0.175772</td>\n",
              "      <td>0.104242</td>\n",
              "      <td>0.208577</td>\n",
              "      <td>0.228735</td>\n",
              "      <td>0.162835</td>\n",
              "    </tr>\n",
              "    <tr>\n",
              "      <th>Weight</th>\n",
              "      <td>-0.118034</td>\n",
              "      <td>-0.235618</td>\n",
              "      <td>-0.298304</td>\n",
              "      <td>0.815089</td>\n",
              "      <td>0.367796</td>\n",
              "      <td>0.344656</td>\n",
              "      <td>-0.014388</td>\n",
              "      <td>1.000000</td>\n",
              "      <td>-0.020232</td>\n",
              "      <td>-0.149874</td>\n",
              "      <td>-0.002878</td>\n",
              "      <td>0.173181</td>\n",
              "      <td>0.300156</td>\n",
              "      <td>0.206547</td>\n",
              "      <td>-0.148535</td>\n",
              "    </tr>\n",
              "    <tr>\n",
              "      <th>Screen_Resoluton_Height</th>\n",
              "      <td>0.043164</td>\n",
              "      <td>0.177030</td>\n",
              "      <td>-0.102317</td>\n",
              "      <td>-0.083820</td>\n",
              "      <td>0.470138</td>\n",
              "      <td>0.230007</td>\n",
              "      <td>0.183108</td>\n",
              "      <td>-0.020232</td>\n",
              "      <td>1.000000</td>\n",
              "      <td>0.480807</td>\n",
              "      <td>0.995082</td>\n",
              "      <td>0.302611</td>\n",
              "      <td>0.179415</td>\n",
              "      <td>0.355453</td>\n",
              "      <td>0.169608</td>\n",
              "    </tr>\n",
              "    <tr>\n",
              "      <th>Screen_Display</th>\n",
              "      <td>0.094509</td>\n",
              "      <td>0.208722</td>\n",
              "      <td>-0.221495</td>\n",
              "      <td>-0.286668</td>\n",
              "      <td>0.235899</td>\n",
              "      <td>0.167470</td>\n",
              "      <td>0.104885</td>\n",
              "      <td>-0.149874</td>\n",
              "      <td>0.480807</td>\n",
              "      <td>1.000000</td>\n",
              "      <td>0.459184</td>\n",
              "      <td>0.213472</td>\n",
              "      <td>0.045379</td>\n",
              "      <td>0.213399</td>\n",
              "      <td>0.079652</td>\n",
              "    </tr>\n",
              "    <tr>\n",
              "      <th>Screen_Resoluton_Width</th>\n",
              "      <td>0.048245</td>\n",
              "      <td>0.176641</td>\n",
              "      <td>-0.118858</td>\n",
              "      <td>-0.064137</td>\n",
              "      <td>0.476536</td>\n",
              "      <td>0.239124</td>\n",
              "      <td>0.175772</td>\n",
              "      <td>-0.002878</td>\n",
              "      <td>0.995082</td>\n",
              "      <td>0.459184</td>\n",
              "      <td>1.000000</td>\n",
              "      <td>0.312206</td>\n",
              "      <td>0.191421</td>\n",
              "      <td>0.366979</td>\n",
              "      <td>0.169667</td>\n",
              "    </tr>\n",
              "    <tr>\n",
              "      <th>Cpu_Core</th>\n",
              "      <td>0.029538</td>\n",
              "      <td>0.177444</td>\n",
              "      <td>-0.129311</td>\n",
              "      <td>0.123703</td>\n",
              "      <td>0.459398</td>\n",
              "      <td>0.487955</td>\n",
              "      <td>0.104242</td>\n",
              "      <td>0.173181</td>\n",
              "      <td>0.302611</td>\n",
              "      <td>0.213472</td>\n",
              "      <td>0.312206</td>\n",
              "      <td>1.000000</td>\n",
              "      <td>0.179076</td>\n",
              "      <td>0.377370</td>\n",
              "      <td>0.141850</td>\n",
              "    </tr>\n",
              "    <tr>\n",
              "      <th>Cpu_Processor_Speed_GHz</th>\n",
              "      <td>0.142219</td>\n",
              "      <td>-0.031322</td>\n",
              "      <td>-0.088935</td>\n",
              "      <td>0.273482</td>\n",
              "      <td>0.363572</td>\n",
              "      <td>0.270787</td>\n",
              "      <td>0.208577</td>\n",
              "      <td>0.300156</td>\n",
              "      <td>0.179415</td>\n",
              "      <td>0.045379</td>\n",
              "      <td>0.191421</td>\n",
              "      <td>0.179076</td>\n",
              "      <td>1.000000</td>\n",
              "      <td>0.340110</td>\n",
              "      <td>0.089438</td>\n",
              "    </tr>\n",
              "    <tr>\n",
              "      <th>Memory(storage_device)</th>\n",
              "      <td>0.101622</td>\n",
              "      <td>0.064561</td>\n",
              "      <td>-0.207690</td>\n",
              "      <td>0.156062</td>\n",
              "      <td>0.484550</td>\n",
              "      <td>0.259738</td>\n",
              "      <td>0.228735</td>\n",
              "      <td>0.206547</td>\n",
              "      <td>0.355453</td>\n",
              "      <td>0.213399</td>\n",
              "      <td>0.366979</td>\n",
              "      <td>0.377370</td>\n",
              "      <td>0.340110</td>\n",
              "      <td>1.000000</td>\n",
              "      <td>0.213545</td>\n",
              "    </tr>\n",
              "    <tr>\n",
              "      <th>Memory(storage_amount)_GB</th>\n",
              "      <td>0.096142</td>\n",
              "      <td>0.185911</td>\n",
              "      <td>0.062363</td>\n",
              "      <td>-0.122669</td>\n",
              "      <td>0.191457</td>\n",
              "      <td>0.011070</td>\n",
              "      <td>0.162835</td>\n",
              "      <td>-0.148535</td>\n",
              "      <td>0.169608</td>\n",
              "      <td>0.079652</td>\n",
              "      <td>0.169667</td>\n",
              "      <td>0.141850</td>\n",
              "      <td>0.089438</td>\n",
              "      <td>0.213545</td>\n",
              "      <td>1.000000</td>\n",
              "    </tr>\n",
              "  </tbody>\n",
              "</table>\n",
              "</div>\n",
              "      <button class=\"colab-df-convert\" onclick=\"convertToInteractive('df-1552612c-0450-483e-8fd9-38094ba01ecc')\"\n",
              "              title=\"Convert this dataframe to an interactive table.\"\n",
              "              style=\"display:none;\">\n",
              "        \n",
              "  <svg xmlns=\"http://www.w3.org/2000/svg\" height=\"24px\"viewBox=\"0 0 24 24\"\n",
              "       width=\"24px\">\n",
              "    <path d=\"M0 0h24v24H0V0z\" fill=\"none\"/>\n",
              "    <path d=\"M18.56 5.44l.94 2.06.94-2.06 2.06-.94-2.06-.94-.94-2.06-.94 2.06-2.06.94zm-11 1L8.5 8.5l.94-2.06 2.06-.94-2.06-.94L8.5 2.5l-.94 2.06-2.06.94zm10 10l.94 2.06.94-2.06 2.06-.94-2.06-.94-.94-2.06-.94 2.06-2.06.94z\"/><path d=\"M17.41 7.96l-1.37-1.37c-.4-.4-.92-.59-1.43-.59-.52 0-1.04.2-1.43.59L10.3 9.45l-7.72 7.72c-.78.78-.78 2.05 0 2.83L4 21.41c.39.39.9.59 1.41.59.51 0 1.02-.2 1.41-.59l7.78-7.78 2.81-2.81c.8-.78.8-2.07 0-2.86zM5.41 20L4 18.59l7.72-7.72 1.47 1.35L5.41 20z\"/>\n",
              "  </svg>\n",
              "      </button>\n",
              "      \n",
              "  <style>\n",
              "    .colab-df-container {\n",
              "      display:flex;\n",
              "      flex-wrap:wrap;\n",
              "      gap: 12px;\n",
              "    }\n",
              "\n",
              "    .colab-df-convert {\n",
              "      background-color: #E8F0FE;\n",
              "      border: none;\n",
              "      border-radius: 50%;\n",
              "      cursor: pointer;\n",
              "      display: none;\n",
              "      fill: #1967D2;\n",
              "      height: 32px;\n",
              "      padding: 0 0 0 0;\n",
              "      width: 32px;\n",
              "    }\n",
              "\n",
              "    .colab-df-convert:hover {\n",
              "      background-color: #E2EBFA;\n",
              "      box-shadow: 0px 1px 2px rgba(60, 64, 67, 0.3), 0px 1px 3px 1px rgba(60, 64, 67, 0.15);\n",
              "      fill: #174EA6;\n",
              "    }\n",
              "\n",
              "    [theme=dark] .colab-df-convert {\n",
              "      background-color: #3B4455;\n",
              "      fill: #D2E3FC;\n",
              "    }\n",
              "\n",
              "    [theme=dark] .colab-df-convert:hover {\n",
              "      background-color: #434B5C;\n",
              "      box-shadow: 0px 1px 3px 1px rgba(0, 0, 0, 0.15);\n",
              "      filter: drop-shadow(0px 1px 2px rgba(0, 0, 0, 0.3));\n",
              "      fill: #FFFFFF;\n",
              "    }\n",
              "  </style>\n",
              "\n",
              "      <script>\n",
              "        const buttonEl =\n",
              "          document.querySelector('#df-1552612c-0450-483e-8fd9-38094ba01ecc button.colab-df-convert');\n",
              "        buttonEl.style.display =\n",
              "          google.colab.kernel.accessAllowed ? 'block' : 'none';\n",
              "\n",
              "        async function convertToInteractive(key) {\n",
              "          const element = document.querySelector('#df-1552612c-0450-483e-8fd9-38094ba01ecc');\n",
              "          const dataTable =\n",
              "            await google.colab.kernel.invokeFunction('convertToInteractive',\n",
              "                                                     [key], {});\n",
              "          if (!dataTable) return;\n",
              "\n",
              "          const docLinkHtml = 'Like what you see? Visit the ' +\n",
              "            '<a target=\"_blank\" href=https://colab.research.google.com/notebooks/data_table.ipynb>data table notebook</a>'\n",
              "            + ' to learn more about interactive tables.';\n",
              "          element.innerHTML = '';\n",
              "          dataTable['output_type'] = 'display_data';\n",
              "          await google.colab.output.renderOutput(dataTable, element);\n",
              "          const docLink = document.createElement('div');\n",
              "          docLink.innerHTML = docLinkHtml;\n",
              "          element.appendChild(docLink);\n",
              "        }\n",
              "      </script>\n",
              "    </div>\n",
              "  </div>\n",
              "  "
            ]
          },
          "metadata": {},
          "execution_count": 139
        }
      ]
    },
    {
      "cell_type": "code",
      "source": [
        "def correlation(dataset, threshold):\n",
        "    col_corr = set() #set of all the names of correlated columns\n",
        "    corr_matrix = dataset.corr() #correlation matrix\n",
        "\n",
        "    for i in range(len(corr_matrix.columns)): # matrix er each column i c\n",
        "        for j in range (i): #each column er moddhe (row) column\n",
        "            if abs(corr_matrix.iloc[i,j]) > threshold:\n",
        "                colname = corr_matrix.columns[i] #getting the name of the column\n",
        "                col_corr.add(colname)\n",
        "    return col_corr"
      ],
      "metadata": {
        "id": "-8WHXghMDtGf"
      },
      "id": "-8WHXghMDtGf",
      "execution_count": 140,
      "outputs": []
    },
    {
      "cell_type": "code",
      "source": [
        "corr_features  =  correlation(xtrain,0.70)"
      ],
      "metadata": {
        "id": "eeeBQvXBD4V_"
      },
      "id": "eeeBQvXBD4V_",
      "execution_count": 141,
      "outputs": []
    },
    {
      "cell_type": "code",
      "source": [
        "corr_features"
      ],
      "metadata": {
        "colab": {
          "base_uri": "https://localhost:8080/"
        },
        "id": "5F_nkoNtD78G",
        "outputId": "8d09e700-35ca-42cf-91ce-1212b6da8c4a"
      },
      "id": "5F_nkoNtD78G",
      "execution_count": 142,
      "outputs": [
        {
          "output_type": "execute_result",
          "data": {
            "text/plain": [
              "{'Screen_Resoluton_Width', 'Weight'}"
            ]
          },
          "metadata": {},
          "execution_count": 142
        }
      ]
    },
    {
      "cell_type": "code",
      "source": [
        "xtrain.drop(corr_features, axis=1)"
      ],
      "metadata": {
        "colab": {
          "base_uri": "https://localhost:8080/",
          "height": 488
        },
        "id": "IBhHNnVUEFWn",
        "outputId": "fb25d0f7-b851-4472-9624-d6d7dc9d642c"
      },
      "id": "IBhHNnVUEFWn",
      "execution_count": 143,
      "outputs": [
        {
          "output_type": "execute_result",
          "data": {
            "text/plain": [
              "       Company   Product  TypeName    Inches       Ram       Gpu  OpSys  \\\n",
              "1168  0.388889  0.690438       0.6  0.469880  0.000000  0.376147  0.625   \n",
              "1108  0.388889  0.055105       0.6  0.662651  0.032258  0.137615  0.625   \n",
              "801   0.111111  0.583468       0.6  0.662651  0.096774  0.486239  0.625   \n",
              "1102  0.000000  0.149109       0.6  0.662651  0.032258  0.366972  0.125   \n",
              "220   0.222222  0.388979       0.6  0.662651  0.096774  0.055046  0.250   \n",
              "...        ...       ...       ...       ...       ...       ...    ...   \n",
              "145   0.111111  0.983793       0.8  0.469880  0.096774  0.559633  0.625   \n",
              "343   0.555556  0.957861       0.0  0.457831  0.225806  0.559633  0.625   \n",
              "192   1.000000  0.491086       0.8  0.385542  0.096774  0.899083  0.500   \n",
              "899   0.222222  0.455429       0.6  0.662651  0.096774  0.486239  0.625   \n",
              "418   0.222222  0.387358       0.6  0.662651  0.096774  0.486239  0.625   \n",
              "\n",
              "      Screen_Resoluton_Height  Screen_Display  Cpu_Core  \\\n",
              "1168                 0.000000            0.00  0.347826   \n",
              "1108                 0.224138            0.15  0.076087   \n",
              "801                  0.224138            0.15  0.619565   \n",
              "1102                 0.000000            0.00  0.315217   \n",
              "220                  0.224138            0.15  0.695652   \n",
              "...                       ...             ...       ...   \n",
              "145                  0.224138            0.15  0.880435   \n",
              "343                  1.000000            0.35  0.880435   \n",
              "192                  0.224138            0.40  0.619565   \n",
              "899                  0.224138            0.15  0.641304   \n",
              "418                  0.000000            0.00  0.619565   \n",
              "\n",
              "      Cpu_Processor_Speed_GHz  Memory(storage_device)  \\\n",
              "1168                 0.259259                0.000000   \n",
              "1108                 0.592593                0.181818   \n",
              "801                  0.592593                0.454545   \n",
              "1102                 0.222222                0.454545   \n",
              "220                  0.259259                0.454545   \n",
              "...                       ...                     ...   \n",
              "145                  0.333333                0.454545   \n",
              "343                  0.333333                0.454545   \n",
              "192                  0.592593                0.454545   \n",
              "899                  0.629630                0.181818   \n",
              "418                  0.592593                0.181818   \n",
              "\n",
              "      Memory(storage_amount)_GB  \n",
              "1168                   0.060665  \n",
              "1108                   0.000000  \n",
              "801                    0.499022  \n",
              "1102                   0.029354  \n",
              "220                    0.499022  \n",
              "...                         ...  \n",
              "145                    0.499022  \n",
              "343                    1.000000  \n",
              "192                    0.499022  \n",
              "899                    0.976517  \n",
              "418                    0.000000  \n",
              "\n",
              "[892 rows x 13 columns]"
            ],
            "text/html": [
              "\n",
              "  <div id=\"df-4188b33a-77eb-4829-9acd-445200a46882\">\n",
              "    <div class=\"colab-df-container\">\n",
              "      <div>\n",
              "<style scoped>\n",
              "    .dataframe tbody tr th:only-of-type {\n",
              "        vertical-align: middle;\n",
              "    }\n",
              "\n",
              "    .dataframe tbody tr th {\n",
              "        vertical-align: top;\n",
              "    }\n",
              "\n",
              "    .dataframe thead th {\n",
              "        text-align: right;\n",
              "    }\n",
              "</style>\n",
              "<table border=\"1\" class=\"dataframe\">\n",
              "  <thead>\n",
              "    <tr style=\"text-align: right;\">\n",
              "      <th></th>\n",
              "      <th>Company</th>\n",
              "      <th>Product</th>\n",
              "      <th>TypeName</th>\n",
              "      <th>Inches</th>\n",
              "      <th>Ram</th>\n",
              "      <th>Gpu</th>\n",
              "      <th>OpSys</th>\n",
              "      <th>Screen_Resoluton_Height</th>\n",
              "      <th>Screen_Display</th>\n",
              "      <th>Cpu_Core</th>\n",
              "      <th>Cpu_Processor_Speed_GHz</th>\n",
              "      <th>Memory(storage_device)</th>\n",
              "      <th>Memory(storage_amount)_GB</th>\n",
              "    </tr>\n",
              "  </thead>\n",
              "  <tbody>\n",
              "    <tr>\n",
              "      <th>1168</th>\n",
              "      <td>0.388889</td>\n",
              "      <td>0.690438</td>\n",
              "      <td>0.6</td>\n",
              "      <td>0.469880</td>\n",
              "      <td>0.000000</td>\n",
              "      <td>0.376147</td>\n",
              "      <td>0.625</td>\n",
              "      <td>0.000000</td>\n",
              "      <td>0.00</td>\n",
              "      <td>0.347826</td>\n",
              "      <td>0.259259</td>\n",
              "      <td>0.000000</td>\n",
              "      <td>0.060665</td>\n",
              "    </tr>\n",
              "    <tr>\n",
              "      <th>1108</th>\n",
              "      <td>0.388889</td>\n",
              "      <td>0.055105</td>\n",
              "      <td>0.6</td>\n",
              "      <td>0.662651</td>\n",
              "      <td>0.032258</td>\n",
              "      <td>0.137615</td>\n",
              "      <td>0.625</td>\n",
              "      <td>0.224138</td>\n",
              "      <td>0.15</td>\n",
              "      <td>0.076087</td>\n",
              "      <td>0.592593</td>\n",
              "      <td>0.181818</td>\n",
              "      <td>0.000000</td>\n",
              "    </tr>\n",
              "    <tr>\n",
              "      <th>801</th>\n",
              "      <td>0.111111</td>\n",
              "      <td>0.583468</td>\n",
              "      <td>0.6</td>\n",
              "      <td>0.662651</td>\n",
              "      <td>0.096774</td>\n",
              "      <td>0.486239</td>\n",
              "      <td>0.625</td>\n",
              "      <td>0.224138</td>\n",
              "      <td>0.15</td>\n",
              "      <td>0.619565</td>\n",
              "      <td>0.592593</td>\n",
              "      <td>0.454545</td>\n",
              "      <td>0.499022</td>\n",
              "    </tr>\n",
              "    <tr>\n",
              "      <th>1102</th>\n",
              "      <td>0.000000</td>\n",
              "      <td>0.149109</td>\n",
              "      <td>0.6</td>\n",
              "      <td>0.662651</td>\n",
              "      <td>0.032258</td>\n",
              "      <td>0.366972</td>\n",
              "      <td>0.125</td>\n",
              "      <td>0.000000</td>\n",
              "      <td>0.00</td>\n",
              "      <td>0.315217</td>\n",
              "      <td>0.222222</td>\n",
              "      <td>0.454545</td>\n",
              "      <td>0.029354</td>\n",
              "    </tr>\n",
              "    <tr>\n",
              "      <th>220</th>\n",
              "      <td>0.222222</td>\n",
              "      <td>0.388979</td>\n",
              "      <td>0.6</td>\n",
              "      <td>0.662651</td>\n",
              "      <td>0.096774</td>\n",
              "      <td>0.055046</td>\n",
              "      <td>0.250</td>\n",
              "      <td>0.224138</td>\n",
              "      <td>0.15</td>\n",
              "      <td>0.695652</td>\n",
              "      <td>0.259259</td>\n",
              "      <td>0.454545</td>\n",
              "      <td>0.499022</td>\n",
              "    </tr>\n",
              "    <tr>\n",
              "      <th>...</th>\n",
              "      <td>...</td>\n",
              "      <td>...</td>\n",
              "      <td>...</td>\n",
              "      <td>...</td>\n",
              "      <td>...</td>\n",
              "      <td>...</td>\n",
              "      <td>...</td>\n",
              "      <td>...</td>\n",
              "      <td>...</td>\n",
              "      <td>...</td>\n",
              "      <td>...</td>\n",
              "      <td>...</td>\n",
              "      <td>...</td>\n",
              "    </tr>\n",
              "    <tr>\n",
              "      <th>145</th>\n",
              "      <td>0.111111</td>\n",
              "      <td>0.983793</td>\n",
              "      <td>0.8</td>\n",
              "      <td>0.469880</td>\n",
              "      <td>0.096774</td>\n",
              "      <td>0.559633</td>\n",
              "      <td>0.625</td>\n",
              "      <td>0.224138</td>\n",
              "      <td>0.15</td>\n",
              "      <td>0.880435</td>\n",
              "      <td>0.333333</td>\n",
              "      <td>0.454545</td>\n",
              "      <td>0.499022</td>\n",
              "    </tr>\n",
              "    <tr>\n",
              "      <th>343</th>\n",
              "      <td>0.555556</td>\n",
              "      <td>0.957861</td>\n",
              "      <td>0.0</td>\n",
              "      <td>0.457831</td>\n",
              "      <td>0.225806</td>\n",
              "      <td>0.559633</td>\n",
              "      <td>0.625</td>\n",
              "      <td>1.000000</td>\n",
              "      <td>0.35</td>\n",
              "      <td>0.880435</td>\n",
              "      <td>0.333333</td>\n",
              "      <td>0.454545</td>\n",
              "      <td>1.000000</td>\n",
              "    </tr>\n",
              "    <tr>\n",
              "      <th>192</th>\n",
              "      <td>1.000000</td>\n",
              "      <td>0.491086</td>\n",
              "      <td>0.8</td>\n",
              "      <td>0.385542</td>\n",
              "      <td>0.096774</td>\n",
              "      <td>0.899083</td>\n",
              "      <td>0.500</td>\n",
              "      <td>0.224138</td>\n",
              "      <td>0.40</td>\n",
              "      <td>0.619565</td>\n",
              "      <td>0.592593</td>\n",
              "      <td>0.454545</td>\n",
              "      <td>0.499022</td>\n",
              "    </tr>\n",
              "    <tr>\n",
              "      <th>899</th>\n",
              "      <td>0.222222</td>\n",
              "      <td>0.455429</td>\n",
              "      <td>0.6</td>\n",
              "      <td>0.662651</td>\n",
              "      <td>0.096774</td>\n",
              "      <td>0.486239</td>\n",
              "      <td>0.625</td>\n",
              "      <td>0.224138</td>\n",
              "      <td>0.15</td>\n",
              "      <td>0.641304</td>\n",
              "      <td>0.629630</td>\n",
              "      <td>0.181818</td>\n",
              "      <td>0.976517</td>\n",
              "    </tr>\n",
              "    <tr>\n",
              "      <th>418</th>\n",
              "      <td>0.222222</td>\n",
              "      <td>0.387358</td>\n",
              "      <td>0.6</td>\n",
              "      <td>0.662651</td>\n",
              "      <td>0.096774</td>\n",
              "      <td>0.486239</td>\n",
              "      <td>0.625</td>\n",
              "      <td>0.000000</td>\n",
              "      <td>0.00</td>\n",
              "      <td>0.619565</td>\n",
              "      <td>0.592593</td>\n",
              "      <td>0.181818</td>\n",
              "      <td>0.000000</td>\n",
              "    </tr>\n",
              "  </tbody>\n",
              "</table>\n",
              "<p>892 rows × 13 columns</p>\n",
              "</div>\n",
              "      <button class=\"colab-df-convert\" onclick=\"convertToInteractive('df-4188b33a-77eb-4829-9acd-445200a46882')\"\n",
              "              title=\"Convert this dataframe to an interactive table.\"\n",
              "              style=\"display:none;\">\n",
              "        \n",
              "  <svg xmlns=\"http://www.w3.org/2000/svg\" height=\"24px\"viewBox=\"0 0 24 24\"\n",
              "       width=\"24px\">\n",
              "    <path d=\"M0 0h24v24H0V0z\" fill=\"none\"/>\n",
              "    <path d=\"M18.56 5.44l.94 2.06.94-2.06 2.06-.94-2.06-.94-.94-2.06-.94 2.06-2.06.94zm-11 1L8.5 8.5l.94-2.06 2.06-.94-2.06-.94L8.5 2.5l-.94 2.06-2.06.94zm10 10l.94 2.06.94-2.06 2.06-.94-2.06-.94-.94-2.06-.94 2.06-2.06.94z\"/><path d=\"M17.41 7.96l-1.37-1.37c-.4-.4-.92-.59-1.43-.59-.52 0-1.04.2-1.43.59L10.3 9.45l-7.72 7.72c-.78.78-.78 2.05 0 2.83L4 21.41c.39.39.9.59 1.41.59.51 0 1.02-.2 1.41-.59l7.78-7.78 2.81-2.81c.8-.78.8-2.07 0-2.86zM5.41 20L4 18.59l7.72-7.72 1.47 1.35L5.41 20z\"/>\n",
              "  </svg>\n",
              "      </button>\n",
              "      \n",
              "  <style>\n",
              "    .colab-df-container {\n",
              "      display:flex;\n",
              "      flex-wrap:wrap;\n",
              "      gap: 12px;\n",
              "    }\n",
              "\n",
              "    .colab-df-convert {\n",
              "      background-color: #E8F0FE;\n",
              "      border: none;\n",
              "      border-radius: 50%;\n",
              "      cursor: pointer;\n",
              "      display: none;\n",
              "      fill: #1967D2;\n",
              "      height: 32px;\n",
              "      padding: 0 0 0 0;\n",
              "      width: 32px;\n",
              "    }\n",
              "\n",
              "    .colab-df-convert:hover {\n",
              "      background-color: #E2EBFA;\n",
              "      box-shadow: 0px 1px 2px rgba(60, 64, 67, 0.3), 0px 1px 3px 1px rgba(60, 64, 67, 0.15);\n",
              "      fill: #174EA6;\n",
              "    }\n",
              "\n",
              "    [theme=dark] .colab-df-convert {\n",
              "      background-color: #3B4455;\n",
              "      fill: #D2E3FC;\n",
              "    }\n",
              "\n",
              "    [theme=dark] .colab-df-convert:hover {\n",
              "      background-color: #434B5C;\n",
              "      box-shadow: 0px 1px 3px 1px rgba(0, 0, 0, 0.15);\n",
              "      filter: drop-shadow(0px 1px 2px rgba(0, 0, 0, 0.3));\n",
              "      fill: #FFFFFF;\n",
              "    }\n",
              "  </style>\n",
              "\n",
              "      <script>\n",
              "        const buttonEl =\n",
              "          document.querySelector('#df-4188b33a-77eb-4829-9acd-445200a46882 button.colab-df-convert');\n",
              "        buttonEl.style.display =\n",
              "          google.colab.kernel.accessAllowed ? 'block' : 'none';\n",
              "\n",
              "        async function convertToInteractive(key) {\n",
              "          const element = document.querySelector('#df-4188b33a-77eb-4829-9acd-445200a46882');\n",
              "          const dataTable =\n",
              "            await google.colab.kernel.invokeFunction('convertToInteractive',\n",
              "                                                     [key], {});\n",
              "          if (!dataTable) return;\n",
              "\n",
              "          const docLinkHtml = 'Like what you see? Visit the ' +\n",
              "            '<a target=\"_blank\" href=https://colab.research.google.com/notebooks/data_table.ipynb>data table notebook</a>'\n",
              "            + ' to learn more about interactive tables.';\n",
              "          element.innerHTML = '';\n",
              "          dataTable['output_type'] = 'display_data';\n",
              "          await google.colab.output.renderOutput(dataTable, element);\n",
              "          const docLink = document.createElement('div');\n",
              "          docLink.innerHTML = docLinkHtml;\n",
              "          element.appendChild(docLink);\n",
              "        }\n",
              "      </script>\n",
              "    </div>\n",
              "  </div>\n",
              "  "
            ]
          },
          "metadata": {},
          "execution_count": 143
        }
      ]
    },
    {
      "cell_type": "code",
      "source": [
        "xtest.drop(corr_features, axis=1)"
      ],
      "metadata": {
        "colab": {
          "base_uri": "https://localhost:8080/",
          "height": 488
        },
        "id": "h4i52lQPimph",
        "outputId": "ddd4b97d-beb6-4d6a-927d-e8f308db4ca2"
      },
      "id": "h4i52lQPimph",
      "execution_count": 144,
      "outputs": [
        {
          "output_type": "execute_result",
          "data": {
            "text/plain": [
              "       Company   Product  TypeName    Inches       Ram       Gpu  OpSys  \\\n",
              "64    0.388889  0.081037       0.6  0.662651  0.096774  0.486239  0.625   \n",
              "98    0.111111  0.912480       0.6  0.662651  0.064516  0.596330  0.625   \n",
              "851   0.111111  0.636953       0.2  0.662651  0.225806  0.724771  0.625   \n",
              "1142  0.388889  0.679092       0.0  0.385542  0.096774  0.431193  0.625   \n",
              "611   0.222222  0.411669       0.2  0.662651  0.225806  0.807339  0.625   \n",
              "...        ...       ...       ...       ...       ...       ...    ...   \n",
              "172   0.555556  0.335494       0.6  0.662651  0.032258  0.146789  0.500   \n",
              "1256  0.111111  0.633712       0.2  0.867470  0.225806  0.834862  0.625   \n",
              "1263  0.000000  0.119935       0.6  0.662651  0.032258  0.376147  0.250   \n",
              "694   0.888889  0.666126       0.6  0.385542  0.096774  0.486239  0.625   \n",
              "1106  0.611111  0.244733       0.2  0.867470  0.096774  0.816514  0.625   \n",
              "\n",
              "      Screen_Resoluton_Height  Screen_Display  Cpu_Core  \\\n",
              "64                   0.224138            0.15  0.619565   \n",
              "98                   0.224138            0.15  0.532609   \n",
              "851                  0.224138            0.15  0.836957   \n",
              "1142                 0.224138            0.20  0.597826   \n",
              "611                  0.224138            0.15  0.750000   \n",
              "...                       ...             ...       ...   \n",
              "172                  0.000000            0.00  0.076087   \n",
              "1256                 0.224138            0.40  0.750000   \n",
              "1263                 0.000000            0.00  0.347826   \n",
              "694                  0.224138            0.40  0.619565   \n",
              "1106                 0.224138            0.15  0.750000   \n",
              "\n",
              "      Cpu_Processor_Speed_GHz  Memory(storage_device)  \\\n",
              "64                   0.592593                0.454545   \n",
              "98                   0.555556                0.454545   \n",
              "851                  0.703704                0.636364   \n",
              "1142                 0.555556                0.454545   \n",
              "611                  0.629630                0.181818   \n",
              "...                       ...                     ...   \n",
              "172                  0.740741                0.181818   \n",
              "1256                 0.629630                0.636364   \n",
              "1263                 0.259259                0.181818   \n",
              "694                  0.592593                0.454545   \n",
              "1106                 0.629630                0.636364   \n",
              "\n",
              "      Memory(storage_amount)_GB  \n",
              "64                     0.499022  \n",
              "98                     0.499022  \n",
              "851                    0.248532  \n",
              "1142                   0.499022  \n",
              "611                    0.000000  \n",
              "...                         ...  \n",
              "172                    0.976517  \n",
              "1256                   0.248532  \n",
              "1263                   0.976517  \n",
              "694                    0.499022  \n",
              "1106                   0.248532  \n",
              "\n",
              "[383 rows x 13 columns]"
            ],
            "text/html": [
              "\n",
              "  <div id=\"df-9f2faf59-27a6-4f1e-a8f4-a61193918b60\">\n",
              "    <div class=\"colab-df-container\">\n",
              "      <div>\n",
              "<style scoped>\n",
              "    .dataframe tbody tr th:only-of-type {\n",
              "        vertical-align: middle;\n",
              "    }\n",
              "\n",
              "    .dataframe tbody tr th {\n",
              "        vertical-align: top;\n",
              "    }\n",
              "\n",
              "    .dataframe thead th {\n",
              "        text-align: right;\n",
              "    }\n",
              "</style>\n",
              "<table border=\"1\" class=\"dataframe\">\n",
              "  <thead>\n",
              "    <tr style=\"text-align: right;\">\n",
              "      <th></th>\n",
              "      <th>Company</th>\n",
              "      <th>Product</th>\n",
              "      <th>TypeName</th>\n",
              "      <th>Inches</th>\n",
              "      <th>Ram</th>\n",
              "      <th>Gpu</th>\n",
              "      <th>OpSys</th>\n",
              "      <th>Screen_Resoluton_Height</th>\n",
              "      <th>Screen_Display</th>\n",
              "      <th>Cpu_Core</th>\n",
              "      <th>Cpu_Processor_Speed_GHz</th>\n",
              "      <th>Memory(storage_device)</th>\n",
              "      <th>Memory(storage_amount)_GB</th>\n",
              "    </tr>\n",
              "  </thead>\n",
              "  <tbody>\n",
              "    <tr>\n",
              "      <th>64</th>\n",
              "      <td>0.388889</td>\n",
              "      <td>0.081037</td>\n",
              "      <td>0.6</td>\n",
              "      <td>0.662651</td>\n",
              "      <td>0.096774</td>\n",
              "      <td>0.486239</td>\n",
              "      <td>0.625</td>\n",
              "      <td>0.224138</td>\n",
              "      <td>0.15</td>\n",
              "      <td>0.619565</td>\n",
              "      <td>0.592593</td>\n",
              "      <td>0.454545</td>\n",
              "      <td>0.499022</td>\n",
              "    </tr>\n",
              "    <tr>\n",
              "      <th>98</th>\n",
              "      <td>0.111111</td>\n",
              "      <td>0.912480</td>\n",
              "      <td>0.6</td>\n",
              "      <td>0.662651</td>\n",
              "      <td>0.064516</td>\n",
              "      <td>0.596330</td>\n",
              "      <td>0.625</td>\n",
              "      <td>0.224138</td>\n",
              "      <td>0.15</td>\n",
              "      <td>0.532609</td>\n",
              "      <td>0.555556</td>\n",
              "      <td>0.454545</td>\n",
              "      <td>0.499022</td>\n",
              "    </tr>\n",
              "    <tr>\n",
              "      <th>851</th>\n",
              "      <td>0.111111</td>\n",
              "      <td>0.636953</td>\n",
              "      <td>0.2</td>\n",
              "      <td>0.662651</td>\n",
              "      <td>0.225806</td>\n",
              "      <td>0.724771</td>\n",
              "      <td>0.625</td>\n",
              "      <td>0.224138</td>\n",
              "      <td>0.15</td>\n",
              "      <td>0.836957</td>\n",
              "      <td>0.703704</td>\n",
              "      <td>0.636364</td>\n",
              "      <td>0.248532</td>\n",
              "    </tr>\n",
              "    <tr>\n",
              "      <th>1142</th>\n",
              "      <td>0.388889</td>\n",
              "      <td>0.679092</td>\n",
              "      <td>0.0</td>\n",
              "      <td>0.385542</td>\n",
              "      <td>0.096774</td>\n",
              "      <td>0.431193</td>\n",
              "      <td>0.625</td>\n",
              "      <td>0.224138</td>\n",
              "      <td>0.20</td>\n",
              "      <td>0.597826</td>\n",
              "      <td>0.555556</td>\n",
              "      <td>0.454545</td>\n",
              "      <td>0.499022</td>\n",
              "    </tr>\n",
              "    <tr>\n",
              "      <th>611</th>\n",
              "      <td>0.222222</td>\n",
              "      <td>0.411669</td>\n",
              "      <td>0.2</td>\n",
              "      <td>0.662651</td>\n",
              "      <td>0.225806</td>\n",
              "      <td>0.807339</td>\n",
              "      <td>0.625</td>\n",
              "      <td>0.224138</td>\n",
              "      <td>0.15</td>\n",
              "      <td>0.750000</td>\n",
              "      <td>0.629630</td>\n",
              "      <td>0.181818</td>\n",
              "      <td>0.000000</td>\n",
              "    </tr>\n",
              "    <tr>\n",
              "      <th>...</th>\n",
              "      <td>...</td>\n",
              "      <td>...</td>\n",
              "      <td>...</td>\n",
              "      <td>...</td>\n",
              "      <td>...</td>\n",
              "      <td>...</td>\n",
              "      <td>...</td>\n",
              "      <td>...</td>\n",
              "      <td>...</td>\n",
              "      <td>...</td>\n",
              "      <td>...</td>\n",
              "      <td>...</td>\n",
              "      <td>...</td>\n",
              "    </tr>\n",
              "    <tr>\n",
              "      <th>172</th>\n",
              "      <td>0.555556</td>\n",
              "      <td>0.335494</td>\n",
              "      <td>0.6</td>\n",
              "      <td>0.662651</td>\n",
              "      <td>0.032258</td>\n",
              "      <td>0.146789</td>\n",
              "      <td>0.500</td>\n",
              "      <td>0.000000</td>\n",
              "      <td>0.00</td>\n",
              "      <td>0.076087</td>\n",
              "      <td>0.740741</td>\n",
              "      <td>0.181818</td>\n",
              "      <td>0.976517</td>\n",
              "    </tr>\n",
              "    <tr>\n",
              "      <th>1256</th>\n",
              "      <td>0.111111</td>\n",
              "      <td>0.633712</td>\n",
              "      <td>0.2</td>\n",
              "      <td>0.867470</td>\n",
              "      <td>0.225806</td>\n",
              "      <td>0.834862</td>\n",
              "      <td>0.625</td>\n",
              "      <td>0.224138</td>\n",
              "      <td>0.40</td>\n",
              "      <td>0.750000</td>\n",
              "      <td>0.629630</td>\n",
              "      <td>0.636364</td>\n",
              "      <td>0.248532</td>\n",
              "    </tr>\n",
              "    <tr>\n",
              "      <th>1263</th>\n",
              "      <td>0.000000</td>\n",
              "      <td>0.119935</td>\n",
              "      <td>0.6</td>\n",
              "      <td>0.662651</td>\n",
              "      <td>0.032258</td>\n",
              "      <td>0.376147</td>\n",
              "      <td>0.250</td>\n",
              "      <td>0.000000</td>\n",
              "      <td>0.00</td>\n",
              "      <td>0.347826</td>\n",
              "      <td>0.259259</td>\n",
              "      <td>0.181818</td>\n",
              "      <td>0.976517</td>\n",
              "    </tr>\n",
              "    <tr>\n",
              "      <th>694</th>\n",
              "      <td>0.888889</td>\n",
              "      <td>0.666126</td>\n",
              "      <td>0.6</td>\n",
              "      <td>0.385542</td>\n",
              "      <td>0.096774</td>\n",
              "      <td>0.486239</td>\n",
              "      <td>0.625</td>\n",
              "      <td>0.224138</td>\n",
              "      <td>0.40</td>\n",
              "      <td>0.619565</td>\n",
              "      <td>0.592593</td>\n",
              "      <td>0.454545</td>\n",
              "      <td>0.499022</td>\n",
              "    </tr>\n",
              "    <tr>\n",
              "      <th>1106</th>\n",
              "      <td>0.611111</td>\n",
              "      <td>0.244733</td>\n",
              "      <td>0.2</td>\n",
              "      <td>0.867470</td>\n",
              "      <td>0.096774</td>\n",
              "      <td>0.816514</td>\n",
              "      <td>0.625</td>\n",
              "      <td>0.224138</td>\n",
              "      <td>0.15</td>\n",
              "      <td>0.750000</td>\n",
              "      <td>0.629630</td>\n",
              "      <td>0.636364</td>\n",
              "      <td>0.248532</td>\n",
              "    </tr>\n",
              "  </tbody>\n",
              "</table>\n",
              "<p>383 rows × 13 columns</p>\n",
              "</div>\n",
              "      <button class=\"colab-df-convert\" onclick=\"convertToInteractive('df-9f2faf59-27a6-4f1e-a8f4-a61193918b60')\"\n",
              "              title=\"Convert this dataframe to an interactive table.\"\n",
              "              style=\"display:none;\">\n",
              "        \n",
              "  <svg xmlns=\"http://www.w3.org/2000/svg\" height=\"24px\"viewBox=\"0 0 24 24\"\n",
              "       width=\"24px\">\n",
              "    <path d=\"M0 0h24v24H0V0z\" fill=\"none\"/>\n",
              "    <path d=\"M18.56 5.44l.94 2.06.94-2.06 2.06-.94-2.06-.94-.94-2.06-.94 2.06-2.06.94zm-11 1L8.5 8.5l.94-2.06 2.06-.94-2.06-.94L8.5 2.5l-.94 2.06-2.06.94zm10 10l.94 2.06.94-2.06 2.06-.94-2.06-.94-.94-2.06-.94 2.06-2.06.94z\"/><path d=\"M17.41 7.96l-1.37-1.37c-.4-.4-.92-.59-1.43-.59-.52 0-1.04.2-1.43.59L10.3 9.45l-7.72 7.72c-.78.78-.78 2.05 0 2.83L4 21.41c.39.39.9.59 1.41.59.51 0 1.02-.2 1.41-.59l7.78-7.78 2.81-2.81c.8-.78.8-2.07 0-2.86zM5.41 20L4 18.59l7.72-7.72 1.47 1.35L5.41 20z\"/>\n",
              "  </svg>\n",
              "      </button>\n",
              "      \n",
              "  <style>\n",
              "    .colab-df-container {\n",
              "      display:flex;\n",
              "      flex-wrap:wrap;\n",
              "      gap: 12px;\n",
              "    }\n",
              "\n",
              "    .colab-df-convert {\n",
              "      background-color: #E8F0FE;\n",
              "      border: none;\n",
              "      border-radius: 50%;\n",
              "      cursor: pointer;\n",
              "      display: none;\n",
              "      fill: #1967D2;\n",
              "      height: 32px;\n",
              "      padding: 0 0 0 0;\n",
              "      width: 32px;\n",
              "    }\n",
              "\n",
              "    .colab-df-convert:hover {\n",
              "      background-color: #E2EBFA;\n",
              "      box-shadow: 0px 1px 2px rgba(60, 64, 67, 0.3), 0px 1px 3px 1px rgba(60, 64, 67, 0.15);\n",
              "      fill: #174EA6;\n",
              "    }\n",
              "\n",
              "    [theme=dark] .colab-df-convert {\n",
              "      background-color: #3B4455;\n",
              "      fill: #D2E3FC;\n",
              "    }\n",
              "\n",
              "    [theme=dark] .colab-df-convert:hover {\n",
              "      background-color: #434B5C;\n",
              "      box-shadow: 0px 1px 3px 1px rgba(0, 0, 0, 0.15);\n",
              "      filter: drop-shadow(0px 1px 2px rgba(0, 0, 0, 0.3));\n",
              "      fill: #FFFFFF;\n",
              "    }\n",
              "  </style>\n",
              "\n",
              "      <script>\n",
              "        const buttonEl =\n",
              "          document.querySelector('#df-9f2faf59-27a6-4f1e-a8f4-a61193918b60 button.colab-df-convert');\n",
              "        buttonEl.style.display =\n",
              "          google.colab.kernel.accessAllowed ? 'block' : 'none';\n",
              "\n",
              "        async function convertToInteractive(key) {\n",
              "          const element = document.querySelector('#df-9f2faf59-27a6-4f1e-a8f4-a61193918b60');\n",
              "          const dataTable =\n",
              "            await google.colab.kernel.invokeFunction('convertToInteractive',\n",
              "                                                     [key], {});\n",
              "          if (!dataTable) return;\n",
              "\n",
              "          const docLinkHtml = 'Like what you see? Visit the ' +\n",
              "            '<a target=\"_blank\" href=https://colab.research.google.com/notebooks/data_table.ipynb>data table notebook</a>'\n",
              "            + ' to learn more about interactive tables.';\n",
              "          element.innerHTML = '';\n",
              "          dataTable['output_type'] = 'display_data';\n",
              "          await google.colab.output.renderOutput(dataTable, element);\n",
              "          const docLink = document.createElement('div');\n",
              "          docLink.innerHTML = docLinkHtml;\n",
              "          element.appendChild(docLink);\n",
              "        }\n",
              "      </script>\n",
              "    </div>\n",
              "  </div>\n",
              "  "
            ]
          },
          "metadata": {},
          "execution_count": 144
        }
      ]
    },
    {
      "cell_type": "code",
      "source": [
        ""
      ],
      "metadata": {
        "id": "pY_HiIGjEZak"
      },
      "id": "pY_HiIGjEZak",
      "execution_count": 144,
      "outputs": []
    },
    {
      "cell_type": "markdown",
      "source": [
        "#Linear Regression (Multiple Variable)"
      ],
      "metadata": {
        "id": "-w6bVbkXEZ7o"
      },
      "id": "-w6bVbkXEZ7o"
    },
    {
      "cell_type": "code",
      "source": [
        "from sklearn.linear_model import LinearRegression"
      ],
      "metadata": {
        "id": "900Zd2rQEZ7p"
      },
      "execution_count": 145,
      "outputs": [],
      "id": "900Zd2rQEZ7p"
    },
    {
      "cell_type": "code",
      "source": [
        "lr= LinearRegression()"
      ],
      "metadata": {
        "id": "4FFlb__cEZ7p"
      },
      "execution_count": 146,
      "outputs": [],
      "id": "4FFlb__cEZ7p"
    },
    {
      "cell_type": "code",
      "source": [
        "lr.fit(xtrain,ytrain)"
      ],
      "metadata": {
        "colab": {
          "base_uri": "https://localhost:8080/"
        },
        "outputId": "6aed0d15-25c4-4420-c734-cf68af87c26a",
        "id": "ceCJ5FeFEZ7p"
      },
      "execution_count": 147,
      "outputs": [
        {
          "output_type": "execute_result",
          "data": {
            "text/plain": [
              "LinearRegression()"
            ]
          },
          "metadata": {},
          "execution_count": 147
        }
      ],
      "id": "ceCJ5FeFEZ7p"
    },
    {
      "cell_type": "code",
      "source": [
        "lr.score(xtest,ytest) #with hold out cross validation"
      ],
      "metadata": {
        "colab": {
          "base_uri": "https://localhost:8080/"
        },
        "outputId": "502fb88c-7d89-46ee-f47f-77d3f710521b",
        "id": "W9636bjvEZ7q"
      },
      "execution_count": 148,
      "outputs": [
        {
          "output_type": "execute_result",
          "data": {
            "text/plain": [
              "0.7208464521362532"
            ]
          },
          "metadata": {},
          "execution_count": 148
        }
      ],
      "id": "W9636bjvEZ7q"
    },
    {
      "cell_type": "code",
      "source": [
        "lr.score(xtrain,ytrain) #with hold out cross validation"
      ],
      "metadata": {
        "colab": {
          "base_uri": "https://localhost:8080/"
        },
        "outputId": "93e64075-2705-4782-c1ec-4188f358f287",
        "id": "v4TYY_IdEZ7q"
      },
      "execution_count": 149,
      "outputs": [
        {
          "output_type": "execute_result",
          "data": {
            "text/plain": [
              "0.7226107150717276"
            ]
          },
          "metadata": {},
          "execution_count": 149
        }
      ],
      "id": "v4TYY_IdEZ7q"
    },
    {
      "cell_type": "code",
      "source": [
        "score_linear_reg = lr.score(xtest,ytest)"
      ],
      "metadata": {
        "id": "AKtKIkRXEZ7q"
      },
      "execution_count": 150,
      "outputs": [],
      "id": "AKtKIkRXEZ7q"
    },
    {
      "cell_type": "markdown",
      "source": [
        "#Decision Tree Regressor"
      ],
      "metadata": {
        "id": "cT5tXlMfEZ7r"
      },
      "id": "cT5tXlMfEZ7r"
    },
    {
      "cell_type": "code",
      "source": [
        "from sklearn.tree import DecisionTreeRegressor"
      ],
      "metadata": {
        "id": "AgetYxlgEZ7r"
      },
      "execution_count": 151,
      "outputs": [],
      "id": "AgetYxlgEZ7r"
    },
    {
      "cell_type": "code",
      "source": [
        "d_tree_reg=DecisionTreeRegressor()"
      ],
      "metadata": {
        "id": "-VQHtKhyEZ7r"
      },
      "execution_count": 152,
      "outputs": [],
      "id": "-VQHtKhyEZ7r"
    },
    {
      "cell_type": "code",
      "source": [
        "d_tree_reg.fit(xtrain,ytrain)"
      ],
      "metadata": {
        "colab": {
          "base_uri": "https://localhost:8080/"
        },
        "outputId": "f69d0b51-a136-43f9-e256-fa0e332ec239",
        "id": "P177P5dQEZ7r"
      },
      "execution_count": 153,
      "outputs": [
        {
          "output_type": "execute_result",
          "data": {
            "text/plain": [
              "DecisionTreeRegressor()"
            ]
          },
          "metadata": {},
          "execution_count": 153
        }
      ],
      "id": "P177P5dQEZ7r"
    },
    {
      "cell_type": "code",
      "source": [
        "d_tree_reg.score(xtrain,ytrain)"
      ],
      "metadata": {
        "colab": {
          "base_uri": "https://localhost:8080/"
        },
        "outputId": "f5696a59-4f34-4f31-b83d-c62cc909ec8f",
        "id": "QcO7GZSHEZ7s"
      },
      "execution_count": 154,
      "outputs": [
        {
          "output_type": "execute_result",
          "data": {
            "text/plain": [
              "0.999591940009795"
            ]
          },
          "metadata": {},
          "execution_count": 154
        }
      ],
      "id": "QcO7GZSHEZ7s"
    },
    {
      "cell_type": "code",
      "source": [
        "d_tree_reg.score(xtest,ytest)"
      ],
      "metadata": {
        "colab": {
          "base_uri": "https://localhost:8080/"
        },
        "outputId": "548773e5-7d85-4b04-e16f-0f0f4d4500c7",
        "id": "I8Gu8nBHEZ7s"
      },
      "execution_count": 155,
      "outputs": [
        {
          "output_type": "execute_result",
          "data": {
            "text/plain": [
              "0.7203811841796869"
            ]
          },
          "metadata": {},
          "execution_count": 155
        }
      ],
      "id": "I8Gu8nBHEZ7s"
    },
    {
      "cell_type": "code",
      "source": [
        "score_DecisionTreeRegressor = d_tree_reg.score(xtest,ytest)"
      ],
      "metadata": {
        "id": "Nqv_0DZjEZ7s"
      },
      "execution_count": 156,
      "outputs": [],
      "id": "Nqv_0DZjEZ7s"
    },
    {
      "cell_type": "code",
      "source": [
        ""
      ],
      "metadata": {
        "id": "PSIxADvTTzqY"
      },
      "id": "PSIxADvTTzqY",
      "execution_count": 156,
      "outputs": []
    },
    {
      "cell_type": "markdown",
      "source": [
        "#Random Forest Regressor"
      ],
      "metadata": {
        "id": "srN0ViZ2lEYb"
      },
      "id": "srN0ViZ2lEYb"
    },
    {
      "cell_type": "code",
      "source": [
        "from sklearn.ensemble import RandomForestRegressor"
      ],
      "metadata": {
        "id": "T3uYDA6AlEYj"
      },
      "execution_count": 157,
      "outputs": [],
      "id": "T3uYDA6AlEYj"
    },
    {
      "cell_type": "code",
      "source": [
        "random_fr_reg=RandomForestRegressor()"
      ],
      "metadata": {
        "id": "J-YNUwM-lEYj"
      },
      "execution_count": 158,
      "outputs": [],
      "id": "J-YNUwM-lEYj"
    },
    {
      "cell_type": "code",
      "source": [
        "random_fr_reg.fit(xtrain,ytrain)"
      ],
      "metadata": {
        "colab": {
          "base_uri": "https://localhost:8080/"
        },
        "outputId": "cdf5e437-b1db-4f7b-b090-143e866515c3",
        "id": "xu5ImdXUlEYj"
      },
      "execution_count": 159,
      "outputs": [
        {
          "output_type": "stream",
          "name": "stderr",
          "text": [
            "/usr/local/lib/python3.7/dist-packages/ipykernel_launcher.py:1: DataConversionWarning: A column-vector y was passed when a 1d array was expected. Please change the shape of y to (n_samples,), for example using ravel().\n",
            "  \"\"\"Entry point for launching an IPython kernel.\n"
          ]
        },
        {
          "output_type": "execute_result",
          "data": {
            "text/plain": [
              "RandomForestRegressor()"
            ]
          },
          "metadata": {},
          "execution_count": 159
        }
      ],
      "id": "xu5ImdXUlEYj"
    },
    {
      "cell_type": "code",
      "source": [
        "random_fr_reg.score(xtest,ytest)"
      ],
      "metadata": {
        "colab": {
          "base_uri": "https://localhost:8080/"
        },
        "outputId": "d2486f7e-f5cc-4ca9-80ee-452e6ee416a5",
        "id": "19CIIUmvlEYj"
      },
      "execution_count": 160,
      "outputs": [
        {
          "output_type": "execute_result",
          "data": {
            "text/plain": [
              "0.8261917537086991"
            ]
          },
          "metadata": {},
          "execution_count": 160
        }
      ],
      "id": "19CIIUmvlEYj"
    },
    {
      "cell_type": "code",
      "source": [
        "random_fr_reg.score(xtrain,ytrain)"
      ],
      "metadata": {
        "colab": {
          "base_uri": "https://localhost:8080/"
        },
        "outputId": "cc106f58-16fe-46ea-a93e-c52a5c5f0bd8",
        "id": "A90Cu7wxlEYk"
      },
      "execution_count": 161,
      "outputs": [
        {
          "output_type": "execute_result",
          "data": {
            "text/plain": [
              "0.9780396433518413"
            ]
          },
          "metadata": {},
          "execution_count": 161
        }
      ],
      "id": "A90Cu7wxlEYk"
    },
    {
      "cell_type": "code",
      "source": [
        ""
      ],
      "metadata": {
        "id": "f_IDDMxnlEYk"
      },
      "execution_count": 161,
      "outputs": [],
      "id": "f_IDDMxnlEYk"
    },
    {
      "cell_type": "markdown",
      "source": [
        "#KNN Regressor"
      ],
      "metadata": {
        "id": "mFC_zDlalEYk"
      },
      "id": "mFC_zDlalEYk"
    },
    {
      "cell_type": "code",
      "source": [
        "from sklearn.neighbors import KNeighborsRegressor"
      ],
      "metadata": {
        "id": "5Jg0ULk2lEYk"
      },
      "execution_count": 162,
      "outputs": [],
      "id": "5Jg0ULk2lEYk"
    },
    {
      "cell_type": "code",
      "source": [
        "KNN=KNeighborsRegressor()"
      ],
      "metadata": {
        "id": "Ql-LJE8ClEYk"
      },
      "execution_count": 163,
      "outputs": [],
      "id": "Ql-LJE8ClEYk"
    },
    {
      "cell_type": "code",
      "source": [
        "KNN.fit(xtrain,ytrain)"
      ],
      "metadata": {
        "colab": {
          "base_uri": "https://localhost:8080/"
        },
        "outputId": "8621595c-0691-4965-90fc-5f2060787838",
        "id": "KHpfhKqllEYk"
      },
      "execution_count": 164,
      "outputs": [
        {
          "output_type": "execute_result",
          "data": {
            "text/plain": [
              "KNeighborsRegressor()"
            ]
          },
          "metadata": {},
          "execution_count": 164
        }
      ],
      "id": "KHpfhKqllEYk"
    },
    {
      "cell_type": "code",
      "source": [
        "KNN.score(xtest,ytest)"
      ],
      "metadata": {
        "colab": {
          "base_uri": "https://localhost:8080/"
        },
        "outputId": "2ec25c6f-d33a-4401-ebfd-017028e7eb9b",
        "id": "_R6e5rxqlEYk"
      },
      "execution_count": 165,
      "outputs": [
        {
          "output_type": "execute_result",
          "data": {
            "text/plain": [
              "0.7557980992229392"
            ]
          },
          "metadata": {},
          "execution_count": 165
        }
      ],
      "id": "_R6e5rxqlEYk"
    },
    {
      "cell_type": "code",
      "source": [
        "KNN.score(xtrain,ytrain)"
      ],
      "metadata": {
        "colab": {
          "base_uri": "https://localhost:8080/"
        },
        "outputId": "26d1f22d-c08c-4fb2-e59c-d031edda6876",
        "id": "MMTyMw8ElEYk"
      },
      "execution_count": 166,
      "outputs": [
        {
          "output_type": "execute_result",
          "data": {
            "text/plain": [
              "0.8096572789385164"
            ]
          },
          "metadata": {},
          "execution_count": 166
        }
      ],
      "id": "MMTyMw8ElEYk"
    },
    {
      "cell_type": "markdown",
      "source": [
        "#Another Feature Selection SelectKBest"
      ],
      "metadata": {
        "id": "4hKNNbLBT9h0"
      },
      "id": "4hKNNbLBT9h0"
    },
    {
      "cell_type": "code",
      "source": [
        ""
      ],
      "metadata": {
        "id": "AoVvpEQOUBB1"
      },
      "id": "AoVvpEQOUBB1",
      "execution_count": 166,
      "outputs": []
    },
    {
      "cell_type": "code",
      "source": [
        "from sklearn.feature_selection import SelectKBest"
      ],
      "metadata": {
        "id": "twZ5PLTEAw64"
      },
      "execution_count": 167,
      "outputs": [],
      "id": "twZ5PLTEAw64"
    },
    {
      "cell_type": "code",
      "source": [
        "from sklearn.feature_selection import f_classif"
      ],
      "metadata": {
        "id": "AfFtYMx3Aw9f"
      },
      "execution_count": 168,
      "outputs": [],
      "id": "AfFtYMx3Aw9f"
    },
    {
      "cell_type": "code",
      "source": [
        "FIT_FEATURES = SelectKBest(score_func = f_classif);"
      ],
      "metadata": {
        "id": "GfRL4WRfAxAP"
      },
      "execution_count": 169,
      "outputs": [],
      "id": "GfRL4WRfAxAP"
    },
    {
      "cell_type": "code",
      "source": [
        "FIT_FEATURES.fit(X,Y)"
      ],
      "metadata": {
        "colab": {
          "base_uri": "https://localhost:8080/"
        },
        "id": "YEsH00bfAxC9",
        "outputId": "9b6b7ff1-9193-41a3-c146-bd53bef22ec5"
      },
      "execution_count": 170,
      "outputs": [
        {
          "output_type": "stream",
          "name": "stderr",
          "text": [
            "/usr/local/lib/python3.7/dist-packages/sklearn/utils/validation.py:993: DataConversionWarning: A column-vector y was passed when a 1d array was expected. Please change the shape of y to (n_samples, ), for example using ravel().\n",
            "  y = column_or_1d(y, warn=True)\n"
          ]
        },
        {
          "output_type": "execute_result",
          "data": {
            "text/plain": [
              "SelectKBest()"
            ]
          },
          "metadata": {},
          "execution_count": 170
        }
      ],
      "id": "YEsH00bfAxC9"
    },
    {
      "cell_type": "code",
      "source": [
        "score = pd.DataFrame(FIT_FEATURES.scores_, columns=['score_value'])"
      ],
      "metadata": {
        "id": "CShu7mPVKo_m"
      },
      "execution_count": 171,
      "outputs": [],
      "id": "CShu7mPVKo_m"
    },
    {
      "cell_type": "code",
      "source": [
        "score"
      ],
      "metadata": {
        "colab": {
          "base_uri": "https://localhost:8080/",
          "height": 520
        },
        "id": "pRJuTYoECVcN",
        "outputId": "5f79ed9b-26da-4e6d-9ae0-8444557f618d"
      },
      "execution_count": 172,
      "outputs": [
        {
          "output_type": "execute_result",
          "data": {
            "text/plain": [
              "    score_value\n",
              "0      1.183349\n",
              "1      1.176941\n",
              "2      1.024259\n",
              "3      1.144952\n",
              "4      4.310879\n",
              "5      1.463828\n",
              "6      1.580483\n",
              "7      1.338628\n",
              "8      1.468413\n",
              "9      1.485271\n",
              "10     1.476987\n",
              "11     1.562606\n",
              "12     1.653374\n",
              "13     1.962378\n",
              "14     1.351404"
            ],
            "text/html": [
              "\n",
              "  <div id=\"df-9baac334-ad09-4a82-84a4-d34d6fb7269c\">\n",
              "    <div class=\"colab-df-container\">\n",
              "      <div>\n",
              "<style scoped>\n",
              "    .dataframe tbody tr th:only-of-type {\n",
              "        vertical-align: middle;\n",
              "    }\n",
              "\n",
              "    .dataframe tbody tr th {\n",
              "        vertical-align: top;\n",
              "    }\n",
              "\n",
              "    .dataframe thead th {\n",
              "        text-align: right;\n",
              "    }\n",
              "</style>\n",
              "<table border=\"1\" class=\"dataframe\">\n",
              "  <thead>\n",
              "    <tr style=\"text-align: right;\">\n",
              "      <th></th>\n",
              "      <th>score_value</th>\n",
              "    </tr>\n",
              "  </thead>\n",
              "  <tbody>\n",
              "    <tr>\n",
              "      <th>0</th>\n",
              "      <td>1.183349</td>\n",
              "    </tr>\n",
              "    <tr>\n",
              "      <th>1</th>\n",
              "      <td>1.176941</td>\n",
              "    </tr>\n",
              "    <tr>\n",
              "      <th>2</th>\n",
              "      <td>1.024259</td>\n",
              "    </tr>\n",
              "    <tr>\n",
              "      <th>3</th>\n",
              "      <td>1.144952</td>\n",
              "    </tr>\n",
              "    <tr>\n",
              "      <th>4</th>\n",
              "      <td>4.310879</td>\n",
              "    </tr>\n",
              "    <tr>\n",
              "      <th>5</th>\n",
              "      <td>1.463828</td>\n",
              "    </tr>\n",
              "    <tr>\n",
              "      <th>6</th>\n",
              "      <td>1.580483</td>\n",
              "    </tr>\n",
              "    <tr>\n",
              "      <th>7</th>\n",
              "      <td>1.338628</td>\n",
              "    </tr>\n",
              "    <tr>\n",
              "      <th>8</th>\n",
              "      <td>1.468413</td>\n",
              "    </tr>\n",
              "    <tr>\n",
              "      <th>9</th>\n",
              "      <td>1.485271</td>\n",
              "    </tr>\n",
              "    <tr>\n",
              "      <th>10</th>\n",
              "      <td>1.476987</td>\n",
              "    </tr>\n",
              "    <tr>\n",
              "      <th>11</th>\n",
              "      <td>1.562606</td>\n",
              "    </tr>\n",
              "    <tr>\n",
              "      <th>12</th>\n",
              "      <td>1.653374</td>\n",
              "    </tr>\n",
              "    <tr>\n",
              "      <th>13</th>\n",
              "      <td>1.962378</td>\n",
              "    </tr>\n",
              "    <tr>\n",
              "      <th>14</th>\n",
              "      <td>1.351404</td>\n",
              "    </tr>\n",
              "  </tbody>\n",
              "</table>\n",
              "</div>\n",
              "      <button class=\"colab-df-convert\" onclick=\"convertToInteractive('df-9baac334-ad09-4a82-84a4-d34d6fb7269c')\"\n",
              "              title=\"Convert this dataframe to an interactive table.\"\n",
              "              style=\"display:none;\">\n",
              "        \n",
              "  <svg xmlns=\"http://www.w3.org/2000/svg\" height=\"24px\"viewBox=\"0 0 24 24\"\n",
              "       width=\"24px\">\n",
              "    <path d=\"M0 0h24v24H0V0z\" fill=\"none\"/>\n",
              "    <path d=\"M18.56 5.44l.94 2.06.94-2.06 2.06-.94-2.06-.94-.94-2.06-.94 2.06-2.06.94zm-11 1L8.5 8.5l.94-2.06 2.06-.94-2.06-.94L8.5 2.5l-.94 2.06-2.06.94zm10 10l.94 2.06.94-2.06 2.06-.94-2.06-.94-.94-2.06-.94 2.06-2.06.94z\"/><path d=\"M17.41 7.96l-1.37-1.37c-.4-.4-.92-.59-1.43-.59-.52 0-1.04.2-1.43.59L10.3 9.45l-7.72 7.72c-.78.78-.78 2.05 0 2.83L4 21.41c.39.39.9.59 1.41.59.51 0 1.02-.2 1.41-.59l7.78-7.78 2.81-2.81c.8-.78.8-2.07 0-2.86zM5.41 20L4 18.59l7.72-7.72 1.47 1.35L5.41 20z\"/>\n",
              "  </svg>\n",
              "      </button>\n",
              "      \n",
              "  <style>\n",
              "    .colab-df-container {\n",
              "      display:flex;\n",
              "      flex-wrap:wrap;\n",
              "      gap: 12px;\n",
              "    }\n",
              "\n",
              "    .colab-df-convert {\n",
              "      background-color: #E8F0FE;\n",
              "      border: none;\n",
              "      border-radius: 50%;\n",
              "      cursor: pointer;\n",
              "      display: none;\n",
              "      fill: #1967D2;\n",
              "      height: 32px;\n",
              "      padding: 0 0 0 0;\n",
              "      width: 32px;\n",
              "    }\n",
              "\n",
              "    .colab-df-convert:hover {\n",
              "      background-color: #E2EBFA;\n",
              "      box-shadow: 0px 1px 2px rgba(60, 64, 67, 0.3), 0px 1px 3px 1px rgba(60, 64, 67, 0.15);\n",
              "      fill: #174EA6;\n",
              "    }\n",
              "\n",
              "    [theme=dark] .colab-df-convert {\n",
              "      background-color: #3B4455;\n",
              "      fill: #D2E3FC;\n",
              "    }\n",
              "\n",
              "    [theme=dark] .colab-df-convert:hover {\n",
              "      background-color: #434B5C;\n",
              "      box-shadow: 0px 1px 3px 1px rgba(0, 0, 0, 0.15);\n",
              "      filter: drop-shadow(0px 1px 2px rgba(0, 0, 0, 0.3));\n",
              "      fill: #FFFFFF;\n",
              "    }\n",
              "  </style>\n",
              "\n",
              "      <script>\n",
              "        const buttonEl =\n",
              "          document.querySelector('#df-9baac334-ad09-4a82-84a4-d34d6fb7269c button.colab-df-convert');\n",
              "        buttonEl.style.display =\n",
              "          google.colab.kernel.accessAllowed ? 'block' : 'none';\n",
              "\n",
              "        async function convertToInteractive(key) {\n",
              "          const element = document.querySelector('#df-9baac334-ad09-4a82-84a4-d34d6fb7269c');\n",
              "          const dataTable =\n",
              "            await google.colab.kernel.invokeFunction('convertToInteractive',\n",
              "                                                     [key], {});\n",
              "          if (!dataTable) return;\n",
              "\n",
              "          const docLinkHtml = 'Like what you see? Visit the ' +\n",
              "            '<a target=\"_blank\" href=https://colab.research.google.com/notebooks/data_table.ipynb>data table notebook</a>'\n",
              "            + ' to learn more about interactive tables.';\n",
              "          element.innerHTML = '';\n",
              "          dataTable['output_type'] = 'display_data';\n",
              "          await google.colab.output.renderOutput(dataTable, element);\n",
              "          const docLink = document.createElement('div');\n",
              "          docLink.innerHTML = docLinkHtml;\n",
              "          element.appendChild(docLink);\n",
              "        }\n",
              "      </script>\n",
              "    </div>\n",
              "  </div>\n",
              "  "
            ]
          },
          "metadata": {},
          "execution_count": 172
        }
      ],
      "id": "pRJuTYoECVcN"
    },
    {
      "cell_type": "code",
      "source": [
        "name_col = pd.DataFrame(X.columns)"
      ],
      "metadata": {
        "id": "QGYdwleHVcWZ"
      },
      "id": "QGYdwleHVcWZ",
      "execution_count": 173,
      "outputs": []
    },
    {
      "cell_type": "code",
      "source": [
        "topr_features = pd.concat([name_col,score], axis=1)"
      ],
      "metadata": {
        "id": "w3iW02c4VkFe"
      },
      "id": "w3iW02c4VkFe",
      "execution_count": 174,
      "outputs": []
    },
    {
      "cell_type": "code",
      "source": [
        "topr_features"
      ],
      "metadata": {
        "colab": {
          "base_uri": "https://localhost:8080/",
          "height": 520
        },
        "id": "tNY53n7SVvj-",
        "outputId": "b11d574b-c8bc-417a-ea2b-ccea4f2bb84f"
      },
      "id": "tNY53n7SVvj-",
      "execution_count": 175,
      "outputs": [
        {
          "output_type": "execute_result",
          "data": {
            "text/plain": [
              "                            0  score_value\n",
              "0                     Company     1.183349\n",
              "1                     Product     1.176941\n",
              "2                    TypeName     1.024259\n",
              "3                      Inches     1.144952\n",
              "4                         Ram     4.310879\n",
              "5                         Gpu     1.463828\n",
              "6                       OpSys     1.580483\n",
              "7                      Weight     1.338628\n",
              "8     Screen_Resoluton_Height     1.468413\n",
              "9              Screen_Display     1.485271\n",
              "10     Screen_Resoluton_Width     1.476987\n",
              "11                   Cpu_Core     1.562606\n",
              "12    Cpu_Processor_Speed_GHz     1.653374\n",
              "13     Memory(storage_device)     1.962378\n",
              "14  Memory(storage_amount)_GB     1.351404"
            ],
            "text/html": [
              "\n",
              "  <div id=\"df-e197063d-d00f-4e21-9d5e-9d8c0bc8b0c6\">\n",
              "    <div class=\"colab-df-container\">\n",
              "      <div>\n",
              "<style scoped>\n",
              "    .dataframe tbody tr th:only-of-type {\n",
              "        vertical-align: middle;\n",
              "    }\n",
              "\n",
              "    .dataframe tbody tr th {\n",
              "        vertical-align: top;\n",
              "    }\n",
              "\n",
              "    .dataframe thead th {\n",
              "        text-align: right;\n",
              "    }\n",
              "</style>\n",
              "<table border=\"1\" class=\"dataframe\">\n",
              "  <thead>\n",
              "    <tr style=\"text-align: right;\">\n",
              "      <th></th>\n",
              "      <th>0</th>\n",
              "      <th>score_value</th>\n",
              "    </tr>\n",
              "  </thead>\n",
              "  <tbody>\n",
              "    <tr>\n",
              "      <th>0</th>\n",
              "      <td>Company</td>\n",
              "      <td>1.183349</td>\n",
              "    </tr>\n",
              "    <tr>\n",
              "      <th>1</th>\n",
              "      <td>Product</td>\n",
              "      <td>1.176941</td>\n",
              "    </tr>\n",
              "    <tr>\n",
              "      <th>2</th>\n",
              "      <td>TypeName</td>\n",
              "      <td>1.024259</td>\n",
              "    </tr>\n",
              "    <tr>\n",
              "      <th>3</th>\n",
              "      <td>Inches</td>\n",
              "      <td>1.144952</td>\n",
              "    </tr>\n",
              "    <tr>\n",
              "      <th>4</th>\n",
              "      <td>Ram</td>\n",
              "      <td>4.310879</td>\n",
              "    </tr>\n",
              "    <tr>\n",
              "      <th>5</th>\n",
              "      <td>Gpu</td>\n",
              "      <td>1.463828</td>\n",
              "    </tr>\n",
              "    <tr>\n",
              "      <th>6</th>\n",
              "      <td>OpSys</td>\n",
              "      <td>1.580483</td>\n",
              "    </tr>\n",
              "    <tr>\n",
              "      <th>7</th>\n",
              "      <td>Weight</td>\n",
              "      <td>1.338628</td>\n",
              "    </tr>\n",
              "    <tr>\n",
              "      <th>8</th>\n",
              "      <td>Screen_Resoluton_Height</td>\n",
              "      <td>1.468413</td>\n",
              "    </tr>\n",
              "    <tr>\n",
              "      <th>9</th>\n",
              "      <td>Screen_Display</td>\n",
              "      <td>1.485271</td>\n",
              "    </tr>\n",
              "    <tr>\n",
              "      <th>10</th>\n",
              "      <td>Screen_Resoluton_Width</td>\n",
              "      <td>1.476987</td>\n",
              "    </tr>\n",
              "    <tr>\n",
              "      <th>11</th>\n",
              "      <td>Cpu_Core</td>\n",
              "      <td>1.562606</td>\n",
              "    </tr>\n",
              "    <tr>\n",
              "      <th>12</th>\n",
              "      <td>Cpu_Processor_Speed_GHz</td>\n",
              "      <td>1.653374</td>\n",
              "    </tr>\n",
              "    <tr>\n",
              "      <th>13</th>\n",
              "      <td>Memory(storage_device)</td>\n",
              "      <td>1.962378</td>\n",
              "    </tr>\n",
              "    <tr>\n",
              "      <th>14</th>\n",
              "      <td>Memory(storage_amount)_GB</td>\n",
              "      <td>1.351404</td>\n",
              "    </tr>\n",
              "  </tbody>\n",
              "</table>\n",
              "</div>\n",
              "      <button class=\"colab-df-convert\" onclick=\"convertToInteractive('df-e197063d-d00f-4e21-9d5e-9d8c0bc8b0c6')\"\n",
              "              title=\"Convert this dataframe to an interactive table.\"\n",
              "              style=\"display:none;\">\n",
              "        \n",
              "  <svg xmlns=\"http://www.w3.org/2000/svg\" height=\"24px\"viewBox=\"0 0 24 24\"\n",
              "       width=\"24px\">\n",
              "    <path d=\"M0 0h24v24H0V0z\" fill=\"none\"/>\n",
              "    <path d=\"M18.56 5.44l.94 2.06.94-2.06 2.06-.94-2.06-.94-.94-2.06-.94 2.06-2.06.94zm-11 1L8.5 8.5l.94-2.06 2.06-.94-2.06-.94L8.5 2.5l-.94 2.06-2.06.94zm10 10l.94 2.06.94-2.06 2.06-.94-2.06-.94-.94-2.06-.94 2.06-2.06.94z\"/><path d=\"M17.41 7.96l-1.37-1.37c-.4-.4-.92-.59-1.43-.59-.52 0-1.04.2-1.43.59L10.3 9.45l-7.72 7.72c-.78.78-.78 2.05 0 2.83L4 21.41c.39.39.9.59 1.41.59.51 0 1.02-.2 1.41-.59l7.78-7.78 2.81-2.81c.8-.78.8-2.07 0-2.86zM5.41 20L4 18.59l7.72-7.72 1.47 1.35L5.41 20z\"/>\n",
              "  </svg>\n",
              "      </button>\n",
              "      \n",
              "  <style>\n",
              "    .colab-df-container {\n",
              "      display:flex;\n",
              "      flex-wrap:wrap;\n",
              "      gap: 12px;\n",
              "    }\n",
              "\n",
              "    .colab-df-convert {\n",
              "      background-color: #E8F0FE;\n",
              "      border: none;\n",
              "      border-radius: 50%;\n",
              "      cursor: pointer;\n",
              "      display: none;\n",
              "      fill: #1967D2;\n",
              "      height: 32px;\n",
              "      padding: 0 0 0 0;\n",
              "      width: 32px;\n",
              "    }\n",
              "\n",
              "    .colab-df-convert:hover {\n",
              "      background-color: #E2EBFA;\n",
              "      box-shadow: 0px 1px 2px rgba(60, 64, 67, 0.3), 0px 1px 3px 1px rgba(60, 64, 67, 0.15);\n",
              "      fill: #174EA6;\n",
              "    }\n",
              "\n",
              "    [theme=dark] .colab-df-convert {\n",
              "      background-color: #3B4455;\n",
              "      fill: #D2E3FC;\n",
              "    }\n",
              "\n",
              "    [theme=dark] .colab-df-convert:hover {\n",
              "      background-color: #434B5C;\n",
              "      box-shadow: 0px 1px 3px 1px rgba(0, 0, 0, 0.15);\n",
              "      filter: drop-shadow(0px 1px 2px rgba(0, 0, 0, 0.3));\n",
              "      fill: #FFFFFF;\n",
              "    }\n",
              "  </style>\n",
              "\n",
              "      <script>\n",
              "        const buttonEl =\n",
              "          document.querySelector('#df-e197063d-d00f-4e21-9d5e-9d8c0bc8b0c6 button.colab-df-convert');\n",
              "        buttonEl.style.display =\n",
              "          google.colab.kernel.accessAllowed ? 'block' : 'none';\n",
              "\n",
              "        async function convertToInteractive(key) {\n",
              "          const element = document.querySelector('#df-e197063d-d00f-4e21-9d5e-9d8c0bc8b0c6');\n",
              "          const dataTable =\n",
              "            await google.colab.kernel.invokeFunction('convertToInteractive',\n",
              "                                                     [key], {});\n",
              "          if (!dataTable) return;\n",
              "\n",
              "          const docLinkHtml = 'Like what you see? Visit the ' +\n",
              "            '<a target=\"_blank\" href=https://colab.research.google.com/notebooks/data_table.ipynb>data table notebook</a>'\n",
              "            + ' to learn more about interactive tables.';\n",
              "          element.innerHTML = '';\n",
              "          dataTable['output_type'] = 'display_data';\n",
              "          await google.colab.output.renderOutput(dataTable, element);\n",
              "          const docLink = document.createElement('div');\n",
              "          docLink.innerHTML = docLinkHtml;\n",
              "          element.appendChild(docLink);\n",
              "        }\n",
              "      </script>\n",
              "    </div>\n",
              "  </div>\n",
              "  "
            ]
          },
          "metadata": {},
          "execution_count": 175
        }
      ]
    },
    {
      "cell_type": "code",
      "source": [
        "topr_features = topr_features.nlargest(11,'score_value')\n"
      ],
      "metadata": {
        "id": "0mAypSruV1tH"
      },
      "id": "0mAypSruV1tH",
      "execution_count": 176,
      "outputs": []
    },
    {
      "cell_type": "code",
      "source": [
        "topr_features"
      ],
      "metadata": {
        "colab": {
          "base_uri": "https://localhost:8080/",
          "height": 394
        },
        "id": "nHG9tEjMhDZP",
        "outputId": "bda1bd7f-a9fd-49f8-f34e-c9d971c3dfac"
      },
      "id": "nHG9tEjMhDZP",
      "execution_count": 177,
      "outputs": [
        {
          "output_type": "execute_result",
          "data": {
            "text/plain": [
              "                            0  score_value\n",
              "4                         Ram     4.310879\n",
              "13     Memory(storage_device)     1.962378\n",
              "12    Cpu_Processor_Speed_GHz     1.653374\n",
              "6                       OpSys     1.580483\n",
              "11                   Cpu_Core     1.562606\n",
              "9              Screen_Display     1.485271\n",
              "10     Screen_Resoluton_Width     1.476987\n",
              "8     Screen_Resoluton_Height     1.468413\n",
              "5                         Gpu     1.463828\n",
              "14  Memory(storage_amount)_GB     1.351404\n",
              "7                      Weight     1.338628"
            ],
            "text/html": [
              "\n",
              "  <div id=\"df-a5ac4e91-c1d0-43cb-afc1-b68ffa2ee5fd\">\n",
              "    <div class=\"colab-df-container\">\n",
              "      <div>\n",
              "<style scoped>\n",
              "    .dataframe tbody tr th:only-of-type {\n",
              "        vertical-align: middle;\n",
              "    }\n",
              "\n",
              "    .dataframe tbody tr th {\n",
              "        vertical-align: top;\n",
              "    }\n",
              "\n",
              "    .dataframe thead th {\n",
              "        text-align: right;\n",
              "    }\n",
              "</style>\n",
              "<table border=\"1\" class=\"dataframe\">\n",
              "  <thead>\n",
              "    <tr style=\"text-align: right;\">\n",
              "      <th></th>\n",
              "      <th>0</th>\n",
              "      <th>score_value</th>\n",
              "    </tr>\n",
              "  </thead>\n",
              "  <tbody>\n",
              "    <tr>\n",
              "      <th>4</th>\n",
              "      <td>Ram</td>\n",
              "      <td>4.310879</td>\n",
              "    </tr>\n",
              "    <tr>\n",
              "      <th>13</th>\n",
              "      <td>Memory(storage_device)</td>\n",
              "      <td>1.962378</td>\n",
              "    </tr>\n",
              "    <tr>\n",
              "      <th>12</th>\n",
              "      <td>Cpu_Processor_Speed_GHz</td>\n",
              "      <td>1.653374</td>\n",
              "    </tr>\n",
              "    <tr>\n",
              "      <th>6</th>\n",
              "      <td>OpSys</td>\n",
              "      <td>1.580483</td>\n",
              "    </tr>\n",
              "    <tr>\n",
              "      <th>11</th>\n",
              "      <td>Cpu_Core</td>\n",
              "      <td>1.562606</td>\n",
              "    </tr>\n",
              "    <tr>\n",
              "      <th>9</th>\n",
              "      <td>Screen_Display</td>\n",
              "      <td>1.485271</td>\n",
              "    </tr>\n",
              "    <tr>\n",
              "      <th>10</th>\n",
              "      <td>Screen_Resoluton_Width</td>\n",
              "      <td>1.476987</td>\n",
              "    </tr>\n",
              "    <tr>\n",
              "      <th>8</th>\n",
              "      <td>Screen_Resoluton_Height</td>\n",
              "      <td>1.468413</td>\n",
              "    </tr>\n",
              "    <tr>\n",
              "      <th>5</th>\n",
              "      <td>Gpu</td>\n",
              "      <td>1.463828</td>\n",
              "    </tr>\n",
              "    <tr>\n",
              "      <th>14</th>\n",
              "      <td>Memory(storage_amount)_GB</td>\n",
              "      <td>1.351404</td>\n",
              "    </tr>\n",
              "    <tr>\n",
              "      <th>7</th>\n",
              "      <td>Weight</td>\n",
              "      <td>1.338628</td>\n",
              "    </tr>\n",
              "  </tbody>\n",
              "</table>\n",
              "</div>\n",
              "      <button class=\"colab-df-convert\" onclick=\"convertToInteractive('df-a5ac4e91-c1d0-43cb-afc1-b68ffa2ee5fd')\"\n",
              "              title=\"Convert this dataframe to an interactive table.\"\n",
              "              style=\"display:none;\">\n",
              "        \n",
              "  <svg xmlns=\"http://www.w3.org/2000/svg\" height=\"24px\"viewBox=\"0 0 24 24\"\n",
              "       width=\"24px\">\n",
              "    <path d=\"M0 0h24v24H0V0z\" fill=\"none\"/>\n",
              "    <path d=\"M18.56 5.44l.94 2.06.94-2.06 2.06-.94-2.06-.94-.94-2.06-.94 2.06-2.06.94zm-11 1L8.5 8.5l.94-2.06 2.06-.94-2.06-.94L8.5 2.5l-.94 2.06-2.06.94zm10 10l.94 2.06.94-2.06 2.06-.94-2.06-.94-.94-2.06-.94 2.06-2.06.94z\"/><path d=\"M17.41 7.96l-1.37-1.37c-.4-.4-.92-.59-1.43-.59-.52 0-1.04.2-1.43.59L10.3 9.45l-7.72 7.72c-.78.78-.78 2.05 0 2.83L4 21.41c.39.39.9.59 1.41.59.51 0 1.02-.2 1.41-.59l7.78-7.78 2.81-2.81c.8-.78.8-2.07 0-2.86zM5.41 20L4 18.59l7.72-7.72 1.47 1.35L5.41 20z\"/>\n",
              "  </svg>\n",
              "      </button>\n",
              "      \n",
              "  <style>\n",
              "    .colab-df-container {\n",
              "      display:flex;\n",
              "      flex-wrap:wrap;\n",
              "      gap: 12px;\n",
              "    }\n",
              "\n",
              "    .colab-df-convert {\n",
              "      background-color: #E8F0FE;\n",
              "      border: none;\n",
              "      border-radius: 50%;\n",
              "      cursor: pointer;\n",
              "      display: none;\n",
              "      fill: #1967D2;\n",
              "      height: 32px;\n",
              "      padding: 0 0 0 0;\n",
              "      width: 32px;\n",
              "    }\n",
              "\n",
              "    .colab-df-convert:hover {\n",
              "      background-color: #E2EBFA;\n",
              "      box-shadow: 0px 1px 2px rgba(60, 64, 67, 0.3), 0px 1px 3px 1px rgba(60, 64, 67, 0.15);\n",
              "      fill: #174EA6;\n",
              "    }\n",
              "\n",
              "    [theme=dark] .colab-df-convert {\n",
              "      background-color: #3B4455;\n",
              "      fill: #D2E3FC;\n",
              "    }\n",
              "\n",
              "    [theme=dark] .colab-df-convert:hover {\n",
              "      background-color: #434B5C;\n",
              "      box-shadow: 0px 1px 3px 1px rgba(0, 0, 0, 0.15);\n",
              "      filter: drop-shadow(0px 1px 2px rgba(0, 0, 0, 0.3));\n",
              "      fill: #FFFFFF;\n",
              "    }\n",
              "  </style>\n",
              "\n",
              "      <script>\n",
              "        const buttonEl =\n",
              "          document.querySelector('#df-a5ac4e91-c1d0-43cb-afc1-b68ffa2ee5fd button.colab-df-convert');\n",
              "        buttonEl.style.display =\n",
              "          google.colab.kernel.accessAllowed ? 'block' : 'none';\n",
              "\n",
              "        async function convertToInteractive(key) {\n",
              "          const element = document.querySelector('#df-a5ac4e91-c1d0-43cb-afc1-b68ffa2ee5fd');\n",
              "          const dataTable =\n",
              "            await google.colab.kernel.invokeFunction('convertToInteractive',\n",
              "                                                     [key], {});\n",
              "          if (!dataTable) return;\n",
              "\n",
              "          const docLinkHtml = 'Like what you see? Visit the ' +\n",
              "            '<a target=\"_blank\" href=https://colab.research.google.com/notebooks/data_table.ipynb>data table notebook</a>'\n",
              "            + ' to learn more about interactive tables.';\n",
              "          element.innerHTML = '';\n",
              "          dataTable['output_type'] = 'display_data';\n",
              "          await google.colab.output.renderOutput(dataTable, element);\n",
              "          const docLink = document.createElement('div');\n",
              "          docLink.innerHTML = docLinkHtml;\n",
              "          element.appendChild(docLink);\n",
              "        }\n",
              "      </script>\n",
              "    </div>\n",
              "  </div>\n",
              "  "
            ]
          },
          "metadata": {},
          "execution_count": 177
        }
      ]
    },
    {
      "cell_type": "code",
      "source": [
        ""
      ],
      "metadata": {
        "id": "orJXh0o6hgGl"
      },
      "id": "orJXh0o6hgGl",
      "execution_count": 177,
      "outputs": []
    },
    {
      "cell_type": "code",
      "source": [
        "X.drop('Company',axis=1,inplace=True)\n"
      ],
      "metadata": {
        "id": "4nmOnWPQWjo_"
      },
      "id": "4nmOnWPQWjo_",
      "execution_count": 178,
      "outputs": []
    },
    {
      "cell_type": "code",
      "source": [
        "X.head()"
      ],
      "metadata": {
        "colab": {
          "base_uri": "https://localhost:8080/",
          "height": 270
        },
        "id": "jVr7TwsDhmNg",
        "outputId": "9b6f44dc-98d3-441f-eba4-7cb8a32cb16e"
      },
      "id": "jVr7TwsDhmNg",
      "execution_count": 179,
      "outputs": [
        {
          "output_type": "execute_result",
          "data": {
            "text/plain": [
              "    Product  TypeName    Inches       Ram       Gpu  OpSys    Weight  \\\n",
              "0  0.486224       0.8  0.385542  0.096774  0.532110    1.0  0.169576   \n",
              "1  0.487844       0.8  0.385542  0.096774  0.467890    1.0  0.162095   \n",
              "2  0.081037       0.6  0.662651  0.096774  0.486239    0.5  0.291771   \n",
              "3  0.486224       0.8  0.638554  0.225806  0.082569    1.0  0.284289   \n",
              "4  0.486224       0.8  0.385542  0.096774  0.541284    1.0  0.169576   \n",
              "\n",
              "   Screen_Resoluton_Height  Screen_Display  Screen_Resoluton_Width  Cpu_Core  \\\n",
              "0                 0.597701            0.60                0.482619  0.554348   \n",
              "1                 0.094828            0.00                0.029911  0.554348   \n",
              "2                 0.224138            0.15                0.223929  0.619565   \n",
              "3                 0.741379            0.60                0.611964  0.706522   \n",
              "4                 0.597701            0.60                0.482619  0.554348   \n",
              "\n",
              "   Cpu_Processor_Speed_GHz  Memory(storage_device)  Memory(storage_amount)_GB  \n",
              "0                 0.518519                0.454545                   0.248532  \n",
              "1                 0.333333                0.000000                   0.248532  \n",
              "2                 0.592593                0.454545                   0.499022  \n",
              "3                 0.666667                0.454545                   1.000000  \n",
              "4                 0.814815                0.454545                   0.499022  "
            ],
            "text/html": [
              "\n",
              "  <div id=\"df-e88ec67d-25b3-4c1d-8a8c-6e8d0bb826af\">\n",
              "    <div class=\"colab-df-container\">\n",
              "      <div>\n",
              "<style scoped>\n",
              "    .dataframe tbody tr th:only-of-type {\n",
              "        vertical-align: middle;\n",
              "    }\n",
              "\n",
              "    .dataframe tbody tr th {\n",
              "        vertical-align: top;\n",
              "    }\n",
              "\n",
              "    .dataframe thead th {\n",
              "        text-align: right;\n",
              "    }\n",
              "</style>\n",
              "<table border=\"1\" class=\"dataframe\">\n",
              "  <thead>\n",
              "    <tr style=\"text-align: right;\">\n",
              "      <th></th>\n",
              "      <th>Product</th>\n",
              "      <th>TypeName</th>\n",
              "      <th>Inches</th>\n",
              "      <th>Ram</th>\n",
              "      <th>Gpu</th>\n",
              "      <th>OpSys</th>\n",
              "      <th>Weight</th>\n",
              "      <th>Screen_Resoluton_Height</th>\n",
              "      <th>Screen_Display</th>\n",
              "      <th>Screen_Resoluton_Width</th>\n",
              "      <th>Cpu_Core</th>\n",
              "      <th>Cpu_Processor_Speed_GHz</th>\n",
              "      <th>Memory(storage_device)</th>\n",
              "      <th>Memory(storage_amount)_GB</th>\n",
              "    </tr>\n",
              "  </thead>\n",
              "  <tbody>\n",
              "    <tr>\n",
              "      <th>0</th>\n",
              "      <td>0.486224</td>\n",
              "      <td>0.8</td>\n",
              "      <td>0.385542</td>\n",
              "      <td>0.096774</td>\n",
              "      <td>0.532110</td>\n",
              "      <td>1.0</td>\n",
              "      <td>0.169576</td>\n",
              "      <td>0.597701</td>\n",
              "      <td>0.60</td>\n",
              "      <td>0.482619</td>\n",
              "      <td>0.554348</td>\n",
              "      <td>0.518519</td>\n",
              "      <td>0.454545</td>\n",
              "      <td>0.248532</td>\n",
              "    </tr>\n",
              "    <tr>\n",
              "      <th>1</th>\n",
              "      <td>0.487844</td>\n",
              "      <td>0.8</td>\n",
              "      <td>0.385542</td>\n",
              "      <td>0.096774</td>\n",
              "      <td>0.467890</td>\n",
              "      <td>1.0</td>\n",
              "      <td>0.162095</td>\n",
              "      <td>0.094828</td>\n",
              "      <td>0.00</td>\n",
              "      <td>0.029911</td>\n",
              "      <td>0.554348</td>\n",
              "      <td>0.333333</td>\n",
              "      <td>0.000000</td>\n",
              "      <td>0.248532</td>\n",
              "    </tr>\n",
              "    <tr>\n",
              "      <th>2</th>\n",
              "      <td>0.081037</td>\n",
              "      <td>0.6</td>\n",
              "      <td>0.662651</td>\n",
              "      <td>0.096774</td>\n",
              "      <td>0.486239</td>\n",
              "      <td>0.5</td>\n",
              "      <td>0.291771</td>\n",
              "      <td>0.224138</td>\n",
              "      <td>0.15</td>\n",
              "      <td>0.223929</td>\n",
              "      <td>0.619565</td>\n",
              "      <td>0.592593</td>\n",
              "      <td>0.454545</td>\n",
              "      <td>0.499022</td>\n",
              "    </tr>\n",
              "    <tr>\n",
              "      <th>3</th>\n",
              "      <td>0.486224</td>\n",
              "      <td>0.8</td>\n",
              "      <td>0.638554</td>\n",
              "      <td>0.225806</td>\n",
              "      <td>0.082569</td>\n",
              "      <td>1.0</td>\n",
              "      <td>0.284289</td>\n",
              "      <td>0.741379</td>\n",
              "      <td>0.60</td>\n",
              "      <td>0.611964</td>\n",
              "      <td>0.706522</td>\n",
              "      <td>0.666667</td>\n",
              "      <td>0.454545</td>\n",
              "      <td>1.000000</td>\n",
              "    </tr>\n",
              "    <tr>\n",
              "      <th>4</th>\n",
              "      <td>0.486224</td>\n",
              "      <td>0.8</td>\n",
              "      <td>0.385542</td>\n",
              "      <td>0.096774</td>\n",
              "      <td>0.541284</td>\n",
              "      <td>1.0</td>\n",
              "      <td>0.169576</td>\n",
              "      <td>0.597701</td>\n",
              "      <td>0.60</td>\n",
              "      <td>0.482619</td>\n",
              "      <td>0.554348</td>\n",
              "      <td>0.814815</td>\n",
              "      <td>0.454545</td>\n",
              "      <td>0.499022</td>\n",
              "    </tr>\n",
              "  </tbody>\n",
              "</table>\n",
              "</div>\n",
              "      <button class=\"colab-df-convert\" onclick=\"convertToInteractive('df-e88ec67d-25b3-4c1d-8a8c-6e8d0bb826af')\"\n",
              "              title=\"Convert this dataframe to an interactive table.\"\n",
              "              style=\"display:none;\">\n",
              "        \n",
              "  <svg xmlns=\"http://www.w3.org/2000/svg\" height=\"24px\"viewBox=\"0 0 24 24\"\n",
              "       width=\"24px\">\n",
              "    <path d=\"M0 0h24v24H0V0z\" fill=\"none\"/>\n",
              "    <path d=\"M18.56 5.44l.94 2.06.94-2.06 2.06-.94-2.06-.94-.94-2.06-.94 2.06-2.06.94zm-11 1L8.5 8.5l.94-2.06 2.06-.94-2.06-.94L8.5 2.5l-.94 2.06-2.06.94zm10 10l.94 2.06.94-2.06 2.06-.94-2.06-.94-.94-2.06-.94 2.06-2.06.94z\"/><path d=\"M17.41 7.96l-1.37-1.37c-.4-.4-.92-.59-1.43-.59-.52 0-1.04.2-1.43.59L10.3 9.45l-7.72 7.72c-.78.78-.78 2.05 0 2.83L4 21.41c.39.39.9.59 1.41.59.51 0 1.02-.2 1.41-.59l7.78-7.78 2.81-2.81c.8-.78.8-2.07 0-2.86zM5.41 20L4 18.59l7.72-7.72 1.47 1.35L5.41 20z\"/>\n",
              "  </svg>\n",
              "      </button>\n",
              "      \n",
              "  <style>\n",
              "    .colab-df-container {\n",
              "      display:flex;\n",
              "      flex-wrap:wrap;\n",
              "      gap: 12px;\n",
              "    }\n",
              "\n",
              "    .colab-df-convert {\n",
              "      background-color: #E8F0FE;\n",
              "      border: none;\n",
              "      border-radius: 50%;\n",
              "      cursor: pointer;\n",
              "      display: none;\n",
              "      fill: #1967D2;\n",
              "      height: 32px;\n",
              "      padding: 0 0 0 0;\n",
              "      width: 32px;\n",
              "    }\n",
              "\n",
              "    .colab-df-convert:hover {\n",
              "      background-color: #E2EBFA;\n",
              "      box-shadow: 0px 1px 2px rgba(60, 64, 67, 0.3), 0px 1px 3px 1px rgba(60, 64, 67, 0.15);\n",
              "      fill: #174EA6;\n",
              "    }\n",
              "\n",
              "    [theme=dark] .colab-df-convert {\n",
              "      background-color: #3B4455;\n",
              "      fill: #D2E3FC;\n",
              "    }\n",
              "\n",
              "    [theme=dark] .colab-df-convert:hover {\n",
              "      background-color: #434B5C;\n",
              "      box-shadow: 0px 1px 3px 1px rgba(0, 0, 0, 0.15);\n",
              "      filter: drop-shadow(0px 1px 2px rgba(0, 0, 0, 0.3));\n",
              "      fill: #FFFFFF;\n",
              "    }\n",
              "  </style>\n",
              "\n",
              "      <script>\n",
              "        const buttonEl =\n",
              "          document.querySelector('#df-e88ec67d-25b3-4c1d-8a8c-6e8d0bb826af button.colab-df-convert');\n",
              "        buttonEl.style.display =\n",
              "          google.colab.kernel.accessAllowed ? 'block' : 'none';\n",
              "\n",
              "        async function convertToInteractive(key) {\n",
              "          const element = document.querySelector('#df-e88ec67d-25b3-4c1d-8a8c-6e8d0bb826af');\n",
              "          const dataTable =\n",
              "            await google.colab.kernel.invokeFunction('convertToInteractive',\n",
              "                                                     [key], {});\n",
              "          if (!dataTable) return;\n",
              "\n",
              "          const docLinkHtml = 'Like what you see? Visit the ' +\n",
              "            '<a target=\"_blank\" href=https://colab.research.google.com/notebooks/data_table.ipynb>data table notebook</a>'\n",
              "            + ' to learn more about interactive tables.';\n",
              "          element.innerHTML = '';\n",
              "          dataTable['output_type'] = 'display_data';\n",
              "          await google.colab.output.renderOutput(dataTable, element);\n",
              "          const docLink = document.createElement('div');\n",
              "          docLink.innerHTML = docLinkHtml;\n",
              "          element.appendChild(docLink);\n",
              "        }\n",
              "      </script>\n",
              "    </div>\n",
              "  </div>\n",
              "  "
            ]
          },
          "metadata": {},
          "execution_count": 179
        }
      ]
    },
    {
      "cell_type": "code",
      "source": [
        "X.drop('Product',axis=1,inplace=True)\n"
      ],
      "metadata": {
        "id": "QXAAN01rXkXa"
      },
      "id": "QXAAN01rXkXa",
      "execution_count": 180,
      "outputs": []
    },
    {
      "cell_type": "code",
      "source": [
        "X.drop('TypeName',axis=1,inplace=True)\n"
      ],
      "metadata": {
        "id": "OoqjPma4XmBz"
      },
      "id": "OoqjPma4XmBz",
      "execution_count": 181,
      "outputs": []
    },
    {
      "cell_type": "code",
      "source": [
        "X.drop('Inches',axis=1,inplace=True)\n"
      ],
      "metadata": {
        "id": "ZJPjlbJPXnOA"
      },
      "id": "ZJPjlbJPXnOA",
      "execution_count": 182,
      "outputs": []
    },
    {
      "cell_type": "code",
      "source": [
        "X.head()"
      ],
      "metadata": {
        "colab": {
          "base_uri": "https://localhost:8080/",
          "height": 270
        },
        "id": "kqluKHSaXs8n",
        "outputId": "1d91598f-dd59-447e-d9fe-38af1d9f2433"
      },
      "id": "kqluKHSaXs8n",
      "execution_count": 183,
      "outputs": [
        {
          "output_type": "execute_result",
          "data": {
            "text/plain": [
              "        Ram       Gpu  OpSys    Weight  Screen_Resoluton_Height  \\\n",
              "0  0.096774  0.532110    1.0  0.169576                 0.597701   \n",
              "1  0.096774  0.467890    1.0  0.162095                 0.094828   \n",
              "2  0.096774  0.486239    0.5  0.291771                 0.224138   \n",
              "3  0.225806  0.082569    1.0  0.284289                 0.741379   \n",
              "4  0.096774  0.541284    1.0  0.169576                 0.597701   \n",
              "\n",
              "   Screen_Display  Screen_Resoluton_Width  Cpu_Core  Cpu_Processor_Speed_GHz  \\\n",
              "0            0.60                0.482619  0.554348                 0.518519   \n",
              "1            0.00                0.029911  0.554348                 0.333333   \n",
              "2            0.15                0.223929  0.619565                 0.592593   \n",
              "3            0.60                0.611964  0.706522                 0.666667   \n",
              "4            0.60                0.482619  0.554348                 0.814815   \n",
              "\n",
              "   Memory(storage_device)  Memory(storage_amount)_GB  \n",
              "0                0.454545                   0.248532  \n",
              "1                0.000000                   0.248532  \n",
              "2                0.454545                   0.499022  \n",
              "3                0.454545                   1.000000  \n",
              "4                0.454545                   0.499022  "
            ],
            "text/html": [
              "\n",
              "  <div id=\"df-ebb5174d-e73a-412e-b43c-ba60c9203114\">\n",
              "    <div class=\"colab-df-container\">\n",
              "      <div>\n",
              "<style scoped>\n",
              "    .dataframe tbody tr th:only-of-type {\n",
              "        vertical-align: middle;\n",
              "    }\n",
              "\n",
              "    .dataframe tbody tr th {\n",
              "        vertical-align: top;\n",
              "    }\n",
              "\n",
              "    .dataframe thead th {\n",
              "        text-align: right;\n",
              "    }\n",
              "</style>\n",
              "<table border=\"1\" class=\"dataframe\">\n",
              "  <thead>\n",
              "    <tr style=\"text-align: right;\">\n",
              "      <th></th>\n",
              "      <th>Ram</th>\n",
              "      <th>Gpu</th>\n",
              "      <th>OpSys</th>\n",
              "      <th>Weight</th>\n",
              "      <th>Screen_Resoluton_Height</th>\n",
              "      <th>Screen_Display</th>\n",
              "      <th>Screen_Resoluton_Width</th>\n",
              "      <th>Cpu_Core</th>\n",
              "      <th>Cpu_Processor_Speed_GHz</th>\n",
              "      <th>Memory(storage_device)</th>\n",
              "      <th>Memory(storage_amount)_GB</th>\n",
              "    </tr>\n",
              "  </thead>\n",
              "  <tbody>\n",
              "    <tr>\n",
              "      <th>0</th>\n",
              "      <td>0.096774</td>\n",
              "      <td>0.532110</td>\n",
              "      <td>1.0</td>\n",
              "      <td>0.169576</td>\n",
              "      <td>0.597701</td>\n",
              "      <td>0.60</td>\n",
              "      <td>0.482619</td>\n",
              "      <td>0.554348</td>\n",
              "      <td>0.518519</td>\n",
              "      <td>0.454545</td>\n",
              "      <td>0.248532</td>\n",
              "    </tr>\n",
              "    <tr>\n",
              "      <th>1</th>\n",
              "      <td>0.096774</td>\n",
              "      <td>0.467890</td>\n",
              "      <td>1.0</td>\n",
              "      <td>0.162095</td>\n",
              "      <td>0.094828</td>\n",
              "      <td>0.00</td>\n",
              "      <td>0.029911</td>\n",
              "      <td>0.554348</td>\n",
              "      <td>0.333333</td>\n",
              "      <td>0.000000</td>\n",
              "      <td>0.248532</td>\n",
              "    </tr>\n",
              "    <tr>\n",
              "      <th>2</th>\n",
              "      <td>0.096774</td>\n",
              "      <td>0.486239</td>\n",
              "      <td>0.5</td>\n",
              "      <td>0.291771</td>\n",
              "      <td>0.224138</td>\n",
              "      <td>0.15</td>\n",
              "      <td>0.223929</td>\n",
              "      <td>0.619565</td>\n",
              "      <td>0.592593</td>\n",
              "      <td>0.454545</td>\n",
              "      <td>0.499022</td>\n",
              "    </tr>\n",
              "    <tr>\n",
              "      <th>3</th>\n",
              "      <td>0.225806</td>\n",
              "      <td>0.082569</td>\n",
              "      <td>1.0</td>\n",
              "      <td>0.284289</td>\n",
              "      <td>0.741379</td>\n",
              "      <td>0.60</td>\n",
              "      <td>0.611964</td>\n",
              "      <td>0.706522</td>\n",
              "      <td>0.666667</td>\n",
              "      <td>0.454545</td>\n",
              "      <td>1.000000</td>\n",
              "    </tr>\n",
              "    <tr>\n",
              "      <th>4</th>\n",
              "      <td>0.096774</td>\n",
              "      <td>0.541284</td>\n",
              "      <td>1.0</td>\n",
              "      <td>0.169576</td>\n",
              "      <td>0.597701</td>\n",
              "      <td>0.60</td>\n",
              "      <td>0.482619</td>\n",
              "      <td>0.554348</td>\n",
              "      <td>0.814815</td>\n",
              "      <td>0.454545</td>\n",
              "      <td>0.499022</td>\n",
              "    </tr>\n",
              "  </tbody>\n",
              "</table>\n",
              "</div>\n",
              "      <button class=\"colab-df-convert\" onclick=\"convertToInteractive('df-ebb5174d-e73a-412e-b43c-ba60c9203114')\"\n",
              "              title=\"Convert this dataframe to an interactive table.\"\n",
              "              style=\"display:none;\">\n",
              "        \n",
              "  <svg xmlns=\"http://www.w3.org/2000/svg\" height=\"24px\"viewBox=\"0 0 24 24\"\n",
              "       width=\"24px\">\n",
              "    <path d=\"M0 0h24v24H0V0z\" fill=\"none\"/>\n",
              "    <path d=\"M18.56 5.44l.94 2.06.94-2.06 2.06-.94-2.06-.94-.94-2.06-.94 2.06-2.06.94zm-11 1L8.5 8.5l.94-2.06 2.06-.94-2.06-.94L8.5 2.5l-.94 2.06-2.06.94zm10 10l.94 2.06.94-2.06 2.06-.94-2.06-.94-.94-2.06-.94 2.06-2.06.94z\"/><path d=\"M17.41 7.96l-1.37-1.37c-.4-.4-.92-.59-1.43-.59-.52 0-1.04.2-1.43.59L10.3 9.45l-7.72 7.72c-.78.78-.78 2.05 0 2.83L4 21.41c.39.39.9.59 1.41.59.51 0 1.02-.2 1.41-.59l7.78-7.78 2.81-2.81c.8-.78.8-2.07 0-2.86zM5.41 20L4 18.59l7.72-7.72 1.47 1.35L5.41 20z\"/>\n",
              "  </svg>\n",
              "      </button>\n",
              "      \n",
              "  <style>\n",
              "    .colab-df-container {\n",
              "      display:flex;\n",
              "      flex-wrap:wrap;\n",
              "      gap: 12px;\n",
              "    }\n",
              "\n",
              "    .colab-df-convert {\n",
              "      background-color: #E8F0FE;\n",
              "      border: none;\n",
              "      border-radius: 50%;\n",
              "      cursor: pointer;\n",
              "      display: none;\n",
              "      fill: #1967D2;\n",
              "      height: 32px;\n",
              "      padding: 0 0 0 0;\n",
              "      width: 32px;\n",
              "    }\n",
              "\n",
              "    .colab-df-convert:hover {\n",
              "      background-color: #E2EBFA;\n",
              "      box-shadow: 0px 1px 2px rgba(60, 64, 67, 0.3), 0px 1px 3px 1px rgba(60, 64, 67, 0.15);\n",
              "      fill: #174EA6;\n",
              "    }\n",
              "\n",
              "    [theme=dark] .colab-df-convert {\n",
              "      background-color: #3B4455;\n",
              "      fill: #D2E3FC;\n",
              "    }\n",
              "\n",
              "    [theme=dark] .colab-df-convert:hover {\n",
              "      background-color: #434B5C;\n",
              "      box-shadow: 0px 1px 3px 1px rgba(0, 0, 0, 0.15);\n",
              "      filter: drop-shadow(0px 1px 2px rgba(0, 0, 0, 0.3));\n",
              "      fill: #FFFFFF;\n",
              "    }\n",
              "  </style>\n",
              "\n",
              "      <script>\n",
              "        const buttonEl =\n",
              "          document.querySelector('#df-ebb5174d-e73a-412e-b43c-ba60c9203114 button.colab-df-convert');\n",
              "        buttonEl.style.display =\n",
              "          google.colab.kernel.accessAllowed ? 'block' : 'none';\n",
              "\n",
              "        async function convertToInteractive(key) {\n",
              "          const element = document.querySelector('#df-ebb5174d-e73a-412e-b43c-ba60c9203114');\n",
              "          const dataTable =\n",
              "            await google.colab.kernel.invokeFunction('convertToInteractive',\n",
              "                                                     [key], {});\n",
              "          if (!dataTable) return;\n",
              "\n",
              "          const docLinkHtml = 'Like what you see? Visit the ' +\n",
              "            '<a target=\"_blank\" href=https://colab.research.google.com/notebooks/data_table.ipynb>data table notebook</a>'\n",
              "            + ' to learn more about interactive tables.';\n",
              "          element.innerHTML = '';\n",
              "          dataTable['output_type'] = 'display_data';\n",
              "          await google.colab.output.renderOutput(dataTable, element);\n",
              "          const docLink = document.createElement('div');\n",
              "          docLink.innerHTML = docLinkHtml;\n",
              "          element.appendChild(docLink);\n",
              "        }\n",
              "      </script>\n",
              "    </div>\n",
              "  </div>\n",
              "  "
            ]
          },
          "metadata": {},
          "execution_count": 183
        }
      ]
    },
    {
      "cell_type": "code",
      "source": [
        ""
      ],
      "metadata": {
        "id": "Lf8wdjmliYU0"
      },
      "id": "Lf8wdjmliYU0",
      "execution_count": 183,
      "outputs": []
    },
    {
      "cell_type": "code",
      "source": [
        "from sklearn.model_selection import train_test_split as tts"
      ],
      "metadata": {
        "id": "9ON1gjCJiwjq"
      },
      "execution_count": 184,
      "outputs": [],
      "id": "9ON1gjCJiwjq"
    },
    {
      "cell_type": "code",
      "source": [
        "xtrain,xtest,ytrain,ytest=tts(X,Y,train_size=.70,random_state=24)"
      ],
      "metadata": {
        "id": "3aOK7Lb7iwjr"
      },
      "execution_count": 185,
      "outputs": [],
      "id": "3aOK7Lb7iwjr"
    },
    {
      "cell_type": "code",
      "source": [
        "xtrain.head()"
      ],
      "metadata": {
        "colab": {
          "base_uri": "https://localhost:8080/",
          "height": 270
        },
        "outputId": "307989ec-a3b8-416d-a4a6-ea1e5c4c5b8a",
        "id": "kzEN-89Siwjr"
      },
      "execution_count": 186,
      "outputs": [
        {
          "output_type": "execute_result",
          "data": {
            "text/plain": [
              "           Ram       Gpu  OpSys    Weight  Screen_Resoluton_Height  \\\n",
              "1168  0.000000  0.376147  0.625  0.187032                 0.000000   \n",
              "1108  0.032258  0.137615  0.625  0.351621                 0.224138   \n",
              "801   0.096774  0.486239  0.625  0.418953                 0.224138   \n",
              "1102  0.032258  0.366972  0.125  0.376559                 0.000000   \n",
              "220   0.096774  0.055046  0.250  0.376559                 0.224138   \n",
              "\n",
              "      Screen_Display  Screen_Resoluton_Width  Cpu_Core  \\\n",
              "1168            0.00                0.000000  0.347826   \n",
              "1108            0.15                0.223929  0.076087   \n",
              "801             0.15                0.223929  0.619565   \n",
              "1102            0.00                0.000000  0.315217   \n",
              "220             0.15                0.223929  0.695652   \n",
              "\n",
              "      Cpu_Processor_Speed_GHz  Memory(storage_device)  \\\n",
              "1168                 0.259259                0.000000   \n",
              "1108                 0.592593                0.181818   \n",
              "801                  0.592593                0.454545   \n",
              "1102                 0.222222                0.454545   \n",
              "220                  0.259259                0.454545   \n",
              "\n",
              "      Memory(storage_amount)_GB  \n",
              "1168                   0.060665  \n",
              "1108                   0.000000  \n",
              "801                    0.499022  \n",
              "1102                   0.029354  \n",
              "220                    0.499022  "
            ],
            "text/html": [
              "\n",
              "  <div id=\"df-849dbc12-2605-45ad-94b1-46d3028f955a\">\n",
              "    <div class=\"colab-df-container\">\n",
              "      <div>\n",
              "<style scoped>\n",
              "    .dataframe tbody tr th:only-of-type {\n",
              "        vertical-align: middle;\n",
              "    }\n",
              "\n",
              "    .dataframe tbody tr th {\n",
              "        vertical-align: top;\n",
              "    }\n",
              "\n",
              "    .dataframe thead th {\n",
              "        text-align: right;\n",
              "    }\n",
              "</style>\n",
              "<table border=\"1\" class=\"dataframe\">\n",
              "  <thead>\n",
              "    <tr style=\"text-align: right;\">\n",
              "      <th></th>\n",
              "      <th>Ram</th>\n",
              "      <th>Gpu</th>\n",
              "      <th>OpSys</th>\n",
              "      <th>Weight</th>\n",
              "      <th>Screen_Resoluton_Height</th>\n",
              "      <th>Screen_Display</th>\n",
              "      <th>Screen_Resoluton_Width</th>\n",
              "      <th>Cpu_Core</th>\n",
              "      <th>Cpu_Processor_Speed_GHz</th>\n",
              "      <th>Memory(storage_device)</th>\n",
              "      <th>Memory(storage_amount)_GB</th>\n",
              "    </tr>\n",
              "  </thead>\n",
              "  <tbody>\n",
              "    <tr>\n",
              "      <th>1168</th>\n",
              "      <td>0.000000</td>\n",
              "      <td>0.376147</td>\n",
              "      <td>0.625</td>\n",
              "      <td>0.187032</td>\n",
              "      <td>0.000000</td>\n",
              "      <td>0.00</td>\n",
              "      <td>0.000000</td>\n",
              "      <td>0.347826</td>\n",
              "      <td>0.259259</td>\n",
              "      <td>0.000000</td>\n",
              "      <td>0.060665</td>\n",
              "    </tr>\n",
              "    <tr>\n",
              "      <th>1108</th>\n",
              "      <td>0.032258</td>\n",
              "      <td>0.137615</td>\n",
              "      <td>0.625</td>\n",
              "      <td>0.351621</td>\n",
              "      <td>0.224138</td>\n",
              "      <td>0.15</td>\n",
              "      <td>0.223929</td>\n",
              "      <td>0.076087</td>\n",
              "      <td>0.592593</td>\n",
              "      <td>0.181818</td>\n",
              "      <td>0.000000</td>\n",
              "    </tr>\n",
              "    <tr>\n",
              "      <th>801</th>\n",
              "      <td>0.096774</td>\n",
              "      <td>0.486239</td>\n",
              "      <td>0.625</td>\n",
              "      <td>0.418953</td>\n",
              "      <td>0.224138</td>\n",
              "      <td>0.15</td>\n",
              "      <td>0.223929</td>\n",
              "      <td>0.619565</td>\n",
              "      <td>0.592593</td>\n",
              "      <td>0.454545</td>\n",
              "      <td>0.499022</td>\n",
              "    </tr>\n",
              "    <tr>\n",
              "      <th>1102</th>\n",
              "      <td>0.032258</td>\n",
              "      <td>0.366972</td>\n",
              "      <td>0.125</td>\n",
              "      <td>0.376559</td>\n",
              "      <td>0.000000</td>\n",
              "      <td>0.00</td>\n",
              "      <td>0.000000</td>\n",
              "      <td>0.315217</td>\n",
              "      <td>0.222222</td>\n",
              "      <td>0.454545</td>\n",
              "      <td>0.029354</td>\n",
              "    </tr>\n",
              "    <tr>\n",
              "      <th>220</th>\n",
              "      <td>0.096774</td>\n",
              "      <td>0.055046</td>\n",
              "      <td>0.250</td>\n",
              "      <td>0.376559</td>\n",
              "      <td>0.224138</td>\n",
              "      <td>0.15</td>\n",
              "      <td>0.223929</td>\n",
              "      <td>0.695652</td>\n",
              "      <td>0.259259</td>\n",
              "      <td>0.454545</td>\n",
              "      <td>0.499022</td>\n",
              "    </tr>\n",
              "  </tbody>\n",
              "</table>\n",
              "</div>\n",
              "      <button class=\"colab-df-convert\" onclick=\"convertToInteractive('df-849dbc12-2605-45ad-94b1-46d3028f955a')\"\n",
              "              title=\"Convert this dataframe to an interactive table.\"\n",
              "              style=\"display:none;\">\n",
              "        \n",
              "  <svg xmlns=\"http://www.w3.org/2000/svg\" height=\"24px\"viewBox=\"0 0 24 24\"\n",
              "       width=\"24px\">\n",
              "    <path d=\"M0 0h24v24H0V0z\" fill=\"none\"/>\n",
              "    <path d=\"M18.56 5.44l.94 2.06.94-2.06 2.06-.94-2.06-.94-.94-2.06-.94 2.06-2.06.94zm-11 1L8.5 8.5l.94-2.06 2.06-.94-2.06-.94L8.5 2.5l-.94 2.06-2.06.94zm10 10l.94 2.06.94-2.06 2.06-.94-2.06-.94-.94-2.06-.94 2.06-2.06.94z\"/><path d=\"M17.41 7.96l-1.37-1.37c-.4-.4-.92-.59-1.43-.59-.52 0-1.04.2-1.43.59L10.3 9.45l-7.72 7.72c-.78.78-.78 2.05 0 2.83L4 21.41c.39.39.9.59 1.41.59.51 0 1.02-.2 1.41-.59l7.78-7.78 2.81-2.81c.8-.78.8-2.07 0-2.86zM5.41 20L4 18.59l7.72-7.72 1.47 1.35L5.41 20z\"/>\n",
              "  </svg>\n",
              "      </button>\n",
              "      \n",
              "  <style>\n",
              "    .colab-df-container {\n",
              "      display:flex;\n",
              "      flex-wrap:wrap;\n",
              "      gap: 12px;\n",
              "    }\n",
              "\n",
              "    .colab-df-convert {\n",
              "      background-color: #E8F0FE;\n",
              "      border: none;\n",
              "      border-radius: 50%;\n",
              "      cursor: pointer;\n",
              "      display: none;\n",
              "      fill: #1967D2;\n",
              "      height: 32px;\n",
              "      padding: 0 0 0 0;\n",
              "      width: 32px;\n",
              "    }\n",
              "\n",
              "    .colab-df-convert:hover {\n",
              "      background-color: #E2EBFA;\n",
              "      box-shadow: 0px 1px 2px rgba(60, 64, 67, 0.3), 0px 1px 3px 1px rgba(60, 64, 67, 0.15);\n",
              "      fill: #174EA6;\n",
              "    }\n",
              "\n",
              "    [theme=dark] .colab-df-convert {\n",
              "      background-color: #3B4455;\n",
              "      fill: #D2E3FC;\n",
              "    }\n",
              "\n",
              "    [theme=dark] .colab-df-convert:hover {\n",
              "      background-color: #434B5C;\n",
              "      box-shadow: 0px 1px 3px 1px rgba(0, 0, 0, 0.15);\n",
              "      filter: drop-shadow(0px 1px 2px rgba(0, 0, 0, 0.3));\n",
              "      fill: #FFFFFF;\n",
              "    }\n",
              "  </style>\n",
              "\n",
              "      <script>\n",
              "        const buttonEl =\n",
              "          document.querySelector('#df-849dbc12-2605-45ad-94b1-46d3028f955a button.colab-df-convert');\n",
              "        buttonEl.style.display =\n",
              "          google.colab.kernel.accessAllowed ? 'block' : 'none';\n",
              "\n",
              "        async function convertToInteractive(key) {\n",
              "          const element = document.querySelector('#df-849dbc12-2605-45ad-94b1-46d3028f955a');\n",
              "          const dataTable =\n",
              "            await google.colab.kernel.invokeFunction('convertToInteractive',\n",
              "                                                     [key], {});\n",
              "          if (!dataTable) return;\n",
              "\n",
              "          const docLinkHtml = 'Like what you see? Visit the ' +\n",
              "            '<a target=\"_blank\" href=https://colab.research.google.com/notebooks/data_table.ipynb>data table notebook</a>'\n",
              "            + ' to learn more about interactive tables.';\n",
              "          element.innerHTML = '';\n",
              "          dataTable['output_type'] = 'display_data';\n",
              "          await google.colab.output.renderOutput(dataTable, element);\n",
              "          const docLink = document.createElement('div');\n",
              "          docLink.innerHTML = docLinkHtml;\n",
              "          element.appendChild(docLink);\n",
              "        }\n",
              "      </script>\n",
              "    </div>\n",
              "  </div>\n",
              "  "
            ]
          },
          "metadata": {},
          "execution_count": 186
        }
      ],
      "id": "kzEN-89Siwjr"
    },
    {
      "cell_type": "code",
      "source": [
        ""
      ],
      "metadata": {
        "id": "Mtw1LPyHigPl"
      },
      "id": "Mtw1LPyHigPl",
      "execution_count": 186,
      "outputs": []
    },
    {
      "cell_type": "markdown",
      "source": [
        "#Linear Regression (Multiple Variable)"
      ],
      "metadata": {
        "id": "3mN4Y3Dhicu7"
      },
      "id": "3mN4Y3Dhicu7"
    },
    {
      "cell_type": "code",
      "source": [
        "from sklearn.linear_model import LinearRegression"
      ],
      "metadata": {
        "id": "o_QKfgNRicu8"
      },
      "execution_count": 187,
      "outputs": [],
      "id": "o_QKfgNRicu8"
    },
    {
      "cell_type": "code",
      "source": [
        "lr= LinearRegression()"
      ],
      "metadata": {
        "id": "dExz4Nqoicu8"
      },
      "execution_count": 188,
      "outputs": [],
      "id": "dExz4Nqoicu8"
    },
    {
      "cell_type": "code",
      "source": [
        "lr.fit(xtrain,ytrain)"
      ],
      "metadata": {
        "colab": {
          "base_uri": "https://localhost:8080/"
        },
        "outputId": "b60d0498-8714-44c7-8167-3f6bf0fee7f7",
        "id": "d9qPvDw1icu8"
      },
      "execution_count": 189,
      "outputs": [
        {
          "output_type": "execute_result",
          "data": {
            "text/plain": [
              "LinearRegression()"
            ]
          },
          "metadata": {},
          "execution_count": 189
        }
      ],
      "id": "d9qPvDw1icu8"
    },
    {
      "cell_type": "code",
      "source": [
        "lr.score(xtest,ytest) #with hold out cross validation"
      ],
      "metadata": {
        "colab": {
          "base_uri": "https://localhost:8080/"
        },
        "outputId": "0f04fc7e-f810-4fb7-85cd-87ae91df9893",
        "id": "J7SqKVificu8"
      },
      "execution_count": 190,
      "outputs": [
        {
          "output_type": "execute_result",
          "data": {
            "text/plain": [
              "0.7165204504020155"
            ]
          },
          "metadata": {},
          "execution_count": 190
        }
      ],
      "id": "J7SqKVificu8"
    },
    {
      "cell_type": "code",
      "source": [
        "lr.score(xtrain,ytrain) #with hold out cross validation"
      ],
      "metadata": {
        "colab": {
          "base_uri": "https://localhost:8080/"
        },
        "outputId": "432cdfe8-92a3-467b-b33a-b659049131ca",
        "id": "NFA2IzHGicu8"
      },
      "execution_count": 191,
      "outputs": [
        {
          "output_type": "execute_result",
          "data": {
            "text/plain": [
              "0.6994984723538928"
            ]
          },
          "metadata": {},
          "execution_count": 191
        }
      ],
      "id": "NFA2IzHGicu8"
    },
    {
      "cell_type": "code",
      "source": [
        "score_linear_reg = lr.score(xtest,ytest)"
      ],
      "metadata": {
        "id": "EpFM6Gg6icu8"
      },
      "execution_count": 192,
      "outputs": [],
      "id": "EpFM6Gg6icu8"
    },
    {
      "cell_type": "code",
      "source": [
        ""
      ],
      "metadata": {
        "id": "L-gnMBtLjWCx"
      },
      "id": "L-gnMBtLjWCx",
      "execution_count": 192,
      "outputs": []
    },
    {
      "cell_type": "markdown",
      "source": [
        "#Decision Tree Regressor"
      ],
      "metadata": {
        "id": "HyhTSQzRloIf"
      },
      "id": "HyhTSQzRloIf"
    },
    {
      "cell_type": "code",
      "source": [
        "from sklearn.tree import DecisionTreeRegressor"
      ],
      "metadata": {
        "id": "h8Vhve2gloIn"
      },
      "execution_count": 193,
      "outputs": [],
      "id": "h8Vhve2gloIn"
    },
    {
      "cell_type": "code",
      "source": [
        "d_tree_reg=DecisionTreeRegressor()"
      ],
      "metadata": {
        "id": "uq7BTR8nloIn"
      },
      "execution_count": 194,
      "outputs": [],
      "id": "uq7BTR8nloIn"
    },
    {
      "cell_type": "code",
      "source": [
        "d_tree_reg.fit(xtrain,ytrain)"
      ],
      "metadata": {
        "colab": {
          "base_uri": "https://localhost:8080/"
        },
        "outputId": "4ebe7cc4-65fd-42bd-d678-730a3ab1156c",
        "id": "NP4fk39wloIn"
      },
      "execution_count": 195,
      "outputs": [
        {
          "output_type": "execute_result",
          "data": {
            "text/plain": [
              "DecisionTreeRegressor()"
            ]
          },
          "metadata": {},
          "execution_count": 195
        }
      ],
      "id": "NP4fk39wloIn"
    },
    {
      "cell_type": "code",
      "source": [
        "d_tree_reg.score(xtrain,ytrain)"
      ],
      "metadata": {
        "colab": {
          "base_uri": "https://localhost:8080/"
        },
        "outputId": "b8f7ea1a-2302-490c-ba1c-5b6ce2450f82",
        "id": "TuXWTJV2loIo"
      },
      "execution_count": 196,
      "outputs": [
        {
          "output_type": "execute_result",
          "data": {
            "text/plain": [
              "0.9977003904471624"
            ]
          },
          "metadata": {},
          "execution_count": 196
        }
      ],
      "id": "TuXWTJV2loIo"
    },
    {
      "cell_type": "code",
      "source": [
        "d_tree_reg.score(xtest,ytest)"
      ],
      "metadata": {
        "colab": {
          "base_uri": "https://localhost:8080/"
        },
        "outputId": "466ca3e5-20dd-42a8-9cb2-6664d3d783a5",
        "id": "tZre-nHXloIo"
      },
      "execution_count": 197,
      "outputs": [
        {
          "output_type": "execute_result",
          "data": {
            "text/plain": [
              "0.6671699734957512"
            ]
          },
          "metadata": {},
          "execution_count": 197
        }
      ],
      "id": "tZre-nHXloIo"
    },
    {
      "cell_type": "code",
      "source": [
        "score_DecisionTreeRegressor = d_tree_reg.score(xtest,ytest)"
      ],
      "metadata": {
        "id": "7J0_Fa-QloIo"
      },
      "execution_count": 198,
      "outputs": [],
      "id": "7J0_Fa-QloIo"
    },
    {
      "cell_type": "code",
      "source": [
        ""
      ],
      "metadata": {
        "id": "IgQaBXcSloIo"
      },
      "execution_count": 198,
      "outputs": [],
      "id": "IgQaBXcSloIo"
    },
    {
      "cell_type": "markdown",
      "source": [
        "#Random Forest Regressor"
      ],
      "metadata": {
        "id": "WE-2pSJLloIo"
      },
      "id": "WE-2pSJLloIo"
    },
    {
      "cell_type": "code",
      "source": [
        "from sklearn.ensemble import RandomForestRegressor"
      ],
      "metadata": {
        "id": "WFZZkE78loIo"
      },
      "execution_count": 199,
      "outputs": [],
      "id": "WFZZkE78loIo"
    },
    {
      "cell_type": "code",
      "source": [
        "random_fr_reg=RandomForestRegressor()"
      ],
      "metadata": {
        "id": "CBoWEc4WloIo"
      },
      "execution_count": 200,
      "outputs": [],
      "id": "CBoWEc4WloIo"
    },
    {
      "cell_type": "code",
      "source": [
        "random_fr_reg.fit(xtrain,ytrain)"
      ],
      "metadata": {
        "colab": {
          "base_uri": "https://localhost:8080/"
        },
        "outputId": "bb92d8b1-9c48-4c51-afda-45d580952554",
        "id": "50Favni7loIo"
      },
      "execution_count": 201,
      "outputs": [
        {
          "output_type": "stream",
          "name": "stderr",
          "text": [
            "/usr/local/lib/python3.7/dist-packages/ipykernel_launcher.py:1: DataConversionWarning: A column-vector y was passed when a 1d array was expected. Please change the shape of y to (n_samples,), for example using ravel().\n",
            "  \"\"\"Entry point for launching an IPython kernel.\n"
          ]
        },
        {
          "output_type": "execute_result",
          "data": {
            "text/plain": [
              "RandomForestRegressor()"
            ]
          },
          "metadata": {},
          "execution_count": 201
        }
      ],
      "id": "50Favni7loIo"
    },
    {
      "cell_type": "code",
      "source": [
        "random_fr_reg.score(xtest,ytest)"
      ],
      "metadata": {
        "colab": {
          "base_uri": "https://localhost:8080/"
        },
        "outputId": "0ce42abd-e277-4b6d-bfad-2e7d59807ee3",
        "id": "NdOQQBOIloIp"
      },
      "execution_count": 202,
      "outputs": [
        {
          "output_type": "execute_result",
          "data": {
            "text/plain": [
              "0.8026868985492457"
            ]
          },
          "metadata": {},
          "execution_count": 202
        }
      ],
      "id": "NdOQQBOIloIp"
    },
    {
      "cell_type": "code",
      "source": [
        "random_fr_reg.score(xtrain,ytrain)"
      ],
      "metadata": {
        "colab": {
          "base_uri": "https://localhost:8080/"
        },
        "outputId": "523fc120-0a71-4146-e7af-8ae08b00547f",
        "id": "p8gwXkDqloIp"
      },
      "execution_count": 203,
      "outputs": [
        {
          "output_type": "execute_result",
          "data": {
            "text/plain": [
              "0.9724972031732521"
            ]
          },
          "metadata": {},
          "execution_count": 203
        }
      ],
      "id": "p8gwXkDqloIp"
    },
    {
      "cell_type": "markdown",
      "source": [
        "#KNN Regressor"
      ],
      "metadata": {
        "id": "eMtLUyHaloIp"
      },
      "id": "eMtLUyHaloIp"
    },
    {
      "cell_type": "code",
      "source": [
        "from sklearn.neighbors import KNeighborsRegressor"
      ],
      "metadata": {
        "id": "TtND-9OGloIp"
      },
      "execution_count": 204,
      "outputs": [],
      "id": "TtND-9OGloIp"
    },
    {
      "cell_type": "code",
      "source": [
        "KNN=KNeighborsRegressor()"
      ],
      "metadata": {
        "id": "vmuLH8ealoIp"
      },
      "execution_count": 205,
      "outputs": [],
      "id": "vmuLH8ealoIp"
    },
    {
      "cell_type": "code",
      "source": [
        "KNN.fit(xtrain,ytrain)"
      ],
      "metadata": {
        "colab": {
          "base_uri": "https://localhost:8080/"
        },
        "outputId": "ecf5de0f-ed1d-4511-d242-ccbb82858736",
        "id": "A70bxDTwloIp"
      },
      "execution_count": 206,
      "outputs": [
        {
          "output_type": "execute_result",
          "data": {
            "text/plain": [
              "KNeighborsRegressor()"
            ]
          },
          "metadata": {},
          "execution_count": 206
        }
      ],
      "id": "A70bxDTwloIp"
    },
    {
      "cell_type": "code",
      "source": [
        "KNN.score(xtest,ytest)"
      ],
      "metadata": {
        "colab": {
          "base_uri": "https://localhost:8080/"
        },
        "outputId": "5522529d-af59-46a5-dd0c-f499981012fb",
        "id": "Xr6MZwmIloIp"
      },
      "execution_count": 207,
      "outputs": [
        {
          "output_type": "execute_result",
          "data": {
            "text/plain": [
              "0.7405391009042132"
            ]
          },
          "metadata": {},
          "execution_count": 207
        }
      ],
      "id": "Xr6MZwmIloIp"
    },
    {
      "cell_type": "code",
      "source": [
        "KNN.score(xtrain,ytrain)"
      ],
      "metadata": {
        "colab": {
          "base_uri": "https://localhost:8080/"
        },
        "outputId": "98033d30-d576-4996-8dee-3af468ca52fd",
        "id": "Fu4wy6vkloIp"
      },
      "execution_count": 208,
      "outputs": [
        {
          "output_type": "execute_result",
          "data": {
            "text/plain": [
              "0.816539708824813"
            ]
          },
          "metadata": {},
          "execution_count": 208
        }
      ],
      "id": "Fu4wy6vkloIp"
    },
    {
      "cell_type": "markdown",
      "source": [
        "#Analaysis"
      ],
      "metadata": {
        "id": "TsS-RyFmjWVx"
      },
      "id": "TsS-RyFmjWVx"
    },
    {
      "cell_type": "markdown",
      "source": [
        "\n",
        "#Accuracy\n",
        "\n",
        "*   Before Feature Selection \n",
        "\n",
        "\n",
        "*      **Linear Regression** **72%**\n",
        "\n",
        "*      **Decision Tree Regressor**  **68%**\n",
        "\n",
        "       **Random Forest Regressor**  **84%**\n",
        "\n",
        "       **KNN Regressor**  **76%**\n",
        "\n",
        "       **SVM**  3%\n",
        "\n",
        "       **Ada-Boost-Regressor** **69%**\n",
        "\n",
        "       **XG Boost** **85%**\n",
        "\n",
        "       **Gradient Boost** **84%**\n",
        "\n",
        "\n",
        "\n",
        "\n",
        "\n",
        "\n",
        "\n",
        "\n"
      ],
      "metadata": {
        "id": "IxGk0He7jblj"
      },
      "id": "IxGk0He7jblj"
    },
    {
      "cell_type": "markdown",
      "source": [
        ""
      ],
      "metadata": {
        "id": "SBD0Dal5o-Bl"
      },
      "id": "SBD0Dal5o-Bl"
    },
    {
      "cell_type": "code",
      "source": [
        ""
      ],
      "metadata": {
        "id": "1OAm56OVo_TZ"
      },
      "id": "1OAm56OVo_TZ",
      "execution_count": null,
      "outputs": []
    },
    {
      "cell_type": "markdown",
      "source": [
        "\n",
        "*   After Pearson Correlation Feature Selection\n",
        "\n",
        "       **Linear Regression**  **72%**\n",
        "\n",
        "*      **Decision Tree Regressor** **72%**\n",
        "\n",
        "       **Random Forest Regressor**  **83%**\n",
        "\n",
        "       **KNN Regressor**  **76%**\n"
      ],
      "metadata": {
        "id": "y85URhNiowuT"
      },
      "id": "y85URhNiowuT"
    },
    {
      "cell_type": "code",
      "source": [
        ""
      ],
      "metadata": {
        "id": "TzeuNdUGo-yk"
      },
      "id": "TzeuNdUGo-yk",
      "execution_count": null,
      "outputs": []
    },
    {
      "cell_type": "markdown",
      "source": [
        "After Select K Best Feature Selection\n",
        "\n",
        "Linear Regression 71%\n",
        "\n",
        "**Decision Tree Regressor 67%**\n",
        "\n",
        "**Random Forest Regressor 80%**\n",
        "\n",
        "**KNN Regressor 74%**"
      ],
      "metadata": {
        "id": "_prXR-7xozZs"
      },
      "id": "_prXR-7xozZs"
    },
    {
      "cell_type": "code",
      "source": [
        ""
      ],
      "metadata": {
        "id": "kZUqUM1JjZcg"
      },
      "id": "kZUqUM1JjZcg",
      "execution_count": 208,
      "outputs": []
    }
  ],
  "metadata": {
    "kernelspec": {
      "display_name": "Python 3",
      "language": "python",
      "name": "python3"
    },
    "language_info": {
      "codemirror_mode": {
        "name": "ipython",
        "version": 3
      },
      "file_extension": ".py",
      "mimetype": "text/x-python",
      "name": "python",
      "nbconvert_exporter": "python",
      "pygments_lexer": "ipython3",
      "version": "3.8.8"
    },
    "colab": {
      "name": "Regression all in One - Assignment.ipynb",
      "provenance": [],
      "collapsed_sections": []
    }
  },
  "nbformat": 4,
  "nbformat_minor": 5
}